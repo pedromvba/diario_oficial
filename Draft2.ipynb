{
 "cells": [
  {
   "cell_type": "code",
   "execution_count": 1,
   "outputs": [],
   "source": [
    "\n",
    "from pathlib import Path\n",
    "import os\n",
    "import xml.etree.ElementTree as ET\n",
    "import pandas as pd"
   ],
   "metadata": {
    "collapsed": false,
    "pycharm": {
     "name": "#%%\n"
    }
   }
  },
  {
   "cell_type": "code",
   "execution_count": 13,
   "outputs": [
    {
     "data": {
      "text/plain": "                                          Nomes\n0      Flávia Carolina Postalli Rodrigues Alloy\n1  ISADORA AUGUSTA DA SILVEIRUGUSTA DA SILVEIRA\n2                                Pedro Monteiro\n3                                  Murilo Souza\n4                  GUTEMBERG BEZERRA DE FREITAS\n5                    Maria Nita Falcão da Silva",
      "text/html": "<div>\n<style scoped>\n    .dataframe tbody tr th:only-of-type {\n        vertical-align: middle;\n    }\n\n    .dataframe tbody tr th {\n        vertical-align: top;\n    }\n\n    .dataframe thead th {\n        text-align: right;\n    }\n</style>\n<table border=\"1\" class=\"dataframe\">\n  <thead>\n    <tr style=\"text-align: right;\">\n      <th></th>\n      <th>Nomes</th>\n    </tr>\n  </thead>\n  <tbody>\n    <tr>\n      <th>0</th>\n      <td>Flávia Carolina Postalli Rodrigues Alloy</td>\n    </tr>\n    <tr>\n      <th>1</th>\n      <td>ISADORA AUGUSTA DA SILVEIRUGUSTA DA SILVEIRA</td>\n    </tr>\n    <tr>\n      <th>2</th>\n      <td>Pedro Monteiro</td>\n    </tr>\n    <tr>\n      <th>3</th>\n      <td>Murilo Souza</td>\n    </tr>\n    <tr>\n      <th>4</th>\n      <td>GUTEMBERG BEZERRA DE FREITAS</td>\n    </tr>\n    <tr>\n      <th>5</th>\n      <td>Maria Nita Falcão da Silva</td>\n    </tr>\n  </tbody>\n</table>\n</div>"
     },
     "execution_count": 13,
     "metadata": {},
     "output_type": "execute_result"
    }
   ],
   "source": [
    "df = pd.read_excel('servidores.xlsx')\n",
    "df"
   ],
   "metadata": {
    "collapsed": false,
    "pycharm": {
     "name": "#%%\n"
    }
   }
  },
  {
   "cell_type": "code",
   "execution_count": 17,
   "metadata": {
    "collapsed": true,
    "pycharm": {
     "name": "#%%\n"
    }
   },
   "outputs": [
    {
     "name": "stdout",
     "output_type": "stream",
     "text": [
      "21\n",
      "35\n",
      "30\n",
      "45\n",
      "41\n",
      "21\n",
      "33\n",
      "21\n",
      "46\n",
      "found 46 529_20230113_20165078.xml\n",
      "41\n"
     ]
    }
   ],
   "source": [
    "def listdir_nohidden(path):\n",
    "    for f in os.listdir(path):\n",
    "        if not f.startswith('.'):\n",
    "            yield f\n",
    "\n",
    "dir = listdir_nohidden('/Users/pedromonteiro/Library/Mobile Documents/com~apple~CloudDocs/dsProjects/Diario_Oficial/extracted')\n",
    "\n",
    "for xml_file in dir:\n",
    "    tree = ET.parse(f'/Users/pedromonteiro/Library/Mobile Documents/com~apple~CloudDocs/dsProjects/Diario_Oficial/extracted/{xml_file}')  # Parsing the XML file\n",
    "    root = tree.getroot()  # Creating the root object\n",
    "\n",
    "    for i, value in enumerate(root):\n",
    "        article_data = value.attrib #this xml has only one child with the article tag and a dictionary as an attribute\n",
    "\n",
    "        text = root[0][0][5].text\n",
    "        pagenum = article_data['numberPage']\n",
    "        print(pagenum)\n",
    "\n",
    "        for name in df['Nomes']:\n",
    "            if name in text:\n",
    "                print('found', pagenum, xml_file)\n",
    "\n",
    "\n",
    "\n"
   ]
  },
  {
   "cell_type": "code",
   "execution_count": 22,
   "outputs": [
    {
     "name": "stdout",
     "output_type": "stream",
     "text": [
      "21\n",
      "35\n",
      "30\n",
      "45\n",
      "41\n",
      "21\n",
      "33\n",
      "21\n",
      "46\n",
      "41\n",
      "['not found', 'not found', 'not found', 'not found', 'not found', 'not found']\n"
     ]
    }
   ],
   "source": [
    "def listdir_nohidden(path):\n",
    "    for f in os.listdir(path):\n",
    "        if not f.startswith('.'):\n",
    "            yield f\n",
    "\n",
    "dir = listdir_nohidden('/Users/pedromonteiro/Library/Mobile Documents/com~apple~CloudDocs/dsProjects/Diario_Oficial/extracted')\n",
    "\n",
    "for xml_file in dir:\n",
    "    tree = ET.parse(f'/Users/pedromonteiro/Library/Mobile Documents/com~apple~CloudDocs/dsProjects/Diario_Oficial/extracted/{xml_file}')  # Parsing the XML file\n",
    "    root = tree.getroot()  # Creating the root object\n",
    "\n",
    "    for i, value in enumerate(root):\n",
    "        article_data = value.attrib #this xml has only one child with the article tag and a dictionary as an attribute\n",
    "\n",
    "        text = root[0][0][5].text\n",
    "        pagenum = article_data['numberPage']\n",
    "        print(pagenum)\n",
    "\n",
    "        file_list = []\n",
    "        for name in df['Nomes']:\n",
    "            if name in text:\n",
    "                file_list.append(xml_file)\n",
    "            else:\n",
    "                file_list.append('not found')\n",
    "\n",
    "\n",
    "\n",
    "\n",
    "\n"
   ],
   "metadata": {
    "collapsed": false,
    "pycharm": {
     "name": "#%%\n"
    }
   }
  },
  {
   "cell_type": "code",
   "execution_count": 14,
   "outputs": [
    {
     "data": {
      "text/plain": "                                          Nomes\n0      Flávia Carolina Postalli Rodrigues Alloy\n1  ISADORA AUGUSTA DA SILVEIRUGUSTA DA SILVEIRA\n2                                Pedro Monteiro\n3                                  Murilo Souza\n4                  GUTEMBERG BEZERRA DE FREITAS\n5                    Maria Nita Falcão da Silva",
      "text/html": "<div>\n<style scoped>\n    .dataframe tbody tr th:only-of-type {\n        vertical-align: middle;\n    }\n\n    .dataframe tbody tr th {\n        vertical-align: top;\n    }\n\n    .dataframe thead th {\n        text-align: right;\n    }\n</style>\n<table border=\"1\" class=\"dataframe\">\n  <thead>\n    <tr style=\"text-align: right;\">\n      <th></th>\n      <th>Nomes</th>\n    </tr>\n  </thead>\n  <tbody>\n    <tr>\n      <th>0</th>\n      <td>Flávia Carolina Postalli Rodrigues Alloy</td>\n    </tr>\n    <tr>\n      <th>1</th>\n      <td>ISADORA AUGUSTA DA SILVEIRUGUSTA DA SILVEIRA</td>\n    </tr>\n    <tr>\n      <th>2</th>\n      <td>Pedro Monteiro</td>\n    </tr>\n    <tr>\n      <th>3</th>\n      <td>Murilo Souza</td>\n    </tr>\n    <tr>\n      <th>4</th>\n      <td>GUTEMBERG BEZERRA DE FREITAS</td>\n    </tr>\n    <tr>\n      <th>5</th>\n      <td>Maria Nita Falcão da Silva</td>\n    </tr>\n  </tbody>\n</table>\n</div>"
     },
     "execution_count": 14,
     "metadata": {},
     "output_type": "execute_result"
    }
   ],
   "source": [
    "df"
   ],
   "metadata": {
    "collapsed": false,
    "pycharm": {
     "name": "#%%\n"
    }
   }
  },
  {
   "cell_type": "code",
   "execution_count": 15,
   "outputs": [
    {
     "name": "stdout",
     "output_type": "stream",
     "text": [
      "Flávia Carolina Postalli Rodrigues Alloy\n",
      "ISADORA AUGUSTA DA SILVEIRUGUSTA DA SILVEIRA\n",
      "Pedro Monteiro\n",
      "Murilo Souza\n",
      "GUTEMBERG BEZERRA DE FREITAS\n",
      "Maria Nita Falcão da Silva\n"
     ]
    }
   ],
   "source": [
    "for name in df['Nomes']:\n",
    "    print(name)"
   ],
   "metadata": {
    "collapsed": false,
    "pycharm": {
     "name": "#%%\n"
    }
   }
  },
  {
   "cell_type": "code",
   "execution_count": 18,
   "outputs": [
    {
     "name": "stdout",
     "output_type": "stream",
     "text": [
      "not found\n",
      "not found\n",
      "not found\n",
      "529_20230113_20168910.xml\n",
      "not found\n",
      "not found\n",
      "not found\n",
      "not found\n",
      "529_20230113_20165078.xml\n",
      "not found\n"
     ]
    }
   ],
   "source": [
    "def listdir_nohidden(path):\n",
    "    for f in os.listdir(path):\n",
    "        if not f.startswith('.'):\n",
    "            yield f\n",
    "\n",
    "dir = listdir_nohidden('/Users/pedromonteiro/Library/Mobile Documents/com~apple~CloudDocs/dsProjects/Diario_Oficial/extracted')\n",
    "\n",
    "for name in df['Nomes']:\n",
    "\n",
    "    for xml_file in dir:\n",
    "\n",
    "        tree = ET.parse(f'/Users/pedromonteiro/Library/Mobile Documents/com~apple~CloudDocs/dsProjects/Diario_Oficial/extracted/{xml_file}')  # Parsing the XML file\n",
    "        root = tree.getroot()\n",
    "\n",
    "        text = root[0][0][5].text.lower()\n",
    "\n",
    "        if name.lower() in text:\n",
    "            file_name = xml_file\n",
    "\n",
    "        else:\n",
    "            file_name = 'not found'\n",
    "\n",
    "        print(file_name)\n",
    "\n",
    "\n",
    "\n"
   ],
   "metadata": {
    "collapsed": false,
    "pycharm": {
     "name": "#%%\n"
    }
   }
  },
  {
   "cell_type": "code",
   "execution_count": 23,
   "outputs": [
    {
     "data": {
      "text/plain": "                                      Nomes\n0  Flávia Carolina Postalli Rodrigues Alloy\n1                            Pedro Monteiro\n2                              Murilo Souza\n3                  CLÓVIS ALBERTO MACIOSZEK\n4                    Rosmari Rudolf Mezzomo",
      "text/html": "<div>\n<style scoped>\n    .dataframe tbody tr th:only-of-type {\n        vertical-align: middle;\n    }\n\n    .dataframe tbody tr th {\n        vertical-align: top;\n    }\n\n    .dataframe thead th {\n        text-align: right;\n    }\n</style>\n<table border=\"1\" class=\"dataframe\">\n  <thead>\n    <tr style=\"text-align: right;\">\n      <th></th>\n      <th>Nomes</th>\n    </tr>\n  </thead>\n  <tbody>\n    <tr>\n      <th>0</th>\n      <td>Flávia Carolina Postalli Rodrigues Alloy</td>\n    </tr>\n    <tr>\n      <th>1</th>\n      <td>Pedro Monteiro</td>\n    </tr>\n    <tr>\n      <th>2</th>\n      <td>Murilo Souza</td>\n    </tr>\n    <tr>\n      <th>3</th>\n      <td>CLÓVIS ALBERTO MACIOSZEK</td>\n    </tr>\n    <tr>\n      <th>4</th>\n      <td>Rosmari Rudolf Mezzomo</td>\n    </tr>\n  </tbody>\n</table>\n</div>"
     },
     "execution_count": 23,
     "metadata": {},
     "output_type": "execute_result"
    }
   ],
   "source": [
    "df = pd.read_excel('servidores.xlsx')\n",
    "df"
   ],
   "metadata": {
    "collapsed": false,
    "pycharm": {
     "name": "#%%\n"
    }
   }
  },
  {
   "cell_type": "code",
   "execution_count": 24,
   "outputs": [
    {
     "data": {
      "text/plain": "['Flávia Carolina Postalli Rodrigues Alloy',\n 'Pedro Monteiro',\n 'Murilo Souza',\n 'CLÓVIS ALBERTO MACIOSZEK',\n 'Rosmari Rudolf Mezzomo']"
     },
     "execution_count": 24,
     "metadata": {},
     "output_type": "execute_result"
    }
   ],
   "source": [
    "name_list = df['Nomes'].to_list()\n",
    "name_list"
   ],
   "metadata": {
    "collapsed": false,
    "pycharm": {
     "name": "#%%\n"
    }
   }
  },
  {
   "cell_type": "code",
   "execution_count": 34,
   "outputs": [
    {
     "name": "stdout",
     "output_type": "stream",
     "text": [
      "ok\n",
      "nada\n",
      "nada\n",
      "nada\n",
      "ok\n",
      "ok\n",
      "nada\n",
      "nada\n",
      "nada\n",
      "ok\n",
      "nada\n",
      "nada\n",
      "nada\n",
      "ok\n",
      "nada\n"
     ]
    },
    {
     "data": {
      "text/plain": "{'nome': ['Flávia Carolina Postalli Rodrigues Alloy',\n  'Rosmari Rudolf Mezzomo',\n  'Flávia Carolina Postalli Rodrigues Alloy',\n  'Rosmari Rudolf Mezzomo',\n  'CLÓVIS ALBERTO MACIOSZEK'],\n 'arquivo': ['529_20230113_20168910.xml',\n  '529_20230113_20168910.xml',\n  '529_20230113_20165078.xml',\n  '529_20230113_20165078.xml',\n  '529_20230113_20209784.xml'],\n 'texto': ['<p class=\"identifica\">portaria nº 1.893, de 15 de dezembro de 2022</p><p>o diretor-geral adjunto do ministério público do trabalho, no uso da competência que lhe foi delegada pela portaria dg-mpt nº 49, de 22 de janeiro de 2019, publicada no dou em 28 de janeiro de 2019, considerando o que consta no pgea/mpt nº 20.02.1200.0001046/2022-45, resolve:</p><p>art. 1º exonerar, a contar de 13/01/2023, a servidora rosmari rudolf mezzomo, matrícula 6002253, ocupante do cargo efetivo de analista do mpu/direito, do cargo em comissão de chefe da assessoria jurídica do 14º ofício geral da procuradoria regional do trabalho da 12ª região/sc, código cc-2.</p><p>art. 2º nomear a servidora flávia carolina postalli rodrigues alloy, matrícula 6007731, bacharela em direito, ocupante do cargo efetivo de técnico do mpu/administração, para o cargo em comissão de chefe da assessoria jurídica do 14º ofício geral da procuradoria regional do trabalho da 12ª região/sc, código cc-2.</p><p class=\"assina\">anderson régis cavalcante feitosa</p>',\n  '<p class=\"identifica\">portaria nº 1.893, de 15 de dezembro de 2022</p><p>o diretor-geral adjunto do ministério público do trabalho, no uso da competência que lhe foi delegada pela portaria dg-mpt nº 49, de 22 de janeiro de 2019, publicada no dou em 28 de janeiro de 2019, considerando o que consta no pgea/mpt nº 20.02.1200.0001046/2022-45, resolve:</p><p>art. 1º exonerar, a contar de 13/01/2023, a servidora rosmari rudolf mezzomo, matrícula 6002253, ocupante do cargo efetivo de analista do mpu/direito, do cargo em comissão de chefe da assessoria jurídica do 14º ofício geral da procuradoria regional do trabalho da 12ª região/sc, código cc-2.</p><p>art. 2º nomear a servidora flávia carolina postalli rodrigues alloy, matrícula 6007731, bacharela em direito, ocupante do cargo efetivo de técnico do mpu/administração, para o cargo em comissão de chefe da assessoria jurídica do 14º ofício geral da procuradoria regional do trabalho da 12ª região/sc, código cc-2.</p><p class=\"assina\">anderson régis cavalcante feitosa</p>',\n  '<p class=\"identifica\">portaria nº 256, de 13 de dezembro de 2022</p><p>pgea 20.02.1200.0001047/2022-18</p><p>o procurador-chefe da procuradoria regional do trabalho da 12ª região, no uso de suas atribuições institucionais e considerando a portaria pgt nº 1728, de 02 de outubro de 2017, resolve:</p><p>art. 1º dispensar, a servidora flávia carolina postalli rodrigues alloy, matrícula 6007731-x, do encargo de substituta eventual da chefe da assessoria jurídica do 14º ofício geral da prt 12ª região, código cc-02.</p><p>art. 2º designar a servidora rosmari rudolf mezzomo, matrícula 6002253-1 para o encargo de substituta eventual do chefe da assessoria jurídica do 14º ofício geral da prt 12ª região, código cc-02.</p><p class=\"assina\">marcelo goss neves</p><p></p>',\n  '<p class=\"identifica\">portaria nº 256, de 13 de dezembro de 2022</p><p>pgea 20.02.1200.0001047/2022-18</p><p>o procurador-chefe da procuradoria regional do trabalho da 12ª região, no uso de suas atribuições institucionais e considerando a portaria pgt nº 1728, de 02 de outubro de 2017, resolve:</p><p>art. 1º dispensar, a servidora flávia carolina postalli rodrigues alloy, matrícula 6007731-x, do encargo de substituta eventual da chefe da assessoria jurídica do 14º ofício geral da prt 12ª região, código cc-02.</p><p>art. 2º designar a servidora rosmari rudolf mezzomo, matrícula 6002253-1 para o encargo de substituta eventual do chefe da assessoria jurídica do 14º ofício geral da prt 12ª região, código cc-02.</p><p class=\"assina\">marcelo goss neves</p><p></p>',\n  '<p class=\"identifica\">portaria segad/pr nº 243, de 26 de dezembro de 2022</p><p>a chefe do serviço de gestão administrativa e de pessoas da superintendência estadual do ministério da saúde no paraná, no uso de suas competências conferidas pelo decreto n° 11.0985, de 20/06/2022, publicado no diário oficial da união de 21/06/2022, resolve:</p><p>art. 1º - conceder aposentadoria voluntária ao tempo de contribuição ao servidor clóvis alberto macioszek, matrícula siape 0569060, ocupante do cargo agente administrativo, nível intermediário, classe s, padrão iii, do quadro do ministério da saúde no paraná, com base no art. 4º, incisos i, ii, iii, iv e v, § 1º, § 2º, § 3º, § 6º inciso ii, § 7º inciso ii, com proventos calculados com base no art. 26, § 2º, inciso i, § 7º, da emenda constitucional nº 103, de 12/11/2019. (processo nº 25023.000915/2022-00)</p><p class=\"assina\">ana claudia correa de souza</p>']}"
     },
     "execution_count": 34,
     "metadata": {},
     "output_type": "execute_result"
    }
   ],
   "source": [
    "dir = listdir_nohidden('/Users/pedromonteiro/Library/Mobile Documents/com~apple~CloudDocs/dsProjects/Diario_Oficial/extracted')\n",
    "\n",
    "d = {'nome':[], 'arquivo':[] ,'texto':[]}\n",
    "\n",
    "for xml_file in dir:\n",
    "    tree = ET.parse(f'/Users/pedromonteiro/Library/Mobile Documents/com~apple~CloudDocs/dsProjects/Diario_Oficial/extracted/{xml_file}')  # Parsing the XML file\n",
    "    root = tree.getroot()\n",
    "\n",
    "    text = root[0][0][5].text.lower()\n",
    "\n",
    "    for name in name_list:\n",
    "        if name.lower() in text:\n",
    "            print('ok')\n",
    "            d['nome'].append(name)\n",
    "            d['arquivo'].append(xml_file)\n",
    "            d['texto'].append(text)\n",
    "\n",
    "        else:\n",
    "            print('nada')\n",
    "\n",
    "d"
   ],
   "metadata": {
    "collapsed": false,
    "pycharm": {
     "name": "#%%\n"
    }
   }
  },
  {
   "cell_type": "code",
   "execution_count": 35,
   "outputs": [
    {
     "data": {
      "text/plain": "                                       nome                    arquivo  \\\n0  Flávia Carolina Postalli Rodrigues Alloy  529_20230113_20168910.xml   \n1                    Rosmari Rudolf Mezzomo  529_20230113_20168910.xml   \n2  Flávia Carolina Postalli Rodrigues Alloy  529_20230113_20165078.xml   \n3                    Rosmari Rudolf Mezzomo  529_20230113_20165078.xml   \n4                  CLÓVIS ALBERTO MACIOSZEK  529_20230113_20209784.xml   \n\n                                               texto  \n0  <p class=\"identifica\">portaria nº 1.893, de 15...  \n1  <p class=\"identifica\">portaria nº 1.893, de 15...  \n2  <p class=\"identifica\">portaria nº 256, de 13 d...  \n3  <p class=\"identifica\">portaria nº 256, de 13 d...  \n4  <p class=\"identifica\">portaria segad/pr nº 243...  ",
      "text/html": "<div>\n<style scoped>\n    .dataframe tbody tr th:only-of-type {\n        vertical-align: middle;\n    }\n\n    .dataframe tbody tr th {\n        vertical-align: top;\n    }\n\n    .dataframe thead th {\n        text-align: right;\n    }\n</style>\n<table border=\"1\" class=\"dataframe\">\n  <thead>\n    <tr style=\"text-align: right;\">\n      <th></th>\n      <th>nome</th>\n      <th>arquivo</th>\n      <th>texto</th>\n    </tr>\n  </thead>\n  <tbody>\n    <tr>\n      <th>0</th>\n      <td>Flávia Carolina Postalli Rodrigues Alloy</td>\n      <td>529_20230113_20168910.xml</td>\n      <td>&lt;p class=\"identifica\"&gt;portaria nº 1.893, de 15...</td>\n    </tr>\n    <tr>\n      <th>1</th>\n      <td>Rosmari Rudolf Mezzomo</td>\n      <td>529_20230113_20168910.xml</td>\n      <td>&lt;p class=\"identifica\"&gt;portaria nº 1.893, de 15...</td>\n    </tr>\n    <tr>\n      <th>2</th>\n      <td>Flávia Carolina Postalli Rodrigues Alloy</td>\n      <td>529_20230113_20165078.xml</td>\n      <td>&lt;p class=\"identifica\"&gt;portaria nº 256, de 13 d...</td>\n    </tr>\n    <tr>\n      <th>3</th>\n      <td>Rosmari Rudolf Mezzomo</td>\n      <td>529_20230113_20165078.xml</td>\n      <td>&lt;p class=\"identifica\"&gt;portaria nº 256, de 13 d...</td>\n    </tr>\n    <tr>\n      <th>4</th>\n      <td>CLÓVIS ALBERTO MACIOSZEK</td>\n      <td>529_20230113_20209784.xml</td>\n      <td>&lt;p class=\"identifica\"&gt;portaria segad/pr nº 243...</td>\n    </tr>\n  </tbody>\n</table>\n</div>"
     },
     "execution_count": 35,
     "metadata": {},
     "output_type": "execute_result"
    }
   ],
   "source": [
    "df2 = pd.DataFrame(data=d)\n",
    "df2"
   ],
   "metadata": {
    "collapsed": false,
    "pycharm": {
     "name": "#%%\n"
    }
   }
  },
  {
   "cell_type": "code",
   "execution_count": 37,
   "outputs": [],
   "source": [
    "df2.to_excel('registros.xlsx')"
   ],
   "metadata": {
    "collapsed": false,
    "pycharm": {
     "name": "#%%\n"
    }
   }
  },
  {
   "cell_type": "code",
   "execution_count": null,
   "outputs": [],
   "source": [],
   "metadata": {
    "collapsed": false,
    "pycharm": {
     "name": "#%%\n"
    }
   }
  }
 ],
 "metadata": {
  "kernelspec": {
   "display_name": "Python 3",
   "language": "python",
   "name": "python3"
  },
  "language_info": {
   "codemirror_mode": {
    "name": "ipython",
    "version": 2
   },
   "file_extension": ".py",
   "mimetype": "text/x-python",
   "name": "python",
   "nbconvert_exporter": "python",
   "pygments_lexer": "ipython2",
   "version": "2.7.6"
  }
 },
 "nbformat": 4,
 "nbformat_minor": 0
}