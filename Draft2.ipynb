{
 "cells": [
  {
   "cell_type": "code",
   "execution_count": 2,
   "outputs": [],
   "source": [
    "from pathlib import Path\n",
    "import os\n",
    "import xml.etree.ElementTree as ET\n",
    "import pandas as pd"
   ],
   "metadata": {
    "collapsed": false,
    "pycharm": {
     "name": "#%%\n"
    }
   }
  },
  {
   "cell_type": "code",
   "execution_count": 13,
   "outputs": [
    {
     "data": {
      "text/plain": "                                          Nomes\n0      Flávia Carolina Postalli Rodrigues Alloy\n1  ISADORA AUGUSTA DA SILVEIRUGUSTA DA SILVEIRA\n2                                Pedro Monteiro\n3                                  Murilo Souza\n4                  GUTEMBERG BEZERRA DE FREITAS\n5                       MARCIO RIBEIRO DA SILVA",
      "text/html": "<div>\n<style scoped>\n    .dataframe tbody tr th:only-of-type {\n        vertical-align: middle;\n    }\n\n    .dataframe tbody tr th {\n        vertical-align: top;\n    }\n\n    .dataframe thead th {\n        text-align: right;\n    }\n</style>\n<table border=\"1\" class=\"dataframe\">\n  <thead>\n    <tr style=\"text-align: right;\">\n      <th></th>\n      <th>Nomes</th>\n    </tr>\n  </thead>\n  <tbody>\n    <tr>\n      <th>0</th>\n      <td>Flávia Carolina Postalli Rodrigues Alloy</td>\n    </tr>\n    <tr>\n      <th>1</th>\n      <td>ISADORA AUGUSTA DA SILVEIRUGUSTA DA SILVEIRA</td>\n    </tr>\n    <tr>\n      <th>2</th>\n      <td>Pedro Monteiro</td>\n    </tr>\n    <tr>\n      <th>3</th>\n      <td>Murilo Souza</td>\n    </tr>\n    <tr>\n      <th>4</th>\n      <td>GUTEMBERG BEZERRA DE FREITAS</td>\n    </tr>\n    <tr>\n      <th>5</th>\n      <td>MARCIO RIBEIRO DA SILVA</td>\n    </tr>\n  </tbody>\n</table>\n</div>"
     },
     "execution_count": 13,
     "metadata": {},
     "output_type": "execute_result"
    }
   ],
   "source": [
    "df = pd.read_excel('servidores.xlsx')\n",
    "df"
   ],
   "metadata": {
    "collapsed": false,
    "pycharm": {
     "name": "#%%\n"
    }
   }
  },
  {
   "cell_type": "code",
   "execution_count": 17,
   "metadata": {
    "collapsed": true,
    "pycharm": {
     "name": "#%%\n"
    }
   },
   "outputs": [
    {
     "name": "stdout",
     "output_type": "stream",
     "text": [
      "21\n",
      "35\n",
      "30\n",
      "45\n",
      "41\n",
      "21\n",
      "33\n",
      "21\n",
      "46\n",
      "found 46 529_20230113_20165078.xml\n",
      "41\n"
     ]
    }
   ],
   "source": [
    "def listdir_nohidden(path):\n",
    "    for f in os.listdir(path):\n",
    "        if not f.startswith('.'):\n",
    "            yield f\n",
    "\n",
    "dir = listdir_nohidden('/Users/pedromonteiro/Library/Mobile Documents/com~apple~CloudDocs/dsProjects/Diario_Oficial/extracted')\n",
    "\n",
    "for xml_file in dir:\n",
    "    tree = ET.parse(f'/Users/pedromonteiro/Library/Mobile Documents/com~apple~CloudDocs/dsProjects/Diario_Oficial/extracted/{xml_file}')  # Parsing the XML file\n",
    "    root = tree.getroot()  # Creating the root object\n",
    "\n",
    "    for i, value in enumerate(root):\n",
    "        article_data = value.attrib #this xml has only one child with the article tag and a dictionary as an attribute\n",
    "\n",
    "        text = root[0][0][5].text\n",
    "        pagenum = article_data['numberPage']\n",
    "        print(pagenum)\n",
    "\n",
    "        for name in df['Nomes']:\n",
    "            if name in text:\n",
    "                print('found', pagenum, xml_file)\n",
    "\n",
    "\n",
    "\n"
   ]
  },
  {
   "cell_type": "code",
   "execution_count": 22,
   "outputs": [
    {
     "name": "stdout",
     "output_type": "stream",
     "text": [
      "21\n",
      "35\n",
      "30\n",
      "45\n",
      "41\n",
      "21\n",
      "33\n",
      "21\n",
      "46\n",
      "41\n",
      "['not found', 'not found', 'not found', 'not found', 'not found', 'not found']\n"
     ]
    }
   ],
   "source": [
    "def listdir_nohidden(path):\n",
    "    for f in os.listdir(path):\n",
    "        if not f.startswith('.'):\n",
    "            yield f\n",
    "\n",
    "dir = listdir_nohidden('/Users/pedromonteiro/Library/Mobile Documents/com~apple~CloudDocs/dsProjects/Diario_Oficial/extracted')\n",
    "\n",
    "for xml_file in dir:\n",
    "    tree = ET.parse(f'/Users/pedromonteiro/Library/Mobile Documents/com~apple~CloudDocs/dsProjects/Diario_Oficial/extracted/{xml_file}')  # Parsing the XML file\n",
    "    root = tree.getroot()  # Creating the root object\n",
    "\n",
    "    for i, value in enumerate(root):\n",
    "        article_data = value.attrib #this xml has only one child with the article tag and a dictionary as an attribute\n",
    "\n",
    "        text = root[0][0][5].text\n",
    "        pagenum = article_data['numberPage']\n",
    "        print(pagenum)\n",
    "\n",
    "        file_list = []\n",
    "        for name in df['Nomes']:\n",
    "            if name in text:\n",
    "                file_list.append(xml_file)\n",
    "            else:\n",
    "                file_list.append('not found')\n",
    "\n",
    "\n",
    "\n",
    "\n",
    "\n"
   ],
   "metadata": {
    "collapsed": false,
    "pycharm": {
     "name": "#%%\n"
    }
   }
  },
  {
   "cell_type": "code",
   "execution_count": 19,
   "outputs": [
    {
     "data": {
      "text/plain": "                                          Nomes                    arquivo\n0      Flávia Carolina Postalli Rodrigues Alloy  529_20230113_20165078.xml\n1  ISADORA AUGUSTA DA SILVEIRUGUSTA DA SILVEIRA  529_20230113_20165078.xml\n2                                Pedro Monteiro  529_20230113_20165078.xml\n3                                  Murilo Souza  529_20230113_20165078.xml\n4                  GUTEMBERG BEZERRA DE FREITAS  529_20230113_20165078.xml\n5                       MARCIO RIBEIRO DA SILVA  529_20230113_20165078.xml",
      "text/html": "<div>\n<style scoped>\n    .dataframe tbody tr th:only-of-type {\n        vertical-align: middle;\n    }\n\n    .dataframe tbody tr th {\n        vertical-align: top;\n    }\n\n    .dataframe thead th {\n        text-align: right;\n    }\n</style>\n<table border=\"1\" class=\"dataframe\">\n  <thead>\n    <tr style=\"text-align: right;\">\n      <th></th>\n      <th>Nomes</th>\n      <th>arquivo</th>\n    </tr>\n  </thead>\n  <tbody>\n    <tr>\n      <th>0</th>\n      <td>Flávia Carolina Postalli Rodrigues Alloy</td>\n      <td>529_20230113_20165078.xml</td>\n    </tr>\n    <tr>\n      <th>1</th>\n      <td>ISADORA AUGUSTA DA SILVEIRUGUSTA DA SILVEIRA</td>\n      <td>529_20230113_20165078.xml</td>\n    </tr>\n    <tr>\n      <th>2</th>\n      <td>Pedro Monteiro</td>\n      <td>529_20230113_20165078.xml</td>\n    </tr>\n    <tr>\n      <th>3</th>\n      <td>Murilo Souza</td>\n      <td>529_20230113_20165078.xml</td>\n    </tr>\n    <tr>\n      <th>4</th>\n      <td>GUTEMBERG BEZERRA DE FREITAS</td>\n      <td>529_20230113_20165078.xml</td>\n    </tr>\n    <tr>\n      <th>5</th>\n      <td>MARCIO RIBEIRO DA SILVA</td>\n      <td>529_20230113_20165078.xml</td>\n    </tr>\n  </tbody>\n</table>\n</div>"
     },
     "execution_count": 19,
     "metadata": {},
     "output_type": "execute_result"
    }
   ],
   "source": [
    "df"
   ],
   "metadata": {
    "collapsed": false,
    "pycharm": {
     "name": "#%%\n"
    }
   }
  },
  {
   "cell_type": "code",
   "execution_count": null,
   "outputs": [],
   "source": [],
   "metadata": {
    "collapsed": false,
    "pycharm": {
     "name": "#%%\n"
    }
   }
  }
 ],
 "metadata": {
  "kernelspec": {
   "display_name": "Python 3",
   "language": "python",
   "name": "python3"
  },
  "language_info": {
   "codemirror_mode": {
    "name": "ipython",
    "version": 2
   },
   "file_extension": ".py",
   "mimetype": "text/x-python",
   "name": "python",
   "nbconvert_exporter": "python",
   "pygments_lexer": "ipython2",
   "version": "2.7.6"
  }
 },
 "nbformat": 4,
 "nbformat_minor": 0
}