{
 "cells": [
  {
   "cell_type": "code",
   "execution_count": 9,
   "metadata": {
    "collapsed": true,
    "pycharm": {
     "name": "#%%\n"
    }
   },
   "outputs": [
    {
     "data": {
      "text/plain": "'\\n\\nTEste\\nteste 2\\n\\nTEste 3\\n'"
     },
     "execution_count": 9,
     "metadata": {},
     "output_type": "execute_result"
    }
   ],
   "source": [
    "'''\n",
    "\n",
    "TEste\n",
    "teste 2\n",
    "\n",
    "TEste 3\n",
    "'''"
   ]
  },
  {
   "cell_type": "code",
   "execution_count": 10,
   "outputs": [
    {
     "name": "stdout",
     "output_type": "stream",
     "text": [
      "5\n"
     ]
    }
   ],
   "source": [
    "print(5)"
   ],
   "metadata": {
    "collapsed": false,
    "pycharm": {
     "name": "#%%\n"
    }
   }
  },
  {
   "cell_type": "code",
   "execution_count": 11,
   "outputs": [
    {
     "name": "stdout",
     "output_type": "stream",
     "text": [
      "7\n"
     ]
    }
   ],
   "source": [
    "'Bom dia'\n",
    "\n",
    "i = 2 +5\n",
    "\n",
    "\n",
    "'opa'\n",
    "\n",
    "print(i)"
   ],
   "metadata": {
    "collapsed": false,
    "pycharm": {
     "name": "#%%\n"
    }
   }
  },
  {
   "cell_type": "code",
   "execution_count": 12,
   "outputs": [
    {
     "data": {
      "text/plain": "'Git Ignore Teste'"
     },
     "execution_count": 12,
     "metadata": {},
     "output_type": "execute_result"
    }
   ],
   "source": [
    "'Git Ignore Teste'"
   ],
   "metadata": {
    "collapsed": false,
    "pycharm": {
     "name": "#%%\n"
    }
   }
  },
  {
   "cell_type": "code",
   "execution_count": 13,
   "outputs": [
    {
     "data": {
      "text/plain": "'       Saudações , informo que a vigência da Parceria com , processo terá fim em\\n     . Assim sendo, favor iniciar as tratativas internas para a renovação.\\n       '"
     },
     "execution_count": 13,
     "metadata": {},
     "output_type": "execute_result"
    }
   ],
   "source": [
    " f'''\\\n",
    "        Saudações , informo que a vigência da Parceria com , processo terá fim em\n",
    "      . Assim sendo, favor iniciar as tratativas internas para a renovação.\n",
    "        '''"
   ],
   "metadata": {
    "collapsed": false,
    "pycharm": {
     "name": "#%%\n"
    }
   }
  },
  {
   "cell_type": "code",
   "execution_count": 14,
   "outputs": [
    {
     "data": {
      "text/plain": "'\\n       Saudações , informo que a vigência da Parceria com , processo terá fim em\\n     . Assim sendo, favor iniciar as tratativas internas para a renovação.\\n       '"
     },
     "execution_count": 14,
     "metadata": {},
     "output_type": "execute_result"
    }
   ],
   "source": [
    " f'''\n",
    "        Saudações , informo que a vigência da Parceria com , processo terá fim em\n",
    "      . Assim sendo, favor iniciar as tratativas internas para a renovação.\n",
    "        '''"
   ],
   "metadata": {
    "collapsed": false,
    "pycharm": {
     "name": "#%%\n"
    }
   }
  },
  {
   "cell_type": "code",
   "execution_count": 15,
   "outputs": [
    {
     "data": {
      "text/plain": "'<html>\\n<body>\\n<p>Saudações a, informo que a vigência da Parceria com <strong>p</strong>, processo ep terá fim em <strong>dd</strong>.</p>\\n<p>Assim sendo, favor iniciar as tratativas internas para a renovação.</p>\\n</body>\\n</html>'"
     },
     "execution_count": 15,
     "metadata": {},
     "output_type": "execute_result"
    }
   ],
   "source": [
    "f'''<html>\n",
    "<body>\n",
    "<p>Saudações a, informo que a vigência da Parceria com <strong>p</strong>, processo ep terá fim em <strong>dd</strong>.</p>\n",
    "<p>Assim sendo, favor iniciar as tratativas internas para a renovação.</p>\n",
    "</body>\n",
    "</html>'''"
   ],
   "metadata": {
    "collapsed": false,
    "pycharm": {
     "name": "#%%\n"
    }
   }
  },
  {
   "cell_type": "code",
   "execution_count": 16,
   "outputs": [
    {
     "data": {
      "text/plain": "True"
     },
     "execution_count": 16,
     "metadata": {},
     "output_type": "execute_result"
    }
   ],
   "source": [
    "3/3 == 1"
   ],
   "metadata": {
    "collapsed": false,
    "pycharm": {
     "name": "#%%\n"
    }
   }
  },
  {
   "cell_type": "code",
   "execution_count": 17,
   "outputs": [
    {
     "data": {
      "text/plain": "1.0"
     },
     "execution_count": 17,
     "metadata": {},
     "output_type": "execute_result"
    }
   ],
   "source": [
    "3/3\n"
   ],
   "metadata": {
    "collapsed": false,
    "pycharm": {
     "name": "#%%\n"
    }
   }
  },
  {
   "cell_type": "code",
   "execution_count": 18,
   "outputs": [
    {
     "ename": "ValueError",
     "evalue": "invalid literal for int() with base 10: ''",
     "output_type": "error",
     "traceback": [
      "\u001B[0;31m---------------------------------------------------------------------------\u001B[0m",
      "\u001B[0;31mValueError\u001B[0m                                Traceback (most recent call last)",
      "Input \u001B[0;32mIn [18]\u001B[0m, in \u001B[0;36m<cell line: 3>\u001B[0;34m()\u001B[0m\n\u001B[1;32m      2\u001B[0m soma \u001B[38;5;241m=\u001B[39m \u001B[38;5;241m0\u001B[39m\n\u001B[1;32m      3\u001B[0m \u001B[38;5;28;01mfor\u001B[39;00m i \u001B[38;5;129;01min\u001B[39;00m \u001B[38;5;28mrange\u001B[39m (\u001B[38;5;241m6\u001B[39m):\n\u001B[0;32m----> 4\u001B[0m         x \u001B[38;5;241m=\u001B[39m \u001B[38;5;28;43mint\u001B[39;49m\u001B[43m(\u001B[49m\u001B[38;5;28;43minput\u001B[39;49m\u001B[43m(\u001B[49m\u001B[43m)\u001B[49m\u001B[43m)\u001B[49m\n\u001B[1;32m      5\u001B[0m         values\u001B[38;5;241m.\u001B[39mappend(x)\n\u001B[1;32m      6\u001B[0m         soma \u001B[38;5;241m=\u001B[39m soma \u001B[38;5;241m+\u001B[39m x\n",
      "\u001B[0;31mValueError\u001B[0m: invalid literal for int() with base 10: ''"
     ]
    }
   ],
   "source": [
    "values = []\n",
    "soma = 0\n",
    "for i in range (6):\n",
    "        x = int(input())\n",
    "        values.append(x)\n",
    "        soma = soma + x\n",
    "        i+=1\n",
    "print(soma)"
   ],
   "metadata": {
    "collapsed": false,
    "pycharm": {
     "name": "#%%\n"
    }
   }
  },
  {
   "cell_type": "code",
   "execution_count": null,
   "outputs": [],
   "source": [
    "entrada = input()\n",
    "entrada.split()"
   ],
   "metadata": {
    "collapsed": false,
    "pycharm": {
     "name": "#%%\n"
    }
   }
  },
  {
   "cell_type": "code",
   "execution_count": null,
   "outputs": [],
   "source": [
    "letras = \"ABC\"\n",
    "digitos = \"123456789\"\n",
    "\n",
    "print(letras)"
   ],
   "metadata": {
    "collapsed": false,
    "pycharm": {
     "name": "#%%\n"
    }
   }
  },
  {
   "cell_type": "code",
   "execution_count": 29,
   "outputs": [
    {
     "name": "stdout",
     "output_type": "stream",
     "text": [
      "1 vaga(s) ocupada(s)\n"
     ]
    }
   ],
   "source": [
    "vagas1 = \"CC..C\"\n",
    "vagas2 = \".CC..\"\n",
    "ocupadas = 0\n",
    "\n",
    "for i in range(len(vagas1)):\n",
    "        if (vagas1[i] == vagas2[i]) and (vagas1[i] == 'C'):\n",
    "                ocupadas +=1\n",
    "print(f'{ocupadas} vaga(s) ocupada(s)')\n"
   ],
   "metadata": {
    "collapsed": false,
    "pycharm": {
     "name": "#%%\n"
    }
   }
  },
  {
   "cell_type": "code",
   "execution_count": 36,
   "outputs": [
    {
     "name": "stdout",
     "output_type": "stream",
     "text": [
      "1\n"
     ]
    }
   ],
   "source": [
    "ontem = \"CC..C\"\n",
    "hoje = \".CC..\"\n",
    "ocupada = 0\n",
    "for i in range(len(ontem)):\n",
    "        if ontem[i] == 'C':\n",
    "                if hoje[i] == 'C':\n",
    "                        ocupada +=1\n",
    "        else:\n",
    "                continue\n",
    "print(ocupada)"
   ],
   "metadata": {
    "collapsed": false,
    "pycharm": {
     "name": "#%%\n"
    }
   }
  },
  {
   "cell_type": "code",
   "execution_count": 43,
   "outputs": [
    {
     "name": "stdout",
     "output_type": "stream",
     "text": [
      "28\n"
     ]
    }
   ],
   "source": [
    "contratado = int(input('Contratado'))\n",
    "meses = int(input('Meses'))\n",
    "banda = contratado*meses\n",
    "\n",
    "for n in range(meses):\n",
    "        consumo = int(input())\n",
    "        banda -= consumo\n",
    "\n",
    "print (banda+contratado)\n",
    "\n"
   ],
   "metadata": {
    "collapsed": false,
    "pycharm": {
     "name": "#%%\n"
    }
   }
  },
  {
   "cell_type": "code",
   "execution_count": null,
   "outputs": [],
   "source": [],
   "metadata": {
    "collapsed": false,
    "pycharm": {
     "name": "#%%\n",
     "is_executing": true
    }
   }
  },
  {
   "cell_type": "code",
   "execution_count": 38,
   "outputs": [
    {
     "data": {
      "text/plain": "                                       Parceiro  \\\n0        American Tower (antiga CEMIG) - Cessão   \n1                                CHESF - Cessão   \n2                              CHESF - Parceria   \n3                  ELETRONORTE - Cessão Onerosa   \n4                         ELETRONORTE - Permuta   \n..                                          ...   \n59                                     VETORIAL   \n60              VIVO - (antigo GVT/ Telefonica)   \n61                  VIVO - Venda com equipagem.   \n62                                        ETICE   \n63  FAAR - Fundação Amazonas de Alto Rendimento   \n\n                       Fiscal Titular                    Fiscal Suplente  \\\n0         LUIS FELIPE TEIXEIRA FREIRE          ANGELO SOUSA SILVA FREIRE   \n1         LUIS FELIPE TEIXEIRA FREIRE  NATASHA TAINA DE QUEIROZ C. BRAUN   \n2         LUIS FELIPE TEIXEIRA FREIRE  NATASHA TAINA DE QUEIROZ C. BRAUN   \n3         LUIS FELIPE TEIXEIRA FREIRE  NATASHA TAINA DE QUEIROZ C. BRAUN   \n4         LUIS FELIPE TEIXEIRA FREIRE  NATASHA TAINA DE QUEIROZ C. BRAUN   \n..                                ...                                ...   \n59  NATASHA TAINA DE QUEIROZ C. BRAUN          ANGELO SOUSA SILVA FREIRE   \n60          ANGELO SOUSA SILVA FREIRE  NATASHA TAINA DE QUEIROZ C. BRAUN   \n61          ANGELO SOUSA SILVA FREIRE  NATASHA TAINA DE QUEIROZ C. BRAUN   \n62          ANGELO SOUSA SILVA FREIRE    NIVIAN MARTINS SILVEIRA BRAYNER   \n63  NATASHA TAINA DE QUEIROZ C. BRAUN                                      \n\n                    Email Titular                  Email Suplente  \\\n0     luis.freire@telebras.com.br   angelo.freire@telebras.com.br   \n1     luis.freire@telebras.com.br   natasha.braun@telebras.com.br   \n2     luis.freire@telebras.com.br   natasha.braun@telebras.com.br   \n3     luis.freire@telebras.com.br   natasha.braun@telebras.com.br   \n4     luis.freire@telebras.com.br   natasha.braun@telebras.com.br   \n..                            ...                             ...   \n59  natasha.braun@telebras.com.br   angelo.freire@telebras.com.br   \n60  angelo.freire@telebras.com.br   natasha.braun@telebras.com.br   \n61  angelo.freire@telebras.com.br   natasha.braun@telebras.com.br   \n62  angelo.freire@telebras.com.br  nivian.brayner@telebras.com.br   \n63  natasha.braun@telebras.com.br                                   \n\n         Processo SIGA  Vencimento Data do Lembrete             Observações  \n0   TLB-PRO-2020/01886  01/09/2023       01/03/2023                          \n1   TLB-PRO-2020/02036  13/02/2031       13/08/2030                          \n2     Não Digitalizado         N/A                   Distrato em Elaboração  \n3   TLB-PRO-2020/01895  16/02/2031       16/08/2030                          \n4   TLB-PRO-2020/01897  12/07/2026       12/01/2026                          \n..                 ...         ...              ...                     ...  \n59  TLB-PRO-2020/07146                                                       \n60  TLB-PRO-2020/01898  09/08/2027                                           \n61                #N/D         N/A                                           \n62  TLB-PRO-2022/02119         N/A                                           \n63  TLB-AUT-2021/72845  25/07/2023                                           \n\n[64 rows x 9 columns]",
      "text/html": "<div>\n<style scoped>\n    .dataframe tbody tr th:only-of-type {\n        vertical-align: middle;\n    }\n\n    .dataframe tbody tr th {\n        vertical-align: top;\n    }\n\n    .dataframe thead th {\n        text-align: right;\n    }\n</style>\n<table border=\"1\" class=\"dataframe\">\n  <thead>\n    <tr style=\"text-align: right;\">\n      <th></th>\n      <th>Parceiro</th>\n      <th>Fiscal Titular</th>\n      <th>Fiscal Suplente</th>\n      <th>Email Titular</th>\n      <th>Email Suplente</th>\n      <th>Processo SIGA</th>\n      <th>Vencimento</th>\n      <th>Data do Lembrete</th>\n      <th>Observações</th>\n    </tr>\n  </thead>\n  <tbody>\n    <tr>\n      <th>0</th>\n      <td>American Tower (antiga CEMIG) - Cessão</td>\n      <td>LUIS FELIPE TEIXEIRA FREIRE</td>\n      <td>ANGELO SOUSA SILVA FREIRE</td>\n      <td>luis.freire@telebras.com.br</td>\n      <td>angelo.freire@telebras.com.br</td>\n      <td>TLB-PRO-2020/01886</td>\n      <td>01/09/2023</td>\n      <td>01/03/2023</td>\n      <td></td>\n    </tr>\n    <tr>\n      <th>1</th>\n      <td>CHESF - Cessão</td>\n      <td>LUIS FELIPE TEIXEIRA FREIRE</td>\n      <td>NATASHA TAINA DE QUEIROZ C. BRAUN</td>\n      <td>luis.freire@telebras.com.br</td>\n      <td>natasha.braun@telebras.com.br</td>\n      <td>TLB-PRO-2020/02036</td>\n      <td>13/02/2031</td>\n      <td>13/08/2030</td>\n      <td></td>\n    </tr>\n    <tr>\n      <th>2</th>\n      <td>CHESF - Parceria</td>\n      <td>LUIS FELIPE TEIXEIRA FREIRE</td>\n      <td>NATASHA TAINA DE QUEIROZ C. BRAUN</td>\n      <td>luis.freire@telebras.com.br</td>\n      <td>natasha.braun@telebras.com.br</td>\n      <td>Não Digitalizado</td>\n      <td>N/A</td>\n      <td></td>\n      <td>Distrato em Elaboração</td>\n    </tr>\n    <tr>\n      <th>3</th>\n      <td>ELETRONORTE - Cessão Onerosa</td>\n      <td>LUIS FELIPE TEIXEIRA FREIRE</td>\n      <td>NATASHA TAINA DE QUEIROZ C. BRAUN</td>\n      <td>luis.freire@telebras.com.br</td>\n      <td>natasha.braun@telebras.com.br</td>\n      <td>TLB-PRO-2020/01895</td>\n      <td>16/02/2031</td>\n      <td>16/08/2030</td>\n      <td></td>\n    </tr>\n    <tr>\n      <th>4</th>\n      <td>ELETRONORTE - Permuta</td>\n      <td>LUIS FELIPE TEIXEIRA FREIRE</td>\n      <td>NATASHA TAINA DE QUEIROZ C. BRAUN</td>\n      <td>luis.freire@telebras.com.br</td>\n      <td>natasha.braun@telebras.com.br</td>\n      <td>TLB-PRO-2020/01897</td>\n      <td>12/07/2026</td>\n      <td>12/01/2026</td>\n      <td></td>\n    </tr>\n    <tr>\n      <th>...</th>\n      <td>...</td>\n      <td>...</td>\n      <td>...</td>\n      <td>...</td>\n      <td>...</td>\n      <td>...</td>\n      <td>...</td>\n      <td>...</td>\n      <td>...</td>\n    </tr>\n    <tr>\n      <th>59</th>\n      <td>VETORIAL</td>\n      <td>NATASHA TAINA DE QUEIROZ C. BRAUN</td>\n      <td>ANGELO SOUSA SILVA FREIRE</td>\n      <td>natasha.braun@telebras.com.br</td>\n      <td>angelo.freire@telebras.com.br</td>\n      <td>TLB-PRO-2020/07146</td>\n      <td></td>\n      <td></td>\n      <td></td>\n    </tr>\n    <tr>\n      <th>60</th>\n      <td>VIVO - (antigo GVT/ Telefonica)</td>\n      <td>ANGELO SOUSA SILVA FREIRE</td>\n      <td>NATASHA TAINA DE QUEIROZ C. BRAUN</td>\n      <td>angelo.freire@telebras.com.br</td>\n      <td>natasha.braun@telebras.com.br</td>\n      <td>TLB-PRO-2020/01898</td>\n      <td>09/08/2027</td>\n      <td></td>\n      <td></td>\n    </tr>\n    <tr>\n      <th>61</th>\n      <td>VIVO - Venda com equipagem.</td>\n      <td>ANGELO SOUSA SILVA FREIRE</td>\n      <td>NATASHA TAINA DE QUEIROZ C. BRAUN</td>\n      <td>angelo.freire@telebras.com.br</td>\n      <td>natasha.braun@telebras.com.br</td>\n      <td>#N/D</td>\n      <td>N/A</td>\n      <td></td>\n      <td></td>\n    </tr>\n    <tr>\n      <th>62</th>\n      <td>ETICE</td>\n      <td>ANGELO SOUSA SILVA FREIRE</td>\n      <td>NIVIAN MARTINS SILVEIRA BRAYNER</td>\n      <td>angelo.freire@telebras.com.br</td>\n      <td>nivian.brayner@telebras.com.br</td>\n      <td>TLB-PRO-2022/02119</td>\n      <td>N/A</td>\n      <td></td>\n      <td></td>\n    </tr>\n    <tr>\n      <th>63</th>\n      <td>FAAR - Fundação Amazonas de Alto Rendimento</td>\n      <td>NATASHA TAINA DE QUEIROZ C. BRAUN</td>\n      <td></td>\n      <td>natasha.braun@telebras.com.br</td>\n      <td></td>\n      <td>TLB-AUT-2021/72845</td>\n      <td>25/07/2023</td>\n      <td></td>\n      <td></td>\n    </tr>\n  </tbody>\n</table>\n<p>64 rows × 9 columns</p>\n</div>"
     },
     "execution_count": 38,
     "metadata": {},
     "output_type": "execute_result"
    }
   ],
   "source": [
    "import gspread\n",
    "import pandas as pd\n",
    "from oauth2client.service_account import ServiceAccountCredentials\n",
    "\n",
    "\n",
    "# Google Part\n",
    "\n",
    "service_account = gspread.service_account(filename='partnerships-due-dates-4ff6e6fd5095.json')\n",
    "sheet = service_account.open('Partnerships Due Dates')\n",
    "\n",
    "work_sheet = sheet.worksheet('Test Database')\n",
    "\n",
    "\n",
    "\n",
    "df = pd.DataFrame(work_sheet.get_all_records())\n",
    "\n",
    "df\n"
   ],
   "metadata": {
    "collapsed": false,
    "pycharm": {
     "name": "#%%\n"
    }
   }
  },
  {
   "cell_type": "code",
   "execution_count": 39,
   "outputs": [
    {
     "name": "stdout",
     "output_type": "stream",
     "text": [
      "<class 'pandas.core.frame.DataFrame'>\n",
      "RangeIndex: 64 entries, 0 to 63\n",
      "Data columns (total 9 columns):\n",
      " #   Column            Non-Null Count  Dtype \n",
      "---  ------            --------------  ----- \n",
      " 0   Parceiro          64 non-null     object\n",
      " 1   Fiscal Titular    64 non-null     object\n",
      " 2   Fiscal Suplente   64 non-null     object\n",
      " 3   Email Titular     64 non-null     object\n",
      " 4   Email Suplente    64 non-null     object\n",
      " 5   Processo SIGA     64 non-null     object\n",
      " 6   Vencimento        64 non-null     object\n",
      " 7   Data do Lembrete  64 non-null     object\n",
      " 8   Observações       64 non-null     object\n",
      "dtypes: object(9)\n",
      "memory usage: 4.6+ KB\n"
     ]
    }
   ],
   "source": [
    "df.info()"
   ],
   "metadata": {
    "collapsed": false,
    "pycharm": {
     "name": "#%%\n"
    }
   }
  },
  {
   "cell_type": "code",
   "execution_count": 51,
   "outputs": [],
   "source": [
    "df['Data do Lembrete'] = pd.to_datetime(df['Data do Lembrete'], format='%d/%m/%Y', errors='coerce')"
   ],
   "metadata": {
    "collapsed": false,
    "pycharm": {
     "name": "#%%\n"
    }
   }
  },
  {
   "cell_type": "code",
   "execution_count": 52,
   "outputs": [
    {
     "name": "stdout",
     "output_type": "stream",
     "text": [
      "<class 'pandas.core.frame.DataFrame'>\n",
      "RangeIndex: 64 entries, 0 to 63\n",
      "Data columns (total 9 columns):\n",
      " #   Column            Non-Null Count  Dtype         \n",
      "---  ------            --------------  -----         \n",
      " 0   Parceiro          64 non-null     object        \n",
      " 1   Fiscal Titular    64 non-null     object        \n",
      " 2   Fiscal Suplente   64 non-null     object        \n",
      " 3   Email Titular     64 non-null     object        \n",
      " 4   Email Suplente    64 non-null     object        \n",
      " 5   Processo SIGA     64 non-null     object        \n",
      " 6   Vencimento        64 non-null     object        \n",
      " 7   Data do Lembrete  4 non-null      datetime64[ns]\n",
      " 8   Observações       64 non-null     object        \n",
      "dtypes: datetime64[ns](1), object(8)\n",
      "memory usage: 4.6+ KB\n"
     ]
    }
   ],
   "source": [
    "df.info()\n"
   ],
   "metadata": {
    "collapsed": false,
    "pycharm": {
     "name": "#%%\n"
    }
   }
  },
  {
   "cell_type": "code",
   "execution_count": 53,
   "outputs": [
    {
     "data": {
      "text/plain": "0    2023-03-01\n1    2030-08-13\n2           NaT\n3    2030-08-16\n4    2026-01-12\n        ...    \n59          NaT\n60          NaT\n61          NaT\n62          NaT\n63          NaT\nName: Data do Lembrete, Length: 64, dtype: datetime64[ns]"
     },
     "execution_count": 53,
     "metadata": {},
     "output_type": "execute_result"
    }
   ],
   "source": [
    "df['Data do Lembrete']"
   ],
   "metadata": {
    "collapsed": false,
    "pycharm": {
     "name": "#%%\n"
    }
   }
  },
  {
   "cell_type": "code",
   "execution_count": 59,
   "outputs": [
    {
     "data": {
      "text/plain": "Timestamp('2026-01-12 00:00:00')"
     },
     "execution_count": 59,
     "metadata": {},
     "output_type": "execute_result"
    }
   ],
   "source": [
    "df['Data do Lembrete'][4]"
   ],
   "metadata": {
    "collapsed": false,
    "pycharm": {
     "name": "#%%\n"
    }
   }
  },
  {
   "cell_type": "code",
   "execution_count": 60,
   "outputs": [
    {
     "data": {
      "text/plain": "1"
     },
     "execution_count": 60,
     "metadata": {},
     "output_type": "execute_result"
    }
   ],
   "source": [
    "df['Data do Lembrete'][4].month"
   ],
   "metadata": {
    "collapsed": false,
    "pycharm": {
     "name": "#%%\n"
    }
   }
  },
  {
   "cell_type": "code",
   "execution_count": 61,
   "outputs": [],
   "source": [
    "from datetime import date\n",
    "\n",
    "\n",
    "present=date.today()"
   ],
   "metadata": {
    "collapsed": false,
    "pycharm": {
     "name": "#%%\n"
    }
   }
  },
  {
   "cell_type": "code",
   "execution_count": 63,
   "outputs": [
    {
     "data": {
      "text/plain": "9"
     },
     "execution_count": 63,
     "metadata": {},
     "output_type": "execute_result"
    }
   ],
   "source": [
    "present.month\n"
   ],
   "metadata": {
    "collapsed": false,
    "pycharm": {
     "name": "#%%\n"
    }
   }
  },
  {
   "cell_type": "code",
   "execution_count": 64,
   "outputs": [
    {
     "data": {
      "text/plain": "<generator object DataFrame.iterrows at 0x7f904ad47c80>"
     },
     "execution_count": 64,
     "metadata": {},
     "output_type": "execute_result"
    }
   ],
   "source": [
    "df.iterrows()"
   ],
   "metadata": {
    "collapsed": false,
    "pycharm": {
     "name": "#%%\n"
    }
   }
  },
  {
   "cell_type": "code",
   "execution_count": 69,
   "outputs": [
    {
     "ename": "OSError",
     "evalue": "[Errno 65] No route to host",
     "output_type": "error",
     "traceback": [
      "\u001B[0;31m---------------------------------------------------------------------------\u001B[0m",
      "\u001B[0;31mOSError\u001B[0m                                   Traceback (most recent call last)",
      "Input \u001B[0;32mIn [69]\u001B[0m, in \u001B[0;36m<cell line: 34>\u001B[0;34m()\u001B[0m\n\u001B[1;32m     31\u001B[0m          email_counter \u001B[38;5;241m+\u001B[39m\u001B[38;5;241m=\u001B[39m \u001B[38;5;241m1\u001B[39m\n\u001B[1;32m     32\u001B[0m    \u001B[38;5;28;01mreturn\u001B[39;00m \u001B[38;5;124mf\u001B[39m\u001B[38;5;124m'\u001B[39m\u001B[38;5;124mTotal e-mails sent\u001B[39m\u001B[38;5;132;01m{\u001B[39;00memail_counter\u001B[38;5;132;01m}\u001B[39;00m\u001B[38;5;124m'\u001B[39m\n\u001B[0;32m---> 34\u001B[0m result \u001B[38;5;241m=\u001B[39m \u001B[43mdue_dates_and_email\u001B[49m\u001B[43m(\u001B[49m\u001B[43mdf\u001B[49m\u001B[43m)\u001B[49m\n\u001B[1;32m     36\u001B[0m \u001B[38;5;28mprint\u001B[39m(result)\n",
      "Input \u001B[0;32mIn [69]\u001B[0m, in \u001B[0;36mdue_dates_and_email\u001B[0;34m(dataframe)\u001B[0m\n\u001B[1;32m     28\u001B[0m \u001B[38;5;28;01mfor\u001B[39;00m _, row \u001B[38;5;129;01min\u001B[39;00m dataframe\u001B[38;5;241m.\u001B[39miterrows():\n\u001B[1;32m     29\u001B[0m    \u001B[38;5;28;01mif\u001B[39;00m (present \u001B[38;5;241m>\u001B[39m\u001B[38;5;241m=\u001B[39m row[\u001B[38;5;124m'\u001B[39m\u001B[38;5;124mData do Lembrete\u001B[39m\u001B[38;5;124m'\u001B[39m]\u001B[38;5;241m.\u001B[39mdate()) \u001B[38;5;129;01mand\u001B[39;00m (row[\u001B[38;5;124m'\u001B[39m\u001B[38;5;124mFiscal Informado\u001B[39m\u001B[38;5;124m'\u001B[39m]\u001B[38;5;241m.\u001B[39mlower() \u001B[38;5;241m==\u001B[39m \u001B[38;5;124m'\u001B[39m\u001B[38;5;124mno\u001B[39m\u001B[38;5;124m'\u001B[39m):\n\u001B[0;32m---> 30\u001B[0m       \u001B[43msend_email\u001B[49m\u001B[43m  \u001B[49m\u001B[43m(\u001B[49m\u001B[43msubject\u001B[49m\u001B[38;5;241;43m=\u001B[39;49m\u001B[43m \u001B[49m\u001B[38;5;124;43mf\u001B[39;49m\u001B[38;5;124;43m\"\u001B[39;49m\u001B[38;5;124;43mDue Date Reminder of \u001B[39;49m\u001B[38;5;132;43;01m{\u001B[39;49;00m\u001B[43mrow\u001B[49m\u001B[43m[\u001B[49m\u001B[38;5;124;43m'\u001B[39;49m\u001B[38;5;124;43mParceiro\u001B[39;49m\u001B[38;5;124;43m'\u001B[39;49m\u001B[43m]\u001B[49m\u001B[38;5;132;43;01m}\u001B[39;49;00m\u001B[38;5;124;43m\"\u001B[39;49m\u001B[43m,\u001B[49m\u001B[43m \u001B[49m\u001B[43mname\u001B[49m\u001B[43m \u001B[49m\u001B[38;5;241;43m=\u001B[39;49m\u001B[43m \u001B[49m\u001B[43mrow\u001B[49m\u001B[43m[\u001B[49m\u001B[38;5;124;43m'\u001B[39;49m\u001B[38;5;124;43mFiscal Titular\u001B[39;49m\u001B[38;5;124;43m'\u001B[39;49m\u001B[43m]\u001B[49m\u001B[43m,\u001B[49m\u001B[43m \u001B[49m\u001B[43mreceiver_email\u001B[49m\u001B[38;5;241;43m=\u001B[39;49m\u001B[38;5;124;43m'\u001B[39;49m\u001B[38;5;124;43mpedromvba@gmail.com\u001B[39;49m\u001B[38;5;124;43m'\u001B[39;49m\u001B[43m,\u001B[49m\u001B[43m \u001B[49m\u001B[43mdue_date\u001B[49m\u001B[43m \u001B[49m\u001B[38;5;241;43m=\u001B[39;49m\u001B[43m \u001B[49m\u001B[43mrow\u001B[49m\u001B[43m[\u001B[49m\u001B[38;5;124;43m'\u001B[39;49m\u001B[38;5;124;43mVencimento\u001B[39;49m\u001B[38;5;124;43m'\u001B[39;49m\u001B[43m]\u001B[49m\u001B[43m,\u001B[49m\u001B[43m \u001B[49m\u001B[43mpartnership\u001B[49m\u001B[43m \u001B[49m\u001B[38;5;241;43m=\u001B[39;49m\u001B[43m \u001B[49m\u001B[43mrow\u001B[49m\u001B[43m[\u001B[49m\u001B[38;5;124;43m'\u001B[39;49m\u001B[38;5;124;43mParceiro\u001B[39;49m\u001B[38;5;124;43m'\u001B[39;49m\u001B[43m]\u001B[49m\u001B[43m,\u001B[49m\u001B[43m \u001B[49m\u001B[43me_process\u001B[49m\u001B[38;5;241;43m=\u001B[39;49m\u001B[43m \u001B[49m\u001B[43mrow\u001B[49m\u001B[43m[\u001B[49m\u001B[38;5;124;43m'\u001B[39;49m\u001B[38;5;124;43mProcesso SIGA\u001B[39;49m\u001B[38;5;124;43m'\u001B[39;49m\u001B[43m]\u001B[49m\u001B[43m)\u001B[49m\n\u001B[1;32m     31\u001B[0m       email_counter \u001B[38;5;241m+\u001B[39m\u001B[38;5;241m=\u001B[39m \u001B[38;5;241m1\u001B[39m\n\u001B[1;32m     32\u001B[0m \u001B[38;5;28;01mreturn\u001B[39;00m \u001B[38;5;124mf\u001B[39m\u001B[38;5;124m'\u001B[39m\u001B[38;5;124mTotal e-mails sent\u001B[39m\u001B[38;5;132;01m{\u001B[39;00memail_counter\u001B[38;5;132;01m}\u001B[39;00m\u001B[38;5;124m'\u001B[39m\n",
      "File \u001B[0;32m~/Library/Mobile Documents/com~apple~CloudDocs/dsProjects/partnerships_due_date/send_email.py:60\u001B[0m, in \u001B[0;36msend_email\u001B[0;34m(subject, receiver_email, name, due_date, partnership, e_process)\u001B[0m\n\u001B[1;32m     45\u001B[0m \u001B[38;5;66;03m# Email body (html version)\u001B[39;00m\n\u001B[1;32m     47\u001B[0m msg\u001B[38;5;241m.\u001B[39madd_alternative(\n\u001B[1;32m     48\u001B[0m \n\u001B[1;32m     49\u001B[0m     \u001B[38;5;124mf\u001B[39m\u001B[38;5;124m'''\u001B[39m\u001B[38;5;130;01m\\\u001B[39;00m\n\u001B[0;32m   (...)\u001B[0m\n\u001B[1;32m     57\u001B[0m     subtype\u001B[38;5;241m=\u001B[39m\u001B[38;5;124m'\u001B[39m\u001B[38;5;124mhtml\u001B[39m\u001B[38;5;124m'\u001B[39m\n\u001B[1;32m     58\u001B[0m )\n\u001B[0;32m---> 60\u001B[0m \u001B[38;5;28;01mwith\u001B[39;00m \u001B[43msmtplib\u001B[49m\u001B[38;5;241;43m.\u001B[39;49m\u001B[43mSMTP_SSL\u001B[49m\u001B[43m(\u001B[49m\u001B[43mEMAIL_SERVER\u001B[49m\u001B[43m,\u001B[49m\u001B[43mPORT\u001B[49m\u001B[43m)\u001B[49m \u001B[38;5;28;01mas\u001B[39;00m server:\n\u001B[1;32m     61\u001B[0m     server\u001B[38;5;241m.\u001B[39mlogin(sender_email, password)\n\u001B[1;32m     62\u001B[0m     server\u001B[38;5;241m.\u001B[39msendmail(sender_email, receiver_email, msg\u001B[38;5;241m.\u001B[39mas_string())\n",
      "File \u001B[0;32m/opt/anaconda3/lib/python3.8/smtplib.py:1048\u001B[0m, in \u001B[0;36mSMTP_SSL.__init__\u001B[0;34m(self, host, port, local_hostname, keyfile, certfile, timeout, source_address, context)\u001B[0m\n\u001B[1;32m   1045\u001B[0m     context \u001B[38;5;241m=\u001B[39m ssl\u001B[38;5;241m.\u001B[39m_create_stdlib_context(certfile\u001B[38;5;241m=\u001B[39mcertfile,\n\u001B[1;32m   1046\u001B[0m                                          keyfile\u001B[38;5;241m=\u001B[39mkeyfile)\n\u001B[1;32m   1047\u001B[0m \u001B[38;5;28mself\u001B[39m\u001B[38;5;241m.\u001B[39mcontext \u001B[38;5;241m=\u001B[39m context\n\u001B[0;32m-> 1048\u001B[0m \u001B[43mSMTP\u001B[49m\u001B[38;5;241;43m.\u001B[39;49m\u001B[38;5;21;43m__init__\u001B[39;49m\u001B[43m(\u001B[49m\u001B[38;5;28;43mself\u001B[39;49m\u001B[43m,\u001B[49m\u001B[43m \u001B[49m\u001B[43mhost\u001B[49m\u001B[43m,\u001B[49m\u001B[43m \u001B[49m\u001B[43mport\u001B[49m\u001B[43m,\u001B[49m\u001B[43m \u001B[49m\u001B[43mlocal_hostname\u001B[49m\u001B[43m,\u001B[49m\u001B[43m \u001B[49m\u001B[43mtimeout\u001B[49m\u001B[43m,\u001B[49m\n\u001B[1;32m   1049\u001B[0m \u001B[43m        \u001B[49m\u001B[43msource_address\u001B[49m\u001B[43m)\u001B[49m\n",
      "File \u001B[0;32m/opt/anaconda3/lib/python3.8/smtplib.py:255\u001B[0m, in \u001B[0;36mSMTP.__init__\u001B[0;34m(self, host, port, local_hostname, timeout, source_address)\u001B[0m\n\u001B[1;32m    252\u001B[0m \u001B[38;5;28mself\u001B[39m\u001B[38;5;241m.\u001B[39m_auth_challenge_count \u001B[38;5;241m=\u001B[39m \u001B[38;5;241m0\u001B[39m\n\u001B[1;32m    254\u001B[0m \u001B[38;5;28;01mif\u001B[39;00m host:\n\u001B[0;32m--> 255\u001B[0m     (code, msg) \u001B[38;5;241m=\u001B[39m \u001B[38;5;28;43mself\u001B[39;49m\u001B[38;5;241;43m.\u001B[39;49m\u001B[43mconnect\u001B[49m\u001B[43m(\u001B[49m\u001B[43mhost\u001B[49m\u001B[43m,\u001B[49m\u001B[43m \u001B[49m\u001B[43mport\u001B[49m\u001B[43m)\u001B[49m\n\u001B[1;32m    256\u001B[0m     \u001B[38;5;28;01mif\u001B[39;00m code \u001B[38;5;241m!=\u001B[39m \u001B[38;5;241m220\u001B[39m:\n\u001B[1;32m    257\u001B[0m         \u001B[38;5;28mself\u001B[39m\u001B[38;5;241m.\u001B[39mclose()\n",
      "File \u001B[0;32m/opt/anaconda3/lib/python3.8/smtplib.py:339\u001B[0m, in \u001B[0;36mSMTP.connect\u001B[0;34m(self, host, port, source_address)\u001B[0m\n\u001B[1;32m    337\u001B[0m     port \u001B[38;5;241m=\u001B[39m \u001B[38;5;28mself\u001B[39m\u001B[38;5;241m.\u001B[39mdefault_port\n\u001B[1;32m    338\u001B[0m sys\u001B[38;5;241m.\u001B[39maudit(\u001B[38;5;124m\"\u001B[39m\u001B[38;5;124msmtplib.connect\u001B[39m\u001B[38;5;124m\"\u001B[39m, \u001B[38;5;28mself\u001B[39m, host, port)\n\u001B[0;32m--> 339\u001B[0m \u001B[38;5;28mself\u001B[39m\u001B[38;5;241m.\u001B[39msock \u001B[38;5;241m=\u001B[39m \u001B[38;5;28;43mself\u001B[39;49m\u001B[38;5;241;43m.\u001B[39;49m\u001B[43m_get_socket\u001B[49m\u001B[43m(\u001B[49m\u001B[43mhost\u001B[49m\u001B[43m,\u001B[49m\u001B[43m \u001B[49m\u001B[43mport\u001B[49m\u001B[43m,\u001B[49m\u001B[43m \u001B[49m\u001B[38;5;28;43mself\u001B[39;49m\u001B[38;5;241;43m.\u001B[39;49m\u001B[43mtimeout\u001B[49m\u001B[43m)\u001B[49m\n\u001B[1;32m    340\u001B[0m \u001B[38;5;28mself\u001B[39m\u001B[38;5;241m.\u001B[39mfile \u001B[38;5;241m=\u001B[39m \u001B[38;5;28;01mNone\u001B[39;00m\n\u001B[1;32m    341\u001B[0m (code, msg) \u001B[38;5;241m=\u001B[39m \u001B[38;5;28mself\u001B[39m\u001B[38;5;241m.\u001B[39mgetreply()\n",
      "File \u001B[0;32m/opt/anaconda3/lib/python3.8/smtplib.py:1054\u001B[0m, in \u001B[0;36mSMTP_SSL._get_socket\u001B[0;34m(self, host, port, timeout)\u001B[0m\n\u001B[1;32m   1052\u001B[0m \u001B[38;5;28;01mif\u001B[39;00m \u001B[38;5;28mself\u001B[39m\u001B[38;5;241m.\u001B[39mdebuglevel \u001B[38;5;241m>\u001B[39m \u001B[38;5;241m0\u001B[39m:\n\u001B[1;32m   1053\u001B[0m     \u001B[38;5;28mself\u001B[39m\u001B[38;5;241m.\u001B[39m_print_debug(\u001B[38;5;124m'\u001B[39m\u001B[38;5;124mconnect:\u001B[39m\u001B[38;5;124m'\u001B[39m, (host, port))\n\u001B[0;32m-> 1054\u001B[0m new_socket \u001B[38;5;241m=\u001B[39m \u001B[43msocket\u001B[49m\u001B[38;5;241;43m.\u001B[39;49m\u001B[43mcreate_connection\u001B[49m\u001B[43m(\u001B[49m\u001B[43m(\u001B[49m\u001B[43mhost\u001B[49m\u001B[43m,\u001B[49m\u001B[43m \u001B[49m\u001B[43mport\u001B[49m\u001B[43m)\u001B[49m\u001B[43m,\u001B[49m\u001B[43m \u001B[49m\u001B[43mtimeout\u001B[49m\u001B[43m,\u001B[49m\n\u001B[1;32m   1055\u001B[0m \u001B[43m        \u001B[49m\u001B[38;5;28;43mself\u001B[39;49m\u001B[38;5;241;43m.\u001B[39;49m\u001B[43msource_address\u001B[49m\u001B[43m)\u001B[49m\n\u001B[1;32m   1056\u001B[0m new_socket \u001B[38;5;241m=\u001B[39m \u001B[38;5;28mself\u001B[39m\u001B[38;5;241m.\u001B[39mcontext\u001B[38;5;241m.\u001B[39mwrap_socket(new_socket,\n\u001B[1;32m   1057\u001B[0m                                       server_hostname\u001B[38;5;241m=\u001B[39m\u001B[38;5;28mself\u001B[39m\u001B[38;5;241m.\u001B[39m_host)\n\u001B[1;32m   1058\u001B[0m \u001B[38;5;28;01mreturn\u001B[39;00m new_socket\n",
      "File \u001B[0;32m/opt/anaconda3/lib/python3.8/socket.py:808\u001B[0m, in \u001B[0;36mcreate_connection\u001B[0;34m(address, timeout, source_address)\u001B[0m\n\u001B[1;32m    806\u001B[0m \u001B[38;5;28;01mif\u001B[39;00m err \u001B[38;5;129;01mis\u001B[39;00m \u001B[38;5;129;01mnot\u001B[39;00m \u001B[38;5;28;01mNone\u001B[39;00m:\n\u001B[1;32m    807\u001B[0m     \u001B[38;5;28;01mtry\u001B[39;00m:\n\u001B[0;32m--> 808\u001B[0m         \u001B[38;5;28;01mraise\u001B[39;00m err\n\u001B[1;32m    809\u001B[0m     \u001B[38;5;28;01mfinally\u001B[39;00m:\n\u001B[1;32m    810\u001B[0m         \u001B[38;5;66;03m# Break explicitly a reference cycle\u001B[39;00m\n\u001B[1;32m    811\u001B[0m         err \u001B[38;5;241m=\u001B[39m \u001B[38;5;28;01mNone\u001B[39;00m\n",
      "File \u001B[0;32m/opt/anaconda3/lib/python3.8/socket.py:796\u001B[0m, in \u001B[0;36mcreate_connection\u001B[0;34m(address, timeout, source_address)\u001B[0m\n\u001B[1;32m    794\u001B[0m \u001B[38;5;28;01mif\u001B[39;00m source_address:\n\u001B[1;32m    795\u001B[0m     sock\u001B[38;5;241m.\u001B[39mbind(source_address)\n\u001B[0;32m--> 796\u001B[0m \u001B[43msock\u001B[49m\u001B[38;5;241;43m.\u001B[39;49m\u001B[43mconnect\u001B[49m\u001B[43m(\u001B[49m\u001B[43msa\u001B[49m\u001B[43m)\u001B[49m\n\u001B[1;32m    797\u001B[0m \u001B[38;5;66;03m# Break explicitly a reference cycle\u001B[39;00m\n\u001B[1;32m    798\u001B[0m err \u001B[38;5;241m=\u001B[39m \u001B[38;5;28;01mNone\u001B[39;00m\n",
      "\u001B[0;31mOSError\u001B[0m: [Errno 65] No route to host"
     ]
    }
   ],
   "source": [
    "\n",
    "from datetime import date\n",
    "from send_email import send_email\n",
    "\n",
    "import gspread\n",
    "import pandas as pd\n",
    "\n",
    "\n",
    "\n",
    "# Connecting to Google Sheet\n",
    "\n",
    "service_account = gspread.service_account(filename='partnerships-due-dates-4ff6e6fd5095.json')\n",
    "sheet = service_account.open('Partnerships Due Dates')\n",
    "\n",
    "# Selecting the work sheet inside the file\n",
    "work_sheet = sheet.worksheet('Test Database')\n",
    "\n",
    "# Imports the data as a data frame\n",
    "df = pd.DataFrame(work_sheet.get_all_records())\n",
    "\n",
    "# Converts string to datetime type, coerce forces it even if the values are null or empty\n",
    "df['Data do Lembrete'] = pd.to_datetime(df['Data do Lembrete'], format='%d/%m/%Y', errors='coerce')\n",
    "\n",
    "# Function to Query the Data and Send E-mail\n",
    "\n",
    "def due_dates_and_email(dataframe):\n",
    "   present = date.today()\n",
    "   email_counter = 0\n",
    "   for _, row in dataframe.iterrows():\n",
    "      if (present >= row['Data do Lembrete'].date()) and (row['Fiscal Informado'].lower() == 'no'):\n",
    "         send_email  (subject= f\"Due Date Reminder of {row['Parceiro']}\", name = row['Fiscal Titular'], receiver_email='pedromvba@gmail.com', due_date = row['Vencimento'], partnership = row['Parceiro'], e_process= row['Processo SIGA'])\n",
    "         email_counter += 1\n",
    "   return f'Total e-mails sent{email_counter}'\n",
    "\n",
    "result = due_dates_and_email(df)\n",
    "\n",
    "print(result)"
   ],
   "metadata": {
    "collapsed": false,
    "pycharm": {
     "name": "#%%\n"
    }
   }
  },
  {
   "cell_type": "code",
   "execution_count": null,
   "outputs": [],
   "source": [],
   "metadata": {
    "collapsed": false,
    "pycharm": {
     "name": "#%%\n"
    }
   }
  }
 ],
 "metadata": {
  "kernelspec": {
   "display_name": "Python 3",
   "language": "python",
   "name": "python3"
  },
  "language_info": {
   "codemirror_mode": {
    "name": "ipython",
    "version": 2
   },
   "file_extension": ".py",
   "mimetype": "text/x-python",
   "name": "python",
   "nbconvert_exporter": "python",
   "pygments_lexer": "ipython2",
   "version": "2.7.6"
  }
 },
 "nbformat": 4,
 "nbformat_minor": 0
}