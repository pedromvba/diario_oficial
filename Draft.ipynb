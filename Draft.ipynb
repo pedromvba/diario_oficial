{
 "cells": [
  {
   "cell_type": "code",
   "execution_count": 2,
   "metadata": {
    "collapsed": true,
    "pycharm": {
     "name": "#%%\n"
    }
   },
   "outputs": [
    {
     "data": {
      "text/plain": "'\\n\\nTEste\\nteste 2\\n'"
     },
     "execution_count": 2,
     "metadata": {},
     "output_type": "execute_result"
    }
   ],
   "source": [
    "'''\n",
    "\n",
    "TEste\n",
    "teste 2\n",
    "\n",
    "TEste 3\n",
    "'''"
   ]
  },
  {
   "cell_type": "code",
   "execution_count": 3,
   "outputs": [
    {
     "name": "stdout",
     "output_type": "stream",
     "text": [
      "5\n"
     ]
    }
   ],
   "source": [
    "print(5)"
   ],
   "metadata": {
    "collapsed": false,
    "pycharm": {
     "name": "#%%\n"
    }
   }
  },
  {
   "cell_type": "code",
   "execution_count": 2,
   "outputs": [
    {
     "name": "stdout",
     "output_type": "stream",
     "text": [
      "7\n"
     ]
    }
   ],
   "source": [
    "'Bom dia'\n",
    "\n",
    "i = 2 +5\n",
    "\n",
    "\n",
    "'opa'\n",
    "\n",
    "print(i)"
   ],
   "metadata": {
    "collapsed": false,
    "pycharm": {
     "name": "#%%\n"
    }
   }
  },
  {
   "cell_type": "code",
   "execution_count": 3,
   "outputs": [
    {
     "data": {
      "text/plain": "'Finalmente'"
     },
     "execution_count": 3,
     "metadata": {},
     "output_type": "execute_result"
    }
   ],
   "source": [
    "'Git Ignore Teste'"
   ],
   "metadata": {
    "collapsed": false,
    "pycharm": {
     "name": "#%%\n"
    }
   }
  },
  {
   "cell_type": "code",
   "execution_count": 5,
   "outputs": [
    {
     "data": {
      "text/plain": "'       Saudações , informo que a vigência da Parceria com , processo terá fim em\\n     . Assim sendo, favor iniciar as tratativas internas para a renovação.\\n       '"
     },
     "execution_count": 5,
     "metadata": {},
     "output_type": "execute_result"
    }
   ],
   "source": [
    " f'''\\\n",
    "        Saudações , informo que a vigência da Parceria com , processo terá fim em\n",
    "      . Assim sendo, favor iniciar as tratativas internas para a renovação.\n",
    "        '''"
   ],
   "metadata": {
    "collapsed": false,
    "pycharm": {
     "name": "#%%\n"
    }
   }
  },
  {
   "cell_type": "code",
   "execution_count": 4,
   "outputs": [
    {
     "data": {
      "text/plain": "'\\n       Saudações , informo que a vigência da Parceria com , processo terá fim em\\n     . Assim sendo, favor iniciar as tratativas internas para a renovação.\\n       '"
     },
     "execution_count": 4,
     "metadata": {},
     "output_type": "execute_result"
    }
   ],
   "source": [
    " f'''\n",
    "        Saudações , informo que a vigência da Parceria com , processo terá fim em\n",
    "      . Assim sendo, favor iniciar as tratativas internas para a renovação.\n",
    "        '''"
   ],
   "metadata": {
    "collapsed": false,
    "pycharm": {
     "name": "#%%\n"
    }
   }
  },
  {
   "cell_type": "code",
   "execution_count": 9,
   "outputs": [
    {
     "data": {
      "text/plain": "'<html>\\n<body>\\n<p>Saudações a, informo que a vigência da Parceria com <strong>p</strong>, processo ep terá fim em <strong>dd</strong>.</p>\\n<p>Assim sendo, favor iniciar as tratativas internas para a renovação.</p>\\n</body>\\n</html>'"
     },
     "execution_count": 9,
     "metadata": {},
     "output_type": "execute_result"
    }
   ],
   "source": [
    "f'''<html>\n",
    "<body>\n",
    "<p>Saudações a, informo que a vigência da Parceria com <strong>p</strong>, processo ep terá fim em <strong>dd</strong>.</p>\n",
    "<p>Assim sendo, favor iniciar as tratativas internas para a renovação.</p>\n",
    "</body>\n",
    "</html>'''"
   ],
   "metadata": {
    "collapsed": false,
    "pycharm": {
     "name": "#%%\n"
    }
   }
  },
  {
   "cell_type": "code",
   "execution_count": null,
   "outputs": [],
   "source": [],
   "metadata": {
    "collapsed": false,
    "pycharm": {
     "name": "#%%\n"
    }
   }
  }
 ],
 "metadata": {
  "kernelspec": {
   "display_name": "Python 3",
   "language": "python",
   "name": "python3"
  },
  "language_info": {
   "codemirror_mode": {
    "name": "ipython",
    "version": 2
   },
   "file_extension": ".py",
   "mimetype": "text/x-python",
   "name": "python",
   "nbconvert_exporter": "python",
   "pygments_lexer": "ipython2",
   "version": "2.7.6"
  }
 },
 "nbformat": 4,
 "nbformat_minor": 0
}