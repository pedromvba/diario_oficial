{
 "cells": [
  {
   "cell_type": "code",
   "execution_count": 14,
   "metadata": {
    "collapsed": true,
    "pycharm": {
     "name": "#%%\n"
    }
   },
   "outputs": [],
   "source": [
    "import zipfile\n",
    "from pathlib import Path\n",
    "\n",
    "\n"
   ]
  },
  {
   "cell_type": "code",
   "execution_count": 4,
   "outputs": [],
   "source": [
    "#with zipfile.ZipFile('2023-01-13-DO2.zip','r') as zipped:\n",
    "#    zipped.extractall('/Users/pedromonteiro/Library/Mobile Documents/com~apple~CloudDocs/dsProjects/Diario_Oficial/extracted')"
   ],
   "metadata": {
    "collapsed": false,
    "pycharm": {
     "name": "#%%\n"
    }
   }
  },
  {
   "cell_type": "code",
   "execution_count": 8,
   "outputs": [
    {
     "data": {
      "text/plain": "PosixPath('/Users/pedromonteiro/Library/Mobile Documents/com~apple~CloudDocs/dsProjects/Diario_Oficial')"
     },
     "execution_count": 8,
     "metadata": {},
     "output_type": "execute_result"
    }
   ],
   "source": [
    "folder_dir = Path('__file_').resolve().parent if \"_file_\" in locals() else Path.cwd()\n",
    "folder_dir\n",
    "\n",
    "for file in"
   ],
   "metadata": {
    "collapsed": false,
    "pycharm": {
     "name": "#%%\n"
    }
   }
  },
  {
   "cell_type": "code",
   "execution_count": null,
   "outputs": [],
   "source": [
    "file_path = folder_dir/\n",
    "\n",
    "with zipfile.ZipFile(f'{folder_dir}')"
   ],
   "metadata": {
    "collapsed": false,
    "pycharm": {
     "name": "#%%\n"
    }
   }
  },
  {
   "cell_type": "code",
   "execution_count": 1,
   "outputs": [
    {
     "data": {
      "text/plain": "['.DS_Store',\n '__pycache__',\n 'README.md',\n 'inlabs_auto_download_xml.py',\n 'Draft.ipynb',\n '2023-01-13-DO2.zip',\n '.git',\n 'main.py',\n 'servidores.xlsx',\n 'extracted',\n '.idea']"
     },
     "execution_count": 1,
     "metadata": {},
     "output_type": "execute_result"
    }
   ],
   "source": [
    "import os\n",
    "os.listdir()"
   ],
   "metadata": {
    "collapsed": false,
    "pycharm": {
     "name": "#%%\n"
    }
   }
  },
  {
   "cell_type": "code",
   "execution_count": 23,
   "outputs": [
    {
     "name": "stdout",
     "output_type": "stream",
     "text": [
      "2023-01-13-DO2.zip\n"
     ]
    }
   ],
   "source": [
    "for file in os.listdir():\n",
    "   if file[-3:] == 'zip':\n",
    "    print(file)"
   ],
   "metadata": {
    "collapsed": false,
    "pycharm": {
     "name": "#%%\n"
    }
   }
  },
  {
   "cell_type": "code",
   "execution_count": 30,
   "outputs": [
    {
     "name": "stdout",
     "output_type": "stream",
     "text": [
      "/Users/pedromonteiro/Library/Mobile Documents/com~apple~CloudDocs/dsProjects/Diario_Oficial\n"
     ]
    }
   ],
   "source": [
    "folder_dir = Path('__file_').resolve().parent if \"_file_\" in locals() else Path.cwd()\n",
    "print(folder_dir)\n",
    "\n",
    "for file in os.listdir():\n",
    "   if file[-3:] == 'zip':\n",
    "      file_name = file\n",
    "\n",
    "file_path = folder_dir/file_name\n",
    "\n",
    "file_path\n",
    "\n",
    "with zipfile.ZipFile(file_path,'r') as zipped:\n",
    "    zipped.extractall(folder_dir/'extracted')"
   ],
   "metadata": {
    "collapsed": false,
    "pycharm": {
     "name": "#%%\n"
    }
   }
  },
  {
   "cell_type": "code",
   "execution_count": 32,
   "outputs": [],
   "source": [
    "import xml.dom.minidom as dom\n",
    "\n",
    "domtree = dom.parse('/Users/pedromonteiro/Library/Mobile Documents/com~apple~CloudDocs/dsProjects/Diario_Oficial/extracted/529_20230113_20165078.xml')\n",
    "\n",
    "group = domtree.documentElement # top element of the .xml file\n",
    "\n",
    "teste = group.getElementsByTagName('Texto') # gets all the elements with the tag name Texto"
   ],
   "metadata": {
    "collapsed": false,
    "pycharm": {
     "name": "#%%\n"
    }
   }
  },
  {
   "cell_type": "code",
   "execution_count": 38,
   "outputs": [
    {
     "name": "stdout",
     "output_type": "stream",
     "text": [
      "<p class=\"identifica\">Portaria Nº 256, de 13 de dezembro de 2022</p><p>PGEA 20.02.1200.0001047/2022-18</p><p>O Procurador-Chefe da Procuradoria Regional do Trabalho da 12ª Região, no uso de suas atribuições institucionais e considerando a Portaria PGT nº 1728, de 02 de outubro de 2017, resolve:</p><p>Art. 1º Dispensar, a servidora Flávia Carolina Postalli Rodrigues Alloy, matrícula 6007731-X, do encargo de substituta eventual da Chefe da Assessoria Jurídica do 14º Ofício Geral da PRT 12ª Região, código CC-02.</p><p>Art. 2º Designar a servidora Rosmari Rudolf Mezzomo, matrícula 6002253-1 para o encargo de substituta eventual do Chefe da Assessoria Jurídica do 14º Ofício Geral da PRT 12ª Região, código CC-02.</p><p class=\"assina\">MARCELO GOSS NEVES</p><p></p>\n"
     ]
    }
   ],
   "source": [
    "for text in teste:\n",
    "    print(text.firstChild.data)"
   ],
   "metadata": {
    "collapsed": false,
    "pycharm": {
     "name": "#%%\n"
    }
   }
  },
  {
   "cell_type": "code",
   "execution_count": 112,
   "outputs": [
    {
     "name": "stdout",
     "output_type": "stream",
     "text": [
      "{'id': '30079829', 'name': 'Portaria 256.2022 dispensa FlAvi', 'idOficio': '9288474', 'pubName': 'DO2', 'artType': 'Portaria', 'pubDate': '13/01/2023', 'artClass': '00043:00012:00013:00000:00000:00000:00000:00000:00000:00000:00017:00000', 'artCategory': 'Ministério Público da União/Ministério Público do Trabalho/Procuradoria Regional do Trabalho da 12ª Região', 'artSize': '12', 'artNotes': '', 'numberPage': '46', 'pdfPage': 'http://pesquisa.in.gov.br/imprensa/jsp/visualiza/index.jsp?data=13/01/2023&jornal=529&pagina=46', 'editionNumber': '10', 'highlightType': '', 'highlightPriority': '', 'highlight': '', 'highlightimage': '', 'highlightimagename': '', 'idMateria': '20165078'}\n"
     ]
    },
    {
     "data": {
      "text/plain": "'46'"
     },
     "execution_count": 112,
     "metadata": {},
     "output_type": "execute_result"
    }
   ],
   "source": [
    "###### IMPORTANTE #########\n",
    "\n",
    "\n",
    "\n",
    "\n",
    "import xml.etree.ElementTree as ET\n",
    "\n",
    "tree = ET.parse('/Users/pedromonteiro/Library/Mobile Documents/com~apple~CloudDocs/dsProjects/Diario_Oficial/extracted/529_20230113_20165078.xml')\n",
    "\n",
    "root = tree.getroot()\n",
    "\n",
    "#print(ET.tostring(root)) # shows all the xml file as a string: b'= bytes\n",
    "\n",
    "#print(root.tag)\n",
    "#print(root.attrib)\n",
    "\n",
    "for child in root:\n",
    "    data = (child.attrib)\n",
    "\n",
    "print(data)\n",
    "data['numberPage']\n",
    "\n",
    "#type(child.attrib)\n",
    "\n",
    "\n",
    "\n",
    "#print(root[1][0].text)\n"
   ],
   "metadata": {
    "collapsed": false,
    "pycharm": {
     "name": "#%%\n"
    }
   }
  },
  {
   "cell_type": "code",
   "execution_count": 79,
   "outputs": [
    {
     "name": "stdout",
     "output_type": "stream",
     "text": [
      "1\n",
      "<p class=\"identifica\">Portaria Nº 256, de 13 de dezembro de 2022</p><p>PGEA 20.02.1200.0001047/2022-18</p><p>O Procurador-Chefe da Procuradoria Regional do Trabalho da 12ª Região, no uso de suas atribuições institucionais e considerando a Portaria PGT nº 1728, de 02 de outubro de 2017, resolve:</p><p>Art. 1º Dispensar, a servidora Flávia Carolina Postalli Rodrigues Alloy, matrícula 6007731-X, do encargo de substituta eventual da Chefe da Assessoria Jurídica do 14º Ofício Geral da PRT 12ª Região, código CC-02.</p><p>Art. 2º Designar a servidora Rosmari Rudolf Mezzomo, matrícula 6002253-1 para o encargo de substituta eventual do Chefe da Assessoria Jurídica do 14º Ofício Geral da PRT 12ª Região, código CC-02.</p><p class=\"assina\">MARCELO GOSS NEVES</p><p></p>\n",
      "Uhuul\n"
     ]
    }
   ],
   "source": [
    "##### IMPORTANTE #######\n",
    "\n",
    "from xml.dom import minidom\n",
    "\n",
    "with open('/Users/pedromonteiro/Library/Mobile Documents/com~apple~CloudDocs/dsProjects/Diario_Oficial/extracted/529_20230113_20165078.xml', 'r') as f:\n",
    "\n",
    "    content = minidom.parse(f)\n",
    "\n",
    "tag_contents = content.getElementsByTagName(\"Texto\")\n",
    "print(len(tag_contents))\n",
    "text = (tag_contents[0].firstChild.data) # since we only have one Texto tag. If we had more, we could loop thru it\n",
    "\n",
    "print(text)\n",
    "\n",
    "if 'Alloy' in text:\n",
    "    print('Uhuul')"
   ],
   "metadata": {
    "collapsed": false,
    "pycharm": {
     "name": "#%%\n"
    }
   }
  },
  {
   "cell_type": "code",
   "execution_count": 115,
   "outputs": [
    {
     "name": "stdout",
     "output_type": "stream",
     "text": [
      "xml\n",
      "{}\n",
      "article {'id': '30079829', 'name': 'Portaria 256.2022 dispensa FlAvi', 'idOficio': '9288474', 'pubName': 'DO2', 'artType': 'Portaria', 'pubDate': '13/01/2023', 'artClass': '00043:00012:00013:00000:00000:00000:00000:00000:00000:00000:00017:00000', 'artCategory': 'Ministério Público da União/Ministério Público do Trabalho/Procuradoria Regional do Trabalho da 12ª Região', 'artSize': '12', 'artNotes': '', 'numberPage': '46', 'pdfPage': 'http://pesquisa.in.gov.br/imprensa/jsp/visualiza/index.jsp?data=13/01/2023&jornal=529&pagina=46', 'editionNumber': '10', 'highlightType': '', 'highlightPriority': '', 'highlight': '', 'highlightimage': '', 'highlightimagename': '', 'idMateria': '20165078'}\n"
     ]
    }
   ],
   "source": [
    "tree = ET.parse('/Users/pedromonteiro/Library/Mobile Documents/com~apple~CloudDocs/dsProjects/Diario_Oficial/extracted/529_20230113_20165078.xml')\n",
    "\n",
    "root = tree.getroot()\n",
    "\n",
    "#print(ET.tostring(root)) # shows all the xml file as a string: b'= bytes\n",
    "\n",
    "print(root.tag)\n",
    "print(root.attrib)\n",
    "\n",
    "for child in root:\n",
    "    print(child.tag, child.attrib)\n",
    "    data = (child.attrib)\n"
   ],
   "metadata": {
    "collapsed": false,
    "pycharm": {
     "name": "#%%\n"
    }
   }
  },
  {
   "cell_type": "code",
   "execution_count": 122,
   "outputs": [
    {
     "data": {
      "text/plain": "[]"
     },
     "execution_count": 122,
     "metadata": {},
     "output_type": "execute_result"
    }
   ],
   "source": [
    "root.findall('.xml/body')"
   ],
   "metadata": {
    "collapsed": false,
    "pycharm": {
     "name": "#%%\n"
    }
   }
  },
  {
   "cell_type": "code",
   "execution_count": 131,
   "outputs": [
    {
     "data": {
      "text/plain": "' Portaria Nº 256, de 13 de dezembro de 2022'"
     },
     "execution_count": 131,
     "metadata": {},
     "output_type": "execute_result"
    }
   ],
   "source": [
    "root[0][0][0].text"
   ],
   "metadata": {
    "collapsed": false,
    "pycharm": {
     "name": "#%%\n"
    }
   }
  },
  {
   "cell_type": "code",
   "execution_count": 132,
   "outputs": [
    {
     "data": {
      "text/plain": "'<p class=\"identifica\">Portaria Nº 256, de 13 de dezembro de 2022</p><p>PGEA 20.02.1200.0001047/2022-18</p><p>O Procurador-Chefe da Procuradoria Regional do Trabalho da 12ª Região, no uso de suas atribuições institucionais e considerando a Portaria PGT nº 1728, de 02 de outubro de 2017, resolve:</p><p>Art. 1º Dispensar, a servidora Flávia Carolina Postalli Rodrigues Alloy, matrícula 6007731-X, do encargo de substituta eventual da Chefe da Assessoria Jurídica do 14º Ofício Geral da PRT 12ª Região, código CC-02.</p><p>Art. 2º Designar a servidora Rosmari Rudolf Mezzomo, matrícula 6002253-1 para o encargo de substituta eventual do Chefe da Assessoria Jurídica do 14º Ofício Geral da PRT 12ª Região, código CC-02.</p><p class=\"assina\">MARCELO GOSS NEVES</p><p></p>'"
     },
     "execution_count": 132,
     "metadata": {},
     "output_type": "execute_result"
    }
   ],
   "source": [
    "root[0][0][5].text"
   ],
   "metadata": {
    "collapsed": false,
    "pycharm": {
     "name": "#%%\n"
    }
   }
  },
  {
   "cell_type": "code",
   "execution_count": 17,
   "outputs": [
    {
     "name": "stdout",
     "output_type": "stream",
     "text": [
      "46 <p class=\"identifica\">Portaria Nº 256, de 13 de dezembro de 2022</p><p>PGEA 20.02.1200.0001047/2022-18</p><p>O Procurador-Chefe da Procuradoria Regional do Trabalho da 12ª Região, no uso de suas atribuições institucionais e considerando a Portaria PGT nº 1728, de 02 de outubro de 2017, resolve:</p><p>Art. 1º Dispensar, a servidora Flávia Carolina Postalli Rodrigues Alloy, matrícula 6007731-X, do encargo de substituta eventual da Chefe da Assessoria Jurídica do 14º Ofício Geral da PRT 12ª Região, código CC-02.</p><p>Art. 2º Designar a servidora Rosmari Rudolf Mezzomo, matrícula 6002253-1 para o encargo de substituta eventual do Chefe da Assessoria Jurídica do 14º Ofício Geral da PRT 12ª Região, código CC-02.</p><p class=\"assina\">MARCELO GOSS NEVES</p><p></p>\n"
     ]
    }
   ],
   "source": [
    "# Reading XML\n",
    "\n",
    "import xml.etree.ElementTree as ET\n",
    "\n",
    "tree = ET.parse('/Users/pedromonteiro/Library/Mobile Documents/com~apple~CloudDocs/dsProjects/Diario_Oficial/extracted/529_20230113_20165078.xml') # Parsing the XML file\n",
    "root = tree.getroot() # Creating the root object\n",
    "\n",
    "for i, value in enumerate(root):\n",
    "    article_data = value.attrib #this xml has only one child with the article tag and a dictionary as an attribute\n",
    "\n",
    "text = root[0][0][5].text\n",
    "\n",
    "print(article_data['numberPage'],text)"
   ],
   "metadata": {
    "collapsed": false,
    "pycharm": {
     "name": "#%%\n"
    }
   }
  },
  {
   "cell_type": "code",
   "execution_count": 147,
   "outputs": [
    {
     "name": "stdout",
     "output_type": "stream",
     "text": [
      "{'id': '30079829', 'name': 'Portaria 256.2022 dispensa FlAvi', 'idOficio': '9288474', 'pubName': 'DO2', 'artType': 'Portaria', 'pubDate': '13/01/2023', 'artClass': '00043:00012:00013:00000:00000:00000:00000:00000:00000:00000:00017:00000', 'artCategory': 'Ministério Público da União/Ministério Público do Trabalho/Procuradoria Regional do Trabalho da 12ª Região', 'artSize': '12', 'artNotes': '', 'numberPage': '46', 'pdfPage': 'http://pesquisa.in.gov.br/imprensa/jsp/visualiza/index.jsp?data=13/01/2023&jornal=529&pagina=46', 'editionNumber': '10', 'highlightType': '', 'highlightPriority': '', 'highlight': '', 'highlightimage': '', 'highlightimagename': '', 'idMateria': '20165078'}\n"
     ]
    }
   ],
   "source": [
    "for i, value in enumerate(root):\n",
    "    print(value.attrib)"
   ],
   "metadata": {
    "collapsed": false,
    "pycharm": {
     "name": "#%%\n"
    }
   }
  },
  {
   "cell_type": "code",
   "execution_count": 155,
   "outputs": [
    {
     "data": {
      "text/plain": "PosixPath('/Users/pedromonteiro/Library/Mobile Documents/com~apple~CloudDocs/dsProjects/Diario_Oficial/extracted')"
     },
     "execution_count": 155,
     "metadata": {},
     "output_type": "execute_result"
    }
   ],
   "source": [
    "folder_dir = Path('__file_').resolve().parent if \"_file_\" in locals() else Path.cwd()\n",
    "folder_dir/'extracted'"
   ],
   "metadata": {
    "collapsed": false,
    "pycharm": {
     "name": "#%%\n"
    }
   }
  },
  {
   "cell_type": "markdown",
   "source": [
    "# Navigating Thru Extracted"
   ],
   "metadata": {
    "collapsed": false,
    "pycharm": {
     "name": "#%% md\n"
    }
   }
  },
  {
   "cell_type": "code",
   "execution_count": 227,
   "outputs": [
    {
     "name": "stdout",
     "output_type": "stream",
     "text": [
      "no\n",
      "no\n",
      "no\n",
      "no\n",
      "no\n",
      "no\n",
      "no\n",
      "no\n",
      "no\n",
      "no\n",
      "no\n",
      "529_20230113_20252983.xml\n",
      "529_20230113_20255009.xml\n",
      "no\n",
      "no\n",
      "no\n",
      "no\n",
      "no\n",
      "no\n",
      "no\n",
      "no\n",
      "no\n",
      "no\n",
      "no\n",
      "no\n",
      "no\n",
      "529_20230113_20253524.xml\n",
      "no\n",
      "no\n",
      "no\n",
      "no\n",
      "no\n",
      "529_20230113_20253532.xml\n",
      "no\n",
      "no\n",
      "no\n",
      "no\n",
      "no\n",
      "no\n",
      "no\n",
      "no\n",
      "no\n",
      "no\n",
      "no\n",
      "no\n",
      "no\n",
      "no\n",
      "no\n",
      "no\n",
      "no\n",
      "no\n",
      "no\n",
      "no\n",
      "no\n",
      "no\n",
      "no\n",
      "no\n",
      "529_20230113_20253533.xml\n",
      "529_20230113_20253527.xml\n",
      "no\n",
      "no\n",
      "no\n",
      "no\n",
      "no\n",
      "no\n",
      "no\n",
      "no\n",
      "no\n",
      "no\n",
      "no\n",
      "no\n",
      "no\n",
      "no\n",
      "no\n",
      "no\n",
      "no\n",
      "no\n",
      "no\n",
      "no\n",
      "no\n",
      "no\n",
      "no\n",
      "no\n",
      "no\n",
      "no\n",
      "no\n",
      "no\n",
      "no\n",
      "no\n",
      "no\n",
      "no\n",
      "no\n",
      "no\n",
      "no\n",
      "no\n",
      "no\n",
      "no\n",
      "no\n",
      "no\n",
      "no\n",
      "no\n",
      "529_20230113_20253534.xml\n",
      "529_20230113_20255637.xml\n",
      "no\n",
      "no\n",
      "no\n",
      "no\n",
      "no\n",
      "no\n",
      "529_20230113_20255582.xml\n",
      "no\n",
      "no\n",
      "no\n",
      "no\n",
      "no\n",
      "no\n",
      "no\n",
      "no\n",
      "no\n",
      "no\n",
      "no\n",
      "no\n",
      "no\n",
      "no\n",
      "no\n",
      "529_20230113_20255352.xml\n",
      "no\n",
      "no\n",
      "no\n",
      "529_20230113_20255636.xml\n",
      "529_20230113_20253535.xml\n",
      "no\n",
      "no\n",
      "no\n",
      "no\n",
      "no\n",
      "no\n",
      "no\n",
      "no\n",
      "no\n",
      "no\n",
      "no\n",
      "no\n",
      "no\n",
      "no\n",
      "529_20230113_20255725.xml\n",
      "no\n",
      "no\n",
      "no\n",
      "no\n",
      "no\n",
      "no\n",
      "no\n",
      "no\n",
      "no\n",
      "no\n",
      "no\n",
      "no\n",
      "no\n",
      "no\n",
      "no\n",
      "no\n",
      "no\n",
      "no\n",
      "no\n",
      "no\n",
      "no\n",
      "no\n",
      "no\n",
      "no\n",
      "no\n",
      "no\n",
      "no\n",
      "no\n",
      "no\n",
      "no\n",
      "no\n",
      "no\n",
      "no\n",
      "no\n",
      "no\n",
      "no\n",
      "no\n",
      "no\n",
      "no\n",
      "no\n",
      "no\n",
      "no\n",
      "529_20230113_20254613.xml\n",
      "no\n",
      "no\n",
      "no\n",
      "no\n",
      "no\n",
      "no\n",
      "no\n",
      "no\n",
      "no\n",
      "no\n",
      "no\n",
      "no\n",
      "no\n",
      "no\n",
      "no\n",
      "no\n",
      "no\n",
      "no\n",
      "no\n",
      "no\n",
      "no\n",
      "no\n",
      "no\n",
      "no\n",
      "no\n",
      "no\n",
      "no\n",
      "no\n",
      "no\n",
      "no\n",
      "529_20230113_20255723.xml\n",
      "no\n",
      "no\n",
      "no\n",
      "529_20230113_20252501.xml\n",
      "no\n",
      "no\n",
      "529_20230113_20254986.xml\n",
      "no\n",
      "no\n",
      "no\n",
      "no\n",
      "no\n",
      "no\n",
      "no\n",
      "no\n",
      "no\n",
      "no\n",
      "no\n",
      "no\n",
      "no\n",
      "no\n",
      "no\n",
      "no\n",
      "no\n",
      "no\n",
      "no\n",
      "529_20230113_20255495.xml\n",
      "no\n",
      "no\n",
      "no\n",
      "no\n",
      "no\n",
      "no\n",
      "no\n",
      "no\n",
      "no\n",
      "no\n",
      "no\n",
      "no\n",
      "no\n",
      "no\n",
      "no\n",
      "no\n",
      "no\n",
      "no\n",
      "no\n",
      "no\n",
      "no\n",
      "no\n",
      "no\n",
      "no\n",
      "529_20230113_20253797.xml\n",
      "no\n",
      "no\n",
      "no\n",
      "no\n",
      "no\n",
      "no\n",
      "no\n",
      "no\n",
      "no\n",
      "no\n",
      "no\n",
      "no\n",
      "no\n",
      "no\n",
      "no\n",
      "no\n",
      "no\n",
      "no\n",
      "no\n",
      "no\n",
      "no\n",
      "no\n",
      "no\n",
      "no\n",
      "no\n",
      "no\n",
      "no\n",
      "no\n",
      "no\n",
      "no\n",
      "no\n",
      "no\n",
      "no\n",
      "no\n",
      "no\n",
      "529_20230113_20254948.xml\n",
      "no\n",
      "no\n",
      "no\n",
      "no\n",
      "no\n",
      "no\n",
      "no\n",
      "no\n",
      "no\n",
      "529_20230113_20255713.xml\n",
      "no\n",
      "no\n",
      "no\n",
      "no\n",
      "no\n",
      "no\n",
      "no\n",
      "no\n",
      "no\n",
      "no\n",
      "no\n",
      "no\n",
      "no\n",
      "no\n",
      "no\n",
      "no\n",
      "no\n",
      "no\n",
      "no\n",
      "529_20230113_20255689.xml\n",
      "no\n",
      "no\n",
      "no\n",
      "no\n",
      "no\n",
      "no\n",
      "no\n",
      "529_20230113_20254959.xml\n",
      "no\n",
      "no\n",
      "no\n",
      "no\n",
      "no\n",
      "no\n",
      "no\n",
      "no\n",
      "no\n",
      "no\n",
      "no\n",
      "no\n",
      "no\n",
      "no\n",
      "529_20230113_20255298.xml\n",
      "no\n",
      "no\n",
      "no\n",
      "no\n",
      "no\n",
      "no\n",
      "no\n",
      "no\n",
      "no\n",
      "no\n",
      "no\n",
      "no\n",
      "no\n",
      "no\n",
      "no\n",
      "no\n",
      "no\n",
      "no\n",
      "no\n",
      "no\n",
      "no\n",
      "no\n",
      "no\n",
      "no\n",
      "no\n",
      "no\n",
      "no\n",
      "no\n",
      "no\n",
      "no\n",
      "no\n",
      "no\n",
      "no\n",
      "no\n",
      "no\n",
      "no\n",
      "no\n",
      "no\n",
      "no\n",
      "529_20230113_20253952.xml\n",
      "no\n",
      "no\n",
      "no\n",
      "no\n",
      "no\n",
      "no\n",
      "no\n",
      "no\n",
      "no\n",
      "no\n",
      "no\n",
      "no\n",
      "no\n",
      "no\n",
      "no\n",
      "no\n",
      "no\n",
      "no\n",
      "no\n",
      "529_20230113_20254492.xml\n",
      "no\n",
      "no\n",
      "no\n",
      "no\n",
      "no\n",
      "no\n",
      "no\n",
      "no\n",
      "no\n",
      "no\n",
      "no\n",
      "no\n",
      "529_20230113_20252592.xml\n",
      "no\n",
      "no\n",
      "529_20230113_20255404.xml\n",
      "no\n",
      "no\n",
      "no\n",
      "no\n",
      "no\n",
      "no\n",
      "no\n",
      "no\n",
      "no\n",
      "no\n",
      "no\n",
      "no\n",
      "no\n",
      "no\n",
      "no\n",
      "no\n",
      "no\n",
      "529_20230113_20254491.xml\n",
      "no\n",
      "no\n",
      "no\n",
      "no\n",
      "no\n",
      "529_20230113_20252744.xml\n",
      "no\n",
      "no\n",
      "no\n",
      "no\n",
      "no\n",
      "no\n",
      "no\n",
      "no\n",
      "no\n",
      "no\n",
      "529_20230113_20255822.xml\n",
      "529_20230113_20255832.xml\n",
      "no\n",
      "no\n",
      "no\n",
      "no\n",
      "no\n",
      "no\n",
      "529_20230113_20255403.xml\n",
      "no\n",
      "no\n",
      "no\n",
      "no\n",
      "no\n",
      "no\n",
      "no\n",
      "no\n",
      "529_20230113_20254443.xml\n",
      "no\n",
      "no\n",
      "no\n",
      "no\n",
      "no\n",
      "no\n",
      "no\n",
      "no\n",
      "no\n",
      "no\n",
      "no\n",
      "no\n",
      "no\n",
      "no\n",
      "no\n",
      "no\n",
      "no\n",
      "no\n",
      "no\n",
      "no\n",
      "no\n",
      "no\n",
      "no\n",
      "no\n",
      "no\n",
      "no\n",
      "no\n",
      "no\n",
      "no\n",
      "no\n",
      "no\n",
      "no\n",
      "no\n",
      "no\n",
      "no\n",
      "no\n",
      "no\n",
      "no\n",
      "no\n",
      "no\n",
      "no\n",
      "no\n",
      "no\n",
      "no\n",
      "no\n",
      "no\n",
      "no\n",
      "no\n",
      "no\n",
      "no\n"
     ]
    }
   ],
   "source": [
    "for f in os.listdir('/Users/pedromonteiro/Library/Mobile Documents/com~apple~CloudDocs/dsProjects/Diario_Oficial/extracted'):  # lists everything in your current directory(default)\n",
    "\n",
    "    file_path = '/Users/pedromonteiro/Library/Mobile Documents/com~apple~CloudDocs/dsProjects/Diario_Oficial/extracted'+'/'+f\n",
    "\n",
    "\n",
    "    tree = ET.parse(file_path) # Parsing the XML file\n",
    "    root = tree.getroot() # Creating the root object\n",
    "\n",
    "\n",
    "\n",
    "    for i, value in enumerate(root):\n",
    "        article_data = value.attrib #this xml has only one child with the article tag and a dictionary as an attribute\n",
    "\n",
    "        texto = root[0][0][5].text\n",
    "\n",
    "        #print(texto)\n",
    "    #\n",
    "        if 'almeida'.lower() in texto.lower():\n",
    "             print(f)\n",
    "    #     if 'márcio leão coelho' in texto.lower():\n",
    "    #         print(f)\n",
    "    #\n",
    "        else: print('no')\n",
    "\n"
   ],
   "metadata": {
    "collapsed": false,
    "pycharm": {
     "name": "#%%\n"
    }
   }
  },
  {
   "cell_type": "code",
   "execution_count": 194,
   "outputs": [
    {
     "name": "stdout",
     "output_type": "stream",
     "text": [
      "<p class=\"titulo\">MINISTÉRIO DE MINAS E ENERGIA</p><p class=\"identifica\">DECRETO DE 31 DE DEZEMBRO DE 2022</p><p><strong>O VICE-PRESIDENTE DA REPÚBLICA</strong>, no exercício do cargo de<strong>PRESIDENTE DA REPÚBLICA,</strong>no uso da atribuição que lhe confere o art. 84,<strong>caput</strong>, inciso I, da Constituição, resolve:</p><p><strong>EXONERAR</strong></p><p>ADOLFO SACHSIDA do cargo de Ministro de Estado de Minas e Energia.</p><p>Brasília, 31 de dezembro de 2022; 201º da Independência e 134º da República.</p><p class=\"assinaPr\">ANTÔNIO HAMILTON MARTINS MOURÃO</p>\n",
      "<p class=\"titulo\">MINISTÉRIO DE MINAS E ENERGIA</p><p class=\"identifica\">DECRETO DE 31 DE DEZEMBRO DE 2022</p><p><strong>O VICE-PRESIDENTE DA REPÚBLICA</strong>, no exercício do cargo de<strong>PRESIDENTE DA REPÚBLICA,</strong>no uso da atribuição que lhe confere o art. 84,<strong>caput</strong>, inciso I, da Constituição, resolve:</p><p><strong>EXONERAR</strong></p><p>ADOLFO SACHSIDA do cargo de Ministro de Estado de Minas e Energia.</p><p>Brasília, 31 de dezembro de 2022; 201º da Independência e 134º da República.</p><p class=\"assinaPr\">ANTÔNIO HAMILTON MARTINS MOURÃO</p>\n",
      "<p class=\"titulo\">MINISTÉRIO DE MINAS E ENERGIA</p><p class=\"identifica\">DECRETO DE 31 DE DEZEMBRO DE 2022</p><p><strong>O VICE-PRESIDENTE DA REPÚBLICA</strong>, no exercício do cargo de<strong>PRESIDENTE DA REPÚBLICA,</strong>no uso da atribuição que lhe confere o art. 84,<strong>caput</strong>, inciso I, da Constituição, resolve:</p><p><strong>EXONERAR</strong></p><p>ADOLFO SACHSIDA do cargo de Ministro de Estado de Minas e Energia.</p><p>Brasília, 31 de dezembro de 2022; 201º da Independência e 134º da República.</p><p class=\"assinaPr\">ANTÔNIO HAMILTON MARTINS MOURÃO</p>\n",
      "<p class=\"titulo\">MINISTÉRIO DE MINAS E ENERGIA</p><p class=\"identifica\">DECRETO DE 31 DE DEZEMBRO DE 2022</p><p><strong>O VICE-PRESIDENTE DA REPÚBLICA</strong>, no exercício do cargo de<strong>PRESIDENTE DA REPÚBLICA,</strong>no uso da atribuição que lhe confere o art. 84,<strong>caput</strong>, inciso I, da Constituição, resolve:</p><p><strong>EXONERAR</strong></p><p>ADOLFO SACHSIDA do cargo de Ministro de Estado de Minas e Energia.</p><p>Brasília, 31 de dezembro de 2022; 201º da Independência e 134º da República.</p><p class=\"assinaPr\">ANTÔNIO HAMILTON MARTINS MOURÃO</p>\n",
      "<p class=\"titulo\">MINISTÉRIO DE MINAS E ENERGIA</p><p class=\"identifica\">DECRETO DE 31 DE DEZEMBRO DE 2022</p><p><strong>O VICE-PRESIDENTE DA REPÚBLICA</strong>, no exercício do cargo de<strong>PRESIDENTE DA REPÚBLICA,</strong>no uso da atribuição que lhe confere o art. 84,<strong>caput</strong>, inciso I, da Constituição, resolve:</p><p><strong>EXONERAR</strong></p><p>ADOLFO SACHSIDA do cargo de Ministro de Estado de Minas e Energia.</p><p>Brasília, 31 de dezembro de 2022; 201º da Independência e 134º da República.</p><p class=\"assinaPr\">ANTÔNIO HAMILTON MARTINS MOURÃO</p>\n",
      "<p class=\"titulo\">MINISTÉRIO DE MINAS E ENERGIA</p><p class=\"identifica\">DECRETO DE 31 DE DEZEMBRO DE 2022</p><p><strong>O VICE-PRESIDENTE DA REPÚBLICA</strong>, no exercício do cargo de<strong>PRESIDENTE DA REPÚBLICA,</strong>no uso da atribuição que lhe confere o art. 84,<strong>caput</strong>, inciso I, da Constituição, resolve:</p><p><strong>EXONERAR</strong></p><p>ADOLFO SACHSIDA do cargo de Ministro de Estado de Minas e Energia.</p><p>Brasília, 31 de dezembro de 2022; 201º da Independência e 134º da República.</p><p class=\"assinaPr\">ANTÔNIO HAMILTON MARTINS MOURÃO</p>\n",
      "<p class=\"titulo\">MINISTÉRIO DE MINAS E ENERGIA</p><p class=\"identifica\">DECRETO DE 31 DE DEZEMBRO DE 2022</p><p><strong>O VICE-PRESIDENTE DA REPÚBLICA</strong>, no exercício do cargo de<strong>PRESIDENTE DA REPÚBLICA,</strong>no uso da atribuição que lhe confere o art. 84,<strong>caput</strong>, inciso I, da Constituição, resolve:</p><p><strong>EXONERAR</strong></p><p>ADOLFO SACHSIDA do cargo de Ministro de Estado de Minas e Energia.</p><p>Brasília, 31 de dezembro de 2022; 201º da Independência e 134º da República.</p><p class=\"assinaPr\">ANTÔNIO HAMILTON MARTINS MOURÃO</p>\n",
      "<p class=\"titulo\">MINISTÉRIO DE MINAS E ENERGIA</p><p class=\"identifica\">DECRETO DE 31 DE DEZEMBRO DE 2022</p><p><strong>O VICE-PRESIDENTE DA REPÚBLICA</strong>, no exercício do cargo de<strong>PRESIDENTE DA REPÚBLICA,</strong>no uso da atribuição que lhe confere o art. 84,<strong>caput</strong>, inciso I, da Constituição, resolve:</p><p><strong>EXONERAR</strong></p><p>ADOLFO SACHSIDA do cargo de Ministro de Estado de Minas e Energia.</p><p>Brasília, 31 de dezembro de 2022; 201º da Independência e 134º da República.</p><p class=\"assinaPr\">ANTÔNIO HAMILTON MARTINS MOURÃO</p>\n",
      "<p class=\"titulo\">MINISTÉRIO DE MINAS E ENERGIA</p><p class=\"identifica\">DECRETO DE 31 DE DEZEMBRO DE 2022</p><p><strong>O VICE-PRESIDENTE DA REPÚBLICA</strong>, no exercício do cargo de<strong>PRESIDENTE DA REPÚBLICA,</strong>no uso da atribuição que lhe confere o art. 84,<strong>caput</strong>, inciso I, da Constituição, resolve:</p><p><strong>EXONERAR</strong></p><p>ADOLFO SACHSIDA do cargo de Ministro de Estado de Minas e Energia.</p><p>Brasília, 31 de dezembro de 2022; 201º da Independência e 134º da República.</p><p class=\"assinaPr\">ANTÔNIO HAMILTON MARTINS MOURÃO</p>\n",
      "<p class=\"titulo\">MINISTÉRIO DE MINAS E ENERGIA</p><p class=\"identifica\">DECRETO DE 31 DE DEZEMBRO DE 2022</p><p><strong>O VICE-PRESIDENTE DA REPÚBLICA</strong>, no exercício do cargo de<strong>PRESIDENTE DA REPÚBLICA,</strong>no uso da atribuição que lhe confere o art. 84,<strong>caput</strong>, inciso I, da Constituição, resolve:</p><p><strong>EXONERAR</strong></p><p>ADOLFO SACHSIDA do cargo de Ministro de Estado de Minas e Energia.</p><p>Brasília, 31 de dezembro de 2022; 201º da Independência e 134º da República.</p><p class=\"assinaPr\">ANTÔNIO HAMILTON MARTINS MOURÃO</p>\n",
      "<p class=\"titulo\">MINISTÉRIO DE MINAS E ENERGIA</p><p class=\"identifica\">DECRETO DE 31 DE DEZEMBRO DE 2022</p><p><strong>O VICE-PRESIDENTE DA REPÚBLICA</strong>, no exercício do cargo de<strong>PRESIDENTE DA REPÚBLICA,</strong>no uso da atribuição que lhe confere o art. 84,<strong>caput</strong>, inciso I, da Constituição, resolve:</p><p><strong>EXONERAR</strong></p><p>ADOLFO SACHSIDA do cargo de Ministro de Estado de Minas e Energia.</p><p>Brasília, 31 de dezembro de 2022; 201º da Independência e 134º da República.</p><p class=\"assinaPr\">ANTÔNIO HAMILTON MARTINS MOURÃO</p>\n",
      "<p class=\"titulo\">MINISTÉRIO DE MINAS E ENERGIA</p><p class=\"identifica\">DECRETO DE 31 DE DEZEMBRO DE 2022</p><p><strong>O VICE-PRESIDENTE DA REPÚBLICA</strong>, no exercício do cargo de<strong>PRESIDENTE DA REPÚBLICA,</strong>no uso da atribuição que lhe confere o art. 84,<strong>caput</strong>, inciso I, da Constituição, resolve:</p><p><strong>EXONERAR</strong></p><p>ADOLFO SACHSIDA do cargo de Ministro de Estado de Minas e Energia.</p><p>Brasília, 31 de dezembro de 2022; 201º da Independência e 134º da República.</p><p class=\"assinaPr\">ANTÔNIO HAMILTON MARTINS MOURÃO</p>\n",
      "<p class=\"titulo\">MINISTÉRIO DE MINAS E ENERGIA</p><p class=\"identifica\">DECRETO DE 31 DE DEZEMBRO DE 2022</p><p><strong>O VICE-PRESIDENTE DA REPÚBLICA</strong>, no exercício do cargo de<strong>PRESIDENTE DA REPÚBLICA,</strong>no uso da atribuição que lhe confere o art. 84,<strong>caput</strong>, inciso I, da Constituição, resolve:</p><p><strong>EXONERAR</strong></p><p>ADOLFO SACHSIDA do cargo de Ministro de Estado de Minas e Energia.</p><p>Brasília, 31 de dezembro de 2022; 201º da Independência e 134º da República.</p><p class=\"assinaPr\">ANTÔNIO HAMILTON MARTINS MOURÃO</p>\n",
      "<p class=\"titulo\">MINISTÉRIO DE MINAS E ENERGIA</p><p class=\"identifica\">DECRETO DE 31 DE DEZEMBRO DE 2022</p><p><strong>O VICE-PRESIDENTE DA REPÚBLICA</strong>, no exercício do cargo de<strong>PRESIDENTE DA REPÚBLICA,</strong>no uso da atribuição que lhe confere o art. 84,<strong>caput</strong>, inciso I, da Constituição, resolve:</p><p><strong>EXONERAR</strong></p><p>ADOLFO SACHSIDA do cargo de Ministro de Estado de Minas e Energia.</p><p>Brasília, 31 de dezembro de 2022; 201º da Independência e 134º da República.</p><p class=\"assinaPr\">ANTÔNIO HAMILTON MARTINS MOURÃO</p>\n",
      "<p class=\"titulo\">MINISTÉRIO DE MINAS E ENERGIA</p><p class=\"identifica\">DECRETO DE 31 DE DEZEMBRO DE 2022</p><p><strong>O VICE-PRESIDENTE DA REPÚBLICA</strong>, no exercício do cargo de<strong>PRESIDENTE DA REPÚBLICA,</strong>no uso da atribuição que lhe confere o art. 84,<strong>caput</strong>, inciso I, da Constituição, resolve:</p><p><strong>EXONERAR</strong></p><p>ADOLFO SACHSIDA do cargo de Ministro de Estado de Minas e Energia.</p><p>Brasília, 31 de dezembro de 2022; 201º da Independência e 134º da República.</p><p class=\"assinaPr\">ANTÔNIO HAMILTON MARTINS MOURÃO</p>\n",
      "<p class=\"titulo\">MINISTÉRIO DE MINAS E ENERGIA</p><p class=\"identifica\">DECRETO DE 31 DE DEZEMBRO DE 2022</p><p><strong>O VICE-PRESIDENTE DA REPÚBLICA</strong>, no exercício do cargo de<strong>PRESIDENTE DA REPÚBLICA,</strong>no uso da atribuição que lhe confere o art. 84,<strong>caput</strong>, inciso I, da Constituição, resolve:</p><p><strong>EXONERAR</strong></p><p>ADOLFO SACHSIDA do cargo de Ministro de Estado de Minas e Energia.</p><p>Brasília, 31 de dezembro de 2022; 201º da Independência e 134º da República.</p><p class=\"assinaPr\">ANTÔNIO HAMILTON MARTINS MOURÃO</p>\n",
      "<p class=\"titulo\">MINISTÉRIO DE MINAS E ENERGIA</p><p class=\"identifica\">DECRETO DE 31 DE DEZEMBRO DE 2022</p><p><strong>O VICE-PRESIDENTE DA REPÚBLICA</strong>, no exercício do cargo de<strong>PRESIDENTE DA REPÚBLICA,</strong>no uso da atribuição que lhe confere o art. 84,<strong>caput</strong>, inciso I, da Constituição, resolve:</p><p><strong>EXONERAR</strong></p><p>ADOLFO SACHSIDA do cargo de Ministro de Estado de Minas e Energia.</p><p>Brasília, 31 de dezembro de 2022; 201º da Independência e 134º da República.</p><p class=\"assinaPr\">ANTÔNIO HAMILTON MARTINS MOURÃO</p>\n",
      "<p class=\"titulo\">MINISTÉRIO DE MINAS E ENERGIA</p><p class=\"identifica\">DECRETO DE 31 DE DEZEMBRO DE 2022</p><p><strong>O VICE-PRESIDENTE DA REPÚBLICA</strong>, no exercício do cargo de<strong>PRESIDENTE DA REPÚBLICA,</strong>no uso da atribuição que lhe confere o art. 84,<strong>caput</strong>, inciso I, da Constituição, resolve:</p><p><strong>EXONERAR</strong></p><p>ADOLFO SACHSIDA do cargo de Ministro de Estado de Minas e Energia.</p><p>Brasília, 31 de dezembro de 2022; 201º da Independência e 134º da República.</p><p class=\"assinaPr\">ANTÔNIO HAMILTON MARTINS MOURÃO</p>\n",
      "<p class=\"titulo\">MINISTÉRIO DE MINAS E ENERGIA</p><p class=\"identifica\">DECRETO DE 31 DE DEZEMBRO DE 2022</p><p><strong>O VICE-PRESIDENTE DA REPÚBLICA</strong>, no exercício do cargo de<strong>PRESIDENTE DA REPÚBLICA,</strong>no uso da atribuição que lhe confere o art. 84,<strong>caput</strong>, inciso I, da Constituição, resolve:</p><p><strong>EXONERAR</strong></p><p>ADOLFO SACHSIDA do cargo de Ministro de Estado de Minas e Energia.</p><p>Brasília, 31 de dezembro de 2022; 201º da Independência e 134º da República.</p><p class=\"assinaPr\">ANTÔNIO HAMILTON MARTINS MOURÃO</p>\n",
      "<p class=\"titulo\">MINISTÉRIO DE MINAS E ENERGIA</p><p class=\"identifica\">DECRETO DE 31 DE DEZEMBRO DE 2022</p><p><strong>O VICE-PRESIDENTE DA REPÚBLICA</strong>, no exercício do cargo de<strong>PRESIDENTE DA REPÚBLICA,</strong>no uso da atribuição que lhe confere o art. 84,<strong>caput</strong>, inciso I, da Constituição, resolve:</p><p><strong>EXONERAR</strong></p><p>ADOLFO SACHSIDA do cargo de Ministro de Estado de Minas e Energia.</p><p>Brasília, 31 de dezembro de 2022; 201º da Independência e 134º da República.</p><p class=\"assinaPr\">ANTÔNIO HAMILTON MARTINS MOURÃO</p>\n",
      "<p class=\"titulo\">MINISTÉRIO DE MINAS E ENERGIA</p><p class=\"identifica\">DECRETO DE 31 DE DEZEMBRO DE 2022</p><p><strong>O VICE-PRESIDENTE DA REPÚBLICA</strong>, no exercício do cargo de<strong>PRESIDENTE DA REPÚBLICA,</strong>no uso da atribuição que lhe confere o art. 84,<strong>caput</strong>, inciso I, da Constituição, resolve:</p><p><strong>EXONERAR</strong></p><p>ADOLFO SACHSIDA do cargo de Ministro de Estado de Minas e Energia.</p><p>Brasília, 31 de dezembro de 2022; 201º da Independência e 134º da República.</p><p class=\"assinaPr\">ANTÔNIO HAMILTON MARTINS MOURÃO</p>\n",
      "<p class=\"titulo\">MINISTÉRIO DE MINAS E ENERGIA</p><p class=\"identifica\">DECRETO DE 31 DE DEZEMBRO DE 2022</p><p><strong>O VICE-PRESIDENTE DA REPÚBLICA</strong>, no exercício do cargo de<strong>PRESIDENTE DA REPÚBLICA,</strong>no uso da atribuição que lhe confere o art. 84,<strong>caput</strong>, inciso I, da Constituição, resolve:</p><p><strong>EXONERAR</strong></p><p>ADOLFO SACHSIDA do cargo de Ministro de Estado de Minas e Energia.</p><p>Brasília, 31 de dezembro de 2022; 201º da Independência e 134º da República.</p><p class=\"assinaPr\">ANTÔNIO HAMILTON MARTINS MOURÃO</p>\n",
      "<p class=\"titulo\">MINISTÉRIO DE MINAS E ENERGIA</p><p class=\"identifica\">DECRETO DE 31 DE DEZEMBRO DE 2022</p><p><strong>O VICE-PRESIDENTE DA REPÚBLICA</strong>, no exercício do cargo de<strong>PRESIDENTE DA REPÚBLICA,</strong>no uso da atribuição que lhe confere o art. 84,<strong>caput</strong>, inciso I, da Constituição, resolve:</p><p><strong>EXONERAR</strong></p><p>ADOLFO SACHSIDA do cargo de Ministro de Estado de Minas e Energia.</p><p>Brasília, 31 de dezembro de 2022; 201º da Independência e 134º da República.</p><p class=\"assinaPr\">ANTÔNIO HAMILTON MARTINS MOURÃO</p>\n",
      "<p class=\"titulo\">MINISTÉRIO DE MINAS E ENERGIA</p><p class=\"identifica\">DECRETO DE 31 DE DEZEMBRO DE 2022</p><p><strong>O VICE-PRESIDENTE DA REPÚBLICA</strong>, no exercício do cargo de<strong>PRESIDENTE DA REPÚBLICA,</strong>no uso da atribuição que lhe confere o art. 84,<strong>caput</strong>, inciso I, da Constituição, resolve:</p><p><strong>EXONERAR</strong></p><p>ADOLFO SACHSIDA do cargo de Ministro de Estado de Minas e Energia.</p><p>Brasília, 31 de dezembro de 2022; 201º da Independência e 134º da República.</p><p class=\"assinaPr\">ANTÔNIO HAMILTON MARTINS MOURÃO</p>\n",
      "<p class=\"titulo\">MINISTÉRIO DE MINAS E ENERGIA</p><p class=\"identifica\">DECRETO DE 31 DE DEZEMBRO DE 2022</p><p><strong>O VICE-PRESIDENTE DA REPÚBLICA</strong>, no exercício do cargo de<strong>PRESIDENTE DA REPÚBLICA,</strong>no uso da atribuição que lhe confere o art. 84,<strong>caput</strong>, inciso I, da Constituição, resolve:</p><p><strong>EXONERAR</strong></p><p>ADOLFO SACHSIDA do cargo de Ministro de Estado de Minas e Energia.</p><p>Brasília, 31 de dezembro de 2022; 201º da Independência e 134º da República.</p><p class=\"assinaPr\">ANTÔNIO HAMILTON MARTINS MOURÃO</p>\n",
      "<p class=\"titulo\">MINISTÉRIO DE MINAS E ENERGIA</p><p class=\"identifica\">DECRETO DE 31 DE DEZEMBRO DE 2022</p><p><strong>O VICE-PRESIDENTE DA REPÚBLICA</strong>, no exercício do cargo de<strong>PRESIDENTE DA REPÚBLICA,</strong>no uso da atribuição que lhe confere o art. 84,<strong>caput</strong>, inciso I, da Constituição, resolve:</p><p><strong>EXONERAR</strong></p><p>ADOLFO SACHSIDA do cargo de Ministro de Estado de Minas e Energia.</p><p>Brasília, 31 de dezembro de 2022; 201º da Independência e 134º da República.</p><p class=\"assinaPr\">ANTÔNIO HAMILTON MARTINS MOURÃO</p>\n",
      "<p class=\"titulo\">MINISTÉRIO DE MINAS E ENERGIA</p><p class=\"identifica\">DECRETO DE 31 DE DEZEMBRO DE 2022</p><p><strong>O VICE-PRESIDENTE DA REPÚBLICA</strong>, no exercício do cargo de<strong>PRESIDENTE DA REPÚBLICA,</strong>no uso da atribuição que lhe confere o art. 84,<strong>caput</strong>, inciso I, da Constituição, resolve:</p><p><strong>EXONERAR</strong></p><p>ADOLFO SACHSIDA do cargo de Ministro de Estado de Minas e Energia.</p><p>Brasília, 31 de dezembro de 2022; 201º da Independência e 134º da República.</p><p class=\"assinaPr\">ANTÔNIO HAMILTON MARTINS MOURÃO</p>\n",
      "<p class=\"titulo\">MINISTÉRIO DE MINAS E ENERGIA</p><p class=\"identifica\">DECRETO DE 31 DE DEZEMBRO DE 2022</p><p><strong>O VICE-PRESIDENTE DA REPÚBLICA</strong>, no exercício do cargo de<strong>PRESIDENTE DA REPÚBLICA,</strong>no uso da atribuição que lhe confere o art. 84,<strong>caput</strong>, inciso I, da Constituição, resolve:</p><p><strong>EXONERAR</strong></p><p>ADOLFO SACHSIDA do cargo de Ministro de Estado de Minas e Energia.</p><p>Brasília, 31 de dezembro de 2022; 201º da Independência e 134º da República.</p><p class=\"assinaPr\">ANTÔNIO HAMILTON MARTINS MOURÃO</p>\n",
      "<p class=\"titulo\">MINISTÉRIO DE MINAS E ENERGIA</p><p class=\"identifica\">DECRETO DE 31 DE DEZEMBRO DE 2022</p><p><strong>O VICE-PRESIDENTE DA REPÚBLICA</strong>, no exercício do cargo de<strong>PRESIDENTE DA REPÚBLICA,</strong>no uso da atribuição que lhe confere o art. 84,<strong>caput</strong>, inciso I, da Constituição, resolve:</p><p><strong>EXONERAR</strong></p><p>ADOLFO SACHSIDA do cargo de Ministro de Estado de Minas e Energia.</p><p>Brasília, 31 de dezembro de 2022; 201º da Independência e 134º da República.</p><p class=\"assinaPr\">ANTÔNIO HAMILTON MARTINS MOURÃO</p>\n",
      "<p class=\"titulo\">MINISTÉRIO DE MINAS E ENERGIA</p><p class=\"identifica\">DECRETO DE 31 DE DEZEMBRO DE 2022</p><p><strong>O VICE-PRESIDENTE DA REPÚBLICA</strong>, no exercício do cargo de<strong>PRESIDENTE DA REPÚBLICA,</strong>no uso da atribuição que lhe confere o art. 84,<strong>caput</strong>, inciso I, da Constituição, resolve:</p><p><strong>EXONERAR</strong></p><p>ADOLFO SACHSIDA do cargo de Ministro de Estado de Minas e Energia.</p><p>Brasília, 31 de dezembro de 2022; 201º da Independência e 134º da República.</p><p class=\"assinaPr\">ANTÔNIO HAMILTON MARTINS MOURÃO</p>\n",
      "<p class=\"titulo\">MINISTÉRIO DE MINAS E ENERGIA</p><p class=\"identifica\">DECRETO DE 31 DE DEZEMBRO DE 2022</p><p><strong>O VICE-PRESIDENTE DA REPÚBLICA</strong>, no exercício do cargo de<strong>PRESIDENTE DA REPÚBLICA,</strong>no uso da atribuição que lhe confere o art. 84,<strong>caput</strong>, inciso I, da Constituição, resolve:</p><p><strong>EXONERAR</strong></p><p>ADOLFO SACHSIDA do cargo de Ministro de Estado de Minas e Energia.</p><p>Brasília, 31 de dezembro de 2022; 201º da Independência e 134º da República.</p><p class=\"assinaPr\">ANTÔNIO HAMILTON MARTINS MOURÃO</p>\n",
      "<p class=\"titulo\">MINISTÉRIO DE MINAS E ENERGIA</p><p class=\"identifica\">DECRETO DE 31 DE DEZEMBRO DE 2022</p><p><strong>O VICE-PRESIDENTE DA REPÚBLICA</strong>, no exercício do cargo de<strong>PRESIDENTE DA REPÚBLICA,</strong>no uso da atribuição que lhe confere o art. 84,<strong>caput</strong>, inciso I, da Constituição, resolve:</p><p><strong>EXONERAR</strong></p><p>ADOLFO SACHSIDA do cargo de Ministro de Estado de Minas e Energia.</p><p>Brasília, 31 de dezembro de 2022; 201º da Independência e 134º da República.</p><p class=\"assinaPr\">ANTÔNIO HAMILTON MARTINS MOURÃO</p>\n",
      "<p class=\"titulo\">MINISTÉRIO DE MINAS E ENERGIA</p><p class=\"identifica\">DECRETO DE 31 DE DEZEMBRO DE 2022</p><p><strong>O VICE-PRESIDENTE DA REPÚBLICA</strong>, no exercício do cargo de<strong>PRESIDENTE DA REPÚBLICA,</strong>no uso da atribuição que lhe confere o art. 84,<strong>caput</strong>, inciso I, da Constituição, resolve:</p><p><strong>EXONERAR</strong></p><p>ADOLFO SACHSIDA do cargo de Ministro de Estado de Minas e Energia.</p><p>Brasília, 31 de dezembro de 2022; 201º da Independência e 134º da República.</p><p class=\"assinaPr\">ANTÔNIO HAMILTON MARTINS MOURÃO</p>\n",
      "<p class=\"titulo\">MINISTÉRIO DE MINAS E ENERGIA</p><p class=\"identifica\">DECRETO DE 31 DE DEZEMBRO DE 2022</p><p><strong>O VICE-PRESIDENTE DA REPÚBLICA</strong>, no exercício do cargo de<strong>PRESIDENTE DA REPÚBLICA,</strong>no uso da atribuição que lhe confere o art. 84,<strong>caput</strong>, inciso I, da Constituição, resolve:</p><p><strong>EXONERAR</strong></p><p>ADOLFO SACHSIDA do cargo de Ministro de Estado de Minas e Energia.</p><p>Brasília, 31 de dezembro de 2022; 201º da Independência e 134º da República.</p><p class=\"assinaPr\">ANTÔNIO HAMILTON MARTINS MOURÃO</p>\n",
      "<p class=\"titulo\">MINISTÉRIO DE MINAS E ENERGIA</p><p class=\"identifica\">DECRETO DE 31 DE DEZEMBRO DE 2022</p><p><strong>O VICE-PRESIDENTE DA REPÚBLICA</strong>, no exercício do cargo de<strong>PRESIDENTE DA REPÚBLICA,</strong>no uso da atribuição que lhe confere o art. 84,<strong>caput</strong>, inciso I, da Constituição, resolve:</p><p><strong>EXONERAR</strong></p><p>ADOLFO SACHSIDA do cargo de Ministro de Estado de Minas e Energia.</p><p>Brasília, 31 de dezembro de 2022; 201º da Independência e 134º da República.</p><p class=\"assinaPr\">ANTÔNIO HAMILTON MARTINS MOURÃO</p>\n",
      "<p class=\"titulo\">MINISTÉRIO DE MINAS E ENERGIA</p><p class=\"identifica\">DECRETO DE 31 DE DEZEMBRO DE 2022</p><p><strong>O VICE-PRESIDENTE DA REPÚBLICA</strong>, no exercício do cargo de<strong>PRESIDENTE DA REPÚBLICA,</strong>no uso da atribuição que lhe confere o art. 84,<strong>caput</strong>, inciso I, da Constituição, resolve:</p><p><strong>EXONERAR</strong></p><p>ADOLFO SACHSIDA do cargo de Ministro de Estado de Minas e Energia.</p><p>Brasília, 31 de dezembro de 2022; 201º da Independência e 134º da República.</p><p class=\"assinaPr\">ANTÔNIO HAMILTON MARTINS MOURÃO</p>\n",
      "<p class=\"titulo\">MINISTÉRIO DE MINAS E ENERGIA</p><p class=\"identifica\">DECRETO DE 31 DE DEZEMBRO DE 2022</p><p><strong>O VICE-PRESIDENTE DA REPÚBLICA</strong>, no exercício do cargo de<strong>PRESIDENTE DA REPÚBLICA,</strong>no uso da atribuição que lhe confere o art. 84,<strong>caput</strong>, inciso I, da Constituição, resolve:</p><p><strong>EXONERAR</strong></p><p>ADOLFO SACHSIDA do cargo de Ministro de Estado de Minas e Energia.</p><p>Brasília, 31 de dezembro de 2022; 201º da Independência e 134º da República.</p><p class=\"assinaPr\">ANTÔNIO HAMILTON MARTINS MOURÃO</p>\n",
      "<p class=\"titulo\">MINISTÉRIO DE MINAS E ENERGIA</p><p class=\"identifica\">DECRETO DE 31 DE DEZEMBRO DE 2022</p><p><strong>O VICE-PRESIDENTE DA REPÚBLICA</strong>, no exercício do cargo de<strong>PRESIDENTE DA REPÚBLICA,</strong>no uso da atribuição que lhe confere o art. 84,<strong>caput</strong>, inciso I, da Constituição, resolve:</p><p><strong>EXONERAR</strong></p><p>ADOLFO SACHSIDA do cargo de Ministro de Estado de Minas e Energia.</p><p>Brasília, 31 de dezembro de 2022; 201º da Independência e 134º da República.</p><p class=\"assinaPr\">ANTÔNIO HAMILTON MARTINS MOURÃO</p>\n",
      "<p class=\"titulo\">MINISTÉRIO DE MINAS E ENERGIA</p><p class=\"identifica\">DECRETO DE 31 DE DEZEMBRO DE 2022</p><p><strong>O VICE-PRESIDENTE DA REPÚBLICA</strong>, no exercício do cargo de<strong>PRESIDENTE DA REPÚBLICA,</strong>no uso da atribuição que lhe confere o art. 84,<strong>caput</strong>, inciso I, da Constituição, resolve:</p><p><strong>EXONERAR</strong></p><p>ADOLFO SACHSIDA do cargo de Ministro de Estado de Minas e Energia.</p><p>Brasília, 31 de dezembro de 2022; 201º da Independência e 134º da República.</p><p class=\"assinaPr\">ANTÔNIO HAMILTON MARTINS MOURÃO</p>\n",
      "<p class=\"titulo\">MINISTÉRIO DE MINAS E ENERGIA</p><p class=\"identifica\">DECRETO DE 31 DE DEZEMBRO DE 2022</p><p><strong>O VICE-PRESIDENTE DA REPÚBLICA</strong>, no exercício do cargo de<strong>PRESIDENTE DA REPÚBLICA,</strong>no uso da atribuição que lhe confere o art. 84,<strong>caput</strong>, inciso I, da Constituição, resolve:</p><p><strong>EXONERAR</strong></p><p>ADOLFO SACHSIDA do cargo de Ministro de Estado de Minas e Energia.</p><p>Brasília, 31 de dezembro de 2022; 201º da Independência e 134º da República.</p><p class=\"assinaPr\">ANTÔNIO HAMILTON MARTINS MOURÃO</p>\n",
      "<p class=\"titulo\">MINISTÉRIO DE MINAS E ENERGIA</p><p class=\"identifica\">DECRETO DE 31 DE DEZEMBRO DE 2022</p><p><strong>O VICE-PRESIDENTE DA REPÚBLICA</strong>, no exercício do cargo de<strong>PRESIDENTE DA REPÚBLICA,</strong>no uso da atribuição que lhe confere o art. 84,<strong>caput</strong>, inciso I, da Constituição, resolve:</p><p><strong>EXONERAR</strong></p><p>ADOLFO SACHSIDA do cargo de Ministro de Estado de Minas e Energia.</p><p>Brasília, 31 de dezembro de 2022; 201º da Independência e 134º da República.</p><p class=\"assinaPr\">ANTÔNIO HAMILTON MARTINS MOURÃO</p>\n",
      "<p class=\"titulo\">MINISTÉRIO DE MINAS E ENERGIA</p><p class=\"identifica\">DECRETO DE 31 DE DEZEMBRO DE 2022</p><p><strong>O VICE-PRESIDENTE DA REPÚBLICA</strong>, no exercício do cargo de<strong>PRESIDENTE DA REPÚBLICA,</strong>no uso da atribuição que lhe confere o art. 84,<strong>caput</strong>, inciso I, da Constituição, resolve:</p><p><strong>EXONERAR</strong></p><p>ADOLFO SACHSIDA do cargo de Ministro de Estado de Minas e Energia.</p><p>Brasília, 31 de dezembro de 2022; 201º da Independência e 134º da República.</p><p class=\"assinaPr\">ANTÔNIO HAMILTON MARTINS MOURÃO</p>\n",
      "<p class=\"titulo\">MINISTÉRIO DE MINAS E ENERGIA</p><p class=\"identifica\">DECRETO DE 31 DE DEZEMBRO DE 2022</p><p><strong>O VICE-PRESIDENTE DA REPÚBLICA</strong>, no exercício do cargo de<strong>PRESIDENTE DA REPÚBLICA,</strong>no uso da atribuição que lhe confere o art. 84,<strong>caput</strong>, inciso I, da Constituição, resolve:</p><p><strong>EXONERAR</strong></p><p>ADOLFO SACHSIDA do cargo de Ministro de Estado de Minas e Energia.</p><p>Brasília, 31 de dezembro de 2022; 201º da Independência e 134º da República.</p><p class=\"assinaPr\">ANTÔNIO HAMILTON MARTINS MOURÃO</p>\n",
      "<p class=\"titulo\">MINISTÉRIO DE MINAS E ENERGIA</p><p class=\"identifica\">DECRETO DE 31 DE DEZEMBRO DE 2022</p><p><strong>O VICE-PRESIDENTE DA REPÚBLICA</strong>, no exercício do cargo de<strong>PRESIDENTE DA REPÚBLICA,</strong>no uso da atribuição que lhe confere o art. 84,<strong>caput</strong>, inciso I, da Constituição, resolve:</p><p><strong>EXONERAR</strong></p><p>ADOLFO SACHSIDA do cargo de Ministro de Estado de Minas e Energia.</p><p>Brasília, 31 de dezembro de 2022; 201º da Independência e 134º da República.</p><p class=\"assinaPr\">ANTÔNIO HAMILTON MARTINS MOURÃO</p>\n",
      "<p class=\"titulo\">MINISTÉRIO DE MINAS E ENERGIA</p><p class=\"identifica\">DECRETO DE 31 DE DEZEMBRO DE 2022</p><p><strong>O VICE-PRESIDENTE DA REPÚBLICA</strong>, no exercício do cargo de<strong>PRESIDENTE DA REPÚBLICA,</strong>no uso da atribuição que lhe confere o art. 84,<strong>caput</strong>, inciso I, da Constituição, resolve:</p><p><strong>EXONERAR</strong></p><p>ADOLFO SACHSIDA do cargo de Ministro de Estado de Minas e Energia.</p><p>Brasília, 31 de dezembro de 2022; 201º da Independência e 134º da República.</p><p class=\"assinaPr\">ANTÔNIO HAMILTON MARTINS MOURÃO</p>\n",
      "<p class=\"titulo\">MINISTÉRIO DE MINAS E ENERGIA</p><p class=\"identifica\">DECRETO DE 31 DE DEZEMBRO DE 2022</p><p><strong>O VICE-PRESIDENTE DA REPÚBLICA</strong>, no exercício do cargo de<strong>PRESIDENTE DA REPÚBLICA,</strong>no uso da atribuição que lhe confere o art. 84,<strong>caput</strong>, inciso I, da Constituição, resolve:</p><p><strong>EXONERAR</strong></p><p>ADOLFO SACHSIDA do cargo de Ministro de Estado de Minas e Energia.</p><p>Brasília, 31 de dezembro de 2022; 201º da Independência e 134º da República.</p><p class=\"assinaPr\">ANTÔNIO HAMILTON MARTINS MOURÃO</p>\n",
      "<p class=\"titulo\">MINISTÉRIO DE MINAS E ENERGIA</p><p class=\"identifica\">DECRETO DE 31 DE DEZEMBRO DE 2022</p><p><strong>O VICE-PRESIDENTE DA REPÚBLICA</strong>, no exercício do cargo de<strong>PRESIDENTE DA REPÚBLICA,</strong>no uso da atribuição que lhe confere o art. 84,<strong>caput</strong>, inciso I, da Constituição, resolve:</p><p><strong>EXONERAR</strong></p><p>ADOLFO SACHSIDA do cargo de Ministro de Estado de Minas e Energia.</p><p>Brasília, 31 de dezembro de 2022; 201º da Independência e 134º da República.</p><p class=\"assinaPr\">ANTÔNIO HAMILTON MARTINS MOURÃO</p>\n",
      "<p class=\"titulo\">MINISTÉRIO DE MINAS E ENERGIA</p><p class=\"identifica\">DECRETO DE 31 DE DEZEMBRO DE 2022</p><p><strong>O VICE-PRESIDENTE DA REPÚBLICA</strong>, no exercício do cargo de<strong>PRESIDENTE DA REPÚBLICA,</strong>no uso da atribuição que lhe confere o art. 84,<strong>caput</strong>, inciso I, da Constituição, resolve:</p><p><strong>EXONERAR</strong></p><p>ADOLFO SACHSIDA do cargo de Ministro de Estado de Minas e Energia.</p><p>Brasília, 31 de dezembro de 2022; 201º da Independência e 134º da República.</p><p class=\"assinaPr\">ANTÔNIO HAMILTON MARTINS MOURÃO</p>\n",
      "<p class=\"titulo\">MINISTÉRIO DE MINAS E ENERGIA</p><p class=\"identifica\">DECRETO DE 31 DE DEZEMBRO DE 2022</p><p><strong>O VICE-PRESIDENTE DA REPÚBLICA</strong>, no exercício do cargo de<strong>PRESIDENTE DA REPÚBLICA,</strong>no uso da atribuição que lhe confere o art. 84,<strong>caput</strong>, inciso I, da Constituição, resolve:</p><p><strong>EXONERAR</strong></p><p>ADOLFO SACHSIDA do cargo de Ministro de Estado de Minas e Energia.</p><p>Brasília, 31 de dezembro de 2022; 201º da Independência e 134º da República.</p><p class=\"assinaPr\">ANTÔNIO HAMILTON MARTINS MOURÃO</p>\n",
      "<p class=\"titulo\">MINISTÉRIO DE MINAS E ENERGIA</p><p class=\"identifica\">DECRETO DE 31 DE DEZEMBRO DE 2022</p><p><strong>O VICE-PRESIDENTE DA REPÚBLICA</strong>, no exercício do cargo de<strong>PRESIDENTE DA REPÚBLICA,</strong>no uso da atribuição que lhe confere o art. 84,<strong>caput</strong>, inciso I, da Constituição, resolve:</p><p><strong>EXONERAR</strong></p><p>ADOLFO SACHSIDA do cargo de Ministro de Estado de Minas e Energia.</p><p>Brasília, 31 de dezembro de 2022; 201º da Independência e 134º da República.</p><p class=\"assinaPr\">ANTÔNIO HAMILTON MARTINS MOURÃO</p>\n",
      "<p class=\"titulo\">MINISTÉRIO DE MINAS E ENERGIA</p><p class=\"identifica\">DECRETO DE 31 DE DEZEMBRO DE 2022</p><p><strong>O VICE-PRESIDENTE DA REPÚBLICA</strong>, no exercício do cargo de<strong>PRESIDENTE DA REPÚBLICA,</strong>no uso da atribuição que lhe confere o art. 84,<strong>caput</strong>, inciso I, da Constituição, resolve:</p><p><strong>EXONERAR</strong></p><p>ADOLFO SACHSIDA do cargo de Ministro de Estado de Minas e Energia.</p><p>Brasília, 31 de dezembro de 2022; 201º da Independência e 134º da República.</p><p class=\"assinaPr\">ANTÔNIO HAMILTON MARTINS MOURÃO</p>\n",
      "<p class=\"titulo\">MINISTÉRIO DE MINAS E ENERGIA</p><p class=\"identifica\">DECRETO DE 31 DE DEZEMBRO DE 2022</p><p><strong>O VICE-PRESIDENTE DA REPÚBLICA</strong>, no exercício do cargo de<strong>PRESIDENTE DA REPÚBLICA,</strong>no uso da atribuição que lhe confere o art. 84,<strong>caput</strong>, inciso I, da Constituição, resolve:</p><p><strong>EXONERAR</strong></p><p>ADOLFO SACHSIDA do cargo de Ministro de Estado de Minas e Energia.</p><p>Brasília, 31 de dezembro de 2022; 201º da Independência e 134º da República.</p><p class=\"assinaPr\">ANTÔNIO HAMILTON MARTINS MOURÃO</p>\n",
      "<p class=\"titulo\">MINISTÉRIO DE MINAS E ENERGIA</p><p class=\"identifica\">DECRETO DE 31 DE DEZEMBRO DE 2022</p><p><strong>O VICE-PRESIDENTE DA REPÚBLICA</strong>, no exercício do cargo de<strong>PRESIDENTE DA REPÚBLICA,</strong>no uso da atribuição que lhe confere o art. 84,<strong>caput</strong>, inciso I, da Constituição, resolve:</p><p><strong>EXONERAR</strong></p><p>ADOLFO SACHSIDA do cargo de Ministro de Estado de Minas e Energia.</p><p>Brasília, 31 de dezembro de 2022; 201º da Independência e 134º da República.</p><p class=\"assinaPr\">ANTÔNIO HAMILTON MARTINS MOURÃO</p>\n",
      "<p class=\"titulo\">MINISTÉRIO DE MINAS E ENERGIA</p><p class=\"identifica\">DECRETO DE 31 DE DEZEMBRO DE 2022</p><p><strong>O VICE-PRESIDENTE DA REPÚBLICA</strong>, no exercício do cargo de<strong>PRESIDENTE DA REPÚBLICA,</strong>no uso da atribuição que lhe confere o art. 84,<strong>caput</strong>, inciso I, da Constituição, resolve:</p><p><strong>EXONERAR</strong></p><p>ADOLFO SACHSIDA do cargo de Ministro de Estado de Minas e Energia.</p><p>Brasília, 31 de dezembro de 2022; 201º da Independência e 134º da República.</p><p class=\"assinaPr\">ANTÔNIO HAMILTON MARTINS MOURÃO</p>\n",
      "<p class=\"titulo\">MINISTÉRIO DE MINAS E ENERGIA</p><p class=\"identifica\">DECRETO DE 31 DE DEZEMBRO DE 2022</p><p><strong>O VICE-PRESIDENTE DA REPÚBLICA</strong>, no exercício do cargo de<strong>PRESIDENTE DA REPÚBLICA,</strong>no uso da atribuição que lhe confere o art. 84,<strong>caput</strong>, inciso I, da Constituição, resolve:</p><p><strong>EXONERAR</strong></p><p>ADOLFO SACHSIDA do cargo de Ministro de Estado de Minas e Energia.</p><p>Brasília, 31 de dezembro de 2022; 201º da Independência e 134º da República.</p><p class=\"assinaPr\">ANTÔNIO HAMILTON MARTINS MOURÃO</p>\n",
      "<p class=\"titulo\">MINISTÉRIO DE MINAS E ENERGIA</p><p class=\"identifica\">DECRETO DE 31 DE DEZEMBRO DE 2022</p><p><strong>O VICE-PRESIDENTE DA REPÚBLICA</strong>, no exercício do cargo de<strong>PRESIDENTE DA REPÚBLICA,</strong>no uso da atribuição que lhe confere o art. 84,<strong>caput</strong>, inciso I, da Constituição, resolve:</p><p><strong>EXONERAR</strong></p><p>ADOLFO SACHSIDA do cargo de Ministro de Estado de Minas e Energia.</p><p>Brasília, 31 de dezembro de 2022; 201º da Independência e 134º da República.</p><p class=\"assinaPr\">ANTÔNIO HAMILTON MARTINS MOURÃO</p>\n",
      "<p class=\"titulo\">MINISTÉRIO DE MINAS E ENERGIA</p><p class=\"identifica\">DECRETO DE 31 DE DEZEMBRO DE 2022</p><p><strong>O VICE-PRESIDENTE DA REPÚBLICA</strong>, no exercício do cargo de<strong>PRESIDENTE DA REPÚBLICA,</strong>no uso da atribuição que lhe confere o art. 84,<strong>caput</strong>, inciso I, da Constituição, resolve:</p><p><strong>EXONERAR</strong></p><p>ADOLFO SACHSIDA do cargo de Ministro de Estado de Minas e Energia.</p><p>Brasília, 31 de dezembro de 2022; 201º da Independência e 134º da República.</p><p class=\"assinaPr\">ANTÔNIO HAMILTON MARTINS MOURÃO</p>\n",
      "<p class=\"titulo\">MINISTÉRIO DE MINAS E ENERGIA</p><p class=\"identifica\">DECRETO DE 31 DE DEZEMBRO DE 2022</p><p><strong>O VICE-PRESIDENTE DA REPÚBLICA</strong>, no exercício do cargo de<strong>PRESIDENTE DA REPÚBLICA,</strong>no uso da atribuição que lhe confere o art. 84,<strong>caput</strong>, inciso I, da Constituição, resolve:</p><p><strong>EXONERAR</strong></p><p>ADOLFO SACHSIDA do cargo de Ministro de Estado de Minas e Energia.</p><p>Brasília, 31 de dezembro de 2022; 201º da Independência e 134º da República.</p><p class=\"assinaPr\">ANTÔNIO HAMILTON MARTINS MOURÃO</p>\n",
      "<p class=\"titulo\">MINISTÉRIO DE MINAS E ENERGIA</p><p class=\"identifica\">DECRETO DE 31 DE DEZEMBRO DE 2022</p><p><strong>O VICE-PRESIDENTE DA REPÚBLICA</strong>, no exercício do cargo de<strong>PRESIDENTE DA REPÚBLICA,</strong>no uso da atribuição que lhe confere o art. 84,<strong>caput</strong>, inciso I, da Constituição, resolve:</p><p><strong>EXONERAR</strong></p><p>ADOLFO SACHSIDA do cargo de Ministro de Estado de Minas e Energia.</p><p>Brasília, 31 de dezembro de 2022; 201º da Independência e 134º da República.</p><p class=\"assinaPr\">ANTÔNIO HAMILTON MARTINS MOURÃO</p>\n",
      "<p class=\"titulo\">MINISTÉRIO DE MINAS E ENERGIA</p><p class=\"identifica\">DECRETO DE 31 DE DEZEMBRO DE 2022</p><p><strong>O VICE-PRESIDENTE DA REPÚBLICA</strong>, no exercício do cargo de<strong>PRESIDENTE DA REPÚBLICA,</strong>no uso da atribuição que lhe confere o art. 84,<strong>caput</strong>, inciso I, da Constituição, resolve:</p><p><strong>EXONERAR</strong></p><p>ADOLFO SACHSIDA do cargo de Ministro de Estado de Minas e Energia.</p><p>Brasília, 31 de dezembro de 2022; 201º da Independência e 134º da República.</p><p class=\"assinaPr\">ANTÔNIO HAMILTON MARTINS MOURÃO</p>\n",
      "<p class=\"titulo\">MINISTÉRIO DE MINAS E ENERGIA</p><p class=\"identifica\">DECRETO DE 31 DE DEZEMBRO DE 2022</p><p><strong>O VICE-PRESIDENTE DA REPÚBLICA</strong>, no exercício do cargo de<strong>PRESIDENTE DA REPÚBLICA,</strong>no uso da atribuição que lhe confere o art. 84,<strong>caput</strong>, inciso I, da Constituição, resolve:</p><p><strong>EXONERAR</strong></p><p>ADOLFO SACHSIDA do cargo de Ministro de Estado de Minas e Energia.</p><p>Brasília, 31 de dezembro de 2022; 201º da Independência e 134º da República.</p><p class=\"assinaPr\">ANTÔNIO HAMILTON MARTINS MOURÃO</p>\n",
      "<p class=\"titulo\">MINISTÉRIO DE MINAS E ENERGIA</p><p class=\"identifica\">DECRETO DE 31 DE DEZEMBRO DE 2022</p><p><strong>O VICE-PRESIDENTE DA REPÚBLICA</strong>, no exercício do cargo de<strong>PRESIDENTE DA REPÚBLICA,</strong>no uso da atribuição que lhe confere o art. 84,<strong>caput</strong>, inciso I, da Constituição, resolve:</p><p><strong>EXONERAR</strong></p><p>ADOLFO SACHSIDA do cargo de Ministro de Estado de Minas e Energia.</p><p>Brasília, 31 de dezembro de 2022; 201º da Independência e 134º da República.</p><p class=\"assinaPr\">ANTÔNIO HAMILTON MARTINS MOURÃO</p>\n",
      "<p class=\"titulo\">MINISTÉRIO DE MINAS E ENERGIA</p><p class=\"identifica\">DECRETO DE 31 DE DEZEMBRO DE 2022</p><p><strong>O VICE-PRESIDENTE DA REPÚBLICA</strong>, no exercício do cargo de<strong>PRESIDENTE DA REPÚBLICA,</strong>no uso da atribuição que lhe confere o art. 84,<strong>caput</strong>, inciso I, da Constituição, resolve:</p><p><strong>EXONERAR</strong></p><p>ADOLFO SACHSIDA do cargo de Ministro de Estado de Minas e Energia.</p><p>Brasília, 31 de dezembro de 2022; 201º da Independência e 134º da República.</p><p class=\"assinaPr\">ANTÔNIO HAMILTON MARTINS MOURÃO</p>\n",
      "<p class=\"titulo\">MINISTÉRIO DE MINAS E ENERGIA</p><p class=\"identifica\">DECRETO DE 31 DE DEZEMBRO DE 2022</p><p><strong>O VICE-PRESIDENTE DA REPÚBLICA</strong>, no exercício do cargo de<strong>PRESIDENTE DA REPÚBLICA,</strong>no uso da atribuição que lhe confere o art. 84,<strong>caput</strong>, inciso I, da Constituição, resolve:</p><p><strong>EXONERAR</strong></p><p>ADOLFO SACHSIDA do cargo de Ministro de Estado de Minas e Energia.</p><p>Brasília, 31 de dezembro de 2022; 201º da Independência e 134º da República.</p><p class=\"assinaPr\">ANTÔNIO HAMILTON MARTINS MOURÃO</p>\n",
      "<p class=\"titulo\">MINISTÉRIO DE MINAS E ENERGIA</p><p class=\"identifica\">DECRETO DE 31 DE DEZEMBRO DE 2022</p><p><strong>O VICE-PRESIDENTE DA REPÚBLICA</strong>, no exercício do cargo de<strong>PRESIDENTE DA REPÚBLICA,</strong>no uso da atribuição que lhe confere o art. 84,<strong>caput</strong>, inciso I, da Constituição, resolve:</p><p><strong>EXONERAR</strong></p><p>ADOLFO SACHSIDA do cargo de Ministro de Estado de Minas e Energia.</p><p>Brasília, 31 de dezembro de 2022; 201º da Independência e 134º da República.</p><p class=\"assinaPr\">ANTÔNIO HAMILTON MARTINS MOURÃO</p>\n",
      "<p class=\"titulo\">MINISTÉRIO DE MINAS E ENERGIA</p><p class=\"identifica\">DECRETO DE 31 DE DEZEMBRO DE 2022</p><p><strong>O VICE-PRESIDENTE DA REPÚBLICA</strong>, no exercício do cargo de<strong>PRESIDENTE DA REPÚBLICA,</strong>no uso da atribuição que lhe confere o art. 84,<strong>caput</strong>, inciso I, da Constituição, resolve:</p><p><strong>EXONERAR</strong></p><p>ADOLFO SACHSIDA do cargo de Ministro de Estado de Minas e Energia.</p><p>Brasília, 31 de dezembro de 2022; 201º da Independência e 134º da República.</p><p class=\"assinaPr\">ANTÔNIO HAMILTON MARTINS MOURÃO</p>\n",
      "<p class=\"titulo\">MINISTÉRIO DE MINAS E ENERGIA</p><p class=\"identifica\">DECRETO DE 31 DE DEZEMBRO DE 2022</p><p><strong>O VICE-PRESIDENTE DA REPÚBLICA</strong>, no exercício do cargo de<strong>PRESIDENTE DA REPÚBLICA,</strong>no uso da atribuição que lhe confere o art. 84,<strong>caput</strong>, inciso I, da Constituição, resolve:</p><p><strong>EXONERAR</strong></p><p>ADOLFO SACHSIDA do cargo de Ministro de Estado de Minas e Energia.</p><p>Brasília, 31 de dezembro de 2022; 201º da Independência e 134º da República.</p><p class=\"assinaPr\">ANTÔNIO HAMILTON MARTINS MOURÃO</p>\n",
      "<p class=\"titulo\">MINISTÉRIO DE MINAS E ENERGIA</p><p class=\"identifica\">DECRETO DE 31 DE DEZEMBRO DE 2022</p><p><strong>O VICE-PRESIDENTE DA REPÚBLICA</strong>, no exercício do cargo de<strong>PRESIDENTE DA REPÚBLICA,</strong>no uso da atribuição que lhe confere o art. 84,<strong>caput</strong>, inciso I, da Constituição, resolve:</p><p><strong>EXONERAR</strong></p><p>ADOLFO SACHSIDA do cargo de Ministro de Estado de Minas e Energia.</p><p>Brasília, 31 de dezembro de 2022; 201º da Independência e 134º da República.</p><p class=\"assinaPr\">ANTÔNIO HAMILTON MARTINS MOURÃO</p>\n",
      "<p class=\"titulo\">MINISTÉRIO DE MINAS E ENERGIA</p><p class=\"identifica\">DECRETO DE 31 DE DEZEMBRO DE 2022</p><p><strong>O VICE-PRESIDENTE DA REPÚBLICA</strong>, no exercício do cargo de<strong>PRESIDENTE DA REPÚBLICA,</strong>no uso da atribuição que lhe confere o art. 84,<strong>caput</strong>, inciso I, da Constituição, resolve:</p><p><strong>EXONERAR</strong></p><p>ADOLFO SACHSIDA do cargo de Ministro de Estado de Minas e Energia.</p><p>Brasília, 31 de dezembro de 2022; 201º da Independência e 134º da República.</p><p class=\"assinaPr\">ANTÔNIO HAMILTON MARTINS MOURÃO</p>\n",
      "<p class=\"titulo\">MINISTÉRIO DE MINAS E ENERGIA</p><p class=\"identifica\">DECRETO DE 31 DE DEZEMBRO DE 2022</p><p><strong>O VICE-PRESIDENTE DA REPÚBLICA</strong>, no exercício do cargo de<strong>PRESIDENTE DA REPÚBLICA,</strong>no uso da atribuição que lhe confere o art. 84,<strong>caput</strong>, inciso I, da Constituição, resolve:</p><p><strong>EXONERAR</strong></p><p>ADOLFO SACHSIDA do cargo de Ministro de Estado de Minas e Energia.</p><p>Brasília, 31 de dezembro de 2022; 201º da Independência e 134º da República.</p><p class=\"assinaPr\">ANTÔNIO HAMILTON MARTINS MOURÃO</p>\n",
      "<p class=\"titulo\">MINISTÉRIO DE MINAS E ENERGIA</p><p class=\"identifica\">DECRETO DE 31 DE DEZEMBRO DE 2022</p><p><strong>O VICE-PRESIDENTE DA REPÚBLICA</strong>, no exercício do cargo de<strong>PRESIDENTE DA REPÚBLICA,</strong>no uso da atribuição que lhe confere o art. 84,<strong>caput</strong>, inciso I, da Constituição, resolve:</p><p><strong>EXONERAR</strong></p><p>ADOLFO SACHSIDA do cargo de Ministro de Estado de Minas e Energia.</p><p>Brasília, 31 de dezembro de 2022; 201º da Independência e 134º da República.</p><p class=\"assinaPr\">ANTÔNIO HAMILTON MARTINS MOURÃO</p>\n",
      "<p class=\"titulo\">MINISTÉRIO DE MINAS E ENERGIA</p><p class=\"identifica\">DECRETO DE 31 DE DEZEMBRO DE 2022</p><p><strong>O VICE-PRESIDENTE DA REPÚBLICA</strong>, no exercício do cargo de<strong>PRESIDENTE DA REPÚBLICA,</strong>no uso da atribuição que lhe confere o art. 84,<strong>caput</strong>, inciso I, da Constituição, resolve:</p><p><strong>EXONERAR</strong></p><p>ADOLFO SACHSIDA do cargo de Ministro de Estado de Minas e Energia.</p><p>Brasília, 31 de dezembro de 2022; 201º da Independência e 134º da República.</p><p class=\"assinaPr\">ANTÔNIO HAMILTON MARTINS MOURÃO</p>\n",
      "<p class=\"titulo\">MINISTÉRIO DE MINAS E ENERGIA</p><p class=\"identifica\">DECRETO DE 31 DE DEZEMBRO DE 2022</p><p><strong>O VICE-PRESIDENTE DA REPÚBLICA</strong>, no exercício do cargo de<strong>PRESIDENTE DA REPÚBLICA,</strong>no uso da atribuição que lhe confere o art. 84,<strong>caput</strong>, inciso I, da Constituição, resolve:</p><p><strong>EXONERAR</strong></p><p>ADOLFO SACHSIDA do cargo de Ministro de Estado de Minas e Energia.</p><p>Brasília, 31 de dezembro de 2022; 201º da Independência e 134º da República.</p><p class=\"assinaPr\">ANTÔNIO HAMILTON MARTINS MOURÃO</p>\n",
      "<p class=\"titulo\">MINISTÉRIO DE MINAS E ENERGIA</p><p class=\"identifica\">DECRETO DE 31 DE DEZEMBRO DE 2022</p><p><strong>O VICE-PRESIDENTE DA REPÚBLICA</strong>, no exercício do cargo de<strong>PRESIDENTE DA REPÚBLICA,</strong>no uso da atribuição que lhe confere o art. 84,<strong>caput</strong>, inciso I, da Constituição, resolve:</p><p><strong>EXONERAR</strong></p><p>ADOLFO SACHSIDA do cargo de Ministro de Estado de Minas e Energia.</p><p>Brasília, 31 de dezembro de 2022; 201º da Independência e 134º da República.</p><p class=\"assinaPr\">ANTÔNIO HAMILTON MARTINS MOURÃO</p>\n",
      "<p class=\"titulo\">MINISTÉRIO DE MINAS E ENERGIA</p><p class=\"identifica\">DECRETO DE 31 DE DEZEMBRO DE 2022</p><p><strong>O VICE-PRESIDENTE DA REPÚBLICA</strong>, no exercício do cargo de<strong>PRESIDENTE DA REPÚBLICA,</strong>no uso da atribuição que lhe confere o art. 84,<strong>caput</strong>, inciso I, da Constituição, resolve:</p><p><strong>EXONERAR</strong></p><p>ADOLFO SACHSIDA do cargo de Ministro de Estado de Minas e Energia.</p><p>Brasília, 31 de dezembro de 2022; 201º da Independência e 134º da República.</p><p class=\"assinaPr\">ANTÔNIO HAMILTON MARTINS MOURÃO</p>\n",
      "<p class=\"titulo\">MINISTÉRIO DE MINAS E ENERGIA</p><p class=\"identifica\">DECRETO DE 31 DE DEZEMBRO DE 2022</p><p><strong>O VICE-PRESIDENTE DA REPÚBLICA</strong>, no exercício do cargo de<strong>PRESIDENTE DA REPÚBLICA,</strong>no uso da atribuição que lhe confere o art. 84,<strong>caput</strong>, inciso I, da Constituição, resolve:</p><p><strong>EXONERAR</strong></p><p>ADOLFO SACHSIDA do cargo de Ministro de Estado de Minas e Energia.</p><p>Brasília, 31 de dezembro de 2022; 201º da Independência e 134º da República.</p><p class=\"assinaPr\">ANTÔNIO HAMILTON MARTINS MOURÃO</p>\n",
      "<p class=\"titulo\">MINISTÉRIO DE MINAS E ENERGIA</p><p class=\"identifica\">DECRETO DE 31 DE DEZEMBRO DE 2022</p><p><strong>O VICE-PRESIDENTE DA REPÚBLICA</strong>, no exercício do cargo de<strong>PRESIDENTE DA REPÚBLICA,</strong>no uso da atribuição que lhe confere o art. 84,<strong>caput</strong>, inciso I, da Constituição, resolve:</p><p><strong>EXONERAR</strong></p><p>ADOLFO SACHSIDA do cargo de Ministro de Estado de Minas e Energia.</p><p>Brasília, 31 de dezembro de 2022; 201º da Independência e 134º da República.</p><p class=\"assinaPr\">ANTÔNIO HAMILTON MARTINS MOURÃO</p>\n",
      "<p class=\"titulo\">MINISTÉRIO DE MINAS E ENERGIA</p><p class=\"identifica\">DECRETO DE 31 DE DEZEMBRO DE 2022</p><p><strong>O VICE-PRESIDENTE DA REPÚBLICA</strong>, no exercício do cargo de<strong>PRESIDENTE DA REPÚBLICA,</strong>no uso da atribuição que lhe confere o art. 84,<strong>caput</strong>, inciso I, da Constituição, resolve:</p><p><strong>EXONERAR</strong></p><p>ADOLFO SACHSIDA do cargo de Ministro de Estado de Minas e Energia.</p><p>Brasília, 31 de dezembro de 2022; 201º da Independência e 134º da República.</p><p class=\"assinaPr\">ANTÔNIO HAMILTON MARTINS MOURÃO</p>\n",
      "<p class=\"titulo\">MINISTÉRIO DE MINAS E ENERGIA</p><p class=\"identifica\">DECRETO DE 31 DE DEZEMBRO DE 2022</p><p><strong>O VICE-PRESIDENTE DA REPÚBLICA</strong>, no exercício do cargo de<strong>PRESIDENTE DA REPÚBLICA,</strong>no uso da atribuição que lhe confere o art. 84,<strong>caput</strong>, inciso I, da Constituição, resolve:</p><p><strong>EXONERAR</strong></p><p>ADOLFO SACHSIDA do cargo de Ministro de Estado de Minas e Energia.</p><p>Brasília, 31 de dezembro de 2022; 201º da Independência e 134º da República.</p><p class=\"assinaPr\">ANTÔNIO HAMILTON MARTINS MOURÃO</p>\n",
      "<p class=\"titulo\">MINISTÉRIO DE MINAS E ENERGIA</p><p class=\"identifica\">DECRETO DE 31 DE DEZEMBRO DE 2022</p><p><strong>O VICE-PRESIDENTE DA REPÚBLICA</strong>, no exercício do cargo de<strong>PRESIDENTE DA REPÚBLICA,</strong>no uso da atribuição que lhe confere o art. 84,<strong>caput</strong>, inciso I, da Constituição, resolve:</p><p><strong>EXONERAR</strong></p><p>ADOLFO SACHSIDA do cargo de Ministro de Estado de Minas e Energia.</p><p>Brasília, 31 de dezembro de 2022; 201º da Independência e 134º da República.</p><p class=\"assinaPr\">ANTÔNIO HAMILTON MARTINS MOURÃO</p>\n",
      "<p class=\"titulo\">MINISTÉRIO DE MINAS E ENERGIA</p><p class=\"identifica\">DECRETO DE 31 DE DEZEMBRO DE 2022</p><p><strong>O VICE-PRESIDENTE DA REPÚBLICA</strong>, no exercício do cargo de<strong>PRESIDENTE DA REPÚBLICA,</strong>no uso da atribuição que lhe confere o art. 84,<strong>caput</strong>, inciso I, da Constituição, resolve:</p><p><strong>EXONERAR</strong></p><p>ADOLFO SACHSIDA do cargo de Ministro de Estado de Minas e Energia.</p><p>Brasília, 31 de dezembro de 2022; 201º da Independência e 134º da República.</p><p class=\"assinaPr\">ANTÔNIO HAMILTON MARTINS MOURÃO</p>\n",
      "<p class=\"titulo\">MINISTÉRIO DE MINAS E ENERGIA</p><p class=\"identifica\">DECRETO DE 31 DE DEZEMBRO DE 2022</p><p><strong>O VICE-PRESIDENTE DA REPÚBLICA</strong>, no exercício do cargo de<strong>PRESIDENTE DA REPÚBLICA,</strong>no uso da atribuição que lhe confere o art. 84,<strong>caput</strong>, inciso I, da Constituição, resolve:</p><p><strong>EXONERAR</strong></p><p>ADOLFO SACHSIDA do cargo de Ministro de Estado de Minas e Energia.</p><p>Brasília, 31 de dezembro de 2022; 201º da Independência e 134º da República.</p><p class=\"assinaPr\">ANTÔNIO HAMILTON MARTINS MOURÃO</p>\n",
      "<p class=\"titulo\">MINISTÉRIO DE MINAS E ENERGIA</p><p class=\"identifica\">DECRETO DE 31 DE DEZEMBRO DE 2022</p><p><strong>O VICE-PRESIDENTE DA REPÚBLICA</strong>, no exercício do cargo de<strong>PRESIDENTE DA REPÚBLICA,</strong>no uso da atribuição que lhe confere o art. 84,<strong>caput</strong>, inciso I, da Constituição, resolve:</p><p><strong>EXONERAR</strong></p><p>ADOLFO SACHSIDA do cargo de Ministro de Estado de Minas e Energia.</p><p>Brasília, 31 de dezembro de 2022; 201º da Independência e 134º da República.</p><p class=\"assinaPr\">ANTÔNIO HAMILTON MARTINS MOURÃO</p>\n",
      "<p class=\"titulo\">MINISTÉRIO DE MINAS E ENERGIA</p><p class=\"identifica\">DECRETO DE 31 DE DEZEMBRO DE 2022</p><p><strong>O VICE-PRESIDENTE DA REPÚBLICA</strong>, no exercício do cargo de<strong>PRESIDENTE DA REPÚBLICA,</strong>no uso da atribuição que lhe confere o art. 84,<strong>caput</strong>, inciso I, da Constituição, resolve:</p><p><strong>EXONERAR</strong></p><p>ADOLFO SACHSIDA do cargo de Ministro de Estado de Minas e Energia.</p><p>Brasília, 31 de dezembro de 2022; 201º da Independência e 134º da República.</p><p class=\"assinaPr\">ANTÔNIO HAMILTON MARTINS MOURÃO</p>\n",
      "<p class=\"titulo\">MINISTÉRIO DE MINAS E ENERGIA</p><p class=\"identifica\">DECRETO DE 31 DE DEZEMBRO DE 2022</p><p><strong>O VICE-PRESIDENTE DA REPÚBLICA</strong>, no exercício do cargo de<strong>PRESIDENTE DA REPÚBLICA,</strong>no uso da atribuição que lhe confere o art. 84,<strong>caput</strong>, inciso I, da Constituição, resolve:</p><p><strong>EXONERAR</strong></p><p>ADOLFO SACHSIDA do cargo de Ministro de Estado de Minas e Energia.</p><p>Brasília, 31 de dezembro de 2022; 201º da Independência e 134º da República.</p><p class=\"assinaPr\">ANTÔNIO HAMILTON MARTINS MOURÃO</p>\n",
      "<p class=\"titulo\">MINISTÉRIO DE MINAS E ENERGIA</p><p class=\"identifica\">DECRETO DE 31 DE DEZEMBRO DE 2022</p><p><strong>O VICE-PRESIDENTE DA REPÚBLICA</strong>, no exercício do cargo de<strong>PRESIDENTE DA REPÚBLICA,</strong>no uso da atribuição que lhe confere o art. 84,<strong>caput</strong>, inciso I, da Constituição, resolve:</p><p><strong>EXONERAR</strong></p><p>ADOLFO SACHSIDA do cargo de Ministro de Estado de Minas e Energia.</p><p>Brasília, 31 de dezembro de 2022; 201º da Independência e 134º da República.</p><p class=\"assinaPr\">ANTÔNIO HAMILTON MARTINS MOURÃO</p>\n",
      "<p class=\"titulo\">MINISTÉRIO DE MINAS E ENERGIA</p><p class=\"identifica\">DECRETO DE 31 DE DEZEMBRO DE 2022</p><p><strong>O VICE-PRESIDENTE DA REPÚBLICA</strong>, no exercício do cargo de<strong>PRESIDENTE DA REPÚBLICA,</strong>no uso da atribuição que lhe confere o art. 84,<strong>caput</strong>, inciso I, da Constituição, resolve:</p><p><strong>EXONERAR</strong></p><p>ADOLFO SACHSIDA do cargo de Ministro de Estado de Minas e Energia.</p><p>Brasília, 31 de dezembro de 2022; 201º da Independência e 134º da República.</p><p class=\"assinaPr\">ANTÔNIO HAMILTON MARTINS MOURÃO</p>\n",
      "<p class=\"titulo\">MINISTÉRIO DE MINAS E ENERGIA</p><p class=\"identifica\">DECRETO DE 31 DE DEZEMBRO DE 2022</p><p><strong>O VICE-PRESIDENTE DA REPÚBLICA</strong>, no exercício do cargo de<strong>PRESIDENTE DA REPÚBLICA,</strong>no uso da atribuição que lhe confere o art. 84,<strong>caput</strong>, inciso I, da Constituição, resolve:</p><p><strong>EXONERAR</strong></p><p>ADOLFO SACHSIDA do cargo de Ministro de Estado de Minas e Energia.</p><p>Brasília, 31 de dezembro de 2022; 201º da Independência e 134º da República.</p><p class=\"assinaPr\">ANTÔNIO HAMILTON MARTINS MOURÃO</p>\n",
      "<p class=\"titulo\">MINISTÉRIO DE MINAS E ENERGIA</p><p class=\"identifica\">DECRETO DE 31 DE DEZEMBRO DE 2022</p><p><strong>O VICE-PRESIDENTE DA REPÚBLICA</strong>, no exercício do cargo de<strong>PRESIDENTE DA REPÚBLICA,</strong>no uso da atribuição que lhe confere o art. 84,<strong>caput</strong>, inciso I, da Constituição, resolve:</p><p><strong>EXONERAR</strong></p><p>ADOLFO SACHSIDA do cargo de Ministro de Estado de Minas e Energia.</p><p>Brasília, 31 de dezembro de 2022; 201º da Independência e 134º da República.</p><p class=\"assinaPr\">ANTÔNIO HAMILTON MARTINS MOURÃO</p>\n",
      "<p class=\"titulo\">MINISTÉRIO DE MINAS E ENERGIA</p><p class=\"identifica\">DECRETO DE 31 DE DEZEMBRO DE 2022</p><p><strong>O VICE-PRESIDENTE DA REPÚBLICA</strong>, no exercício do cargo de<strong>PRESIDENTE DA REPÚBLICA,</strong>no uso da atribuição que lhe confere o art. 84,<strong>caput</strong>, inciso I, da Constituição, resolve:</p><p><strong>EXONERAR</strong></p><p>ADOLFO SACHSIDA do cargo de Ministro de Estado de Minas e Energia.</p><p>Brasília, 31 de dezembro de 2022; 201º da Independência e 134º da República.</p><p class=\"assinaPr\">ANTÔNIO HAMILTON MARTINS MOURÃO</p>\n",
      "<p class=\"titulo\">MINISTÉRIO DE MINAS E ENERGIA</p><p class=\"identifica\">DECRETO DE 31 DE DEZEMBRO DE 2022</p><p><strong>O VICE-PRESIDENTE DA REPÚBLICA</strong>, no exercício do cargo de<strong>PRESIDENTE DA REPÚBLICA,</strong>no uso da atribuição que lhe confere o art. 84,<strong>caput</strong>, inciso I, da Constituição, resolve:</p><p><strong>EXONERAR</strong></p><p>ADOLFO SACHSIDA do cargo de Ministro de Estado de Minas e Energia.</p><p>Brasília, 31 de dezembro de 2022; 201º da Independência e 134º da República.</p><p class=\"assinaPr\">ANTÔNIO HAMILTON MARTINS MOURÃO</p>\n",
      "<p class=\"titulo\">MINISTÉRIO DE MINAS E ENERGIA</p><p class=\"identifica\">DECRETO DE 31 DE DEZEMBRO DE 2022</p><p><strong>O VICE-PRESIDENTE DA REPÚBLICA</strong>, no exercício do cargo de<strong>PRESIDENTE DA REPÚBLICA,</strong>no uso da atribuição que lhe confere o art. 84,<strong>caput</strong>, inciso I, da Constituição, resolve:</p><p><strong>EXONERAR</strong></p><p>ADOLFO SACHSIDA do cargo de Ministro de Estado de Minas e Energia.</p><p>Brasília, 31 de dezembro de 2022; 201º da Independência e 134º da República.</p><p class=\"assinaPr\">ANTÔNIO HAMILTON MARTINS MOURÃO</p>\n",
      "<p class=\"titulo\">MINISTÉRIO DE MINAS E ENERGIA</p><p class=\"identifica\">DECRETO DE 31 DE DEZEMBRO DE 2022</p><p><strong>O VICE-PRESIDENTE DA REPÚBLICA</strong>, no exercício do cargo de<strong>PRESIDENTE DA REPÚBLICA,</strong>no uso da atribuição que lhe confere o art. 84,<strong>caput</strong>, inciso I, da Constituição, resolve:</p><p><strong>EXONERAR</strong></p><p>ADOLFO SACHSIDA do cargo de Ministro de Estado de Minas e Energia.</p><p>Brasília, 31 de dezembro de 2022; 201º da Independência e 134º da República.</p><p class=\"assinaPr\">ANTÔNIO HAMILTON MARTINS MOURÃO</p>\n",
      "<p class=\"titulo\">MINISTÉRIO DE MINAS E ENERGIA</p><p class=\"identifica\">DECRETO DE 31 DE DEZEMBRO DE 2022</p><p><strong>O VICE-PRESIDENTE DA REPÚBLICA</strong>, no exercício do cargo de<strong>PRESIDENTE DA REPÚBLICA,</strong>no uso da atribuição que lhe confere o art. 84,<strong>caput</strong>, inciso I, da Constituição, resolve:</p><p><strong>EXONERAR</strong></p><p>ADOLFO SACHSIDA do cargo de Ministro de Estado de Minas e Energia.</p><p>Brasília, 31 de dezembro de 2022; 201º da Independência e 134º da República.</p><p class=\"assinaPr\">ANTÔNIO HAMILTON MARTINS MOURÃO</p>\n",
      "<p class=\"titulo\">MINISTÉRIO DE MINAS E ENERGIA</p><p class=\"identifica\">DECRETO DE 31 DE DEZEMBRO DE 2022</p><p><strong>O VICE-PRESIDENTE DA REPÚBLICA</strong>, no exercício do cargo de<strong>PRESIDENTE DA REPÚBLICA,</strong>no uso da atribuição que lhe confere o art. 84,<strong>caput</strong>, inciso I, da Constituição, resolve:</p><p><strong>EXONERAR</strong></p><p>ADOLFO SACHSIDA do cargo de Ministro de Estado de Minas e Energia.</p><p>Brasília, 31 de dezembro de 2022; 201º da Independência e 134º da República.</p><p class=\"assinaPr\">ANTÔNIO HAMILTON MARTINS MOURÃO</p>\n",
      "<p class=\"titulo\">MINISTÉRIO DE MINAS E ENERGIA</p><p class=\"identifica\">DECRETO DE 31 DE DEZEMBRO DE 2022</p><p><strong>O VICE-PRESIDENTE DA REPÚBLICA</strong>, no exercício do cargo de<strong>PRESIDENTE DA REPÚBLICA,</strong>no uso da atribuição que lhe confere o art. 84,<strong>caput</strong>, inciso I, da Constituição, resolve:</p><p><strong>EXONERAR</strong></p><p>ADOLFO SACHSIDA do cargo de Ministro de Estado de Minas e Energia.</p><p>Brasília, 31 de dezembro de 2022; 201º da Independência e 134º da República.</p><p class=\"assinaPr\">ANTÔNIO HAMILTON MARTINS MOURÃO</p>\n",
      "<p class=\"titulo\">MINISTÉRIO DE MINAS E ENERGIA</p><p class=\"identifica\">DECRETO DE 31 DE DEZEMBRO DE 2022</p><p><strong>O VICE-PRESIDENTE DA REPÚBLICA</strong>, no exercício do cargo de<strong>PRESIDENTE DA REPÚBLICA,</strong>no uso da atribuição que lhe confere o art. 84,<strong>caput</strong>, inciso I, da Constituição, resolve:</p><p><strong>EXONERAR</strong></p><p>ADOLFO SACHSIDA do cargo de Ministro de Estado de Minas e Energia.</p><p>Brasília, 31 de dezembro de 2022; 201º da Independência e 134º da República.</p><p class=\"assinaPr\">ANTÔNIO HAMILTON MARTINS MOURÃO</p>\n",
      "<p class=\"titulo\">MINISTÉRIO DE MINAS E ENERGIA</p><p class=\"identifica\">DECRETO DE 31 DE DEZEMBRO DE 2022</p><p><strong>O VICE-PRESIDENTE DA REPÚBLICA</strong>, no exercício do cargo de<strong>PRESIDENTE DA REPÚBLICA,</strong>no uso da atribuição que lhe confere o art. 84,<strong>caput</strong>, inciso I, da Constituição, resolve:</p><p><strong>EXONERAR</strong></p><p>ADOLFO SACHSIDA do cargo de Ministro de Estado de Minas e Energia.</p><p>Brasília, 31 de dezembro de 2022; 201º da Independência e 134º da República.</p><p class=\"assinaPr\">ANTÔNIO HAMILTON MARTINS MOURÃO</p>\n",
      "<p class=\"titulo\">MINISTÉRIO DE MINAS E ENERGIA</p><p class=\"identifica\">DECRETO DE 31 DE DEZEMBRO DE 2022</p><p><strong>O VICE-PRESIDENTE DA REPÚBLICA</strong>, no exercício do cargo de<strong>PRESIDENTE DA REPÚBLICA,</strong>no uso da atribuição que lhe confere o art. 84,<strong>caput</strong>, inciso I, da Constituição, resolve:</p><p><strong>EXONERAR</strong></p><p>ADOLFO SACHSIDA do cargo de Ministro de Estado de Minas e Energia.</p><p>Brasília, 31 de dezembro de 2022; 201º da Independência e 134º da República.</p><p class=\"assinaPr\">ANTÔNIO HAMILTON MARTINS MOURÃO</p>\n",
      "<p class=\"titulo\">MINISTÉRIO DE MINAS E ENERGIA</p><p class=\"identifica\">DECRETO DE 31 DE DEZEMBRO DE 2022</p><p><strong>O VICE-PRESIDENTE DA REPÚBLICA</strong>, no exercício do cargo de<strong>PRESIDENTE DA REPÚBLICA,</strong>no uso da atribuição que lhe confere o art. 84,<strong>caput</strong>, inciso I, da Constituição, resolve:</p><p><strong>EXONERAR</strong></p><p>ADOLFO SACHSIDA do cargo de Ministro de Estado de Minas e Energia.</p><p>Brasília, 31 de dezembro de 2022; 201º da Independência e 134º da República.</p><p class=\"assinaPr\">ANTÔNIO HAMILTON MARTINS MOURÃO</p>\n",
      "<p class=\"titulo\">MINISTÉRIO DE MINAS E ENERGIA</p><p class=\"identifica\">DECRETO DE 31 DE DEZEMBRO DE 2022</p><p><strong>O VICE-PRESIDENTE DA REPÚBLICA</strong>, no exercício do cargo de<strong>PRESIDENTE DA REPÚBLICA,</strong>no uso da atribuição que lhe confere o art. 84,<strong>caput</strong>, inciso I, da Constituição, resolve:</p><p><strong>EXONERAR</strong></p><p>ADOLFO SACHSIDA do cargo de Ministro de Estado de Minas e Energia.</p><p>Brasília, 31 de dezembro de 2022; 201º da Independência e 134º da República.</p><p class=\"assinaPr\">ANTÔNIO HAMILTON MARTINS MOURÃO</p>\n",
      "<p class=\"titulo\">MINISTÉRIO DE MINAS E ENERGIA</p><p class=\"identifica\">DECRETO DE 31 DE DEZEMBRO DE 2022</p><p><strong>O VICE-PRESIDENTE DA REPÚBLICA</strong>, no exercício do cargo de<strong>PRESIDENTE DA REPÚBLICA,</strong>no uso da atribuição que lhe confere o art. 84,<strong>caput</strong>, inciso I, da Constituição, resolve:</p><p><strong>EXONERAR</strong></p><p>ADOLFO SACHSIDA do cargo de Ministro de Estado de Minas e Energia.</p><p>Brasília, 31 de dezembro de 2022; 201º da Independência e 134º da República.</p><p class=\"assinaPr\">ANTÔNIO HAMILTON MARTINS MOURÃO</p>\n",
      "<p class=\"titulo\">MINISTÉRIO DE MINAS E ENERGIA</p><p class=\"identifica\">DECRETO DE 31 DE DEZEMBRO DE 2022</p><p><strong>O VICE-PRESIDENTE DA REPÚBLICA</strong>, no exercício do cargo de<strong>PRESIDENTE DA REPÚBLICA,</strong>no uso da atribuição que lhe confere o art. 84,<strong>caput</strong>, inciso I, da Constituição, resolve:</p><p><strong>EXONERAR</strong></p><p>ADOLFO SACHSIDA do cargo de Ministro de Estado de Minas e Energia.</p><p>Brasília, 31 de dezembro de 2022; 201º da Independência e 134º da República.</p><p class=\"assinaPr\">ANTÔNIO HAMILTON MARTINS MOURÃO</p>\n",
      "<p class=\"titulo\">MINISTÉRIO DE MINAS E ENERGIA</p><p class=\"identifica\">DECRETO DE 31 DE DEZEMBRO DE 2022</p><p><strong>O VICE-PRESIDENTE DA REPÚBLICA</strong>, no exercício do cargo de<strong>PRESIDENTE DA REPÚBLICA,</strong>no uso da atribuição que lhe confere o art. 84,<strong>caput</strong>, inciso I, da Constituição, resolve:</p><p><strong>EXONERAR</strong></p><p>ADOLFO SACHSIDA do cargo de Ministro de Estado de Minas e Energia.</p><p>Brasília, 31 de dezembro de 2022; 201º da Independência e 134º da República.</p><p class=\"assinaPr\">ANTÔNIO HAMILTON MARTINS MOURÃO</p>\n",
      "<p class=\"titulo\">MINISTÉRIO DE MINAS E ENERGIA</p><p class=\"identifica\">DECRETO DE 31 DE DEZEMBRO DE 2022</p><p><strong>O VICE-PRESIDENTE DA REPÚBLICA</strong>, no exercício do cargo de<strong>PRESIDENTE DA REPÚBLICA,</strong>no uso da atribuição que lhe confere o art. 84,<strong>caput</strong>, inciso I, da Constituição, resolve:</p><p><strong>EXONERAR</strong></p><p>ADOLFO SACHSIDA do cargo de Ministro de Estado de Minas e Energia.</p><p>Brasília, 31 de dezembro de 2022; 201º da Independência e 134º da República.</p><p class=\"assinaPr\">ANTÔNIO HAMILTON MARTINS MOURÃO</p>\n",
      "<p class=\"titulo\">MINISTÉRIO DE MINAS E ENERGIA</p><p class=\"identifica\">DECRETO DE 31 DE DEZEMBRO DE 2022</p><p><strong>O VICE-PRESIDENTE DA REPÚBLICA</strong>, no exercício do cargo de<strong>PRESIDENTE DA REPÚBLICA,</strong>no uso da atribuição que lhe confere o art. 84,<strong>caput</strong>, inciso I, da Constituição, resolve:</p><p><strong>EXONERAR</strong></p><p>ADOLFO SACHSIDA do cargo de Ministro de Estado de Minas e Energia.</p><p>Brasília, 31 de dezembro de 2022; 201º da Independência e 134º da República.</p><p class=\"assinaPr\">ANTÔNIO HAMILTON MARTINS MOURÃO</p>\n",
      "<p class=\"titulo\">MINISTÉRIO DE MINAS E ENERGIA</p><p class=\"identifica\">DECRETO DE 31 DE DEZEMBRO DE 2022</p><p><strong>O VICE-PRESIDENTE DA REPÚBLICA</strong>, no exercício do cargo de<strong>PRESIDENTE DA REPÚBLICA,</strong>no uso da atribuição que lhe confere o art. 84,<strong>caput</strong>, inciso I, da Constituição, resolve:</p><p><strong>EXONERAR</strong></p><p>ADOLFO SACHSIDA do cargo de Ministro de Estado de Minas e Energia.</p><p>Brasília, 31 de dezembro de 2022; 201º da Independência e 134º da República.</p><p class=\"assinaPr\">ANTÔNIO HAMILTON MARTINS MOURÃO</p>\n",
      "<p class=\"titulo\">MINISTÉRIO DE MINAS E ENERGIA</p><p class=\"identifica\">DECRETO DE 31 DE DEZEMBRO DE 2022</p><p><strong>O VICE-PRESIDENTE DA REPÚBLICA</strong>, no exercício do cargo de<strong>PRESIDENTE DA REPÚBLICA,</strong>no uso da atribuição que lhe confere o art. 84,<strong>caput</strong>, inciso I, da Constituição, resolve:</p><p><strong>EXONERAR</strong></p><p>ADOLFO SACHSIDA do cargo de Ministro de Estado de Minas e Energia.</p><p>Brasília, 31 de dezembro de 2022; 201º da Independência e 134º da República.</p><p class=\"assinaPr\">ANTÔNIO HAMILTON MARTINS MOURÃO</p>\n",
      "<p class=\"titulo\">MINISTÉRIO DE MINAS E ENERGIA</p><p class=\"identifica\">DECRETO DE 31 DE DEZEMBRO DE 2022</p><p><strong>O VICE-PRESIDENTE DA REPÚBLICA</strong>, no exercício do cargo de<strong>PRESIDENTE DA REPÚBLICA,</strong>no uso da atribuição que lhe confere o art. 84,<strong>caput</strong>, inciso I, da Constituição, resolve:</p><p><strong>EXONERAR</strong></p><p>ADOLFO SACHSIDA do cargo de Ministro de Estado de Minas e Energia.</p><p>Brasília, 31 de dezembro de 2022; 201º da Independência e 134º da República.</p><p class=\"assinaPr\">ANTÔNIO HAMILTON MARTINS MOURÃO</p>\n",
      "<p class=\"titulo\">MINISTÉRIO DE MINAS E ENERGIA</p><p class=\"identifica\">DECRETO DE 31 DE DEZEMBRO DE 2022</p><p><strong>O VICE-PRESIDENTE DA REPÚBLICA</strong>, no exercício do cargo de<strong>PRESIDENTE DA REPÚBLICA,</strong>no uso da atribuição que lhe confere o art. 84,<strong>caput</strong>, inciso I, da Constituição, resolve:</p><p><strong>EXONERAR</strong></p><p>ADOLFO SACHSIDA do cargo de Ministro de Estado de Minas e Energia.</p><p>Brasília, 31 de dezembro de 2022; 201º da Independência e 134º da República.</p><p class=\"assinaPr\">ANTÔNIO HAMILTON MARTINS MOURÃO</p>\n",
      "<p class=\"titulo\">MINISTÉRIO DE MINAS E ENERGIA</p><p class=\"identifica\">DECRETO DE 31 DE DEZEMBRO DE 2022</p><p><strong>O VICE-PRESIDENTE DA REPÚBLICA</strong>, no exercício do cargo de<strong>PRESIDENTE DA REPÚBLICA,</strong>no uso da atribuição que lhe confere o art. 84,<strong>caput</strong>, inciso I, da Constituição, resolve:</p><p><strong>EXONERAR</strong></p><p>ADOLFO SACHSIDA do cargo de Ministro de Estado de Minas e Energia.</p><p>Brasília, 31 de dezembro de 2022; 201º da Independência e 134º da República.</p><p class=\"assinaPr\">ANTÔNIO HAMILTON MARTINS MOURÃO</p>\n",
      "<p class=\"titulo\">MINISTÉRIO DE MINAS E ENERGIA</p><p class=\"identifica\">DECRETO DE 31 DE DEZEMBRO DE 2022</p><p><strong>O VICE-PRESIDENTE DA REPÚBLICA</strong>, no exercício do cargo de<strong>PRESIDENTE DA REPÚBLICA,</strong>no uso da atribuição que lhe confere o art. 84,<strong>caput</strong>, inciso I, da Constituição, resolve:</p><p><strong>EXONERAR</strong></p><p>ADOLFO SACHSIDA do cargo de Ministro de Estado de Minas e Energia.</p><p>Brasília, 31 de dezembro de 2022; 201º da Independência e 134º da República.</p><p class=\"assinaPr\">ANTÔNIO HAMILTON MARTINS MOURÃO</p>\n",
      "<p class=\"titulo\">MINISTÉRIO DE MINAS E ENERGIA</p><p class=\"identifica\">DECRETO DE 31 DE DEZEMBRO DE 2022</p><p><strong>O VICE-PRESIDENTE DA REPÚBLICA</strong>, no exercício do cargo de<strong>PRESIDENTE DA REPÚBLICA,</strong>no uso da atribuição que lhe confere o art. 84,<strong>caput</strong>, inciso I, da Constituição, resolve:</p><p><strong>EXONERAR</strong></p><p>ADOLFO SACHSIDA do cargo de Ministro de Estado de Minas e Energia.</p><p>Brasília, 31 de dezembro de 2022; 201º da Independência e 134º da República.</p><p class=\"assinaPr\">ANTÔNIO HAMILTON MARTINS MOURÃO</p>\n",
      "<p class=\"titulo\">MINISTÉRIO DE MINAS E ENERGIA</p><p class=\"identifica\">DECRETO DE 31 DE DEZEMBRO DE 2022</p><p><strong>O VICE-PRESIDENTE DA REPÚBLICA</strong>, no exercício do cargo de<strong>PRESIDENTE DA REPÚBLICA,</strong>no uso da atribuição que lhe confere o art. 84,<strong>caput</strong>, inciso I, da Constituição, resolve:</p><p><strong>EXONERAR</strong></p><p>ADOLFO SACHSIDA do cargo de Ministro de Estado de Minas e Energia.</p><p>Brasília, 31 de dezembro de 2022; 201º da Independência e 134º da República.</p><p class=\"assinaPr\">ANTÔNIO HAMILTON MARTINS MOURÃO</p>\n",
      "<p class=\"titulo\">MINISTÉRIO DE MINAS E ENERGIA</p><p class=\"identifica\">DECRETO DE 31 DE DEZEMBRO DE 2022</p><p><strong>O VICE-PRESIDENTE DA REPÚBLICA</strong>, no exercício do cargo de<strong>PRESIDENTE DA REPÚBLICA,</strong>no uso da atribuição que lhe confere o art. 84,<strong>caput</strong>, inciso I, da Constituição, resolve:</p><p><strong>EXONERAR</strong></p><p>ADOLFO SACHSIDA do cargo de Ministro de Estado de Minas e Energia.</p><p>Brasília, 31 de dezembro de 2022; 201º da Independência e 134º da República.</p><p class=\"assinaPr\">ANTÔNIO HAMILTON MARTINS MOURÃO</p>\n",
      "<p class=\"titulo\">MINISTÉRIO DE MINAS E ENERGIA</p><p class=\"identifica\">DECRETO DE 31 DE DEZEMBRO DE 2022</p><p><strong>O VICE-PRESIDENTE DA REPÚBLICA</strong>, no exercício do cargo de<strong>PRESIDENTE DA REPÚBLICA,</strong>no uso da atribuição que lhe confere o art. 84,<strong>caput</strong>, inciso I, da Constituição, resolve:</p><p><strong>EXONERAR</strong></p><p>ADOLFO SACHSIDA do cargo de Ministro de Estado de Minas e Energia.</p><p>Brasília, 31 de dezembro de 2022; 201º da Independência e 134º da República.</p><p class=\"assinaPr\">ANTÔNIO HAMILTON MARTINS MOURÃO</p>\n",
      "<p class=\"titulo\">MINISTÉRIO DE MINAS E ENERGIA</p><p class=\"identifica\">DECRETO DE 31 DE DEZEMBRO DE 2022</p><p><strong>O VICE-PRESIDENTE DA REPÚBLICA</strong>, no exercício do cargo de<strong>PRESIDENTE DA REPÚBLICA,</strong>no uso da atribuição que lhe confere o art. 84,<strong>caput</strong>, inciso I, da Constituição, resolve:</p><p><strong>EXONERAR</strong></p><p>ADOLFO SACHSIDA do cargo de Ministro de Estado de Minas e Energia.</p><p>Brasília, 31 de dezembro de 2022; 201º da Independência e 134º da República.</p><p class=\"assinaPr\">ANTÔNIO HAMILTON MARTINS MOURÃO</p>\n",
      "<p class=\"titulo\">MINISTÉRIO DE MINAS E ENERGIA</p><p class=\"identifica\">DECRETO DE 31 DE DEZEMBRO DE 2022</p><p><strong>O VICE-PRESIDENTE DA REPÚBLICA</strong>, no exercício do cargo de<strong>PRESIDENTE DA REPÚBLICA,</strong>no uso da atribuição que lhe confere o art. 84,<strong>caput</strong>, inciso I, da Constituição, resolve:</p><p><strong>EXONERAR</strong></p><p>ADOLFO SACHSIDA do cargo de Ministro de Estado de Minas e Energia.</p><p>Brasília, 31 de dezembro de 2022; 201º da Independência e 134º da República.</p><p class=\"assinaPr\">ANTÔNIO HAMILTON MARTINS MOURÃO</p>\n",
      "<p class=\"titulo\">MINISTÉRIO DE MINAS E ENERGIA</p><p class=\"identifica\">DECRETO DE 31 DE DEZEMBRO DE 2022</p><p><strong>O VICE-PRESIDENTE DA REPÚBLICA</strong>, no exercício do cargo de<strong>PRESIDENTE DA REPÚBLICA,</strong>no uso da atribuição que lhe confere o art. 84,<strong>caput</strong>, inciso I, da Constituição, resolve:</p><p><strong>EXONERAR</strong></p><p>ADOLFO SACHSIDA do cargo de Ministro de Estado de Minas e Energia.</p><p>Brasília, 31 de dezembro de 2022; 201º da Independência e 134º da República.</p><p class=\"assinaPr\">ANTÔNIO HAMILTON MARTINS MOURÃO</p>\n",
      "<p class=\"titulo\">MINISTÉRIO DE MINAS E ENERGIA</p><p class=\"identifica\">DECRETO DE 31 DE DEZEMBRO DE 2022</p><p><strong>O VICE-PRESIDENTE DA REPÚBLICA</strong>, no exercício do cargo de<strong>PRESIDENTE DA REPÚBLICA,</strong>no uso da atribuição que lhe confere o art. 84,<strong>caput</strong>, inciso I, da Constituição, resolve:</p><p><strong>EXONERAR</strong></p><p>ADOLFO SACHSIDA do cargo de Ministro de Estado de Minas e Energia.</p><p>Brasília, 31 de dezembro de 2022; 201º da Independência e 134º da República.</p><p class=\"assinaPr\">ANTÔNIO HAMILTON MARTINS MOURÃO</p>\n",
      "<p class=\"titulo\">MINISTÉRIO DE MINAS E ENERGIA</p><p class=\"identifica\">DECRETO DE 31 DE DEZEMBRO DE 2022</p><p><strong>O VICE-PRESIDENTE DA REPÚBLICA</strong>, no exercício do cargo de<strong>PRESIDENTE DA REPÚBLICA,</strong>no uso da atribuição que lhe confere o art. 84,<strong>caput</strong>, inciso I, da Constituição, resolve:</p><p><strong>EXONERAR</strong></p><p>ADOLFO SACHSIDA do cargo de Ministro de Estado de Minas e Energia.</p><p>Brasília, 31 de dezembro de 2022; 201º da Independência e 134º da República.</p><p class=\"assinaPr\">ANTÔNIO HAMILTON MARTINS MOURÃO</p>\n",
      "<p class=\"titulo\">MINISTÉRIO DE MINAS E ENERGIA</p><p class=\"identifica\">DECRETO DE 31 DE DEZEMBRO DE 2022</p><p><strong>O VICE-PRESIDENTE DA REPÚBLICA</strong>, no exercício do cargo de<strong>PRESIDENTE DA REPÚBLICA,</strong>no uso da atribuição que lhe confere o art. 84,<strong>caput</strong>, inciso I, da Constituição, resolve:</p><p><strong>EXONERAR</strong></p><p>ADOLFO SACHSIDA do cargo de Ministro de Estado de Minas e Energia.</p><p>Brasília, 31 de dezembro de 2022; 201º da Independência e 134º da República.</p><p class=\"assinaPr\">ANTÔNIO HAMILTON MARTINS MOURÃO</p>\n",
      "<p class=\"titulo\">MINISTÉRIO DE MINAS E ENERGIA</p><p class=\"identifica\">DECRETO DE 31 DE DEZEMBRO DE 2022</p><p><strong>O VICE-PRESIDENTE DA REPÚBLICA</strong>, no exercício do cargo de<strong>PRESIDENTE DA REPÚBLICA,</strong>no uso da atribuição que lhe confere o art. 84,<strong>caput</strong>, inciso I, da Constituição, resolve:</p><p><strong>EXONERAR</strong></p><p>ADOLFO SACHSIDA do cargo de Ministro de Estado de Minas e Energia.</p><p>Brasília, 31 de dezembro de 2022; 201º da Independência e 134º da República.</p><p class=\"assinaPr\">ANTÔNIO HAMILTON MARTINS MOURÃO</p>\n",
      "<p class=\"titulo\">MINISTÉRIO DE MINAS E ENERGIA</p><p class=\"identifica\">DECRETO DE 31 DE DEZEMBRO DE 2022</p><p><strong>O VICE-PRESIDENTE DA REPÚBLICA</strong>, no exercício do cargo de<strong>PRESIDENTE DA REPÚBLICA,</strong>no uso da atribuição que lhe confere o art. 84,<strong>caput</strong>, inciso I, da Constituição, resolve:</p><p><strong>EXONERAR</strong></p><p>ADOLFO SACHSIDA do cargo de Ministro de Estado de Minas e Energia.</p><p>Brasília, 31 de dezembro de 2022; 201º da Independência e 134º da República.</p><p class=\"assinaPr\">ANTÔNIO HAMILTON MARTINS MOURÃO</p>\n",
      "<p class=\"titulo\">MINISTÉRIO DE MINAS E ENERGIA</p><p class=\"identifica\">DECRETO DE 31 DE DEZEMBRO DE 2022</p><p><strong>O VICE-PRESIDENTE DA REPÚBLICA</strong>, no exercício do cargo de<strong>PRESIDENTE DA REPÚBLICA,</strong>no uso da atribuição que lhe confere o art. 84,<strong>caput</strong>, inciso I, da Constituição, resolve:</p><p><strong>EXONERAR</strong></p><p>ADOLFO SACHSIDA do cargo de Ministro de Estado de Minas e Energia.</p><p>Brasília, 31 de dezembro de 2022; 201º da Independência e 134º da República.</p><p class=\"assinaPr\">ANTÔNIO HAMILTON MARTINS MOURÃO</p>\n",
      "<p class=\"titulo\">MINISTÉRIO DE MINAS E ENERGIA</p><p class=\"identifica\">DECRETO DE 31 DE DEZEMBRO DE 2022</p><p><strong>O VICE-PRESIDENTE DA REPÚBLICA</strong>, no exercício do cargo de<strong>PRESIDENTE DA REPÚBLICA,</strong>no uso da atribuição que lhe confere o art. 84,<strong>caput</strong>, inciso I, da Constituição, resolve:</p><p><strong>EXONERAR</strong></p><p>ADOLFO SACHSIDA do cargo de Ministro de Estado de Minas e Energia.</p><p>Brasília, 31 de dezembro de 2022; 201º da Independência e 134º da República.</p><p class=\"assinaPr\">ANTÔNIO HAMILTON MARTINS MOURÃO</p>\n",
      "<p class=\"titulo\">MINISTÉRIO DE MINAS E ENERGIA</p><p class=\"identifica\">DECRETO DE 31 DE DEZEMBRO DE 2022</p><p><strong>O VICE-PRESIDENTE DA REPÚBLICA</strong>, no exercício do cargo de<strong>PRESIDENTE DA REPÚBLICA,</strong>no uso da atribuição que lhe confere o art. 84,<strong>caput</strong>, inciso I, da Constituição, resolve:</p><p><strong>EXONERAR</strong></p><p>ADOLFO SACHSIDA do cargo de Ministro de Estado de Minas e Energia.</p><p>Brasília, 31 de dezembro de 2022; 201º da Independência e 134º da República.</p><p class=\"assinaPr\">ANTÔNIO HAMILTON MARTINS MOURÃO</p>\n",
      "<p class=\"titulo\">MINISTÉRIO DE MINAS E ENERGIA</p><p class=\"identifica\">DECRETO DE 31 DE DEZEMBRO DE 2022</p><p><strong>O VICE-PRESIDENTE DA REPÚBLICA</strong>, no exercício do cargo de<strong>PRESIDENTE DA REPÚBLICA,</strong>no uso da atribuição que lhe confere o art. 84,<strong>caput</strong>, inciso I, da Constituição, resolve:</p><p><strong>EXONERAR</strong></p><p>ADOLFO SACHSIDA do cargo de Ministro de Estado de Minas e Energia.</p><p>Brasília, 31 de dezembro de 2022; 201º da Independência e 134º da República.</p><p class=\"assinaPr\">ANTÔNIO HAMILTON MARTINS MOURÃO</p>\n",
      "<p class=\"titulo\">MINISTÉRIO DE MINAS E ENERGIA</p><p class=\"identifica\">DECRETO DE 31 DE DEZEMBRO DE 2022</p><p><strong>O VICE-PRESIDENTE DA REPÚBLICA</strong>, no exercício do cargo de<strong>PRESIDENTE DA REPÚBLICA,</strong>no uso da atribuição que lhe confere o art. 84,<strong>caput</strong>, inciso I, da Constituição, resolve:</p><p><strong>EXONERAR</strong></p><p>ADOLFO SACHSIDA do cargo de Ministro de Estado de Minas e Energia.</p><p>Brasília, 31 de dezembro de 2022; 201º da Independência e 134º da República.</p><p class=\"assinaPr\">ANTÔNIO HAMILTON MARTINS MOURÃO</p>\n",
      "<p class=\"titulo\">MINISTÉRIO DE MINAS E ENERGIA</p><p class=\"identifica\">DECRETO DE 31 DE DEZEMBRO DE 2022</p><p><strong>O VICE-PRESIDENTE DA REPÚBLICA</strong>, no exercício do cargo de<strong>PRESIDENTE DA REPÚBLICA,</strong>no uso da atribuição que lhe confere o art. 84,<strong>caput</strong>, inciso I, da Constituição, resolve:</p><p><strong>EXONERAR</strong></p><p>ADOLFO SACHSIDA do cargo de Ministro de Estado de Minas e Energia.</p><p>Brasília, 31 de dezembro de 2022; 201º da Independência e 134º da República.</p><p class=\"assinaPr\">ANTÔNIO HAMILTON MARTINS MOURÃO</p>\n",
      "<p class=\"titulo\">MINISTÉRIO DE MINAS E ENERGIA</p><p class=\"identifica\">DECRETO DE 31 DE DEZEMBRO DE 2022</p><p><strong>O VICE-PRESIDENTE DA REPÚBLICA</strong>, no exercício do cargo de<strong>PRESIDENTE DA REPÚBLICA,</strong>no uso da atribuição que lhe confere o art. 84,<strong>caput</strong>, inciso I, da Constituição, resolve:</p><p><strong>EXONERAR</strong></p><p>ADOLFO SACHSIDA do cargo de Ministro de Estado de Minas e Energia.</p><p>Brasília, 31 de dezembro de 2022; 201º da Independência e 134º da República.</p><p class=\"assinaPr\">ANTÔNIO HAMILTON MARTINS MOURÃO</p>\n",
      "<p class=\"titulo\">MINISTÉRIO DE MINAS E ENERGIA</p><p class=\"identifica\">DECRETO DE 31 DE DEZEMBRO DE 2022</p><p><strong>O VICE-PRESIDENTE DA REPÚBLICA</strong>, no exercício do cargo de<strong>PRESIDENTE DA REPÚBLICA,</strong>no uso da atribuição que lhe confere o art. 84,<strong>caput</strong>, inciso I, da Constituição, resolve:</p><p><strong>EXONERAR</strong></p><p>ADOLFO SACHSIDA do cargo de Ministro de Estado de Minas e Energia.</p><p>Brasília, 31 de dezembro de 2022; 201º da Independência e 134º da República.</p><p class=\"assinaPr\">ANTÔNIO HAMILTON MARTINS MOURÃO</p>\n",
      "<p class=\"titulo\">MINISTÉRIO DE MINAS E ENERGIA</p><p class=\"identifica\">DECRETO DE 31 DE DEZEMBRO DE 2022</p><p><strong>O VICE-PRESIDENTE DA REPÚBLICA</strong>, no exercício do cargo de<strong>PRESIDENTE DA REPÚBLICA,</strong>no uso da atribuição que lhe confere o art. 84,<strong>caput</strong>, inciso I, da Constituição, resolve:</p><p><strong>EXONERAR</strong></p><p>ADOLFO SACHSIDA do cargo de Ministro de Estado de Minas e Energia.</p><p>Brasília, 31 de dezembro de 2022; 201º da Independência e 134º da República.</p><p class=\"assinaPr\">ANTÔNIO HAMILTON MARTINS MOURÃO</p>\n",
      "<p class=\"titulo\">MINISTÉRIO DE MINAS E ENERGIA</p><p class=\"identifica\">DECRETO DE 31 DE DEZEMBRO DE 2022</p><p><strong>O VICE-PRESIDENTE DA REPÚBLICA</strong>, no exercício do cargo de<strong>PRESIDENTE DA REPÚBLICA,</strong>no uso da atribuição que lhe confere o art. 84,<strong>caput</strong>, inciso I, da Constituição, resolve:</p><p><strong>EXONERAR</strong></p><p>ADOLFO SACHSIDA do cargo de Ministro de Estado de Minas e Energia.</p><p>Brasília, 31 de dezembro de 2022; 201º da Independência e 134º da República.</p><p class=\"assinaPr\">ANTÔNIO HAMILTON MARTINS MOURÃO</p>\n",
      "<p class=\"titulo\">MINISTÉRIO DE MINAS E ENERGIA</p><p class=\"identifica\">DECRETO DE 31 DE DEZEMBRO DE 2022</p><p><strong>O VICE-PRESIDENTE DA REPÚBLICA</strong>, no exercício do cargo de<strong>PRESIDENTE DA REPÚBLICA,</strong>no uso da atribuição que lhe confere o art. 84,<strong>caput</strong>, inciso I, da Constituição, resolve:</p><p><strong>EXONERAR</strong></p><p>ADOLFO SACHSIDA do cargo de Ministro de Estado de Minas e Energia.</p><p>Brasília, 31 de dezembro de 2022; 201º da Independência e 134º da República.</p><p class=\"assinaPr\">ANTÔNIO HAMILTON MARTINS MOURÃO</p>\n",
      "<p class=\"titulo\">MINISTÉRIO DE MINAS E ENERGIA</p><p class=\"identifica\">DECRETO DE 31 DE DEZEMBRO DE 2022</p><p><strong>O VICE-PRESIDENTE DA REPÚBLICA</strong>, no exercício do cargo de<strong>PRESIDENTE DA REPÚBLICA,</strong>no uso da atribuição que lhe confere o art. 84,<strong>caput</strong>, inciso I, da Constituição, resolve:</p><p><strong>EXONERAR</strong></p><p>ADOLFO SACHSIDA do cargo de Ministro de Estado de Minas e Energia.</p><p>Brasília, 31 de dezembro de 2022; 201º da Independência e 134º da República.</p><p class=\"assinaPr\">ANTÔNIO HAMILTON MARTINS MOURÃO</p>\n",
      "<p class=\"titulo\">MINISTÉRIO DE MINAS E ENERGIA</p><p class=\"identifica\">DECRETO DE 31 DE DEZEMBRO DE 2022</p><p><strong>O VICE-PRESIDENTE DA REPÚBLICA</strong>, no exercício do cargo de<strong>PRESIDENTE DA REPÚBLICA,</strong>no uso da atribuição que lhe confere o art. 84,<strong>caput</strong>, inciso I, da Constituição, resolve:</p><p><strong>EXONERAR</strong></p><p>ADOLFO SACHSIDA do cargo de Ministro de Estado de Minas e Energia.</p><p>Brasília, 31 de dezembro de 2022; 201º da Independência e 134º da República.</p><p class=\"assinaPr\">ANTÔNIO HAMILTON MARTINS MOURÃO</p>\n",
      "<p class=\"titulo\">MINISTÉRIO DE MINAS E ENERGIA</p><p class=\"identifica\">DECRETO DE 31 DE DEZEMBRO DE 2022</p><p><strong>O VICE-PRESIDENTE DA REPÚBLICA</strong>, no exercício do cargo de<strong>PRESIDENTE DA REPÚBLICA,</strong>no uso da atribuição que lhe confere o art. 84,<strong>caput</strong>, inciso I, da Constituição, resolve:</p><p><strong>EXONERAR</strong></p><p>ADOLFO SACHSIDA do cargo de Ministro de Estado de Minas e Energia.</p><p>Brasília, 31 de dezembro de 2022; 201º da Independência e 134º da República.</p><p class=\"assinaPr\">ANTÔNIO HAMILTON MARTINS MOURÃO</p>\n",
      "<p class=\"titulo\">MINISTÉRIO DE MINAS E ENERGIA</p><p class=\"identifica\">DECRETO DE 31 DE DEZEMBRO DE 2022</p><p><strong>O VICE-PRESIDENTE DA REPÚBLICA</strong>, no exercício do cargo de<strong>PRESIDENTE DA REPÚBLICA,</strong>no uso da atribuição que lhe confere o art. 84,<strong>caput</strong>, inciso I, da Constituição, resolve:</p><p><strong>EXONERAR</strong></p><p>ADOLFO SACHSIDA do cargo de Ministro de Estado de Minas e Energia.</p><p>Brasília, 31 de dezembro de 2022; 201º da Independência e 134º da República.</p><p class=\"assinaPr\">ANTÔNIO HAMILTON MARTINS MOURÃO</p>\n",
      "<p class=\"titulo\">MINISTÉRIO DE MINAS E ENERGIA</p><p class=\"identifica\">DECRETO DE 31 DE DEZEMBRO DE 2022</p><p><strong>O VICE-PRESIDENTE DA REPÚBLICA</strong>, no exercício do cargo de<strong>PRESIDENTE DA REPÚBLICA,</strong>no uso da atribuição que lhe confere o art. 84,<strong>caput</strong>, inciso I, da Constituição, resolve:</p><p><strong>EXONERAR</strong></p><p>ADOLFO SACHSIDA do cargo de Ministro de Estado de Minas e Energia.</p><p>Brasília, 31 de dezembro de 2022; 201º da Independência e 134º da República.</p><p class=\"assinaPr\">ANTÔNIO HAMILTON MARTINS MOURÃO</p>\n",
      "<p class=\"titulo\">MINISTÉRIO DE MINAS E ENERGIA</p><p class=\"identifica\">DECRETO DE 31 DE DEZEMBRO DE 2022</p><p><strong>O VICE-PRESIDENTE DA REPÚBLICA</strong>, no exercício do cargo de<strong>PRESIDENTE DA REPÚBLICA,</strong>no uso da atribuição que lhe confere o art. 84,<strong>caput</strong>, inciso I, da Constituição, resolve:</p><p><strong>EXONERAR</strong></p><p>ADOLFO SACHSIDA do cargo de Ministro de Estado de Minas e Energia.</p><p>Brasília, 31 de dezembro de 2022; 201º da Independência e 134º da República.</p><p class=\"assinaPr\">ANTÔNIO HAMILTON MARTINS MOURÃO</p>\n",
      "<p class=\"titulo\">MINISTÉRIO DE MINAS E ENERGIA</p><p class=\"identifica\">DECRETO DE 31 DE DEZEMBRO DE 2022</p><p><strong>O VICE-PRESIDENTE DA REPÚBLICA</strong>, no exercício do cargo de<strong>PRESIDENTE DA REPÚBLICA,</strong>no uso da atribuição que lhe confere o art. 84,<strong>caput</strong>, inciso I, da Constituição, resolve:</p><p><strong>EXONERAR</strong></p><p>ADOLFO SACHSIDA do cargo de Ministro de Estado de Minas e Energia.</p><p>Brasília, 31 de dezembro de 2022; 201º da Independência e 134º da República.</p><p class=\"assinaPr\">ANTÔNIO HAMILTON MARTINS MOURÃO</p>\n",
      "<p class=\"titulo\">MINISTÉRIO DE MINAS E ENERGIA</p><p class=\"identifica\">DECRETO DE 31 DE DEZEMBRO DE 2022</p><p><strong>O VICE-PRESIDENTE DA REPÚBLICA</strong>, no exercício do cargo de<strong>PRESIDENTE DA REPÚBLICA,</strong>no uso da atribuição que lhe confere o art. 84,<strong>caput</strong>, inciso I, da Constituição, resolve:</p><p><strong>EXONERAR</strong></p><p>ADOLFO SACHSIDA do cargo de Ministro de Estado de Minas e Energia.</p><p>Brasília, 31 de dezembro de 2022; 201º da Independência e 134º da República.</p><p class=\"assinaPr\">ANTÔNIO HAMILTON MARTINS MOURÃO</p>\n",
      "<p class=\"titulo\">MINISTÉRIO DE MINAS E ENERGIA</p><p class=\"identifica\">DECRETO DE 31 DE DEZEMBRO DE 2022</p><p><strong>O VICE-PRESIDENTE DA REPÚBLICA</strong>, no exercício do cargo de<strong>PRESIDENTE DA REPÚBLICA,</strong>no uso da atribuição que lhe confere o art. 84,<strong>caput</strong>, inciso I, da Constituição, resolve:</p><p><strong>EXONERAR</strong></p><p>ADOLFO SACHSIDA do cargo de Ministro de Estado de Minas e Energia.</p><p>Brasília, 31 de dezembro de 2022; 201º da Independência e 134º da República.</p><p class=\"assinaPr\">ANTÔNIO HAMILTON MARTINS MOURÃO</p>\n",
      "<p class=\"titulo\">MINISTÉRIO DE MINAS E ENERGIA</p><p class=\"identifica\">DECRETO DE 31 DE DEZEMBRO DE 2022</p><p><strong>O VICE-PRESIDENTE DA REPÚBLICA</strong>, no exercício do cargo de<strong>PRESIDENTE DA REPÚBLICA,</strong>no uso da atribuição que lhe confere o art. 84,<strong>caput</strong>, inciso I, da Constituição, resolve:</p><p><strong>EXONERAR</strong></p><p>ADOLFO SACHSIDA do cargo de Ministro de Estado de Minas e Energia.</p><p>Brasília, 31 de dezembro de 2022; 201º da Independência e 134º da República.</p><p class=\"assinaPr\">ANTÔNIO HAMILTON MARTINS MOURÃO</p>\n",
      "<p class=\"titulo\">MINISTÉRIO DE MINAS E ENERGIA</p><p class=\"identifica\">DECRETO DE 31 DE DEZEMBRO DE 2022</p><p><strong>O VICE-PRESIDENTE DA REPÚBLICA</strong>, no exercício do cargo de<strong>PRESIDENTE DA REPÚBLICA,</strong>no uso da atribuição que lhe confere o art. 84,<strong>caput</strong>, inciso I, da Constituição, resolve:</p><p><strong>EXONERAR</strong></p><p>ADOLFO SACHSIDA do cargo de Ministro de Estado de Minas e Energia.</p><p>Brasília, 31 de dezembro de 2022; 201º da Independência e 134º da República.</p><p class=\"assinaPr\">ANTÔNIO HAMILTON MARTINS MOURÃO</p>\n",
      "<p class=\"titulo\">MINISTÉRIO DE MINAS E ENERGIA</p><p class=\"identifica\">DECRETO DE 31 DE DEZEMBRO DE 2022</p><p><strong>O VICE-PRESIDENTE DA REPÚBLICA</strong>, no exercício do cargo de<strong>PRESIDENTE DA REPÚBLICA,</strong>no uso da atribuição que lhe confere o art. 84,<strong>caput</strong>, inciso I, da Constituição, resolve:</p><p><strong>EXONERAR</strong></p><p>ADOLFO SACHSIDA do cargo de Ministro de Estado de Minas e Energia.</p><p>Brasília, 31 de dezembro de 2022; 201º da Independência e 134º da República.</p><p class=\"assinaPr\">ANTÔNIO HAMILTON MARTINS MOURÃO</p>\n",
      "<p class=\"titulo\">MINISTÉRIO DE MINAS E ENERGIA</p><p class=\"identifica\">DECRETO DE 31 DE DEZEMBRO DE 2022</p><p><strong>O VICE-PRESIDENTE DA REPÚBLICA</strong>, no exercício do cargo de<strong>PRESIDENTE DA REPÚBLICA,</strong>no uso da atribuição que lhe confere o art. 84,<strong>caput</strong>, inciso I, da Constituição, resolve:</p><p><strong>EXONERAR</strong></p><p>ADOLFO SACHSIDA do cargo de Ministro de Estado de Minas e Energia.</p><p>Brasília, 31 de dezembro de 2022; 201º da Independência e 134º da República.</p><p class=\"assinaPr\">ANTÔNIO HAMILTON MARTINS MOURÃO</p>\n",
      "<p class=\"titulo\">MINISTÉRIO DE MINAS E ENERGIA</p><p class=\"identifica\">DECRETO DE 31 DE DEZEMBRO DE 2022</p><p><strong>O VICE-PRESIDENTE DA REPÚBLICA</strong>, no exercício do cargo de<strong>PRESIDENTE DA REPÚBLICA,</strong>no uso da atribuição que lhe confere o art. 84,<strong>caput</strong>, inciso I, da Constituição, resolve:</p><p><strong>EXONERAR</strong></p><p>ADOLFO SACHSIDA do cargo de Ministro de Estado de Minas e Energia.</p><p>Brasília, 31 de dezembro de 2022; 201º da Independência e 134º da República.</p><p class=\"assinaPr\">ANTÔNIO HAMILTON MARTINS MOURÃO</p>\n",
      "<p class=\"titulo\">MINISTÉRIO DE MINAS E ENERGIA</p><p class=\"identifica\">DECRETO DE 31 DE DEZEMBRO DE 2022</p><p><strong>O VICE-PRESIDENTE DA REPÚBLICA</strong>, no exercício do cargo de<strong>PRESIDENTE DA REPÚBLICA,</strong>no uso da atribuição que lhe confere o art. 84,<strong>caput</strong>, inciso I, da Constituição, resolve:</p><p><strong>EXONERAR</strong></p><p>ADOLFO SACHSIDA do cargo de Ministro de Estado de Minas e Energia.</p><p>Brasília, 31 de dezembro de 2022; 201º da Independência e 134º da República.</p><p class=\"assinaPr\">ANTÔNIO HAMILTON MARTINS MOURÃO</p>\n",
      "<p class=\"titulo\">MINISTÉRIO DE MINAS E ENERGIA</p><p class=\"identifica\">DECRETO DE 31 DE DEZEMBRO DE 2022</p><p><strong>O VICE-PRESIDENTE DA REPÚBLICA</strong>, no exercício do cargo de<strong>PRESIDENTE DA REPÚBLICA,</strong>no uso da atribuição que lhe confere o art. 84,<strong>caput</strong>, inciso I, da Constituição, resolve:</p><p><strong>EXONERAR</strong></p><p>ADOLFO SACHSIDA do cargo de Ministro de Estado de Minas e Energia.</p><p>Brasília, 31 de dezembro de 2022; 201º da Independência e 134º da República.</p><p class=\"assinaPr\">ANTÔNIO HAMILTON MARTINS MOURÃO</p>\n",
      "<p class=\"titulo\">MINISTÉRIO DE MINAS E ENERGIA</p><p class=\"identifica\">DECRETO DE 31 DE DEZEMBRO DE 2022</p><p><strong>O VICE-PRESIDENTE DA REPÚBLICA</strong>, no exercício do cargo de<strong>PRESIDENTE DA REPÚBLICA,</strong>no uso da atribuição que lhe confere o art. 84,<strong>caput</strong>, inciso I, da Constituição, resolve:</p><p><strong>EXONERAR</strong></p><p>ADOLFO SACHSIDA do cargo de Ministro de Estado de Minas e Energia.</p><p>Brasília, 31 de dezembro de 2022; 201º da Independência e 134º da República.</p><p class=\"assinaPr\">ANTÔNIO HAMILTON MARTINS MOURÃO</p>\n",
      "<p class=\"titulo\">MINISTÉRIO DE MINAS E ENERGIA</p><p class=\"identifica\">DECRETO DE 31 DE DEZEMBRO DE 2022</p><p><strong>O VICE-PRESIDENTE DA REPÚBLICA</strong>, no exercício do cargo de<strong>PRESIDENTE DA REPÚBLICA,</strong>no uso da atribuição que lhe confere o art. 84,<strong>caput</strong>, inciso I, da Constituição, resolve:</p><p><strong>EXONERAR</strong></p><p>ADOLFO SACHSIDA do cargo de Ministro de Estado de Minas e Energia.</p><p>Brasília, 31 de dezembro de 2022; 201º da Independência e 134º da República.</p><p class=\"assinaPr\">ANTÔNIO HAMILTON MARTINS MOURÃO</p>\n",
      "<p class=\"titulo\">MINISTÉRIO DE MINAS E ENERGIA</p><p class=\"identifica\">DECRETO DE 31 DE DEZEMBRO DE 2022</p><p><strong>O VICE-PRESIDENTE DA REPÚBLICA</strong>, no exercício do cargo de<strong>PRESIDENTE DA REPÚBLICA,</strong>no uso da atribuição que lhe confere o art. 84,<strong>caput</strong>, inciso I, da Constituição, resolve:</p><p><strong>EXONERAR</strong></p><p>ADOLFO SACHSIDA do cargo de Ministro de Estado de Minas e Energia.</p><p>Brasília, 31 de dezembro de 2022; 201º da Independência e 134º da República.</p><p class=\"assinaPr\">ANTÔNIO HAMILTON MARTINS MOURÃO</p>\n",
      "<p class=\"titulo\">MINISTÉRIO DE MINAS E ENERGIA</p><p class=\"identifica\">DECRETO DE 31 DE DEZEMBRO DE 2022</p><p><strong>O VICE-PRESIDENTE DA REPÚBLICA</strong>, no exercício do cargo de<strong>PRESIDENTE DA REPÚBLICA,</strong>no uso da atribuição que lhe confere o art. 84,<strong>caput</strong>, inciso I, da Constituição, resolve:</p><p><strong>EXONERAR</strong></p><p>ADOLFO SACHSIDA do cargo de Ministro de Estado de Minas e Energia.</p><p>Brasília, 31 de dezembro de 2022; 201º da Independência e 134º da República.</p><p class=\"assinaPr\">ANTÔNIO HAMILTON MARTINS MOURÃO</p>\n",
      "<p class=\"titulo\">MINISTÉRIO DE MINAS E ENERGIA</p><p class=\"identifica\">DECRETO DE 31 DE DEZEMBRO DE 2022</p><p><strong>O VICE-PRESIDENTE DA REPÚBLICA</strong>, no exercício do cargo de<strong>PRESIDENTE DA REPÚBLICA,</strong>no uso da atribuição que lhe confere o art. 84,<strong>caput</strong>, inciso I, da Constituição, resolve:</p><p><strong>EXONERAR</strong></p><p>ADOLFO SACHSIDA do cargo de Ministro de Estado de Minas e Energia.</p><p>Brasília, 31 de dezembro de 2022; 201º da Independência e 134º da República.</p><p class=\"assinaPr\">ANTÔNIO HAMILTON MARTINS MOURÃO</p>\n",
      "<p class=\"titulo\">MINISTÉRIO DE MINAS E ENERGIA</p><p class=\"identifica\">DECRETO DE 31 DE DEZEMBRO DE 2022</p><p><strong>O VICE-PRESIDENTE DA REPÚBLICA</strong>, no exercício do cargo de<strong>PRESIDENTE DA REPÚBLICA,</strong>no uso da atribuição que lhe confere o art. 84,<strong>caput</strong>, inciso I, da Constituição, resolve:</p><p><strong>EXONERAR</strong></p><p>ADOLFO SACHSIDA do cargo de Ministro de Estado de Minas e Energia.</p><p>Brasília, 31 de dezembro de 2022; 201º da Independência e 134º da República.</p><p class=\"assinaPr\">ANTÔNIO HAMILTON MARTINS MOURÃO</p>\n",
      "<p class=\"titulo\">MINISTÉRIO DE MINAS E ENERGIA</p><p class=\"identifica\">DECRETO DE 31 DE DEZEMBRO DE 2022</p><p><strong>O VICE-PRESIDENTE DA REPÚBLICA</strong>, no exercício do cargo de<strong>PRESIDENTE DA REPÚBLICA,</strong>no uso da atribuição que lhe confere o art. 84,<strong>caput</strong>, inciso I, da Constituição, resolve:</p><p><strong>EXONERAR</strong></p><p>ADOLFO SACHSIDA do cargo de Ministro de Estado de Minas e Energia.</p><p>Brasília, 31 de dezembro de 2022; 201º da Independência e 134º da República.</p><p class=\"assinaPr\">ANTÔNIO HAMILTON MARTINS MOURÃO</p>\n",
      "<p class=\"titulo\">MINISTÉRIO DE MINAS E ENERGIA</p><p class=\"identifica\">DECRETO DE 31 DE DEZEMBRO DE 2022</p><p><strong>O VICE-PRESIDENTE DA REPÚBLICA</strong>, no exercício do cargo de<strong>PRESIDENTE DA REPÚBLICA,</strong>no uso da atribuição que lhe confere o art. 84,<strong>caput</strong>, inciso I, da Constituição, resolve:</p><p><strong>EXONERAR</strong></p><p>ADOLFO SACHSIDA do cargo de Ministro de Estado de Minas e Energia.</p><p>Brasília, 31 de dezembro de 2022; 201º da Independência e 134º da República.</p><p class=\"assinaPr\">ANTÔNIO HAMILTON MARTINS MOURÃO</p>\n",
      "<p class=\"titulo\">MINISTÉRIO DE MINAS E ENERGIA</p><p class=\"identifica\">DECRETO DE 31 DE DEZEMBRO DE 2022</p><p><strong>O VICE-PRESIDENTE DA REPÚBLICA</strong>, no exercício do cargo de<strong>PRESIDENTE DA REPÚBLICA,</strong>no uso da atribuição que lhe confere o art. 84,<strong>caput</strong>, inciso I, da Constituição, resolve:</p><p><strong>EXONERAR</strong></p><p>ADOLFO SACHSIDA do cargo de Ministro de Estado de Minas e Energia.</p><p>Brasília, 31 de dezembro de 2022; 201º da Independência e 134º da República.</p><p class=\"assinaPr\">ANTÔNIO HAMILTON MARTINS MOURÃO</p>\n",
      "<p class=\"titulo\">MINISTÉRIO DE MINAS E ENERGIA</p><p class=\"identifica\">DECRETO DE 31 DE DEZEMBRO DE 2022</p><p><strong>O VICE-PRESIDENTE DA REPÚBLICA</strong>, no exercício do cargo de<strong>PRESIDENTE DA REPÚBLICA,</strong>no uso da atribuição que lhe confere o art. 84,<strong>caput</strong>, inciso I, da Constituição, resolve:</p><p><strong>EXONERAR</strong></p><p>ADOLFO SACHSIDA do cargo de Ministro de Estado de Minas e Energia.</p><p>Brasília, 31 de dezembro de 2022; 201º da Independência e 134º da República.</p><p class=\"assinaPr\">ANTÔNIO HAMILTON MARTINS MOURÃO</p>\n",
      "<p class=\"titulo\">MINISTÉRIO DE MINAS E ENERGIA</p><p class=\"identifica\">DECRETO DE 31 DE DEZEMBRO DE 2022</p><p><strong>O VICE-PRESIDENTE DA REPÚBLICA</strong>, no exercício do cargo de<strong>PRESIDENTE DA REPÚBLICA,</strong>no uso da atribuição que lhe confere o art. 84,<strong>caput</strong>, inciso I, da Constituição, resolve:</p><p><strong>EXONERAR</strong></p><p>ADOLFO SACHSIDA do cargo de Ministro de Estado de Minas e Energia.</p><p>Brasília, 31 de dezembro de 2022; 201º da Independência e 134º da República.</p><p class=\"assinaPr\">ANTÔNIO HAMILTON MARTINS MOURÃO</p>\n",
      "<p class=\"titulo\">MINISTÉRIO DE MINAS E ENERGIA</p><p class=\"identifica\">DECRETO DE 31 DE DEZEMBRO DE 2022</p><p><strong>O VICE-PRESIDENTE DA REPÚBLICA</strong>, no exercício do cargo de<strong>PRESIDENTE DA REPÚBLICA,</strong>no uso da atribuição que lhe confere o art. 84,<strong>caput</strong>, inciso I, da Constituição, resolve:</p><p><strong>EXONERAR</strong></p><p>ADOLFO SACHSIDA do cargo de Ministro de Estado de Minas e Energia.</p><p>Brasília, 31 de dezembro de 2022; 201º da Independência e 134º da República.</p><p class=\"assinaPr\">ANTÔNIO HAMILTON MARTINS MOURÃO</p>\n",
      "<p class=\"titulo\">MINISTÉRIO DE MINAS E ENERGIA</p><p class=\"identifica\">DECRETO DE 31 DE DEZEMBRO DE 2022</p><p><strong>O VICE-PRESIDENTE DA REPÚBLICA</strong>, no exercício do cargo de<strong>PRESIDENTE DA REPÚBLICA,</strong>no uso da atribuição que lhe confere o art. 84,<strong>caput</strong>, inciso I, da Constituição, resolve:</p><p><strong>EXONERAR</strong></p><p>ADOLFO SACHSIDA do cargo de Ministro de Estado de Minas e Energia.</p><p>Brasília, 31 de dezembro de 2022; 201º da Independência e 134º da República.</p><p class=\"assinaPr\">ANTÔNIO HAMILTON MARTINS MOURÃO</p>\n",
      "<p class=\"titulo\">MINISTÉRIO DE MINAS E ENERGIA</p><p class=\"identifica\">DECRETO DE 31 DE DEZEMBRO DE 2022</p><p><strong>O VICE-PRESIDENTE DA REPÚBLICA</strong>, no exercício do cargo de<strong>PRESIDENTE DA REPÚBLICA,</strong>no uso da atribuição que lhe confere o art. 84,<strong>caput</strong>, inciso I, da Constituição, resolve:</p><p><strong>EXONERAR</strong></p><p>ADOLFO SACHSIDA do cargo de Ministro de Estado de Minas e Energia.</p><p>Brasília, 31 de dezembro de 2022; 201º da Independência e 134º da República.</p><p class=\"assinaPr\">ANTÔNIO HAMILTON MARTINS MOURÃO</p>\n",
      "<p class=\"titulo\">MINISTÉRIO DE MINAS E ENERGIA</p><p class=\"identifica\">DECRETO DE 31 DE DEZEMBRO DE 2022</p><p><strong>O VICE-PRESIDENTE DA REPÚBLICA</strong>, no exercício do cargo de<strong>PRESIDENTE DA REPÚBLICA,</strong>no uso da atribuição que lhe confere o art. 84,<strong>caput</strong>, inciso I, da Constituição, resolve:</p><p><strong>EXONERAR</strong></p><p>ADOLFO SACHSIDA do cargo de Ministro de Estado de Minas e Energia.</p><p>Brasília, 31 de dezembro de 2022; 201º da Independência e 134º da República.</p><p class=\"assinaPr\">ANTÔNIO HAMILTON MARTINS MOURÃO</p>\n",
      "<p class=\"titulo\">MINISTÉRIO DE MINAS E ENERGIA</p><p class=\"identifica\">DECRETO DE 31 DE DEZEMBRO DE 2022</p><p><strong>O VICE-PRESIDENTE DA REPÚBLICA</strong>, no exercício do cargo de<strong>PRESIDENTE DA REPÚBLICA,</strong>no uso da atribuição que lhe confere o art. 84,<strong>caput</strong>, inciso I, da Constituição, resolve:</p><p><strong>EXONERAR</strong></p><p>ADOLFO SACHSIDA do cargo de Ministro de Estado de Minas e Energia.</p><p>Brasília, 31 de dezembro de 2022; 201º da Independência e 134º da República.</p><p class=\"assinaPr\">ANTÔNIO HAMILTON MARTINS MOURÃO</p>\n",
      "<p class=\"titulo\">MINISTÉRIO DE MINAS E ENERGIA</p><p class=\"identifica\">DECRETO DE 31 DE DEZEMBRO DE 2022</p><p><strong>O VICE-PRESIDENTE DA REPÚBLICA</strong>, no exercício do cargo de<strong>PRESIDENTE DA REPÚBLICA,</strong>no uso da atribuição que lhe confere o art. 84,<strong>caput</strong>, inciso I, da Constituição, resolve:</p><p><strong>EXONERAR</strong></p><p>ADOLFO SACHSIDA do cargo de Ministro de Estado de Minas e Energia.</p><p>Brasília, 31 de dezembro de 2022; 201º da Independência e 134º da República.</p><p class=\"assinaPr\">ANTÔNIO HAMILTON MARTINS MOURÃO</p>\n",
      "<p class=\"titulo\">MINISTÉRIO DE MINAS E ENERGIA</p><p class=\"identifica\">DECRETO DE 31 DE DEZEMBRO DE 2022</p><p><strong>O VICE-PRESIDENTE DA REPÚBLICA</strong>, no exercício do cargo de<strong>PRESIDENTE DA REPÚBLICA,</strong>no uso da atribuição que lhe confere o art. 84,<strong>caput</strong>, inciso I, da Constituição, resolve:</p><p><strong>EXONERAR</strong></p><p>ADOLFO SACHSIDA do cargo de Ministro de Estado de Minas e Energia.</p><p>Brasília, 31 de dezembro de 2022; 201º da Independência e 134º da República.</p><p class=\"assinaPr\">ANTÔNIO HAMILTON MARTINS MOURÃO</p>\n",
      "<p class=\"titulo\">MINISTÉRIO DE MINAS E ENERGIA</p><p class=\"identifica\">DECRETO DE 31 DE DEZEMBRO DE 2022</p><p><strong>O VICE-PRESIDENTE DA REPÚBLICA</strong>, no exercício do cargo de<strong>PRESIDENTE DA REPÚBLICA,</strong>no uso da atribuição que lhe confere o art. 84,<strong>caput</strong>, inciso I, da Constituição, resolve:</p><p><strong>EXONERAR</strong></p><p>ADOLFO SACHSIDA do cargo de Ministro de Estado de Minas e Energia.</p><p>Brasília, 31 de dezembro de 2022; 201º da Independência e 134º da República.</p><p class=\"assinaPr\">ANTÔNIO HAMILTON MARTINS MOURÃO</p>\n",
      "<p class=\"titulo\">MINISTÉRIO DE MINAS E ENERGIA</p><p class=\"identifica\">DECRETO DE 31 DE DEZEMBRO DE 2022</p><p><strong>O VICE-PRESIDENTE DA REPÚBLICA</strong>, no exercício do cargo de<strong>PRESIDENTE DA REPÚBLICA,</strong>no uso da atribuição que lhe confere o art. 84,<strong>caput</strong>, inciso I, da Constituição, resolve:</p><p><strong>EXONERAR</strong></p><p>ADOLFO SACHSIDA do cargo de Ministro de Estado de Minas e Energia.</p><p>Brasília, 31 de dezembro de 2022; 201º da Independência e 134º da República.</p><p class=\"assinaPr\">ANTÔNIO HAMILTON MARTINS MOURÃO</p>\n",
      "<p class=\"titulo\">MINISTÉRIO DE MINAS E ENERGIA</p><p class=\"identifica\">DECRETO DE 31 DE DEZEMBRO DE 2022</p><p><strong>O VICE-PRESIDENTE DA REPÚBLICA</strong>, no exercício do cargo de<strong>PRESIDENTE DA REPÚBLICA,</strong>no uso da atribuição que lhe confere o art. 84,<strong>caput</strong>, inciso I, da Constituição, resolve:</p><p><strong>EXONERAR</strong></p><p>ADOLFO SACHSIDA do cargo de Ministro de Estado de Minas e Energia.</p><p>Brasília, 31 de dezembro de 2022; 201º da Independência e 134º da República.</p><p class=\"assinaPr\">ANTÔNIO HAMILTON MARTINS MOURÃO</p>\n",
      "<p class=\"titulo\">MINISTÉRIO DE MINAS E ENERGIA</p><p class=\"identifica\">DECRETO DE 31 DE DEZEMBRO DE 2022</p><p><strong>O VICE-PRESIDENTE DA REPÚBLICA</strong>, no exercício do cargo de<strong>PRESIDENTE DA REPÚBLICA,</strong>no uso da atribuição que lhe confere o art. 84,<strong>caput</strong>, inciso I, da Constituição, resolve:</p><p><strong>EXONERAR</strong></p><p>ADOLFO SACHSIDA do cargo de Ministro de Estado de Minas e Energia.</p><p>Brasília, 31 de dezembro de 2022; 201º da Independência e 134º da República.</p><p class=\"assinaPr\">ANTÔNIO HAMILTON MARTINS MOURÃO</p>\n",
      "<p class=\"titulo\">MINISTÉRIO DE MINAS E ENERGIA</p><p class=\"identifica\">DECRETO DE 31 DE DEZEMBRO DE 2022</p><p><strong>O VICE-PRESIDENTE DA REPÚBLICA</strong>, no exercício do cargo de<strong>PRESIDENTE DA REPÚBLICA,</strong>no uso da atribuição que lhe confere o art. 84,<strong>caput</strong>, inciso I, da Constituição, resolve:</p><p><strong>EXONERAR</strong></p><p>ADOLFO SACHSIDA do cargo de Ministro de Estado de Minas e Energia.</p><p>Brasília, 31 de dezembro de 2022; 201º da Independência e 134º da República.</p><p class=\"assinaPr\">ANTÔNIO HAMILTON MARTINS MOURÃO</p>\n",
      "<p class=\"titulo\">MINISTÉRIO DE MINAS E ENERGIA</p><p class=\"identifica\">DECRETO DE 31 DE DEZEMBRO DE 2022</p><p><strong>O VICE-PRESIDENTE DA REPÚBLICA</strong>, no exercício do cargo de<strong>PRESIDENTE DA REPÚBLICA,</strong>no uso da atribuição que lhe confere o art. 84,<strong>caput</strong>, inciso I, da Constituição, resolve:</p><p><strong>EXONERAR</strong></p><p>ADOLFO SACHSIDA do cargo de Ministro de Estado de Minas e Energia.</p><p>Brasília, 31 de dezembro de 2022; 201º da Independência e 134º da República.</p><p class=\"assinaPr\">ANTÔNIO HAMILTON MARTINS MOURÃO</p>\n",
      "<p class=\"titulo\">MINISTÉRIO DE MINAS E ENERGIA</p><p class=\"identifica\">DECRETO DE 31 DE DEZEMBRO DE 2022</p><p><strong>O VICE-PRESIDENTE DA REPÚBLICA</strong>, no exercício do cargo de<strong>PRESIDENTE DA REPÚBLICA,</strong>no uso da atribuição que lhe confere o art. 84,<strong>caput</strong>, inciso I, da Constituição, resolve:</p><p><strong>EXONERAR</strong></p><p>ADOLFO SACHSIDA do cargo de Ministro de Estado de Minas e Energia.</p><p>Brasília, 31 de dezembro de 2022; 201º da Independência e 134º da República.</p><p class=\"assinaPr\">ANTÔNIO HAMILTON MARTINS MOURÃO</p>\n",
      "<p class=\"titulo\">MINISTÉRIO DE MINAS E ENERGIA</p><p class=\"identifica\">DECRETO DE 31 DE DEZEMBRO DE 2022</p><p><strong>O VICE-PRESIDENTE DA REPÚBLICA</strong>, no exercício do cargo de<strong>PRESIDENTE DA REPÚBLICA,</strong>no uso da atribuição que lhe confere o art. 84,<strong>caput</strong>, inciso I, da Constituição, resolve:</p><p><strong>EXONERAR</strong></p><p>ADOLFO SACHSIDA do cargo de Ministro de Estado de Minas e Energia.</p><p>Brasília, 31 de dezembro de 2022; 201º da Independência e 134º da República.</p><p class=\"assinaPr\">ANTÔNIO HAMILTON MARTINS MOURÃO</p>\n",
      "<p class=\"titulo\">MINISTÉRIO DE MINAS E ENERGIA</p><p class=\"identifica\">DECRETO DE 31 DE DEZEMBRO DE 2022</p><p><strong>O VICE-PRESIDENTE DA REPÚBLICA</strong>, no exercício do cargo de<strong>PRESIDENTE DA REPÚBLICA,</strong>no uso da atribuição que lhe confere o art. 84,<strong>caput</strong>, inciso I, da Constituição, resolve:</p><p><strong>EXONERAR</strong></p><p>ADOLFO SACHSIDA do cargo de Ministro de Estado de Minas e Energia.</p><p>Brasília, 31 de dezembro de 2022; 201º da Independência e 134º da República.</p><p class=\"assinaPr\">ANTÔNIO HAMILTON MARTINS MOURÃO</p>\n",
      "<p class=\"titulo\">MINISTÉRIO DE MINAS E ENERGIA</p><p class=\"identifica\">DECRETO DE 31 DE DEZEMBRO DE 2022</p><p><strong>O VICE-PRESIDENTE DA REPÚBLICA</strong>, no exercício do cargo de<strong>PRESIDENTE DA REPÚBLICA,</strong>no uso da atribuição que lhe confere o art. 84,<strong>caput</strong>, inciso I, da Constituição, resolve:</p><p><strong>EXONERAR</strong></p><p>ADOLFO SACHSIDA do cargo de Ministro de Estado de Minas e Energia.</p><p>Brasília, 31 de dezembro de 2022; 201º da Independência e 134º da República.</p><p class=\"assinaPr\">ANTÔNIO HAMILTON MARTINS MOURÃO</p>\n",
      "<p class=\"titulo\">MINISTÉRIO DE MINAS E ENERGIA</p><p class=\"identifica\">DECRETO DE 31 DE DEZEMBRO DE 2022</p><p><strong>O VICE-PRESIDENTE DA REPÚBLICA</strong>, no exercício do cargo de<strong>PRESIDENTE DA REPÚBLICA,</strong>no uso da atribuição que lhe confere o art. 84,<strong>caput</strong>, inciso I, da Constituição, resolve:</p><p><strong>EXONERAR</strong></p><p>ADOLFO SACHSIDA do cargo de Ministro de Estado de Minas e Energia.</p><p>Brasília, 31 de dezembro de 2022; 201º da Independência e 134º da República.</p><p class=\"assinaPr\">ANTÔNIO HAMILTON MARTINS MOURÃO</p>\n",
      "<p class=\"titulo\">MINISTÉRIO DE MINAS E ENERGIA</p><p class=\"identifica\">DECRETO DE 31 DE DEZEMBRO DE 2022</p><p><strong>O VICE-PRESIDENTE DA REPÚBLICA</strong>, no exercício do cargo de<strong>PRESIDENTE DA REPÚBLICA,</strong>no uso da atribuição que lhe confere o art. 84,<strong>caput</strong>, inciso I, da Constituição, resolve:</p><p><strong>EXONERAR</strong></p><p>ADOLFO SACHSIDA do cargo de Ministro de Estado de Minas e Energia.</p><p>Brasília, 31 de dezembro de 2022; 201º da Independência e 134º da República.</p><p class=\"assinaPr\">ANTÔNIO HAMILTON MARTINS MOURÃO</p>\n",
      "<p class=\"titulo\">MINISTÉRIO DE MINAS E ENERGIA</p><p class=\"identifica\">DECRETO DE 31 DE DEZEMBRO DE 2022</p><p><strong>O VICE-PRESIDENTE DA REPÚBLICA</strong>, no exercício do cargo de<strong>PRESIDENTE DA REPÚBLICA,</strong>no uso da atribuição que lhe confere o art. 84,<strong>caput</strong>, inciso I, da Constituição, resolve:</p><p><strong>EXONERAR</strong></p><p>ADOLFO SACHSIDA do cargo de Ministro de Estado de Minas e Energia.</p><p>Brasília, 31 de dezembro de 2022; 201º da Independência e 134º da República.</p><p class=\"assinaPr\">ANTÔNIO HAMILTON MARTINS MOURÃO</p>\n",
      "<p class=\"titulo\">MINISTÉRIO DE MINAS E ENERGIA</p><p class=\"identifica\">DECRETO DE 31 DE DEZEMBRO DE 2022</p><p><strong>O VICE-PRESIDENTE DA REPÚBLICA</strong>, no exercício do cargo de<strong>PRESIDENTE DA REPÚBLICA,</strong>no uso da atribuição que lhe confere o art. 84,<strong>caput</strong>, inciso I, da Constituição, resolve:</p><p><strong>EXONERAR</strong></p><p>ADOLFO SACHSIDA do cargo de Ministro de Estado de Minas e Energia.</p><p>Brasília, 31 de dezembro de 2022; 201º da Independência e 134º da República.</p><p class=\"assinaPr\">ANTÔNIO HAMILTON MARTINS MOURÃO</p>\n",
      "<p class=\"titulo\">MINISTÉRIO DE MINAS E ENERGIA</p><p class=\"identifica\">DECRETO DE 31 DE DEZEMBRO DE 2022</p><p><strong>O VICE-PRESIDENTE DA REPÚBLICA</strong>, no exercício do cargo de<strong>PRESIDENTE DA REPÚBLICA,</strong>no uso da atribuição que lhe confere o art. 84,<strong>caput</strong>, inciso I, da Constituição, resolve:</p><p><strong>EXONERAR</strong></p><p>ADOLFO SACHSIDA do cargo de Ministro de Estado de Minas e Energia.</p><p>Brasília, 31 de dezembro de 2022; 201º da Independência e 134º da República.</p><p class=\"assinaPr\">ANTÔNIO HAMILTON MARTINS MOURÃO</p>\n",
      "<p class=\"titulo\">MINISTÉRIO DE MINAS E ENERGIA</p><p class=\"identifica\">DECRETO DE 31 DE DEZEMBRO DE 2022</p><p><strong>O VICE-PRESIDENTE DA REPÚBLICA</strong>, no exercício do cargo de<strong>PRESIDENTE DA REPÚBLICA,</strong>no uso da atribuição que lhe confere o art. 84,<strong>caput</strong>, inciso I, da Constituição, resolve:</p><p><strong>EXONERAR</strong></p><p>ADOLFO SACHSIDA do cargo de Ministro de Estado de Minas e Energia.</p><p>Brasília, 31 de dezembro de 2022; 201º da Independência e 134º da República.</p><p class=\"assinaPr\">ANTÔNIO HAMILTON MARTINS MOURÃO</p>\n",
      "<p class=\"titulo\">MINISTÉRIO DE MINAS E ENERGIA</p><p class=\"identifica\">DECRETO DE 31 DE DEZEMBRO DE 2022</p><p><strong>O VICE-PRESIDENTE DA REPÚBLICA</strong>, no exercício do cargo de<strong>PRESIDENTE DA REPÚBLICA,</strong>no uso da atribuição que lhe confere o art. 84,<strong>caput</strong>, inciso I, da Constituição, resolve:</p><p><strong>EXONERAR</strong></p><p>ADOLFO SACHSIDA do cargo de Ministro de Estado de Minas e Energia.</p><p>Brasília, 31 de dezembro de 2022; 201º da Independência e 134º da República.</p><p class=\"assinaPr\">ANTÔNIO HAMILTON MARTINS MOURÃO</p>\n",
      "<p class=\"titulo\">MINISTÉRIO DE MINAS E ENERGIA</p><p class=\"identifica\">DECRETO DE 31 DE DEZEMBRO DE 2022</p><p><strong>O VICE-PRESIDENTE DA REPÚBLICA</strong>, no exercício do cargo de<strong>PRESIDENTE DA REPÚBLICA,</strong>no uso da atribuição que lhe confere o art. 84,<strong>caput</strong>, inciso I, da Constituição, resolve:</p><p><strong>EXONERAR</strong></p><p>ADOLFO SACHSIDA do cargo de Ministro de Estado de Minas e Energia.</p><p>Brasília, 31 de dezembro de 2022; 201º da Independência e 134º da República.</p><p class=\"assinaPr\">ANTÔNIO HAMILTON MARTINS MOURÃO</p>\n",
      "<p class=\"titulo\">MINISTÉRIO DE MINAS E ENERGIA</p><p class=\"identifica\">DECRETO DE 31 DE DEZEMBRO DE 2022</p><p><strong>O VICE-PRESIDENTE DA REPÚBLICA</strong>, no exercício do cargo de<strong>PRESIDENTE DA REPÚBLICA,</strong>no uso da atribuição que lhe confere o art. 84,<strong>caput</strong>, inciso I, da Constituição, resolve:</p><p><strong>EXONERAR</strong></p><p>ADOLFO SACHSIDA do cargo de Ministro de Estado de Minas e Energia.</p><p>Brasília, 31 de dezembro de 2022; 201º da Independência e 134º da República.</p><p class=\"assinaPr\">ANTÔNIO HAMILTON MARTINS MOURÃO</p>\n",
      "<p class=\"titulo\">MINISTÉRIO DE MINAS E ENERGIA</p><p class=\"identifica\">DECRETO DE 31 DE DEZEMBRO DE 2022</p><p><strong>O VICE-PRESIDENTE DA REPÚBLICA</strong>, no exercício do cargo de<strong>PRESIDENTE DA REPÚBLICA,</strong>no uso da atribuição que lhe confere o art. 84,<strong>caput</strong>, inciso I, da Constituição, resolve:</p><p><strong>EXONERAR</strong></p><p>ADOLFO SACHSIDA do cargo de Ministro de Estado de Minas e Energia.</p><p>Brasília, 31 de dezembro de 2022; 201º da Independência e 134º da República.</p><p class=\"assinaPr\">ANTÔNIO HAMILTON MARTINS MOURÃO</p>\n",
      "<p class=\"titulo\">MINISTÉRIO DE MINAS E ENERGIA</p><p class=\"identifica\">DECRETO DE 31 DE DEZEMBRO DE 2022</p><p><strong>O VICE-PRESIDENTE DA REPÚBLICA</strong>, no exercício do cargo de<strong>PRESIDENTE DA REPÚBLICA,</strong>no uso da atribuição que lhe confere o art. 84,<strong>caput</strong>, inciso I, da Constituição, resolve:</p><p><strong>EXONERAR</strong></p><p>ADOLFO SACHSIDA do cargo de Ministro de Estado de Minas e Energia.</p><p>Brasília, 31 de dezembro de 2022; 201º da Independência e 134º da República.</p><p class=\"assinaPr\">ANTÔNIO HAMILTON MARTINS MOURÃO</p>\n",
      "<p class=\"titulo\">MINISTÉRIO DE MINAS E ENERGIA</p><p class=\"identifica\">DECRETO DE 31 DE DEZEMBRO DE 2022</p><p><strong>O VICE-PRESIDENTE DA REPÚBLICA</strong>, no exercício do cargo de<strong>PRESIDENTE DA REPÚBLICA,</strong>no uso da atribuição que lhe confere o art. 84,<strong>caput</strong>, inciso I, da Constituição, resolve:</p><p><strong>EXONERAR</strong></p><p>ADOLFO SACHSIDA do cargo de Ministro de Estado de Minas e Energia.</p><p>Brasília, 31 de dezembro de 2022; 201º da Independência e 134º da República.</p><p class=\"assinaPr\">ANTÔNIO HAMILTON MARTINS MOURÃO</p>\n",
      "<p class=\"titulo\">MINISTÉRIO DE MINAS E ENERGIA</p><p class=\"identifica\">DECRETO DE 31 DE DEZEMBRO DE 2022</p><p><strong>O VICE-PRESIDENTE DA REPÚBLICA</strong>, no exercício do cargo de<strong>PRESIDENTE DA REPÚBLICA,</strong>no uso da atribuição que lhe confere o art. 84,<strong>caput</strong>, inciso I, da Constituição, resolve:</p><p><strong>EXONERAR</strong></p><p>ADOLFO SACHSIDA do cargo de Ministro de Estado de Minas e Energia.</p><p>Brasília, 31 de dezembro de 2022; 201º da Independência e 134º da República.</p><p class=\"assinaPr\">ANTÔNIO HAMILTON MARTINS MOURÃO</p>\n",
      "<p class=\"titulo\">MINISTÉRIO DE MINAS E ENERGIA</p><p class=\"identifica\">DECRETO DE 31 DE DEZEMBRO DE 2022</p><p><strong>O VICE-PRESIDENTE DA REPÚBLICA</strong>, no exercício do cargo de<strong>PRESIDENTE DA REPÚBLICA,</strong>no uso da atribuição que lhe confere o art. 84,<strong>caput</strong>, inciso I, da Constituição, resolve:</p><p><strong>EXONERAR</strong></p><p>ADOLFO SACHSIDA do cargo de Ministro de Estado de Minas e Energia.</p><p>Brasília, 31 de dezembro de 2022; 201º da Independência e 134º da República.</p><p class=\"assinaPr\">ANTÔNIO HAMILTON MARTINS MOURÃO</p>\n",
      "<p class=\"titulo\">MINISTÉRIO DE MINAS E ENERGIA</p><p class=\"identifica\">DECRETO DE 31 DE DEZEMBRO DE 2022</p><p><strong>O VICE-PRESIDENTE DA REPÚBLICA</strong>, no exercício do cargo de<strong>PRESIDENTE DA REPÚBLICA,</strong>no uso da atribuição que lhe confere o art. 84,<strong>caput</strong>, inciso I, da Constituição, resolve:</p><p><strong>EXONERAR</strong></p><p>ADOLFO SACHSIDA do cargo de Ministro de Estado de Minas e Energia.</p><p>Brasília, 31 de dezembro de 2022; 201º da Independência e 134º da República.</p><p class=\"assinaPr\">ANTÔNIO HAMILTON MARTINS MOURÃO</p>\n",
      "<p class=\"titulo\">MINISTÉRIO DE MINAS E ENERGIA</p><p class=\"identifica\">DECRETO DE 31 DE DEZEMBRO DE 2022</p><p><strong>O VICE-PRESIDENTE DA REPÚBLICA</strong>, no exercício do cargo de<strong>PRESIDENTE DA REPÚBLICA,</strong>no uso da atribuição que lhe confere o art. 84,<strong>caput</strong>, inciso I, da Constituição, resolve:</p><p><strong>EXONERAR</strong></p><p>ADOLFO SACHSIDA do cargo de Ministro de Estado de Minas e Energia.</p><p>Brasília, 31 de dezembro de 2022; 201º da Independência e 134º da República.</p><p class=\"assinaPr\">ANTÔNIO HAMILTON MARTINS MOURÃO</p>\n",
      "<p class=\"titulo\">MINISTÉRIO DE MINAS E ENERGIA</p><p class=\"identifica\">DECRETO DE 31 DE DEZEMBRO DE 2022</p><p><strong>O VICE-PRESIDENTE DA REPÚBLICA</strong>, no exercício do cargo de<strong>PRESIDENTE DA REPÚBLICA,</strong>no uso da atribuição que lhe confere o art. 84,<strong>caput</strong>, inciso I, da Constituição, resolve:</p><p><strong>EXONERAR</strong></p><p>ADOLFO SACHSIDA do cargo de Ministro de Estado de Minas e Energia.</p><p>Brasília, 31 de dezembro de 2022; 201º da Independência e 134º da República.</p><p class=\"assinaPr\">ANTÔNIO HAMILTON MARTINS MOURÃO</p>\n",
      "<p class=\"titulo\">MINISTÉRIO DE MINAS E ENERGIA</p><p class=\"identifica\">DECRETO DE 31 DE DEZEMBRO DE 2022</p><p><strong>O VICE-PRESIDENTE DA REPÚBLICA</strong>, no exercício do cargo de<strong>PRESIDENTE DA REPÚBLICA,</strong>no uso da atribuição que lhe confere o art. 84,<strong>caput</strong>, inciso I, da Constituição, resolve:</p><p><strong>EXONERAR</strong></p><p>ADOLFO SACHSIDA do cargo de Ministro de Estado de Minas e Energia.</p><p>Brasília, 31 de dezembro de 2022; 201º da Independência e 134º da República.</p><p class=\"assinaPr\">ANTÔNIO HAMILTON MARTINS MOURÃO</p>\n",
      "<p class=\"titulo\">MINISTÉRIO DE MINAS E ENERGIA</p><p class=\"identifica\">DECRETO DE 31 DE DEZEMBRO DE 2022</p><p><strong>O VICE-PRESIDENTE DA REPÚBLICA</strong>, no exercício do cargo de<strong>PRESIDENTE DA REPÚBLICA,</strong>no uso da atribuição que lhe confere o art. 84,<strong>caput</strong>, inciso I, da Constituição, resolve:</p><p><strong>EXONERAR</strong></p><p>ADOLFO SACHSIDA do cargo de Ministro de Estado de Minas e Energia.</p><p>Brasília, 31 de dezembro de 2022; 201º da Independência e 134º da República.</p><p class=\"assinaPr\">ANTÔNIO HAMILTON MARTINS MOURÃO</p>\n",
      "<p class=\"titulo\">MINISTÉRIO DE MINAS E ENERGIA</p><p class=\"identifica\">DECRETO DE 31 DE DEZEMBRO DE 2022</p><p><strong>O VICE-PRESIDENTE DA REPÚBLICA</strong>, no exercício do cargo de<strong>PRESIDENTE DA REPÚBLICA,</strong>no uso da atribuição que lhe confere o art. 84,<strong>caput</strong>, inciso I, da Constituição, resolve:</p><p><strong>EXONERAR</strong></p><p>ADOLFO SACHSIDA do cargo de Ministro de Estado de Minas e Energia.</p><p>Brasília, 31 de dezembro de 2022; 201º da Independência e 134º da República.</p><p class=\"assinaPr\">ANTÔNIO HAMILTON MARTINS MOURÃO</p>\n",
      "<p class=\"titulo\">MINISTÉRIO DE MINAS E ENERGIA</p><p class=\"identifica\">DECRETO DE 31 DE DEZEMBRO DE 2022</p><p><strong>O VICE-PRESIDENTE DA REPÚBLICA</strong>, no exercício do cargo de<strong>PRESIDENTE DA REPÚBLICA,</strong>no uso da atribuição que lhe confere o art. 84,<strong>caput</strong>, inciso I, da Constituição, resolve:</p><p><strong>EXONERAR</strong></p><p>ADOLFO SACHSIDA do cargo de Ministro de Estado de Minas e Energia.</p><p>Brasília, 31 de dezembro de 2022; 201º da Independência e 134º da República.</p><p class=\"assinaPr\">ANTÔNIO HAMILTON MARTINS MOURÃO</p>\n",
      "<p class=\"titulo\">MINISTÉRIO DE MINAS E ENERGIA</p><p class=\"identifica\">DECRETO DE 31 DE DEZEMBRO DE 2022</p><p><strong>O VICE-PRESIDENTE DA REPÚBLICA</strong>, no exercício do cargo de<strong>PRESIDENTE DA REPÚBLICA,</strong>no uso da atribuição que lhe confere o art. 84,<strong>caput</strong>, inciso I, da Constituição, resolve:</p><p><strong>EXONERAR</strong></p><p>ADOLFO SACHSIDA do cargo de Ministro de Estado de Minas e Energia.</p><p>Brasília, 31 de dezembro de 2022; 201º da Independência e 134º da República.</p><p class=\"assinaPr\">ANTÔNIO HAMILTON MARTINS MOURÃO</p>\n",
      "<p class=\"titulo\">MINISTÉRIO DE MINAS E ENERGIA</p><p class=\"identifica\">DECRETO DE 31 DE DEZEMBRO DE 2022</p><p><strong>O VICE-PRESIDENTE DA REPÚBLICA</strong>, no exercício do cargo de<strong>PRESIDENTE DA REPÚBLICA,</strong>no uso da atribuição que lhe confere o art. 84,<strong>caput</strong>, inciso I, da Constituição, resolve:</p><p><strong>EXONERAR</strong></p><p>ADOLFO SACHSIDA do cargo de Ministro de Estado de Minas e Energia.</p><p>Brasília, 31 de dezembro de 2022; 201º da Independência e 134º da República.</p><p class=\"assinaPr\">ANTÔNIO HAMILTON MARTINS MOURÃO</p>\n",
      "<p class=\"titulo\">MINISTÉRIO DE MINAS E ENERGIA</p><p class=\"identifica\">DECRETO DE 31 DE DEZEMBRO DE 2022</p><p><strong>O VICE-PRESIDENTE DA REPÚBLICA</strong>, no exercício do cargo de<strong>PRESIDENTE DA REPÚBLICA,</strong>no uso da atribuição que lhe confere o art. 84,<strong>caput</strong>, inciso I, da Constituição, resolve:</p><p><strong>EXONERAR</strong></p><p>ADOLFO SACHSIDA do cargo de Ministro de Estado de Minas e Energia.</p><p>Brasília, 31 de dezembro de 2022; 201º da Independência e 134º da República.</p><p class=\"assinaPr\">ANTÔNIO HAMILTON MARTINS MOURÃO</p>\n",
      "<p class=\"titulo\">MINISTÉRIO DE MINAS E ENERGIA</p><p class=\"identifica\">DECRETO DE 31 DE DEZEMBRO DE 2022</p><p><strong>O VICE-PRESIDENTE DA REPÚBLICA</strong>, no exercício do cargo de<strong>PRESIDENTE DA REPÚBLICA,</strong>no uso da atribuição que lhe confere o art. 84,<strong>caput</strong>, inciso I, da Constituição, resolve:</p><p><strong>EXONERAR</strong></p><p>ADOLFO SACHSIDA do cargo de Ministro de Estado de Minas e Energia.</p><p>Brasília, 31 de dezembro de 2022; 201º da Independência e 134º da República.</p><p class=\"assinaPr\">ANTÔNIO HAMILTON MARTINS MOURÃO</p>\n",
      "<p class=\"titulo\">MINISTÉRIO DE MINAS E ENERGIA</p><p class=\"identifica\">DECRETO DE 31 DE DEZEMBRO DE 2022</p><p><strong>O VICE-PRESIDENTE DA REPÚBLICA</strong>, no exercício do cargo de<strong>PRESIDENTE DA REPÚBLICA,</strong>no uso da atribuição que lhe confere o art. 84,<strong>caput</strong>, inciso I, da Constituição, resolve:</p><p><strong>EXONERAR</strong></p><p>ADOLFO SACHSIDA do cargo de Ministro de Estado de Minas e Energia.</p><p>Brasília, 31 de dezembro de 2022; 201º da Independência e 134º da República.</p><p class=\"assinaPr\">ANTÔNIO HAMILTON MARTINS MOURÃO</p>\n",
      "<p class=\"titulo\">MINISTÉRIO DE MINAS E ENERGIA</p><p class=\"identifica\">DECRETO DE 31 DE DEZEMBRO DE 2022</p><p><strong>O VICE-PRESIDENTE DA REPÚBLICA</strong>, no exercício do cargo de<strong>PRESIDENTE DA REPÚBLICA,</strong>no uso da atribuição que lhe confere o art. 84,<strong>caput</strong>, inciso I, da Constituição, resolve:</p><p><strong>EXONERAR</strong></p><p>ADOLFO SACHSIDA do cargo de Ministro de Estado de Minas e Energia.</p><p>Brasília, 31 de dezembro de 2022; 201º da Independência e 134º da República.</p><p class=\"assinaPr\">ANTÔNIO HAMILTON MARTINS MOURÃO</p>\n",
      "<p class=\"titulo\">MINISTÉRIO DE MINAS E ENERGIA</p><p class=\"identifica\">DECRETO DE 31 DE DEZEMBRO DE 2022</p><p><strong>O VICE-PRESIDENTE DA REPÚBLICA</strong>, no exercício do cargo de<strong>PRESIDENTE DA REPÚBLICA,</strong>no uso da atribuição que lhe confere o art. 84,<strong>caput</strong>, inciso I, da Constituição, resolve:</p><p><strong>EXONERAR</strong></p><p>ADOLFO SACHSIDA do cargo de Ministro de Estado de Minas e Energia.</p><p>Brasília, 31 de dezembro de 2022; 201º da Independência e 134º da República.</p><p class=\"assinaPr\">ANTÔNIO HAMILTON MARTINS MOURÃO</p>\n",
      "<p class=\"titulo\">MINISTÉRIO DE MINAS E ENERGIA</p><p class=\"identifica\">DECRETO DE 31 DE DEZEMBRO DE 2022</p><p><strong>O VICE-PRESIDENTE DA REPÚBLICA</strong>, no exercício do cargo de<strong>PRESIDENTE DA REPÚBLICA,</strong>no uso da atribuição que lhe confere o art. 84,<strong>caput</strong>, inciso I, da Constituição, resolve:</p><p><strong>EXONERAR</strong></p><p>ADOLFO SACHSIDA do cargo de Ministro de Estado de Minas e Energia.</p><p>Brasília, 31 de dezembro de 2022; 201º da Independência e 134º da República.</p><p class=\"assinaPr\">ANTÔNIO HAMILTON MARTINS MOURÃO</p>\n",
      "<p class=\"titulo\">MINISTÉRIO DE MINAS E ENERGIA</p><p class=\"identifica\">DECRETO DE 31 DE DEZEMBRO DE 2022</p><p><strong>O VICE-PRESIDENTE DA REPÚBLICA</strong>, no exercício do cargo de<strong>PRESIDENTE DA REPÚBLICA,</strong>no uso da atribuição que lhe confere o art. 84,<strong>caput</strong>, inciso I, da Constituição, resolve:</p><p><strong>EXONERAR</strong></p><p>ADOLFO SACHSIDA do cargo de Ministro de Estado de Minas e Energia.</p><p>Brasília, 31 de dezembro de 2022; 201º da Independência e 134º da República.</p><p class=\"assinaPr\">ANTÔNIO HAMILTON MARTINS MOURÃO</p>\n",
      "<p class=\"titulo\">MINISTÉRIO DE MINAS E ENERGIA</p><p class=\"identifica\">DECRETO DE 31 DE DEZEMBRO DE 2022</p><p><strong>O VICE-PRESIDENTE DA REPÚBLICA</strong>, no exercício do cargo de<strong>PRESIDENTE DA REPÚBLICA,</strong>no uso da atribuição que lhe confere o art. 84,<strong>caput</strong>, inciso I, da Constituição, resolve:</p><p><strong>EXONERAR</strong></p><p>ADOLFO SACHSIDA do cargo de Ministro de Estado de Minas e Energia.</p><p>Brasília, 31 de dezembro de 2022; 201º da Independência e 134º da República.</p><p class=\"assinaPr\">ANTÔNIO HAMILTON MARTINS MOURÃO</p>\n",
      "<p class=\"titulo\">MINISTÉRIO DE MINAS E ENERGIA</p><p class=\"identifica\">DECRETO DE 31 DE DEZEMBRO DE 2022</p><p><strong>O VICE-PRESIDENTE DA REPÚBLICA</strong>, no exercício do cargo de<strong>PRESIDENTE DA REPÚBLICA,</strong>no uso da atribuição que lhe confere o art. 84,<strong>caput</strong>, inciso I, da Constituição, resolve:</p><p><strong>EXONERAR</strong></p><p>ADOLFO SACHSIDA do cargo de Ministro de Estado de Minas e Energia.</p><p>Brasília, 31 de dezembro de 2022; 201º da Independência e 134º da República.</p><p class=\"assinaPr\">ANTÔNIO HAMILTON MARTINS MOURÃO</p>\n",
      "<p class=\"titulo\">MINISTÉRIO DE MINAS E ENERGIA</p><p class=\"identifica\">DECRETO DE 31 DE DEZEMBRO DE 2022</p><p><strong>O VICE-PRESIDENTE DA REPÚBLICA</strong>, no exercício do cargo de<strong>PRESIDENTE DA REPÚBLICA,</strong>no uso da atribuição que lhe confere o art. 84,<strong>caput</strong>, inciso I, da Constituição, resolve:</p><p><strong>EXONERAR</strong></p><p>ADOLFO SACHSIDA do cargo de Ministro de Estado de Minas e Energia.</p><p>Brasília, 31 de dezembro de 2022; 201º da Independência e 134º da República.</p><p class=\"assinaPr\">ANTÔNIO HAMILTON MARTINS MOURÃO</p>\n",
      "<p class=\"titulo\">MINISTÉRIO DE MINAS E ENERGIA</p><p class=\"identifica\">DECRETO DE 31 DE DEZEMBRO DE 2022</p><p><strong>O VICE-PRESIDENTE DA REPÚBLICA</strong>, no exercício do cargo de<strong>PRESIDENTE DA REPÚBLICA,</strong>no uso da atribuição que lhe confere o art. 84,<strong>caput</strong>, inciso I, da Constituição, resolve:</p><p><strong>EXONERAR</strong></p><p>ADOLFO SACHSIDA do cargo de Ministro de Estado de Minas e Energia.</p><p>Brasília, 31 de dezembro de 2022; 201º da Independência e 134º da República.</p><p class=\"assinaPr\">ANTÔNIO HAMILTON MARTINS MOURÃO</p>\n",
      "<p class=\"titulo\">MINISTÉRIO DE MINAS E ENERGIA</p><p class=\"identifica\">DECRETO DE 31 DE DEZEMBRO DE 2022</p><p><strong>O VICE-PRESIDENTE DA REPÚBLICA</strong>, no exercício do cargo de<strong>PRESIDENTE DA REPÚBLICA,</strong>no uso da atribuição que lhe confere o art. 84,<strong>caput</strong>, inciso I, da Constituição, resolve:</p><p><strong>EXONERAR</strong></p><p>ADOLFO SACHSIDA do cargo de Ministro de Estado de Minas e Energia.</p><p>Brasília, 31 de dezembro de 2022; 201º da Independência e 134º da República.</p><p class=\"assinaPr\">ANTÔNIO HAMILTON MARTINS MOURÃO</p>\n",
      "<p class=\"titulo\">MINISTÉRIO DE MINAS E ENERGIA</p><p class=\"identifica\">DECRETO DE 31 DE DEZEMBRO DE 2022</p><p><strong>O VICE-PRESIDENTE DA REPÚBLICA</strong>, no exercício do cargo de<strong>PRESIDENTE DA REPÚBLICA,</strong>no uso da atribuição que lhe confere o art. 84,<strong>caput</strong>, inciso I, da Constituição, resolve:</p><p><strong>EXONERAR</strong></p><p>ADOLFO SACHSIDA do cargo de Ministro de Estado de Minas e Energia.</p><p>Brasília, 31 de dezembro de 2022; 201º da Independência e 134º da República.</p><p class=\"assinaPr\">ANTÔNIO HAMILTON MARTINS MOURÃO</p>\n",
      "<p class=\"titulo\">MINISTÉRIO DE MINAS E ENERGIA</p><p class=\"identifica\">DECRETO DE 31 DE DEZEMBRO DE 2022</p><p><strong>O VICE-PRESIDENTE DA REPÚBLICA</strong>, no exercício do cargo de<strong>PRESIDENTE DA REPÚBLICA,</strong>no uso da atribuição que lhe confere o art. 84,<strong>caput</strong>, inciso I, da Constituição, resolve:</p><p><strong>EXONERAR</strong></p><p>ADOLFO SACHSIDA do cargo de Ministro de Estado de Minas e Energia.</p><p>Brasília, 31 de dezembro de 2022; 201º da Independência e 134º da República.</p><p class=\"assinaPr\">ANTÔNIO HAMILTON MARTINS MOURÃO</p>\n",
      "<p class=\"titulo\">MINISTÉRIO DE MINAS E ENERGIA</p><p class=\"identifica\">DECRETO DE 31 DE DEZEMBRO DE 2022</p><p><strong>O VICE-PRESIDENTE DA REPÚBLICA</strong>, no exercício do cargo de<strong>PRESIDENTE DA REPÚBLICA,</strong>no uso da atribuição que lhe confere o art. 84,<strong>caput</strong>, inciso I, da Constituição, resolve:</p><p><strong>EXONERAR</strong></p><p>ADOLFO SACHSIDA do cargo de Ministro de Estado de Minas e Energia.</p><p>Brasília, 31 de dezembro de 2022; 201º da Independência e 134º da República.</p><p class=\"assinaPr\">ANTÔNIO HAMILTON MARTINS MOURÃO</p>\n",
      "<p class=\"titulo\">MINISTÉRIO DE MINAS E ENERGIA</p><p class=\"identifica\">DECRETO DE 31 DE DEZEMBRO DE 2022</p><p><strong>O VICE-PRESIDENTE DA REPÚBLICA</strong>, no exercício do cargo de<strong>PRESIDENTE DA REPÚBLICA,</strong>no uso da atribuição que lhe confere o art. 84,<strong>caput</strong>, inciso I, da Constituição, resolve:</p><p><strong>EXONERAR</strong></p><p>ADOLFO SACHSIDA do cargo de Ministro de Estado de Minas e Energia.</p><p>Brasília, 31 de dezembro de 2022; 201º da Independência e 134º da República.</p><p class=\"assinaPr\">ANTÔNIO HAMILTON MARTINS MOURÃO</p>\n",
      "<p class=\"titulo\">MINISTÉRIO DE MINAS E ENERGIA</p><p class=\"identifica\">DECRETO DE 31 DE DEZEMBRO DE 2022</p><p><strong>O VICE-PRESIDENTE DA REPÚBLICA</strong>, no exercício do cargo de<strong>PRESIDENTE DA REPÚBLICA,</strong>no uso da atribuição que lhe confere o art. 84,<strong>caput</strong>, inciso I, da Constituição, resolve:</p><p><strong>EXONERAR</strong></p><p>ADOLFO SACHSIDA do cargo de Ministro de Estado de Minas e Energia.</p><p>Brasília, 31 de dezembro de 2022; 201º da Independência e 134º da República.</p><p class=\"assinaPr\">ANTÔNIO HAMILTON MARTINS MOURÃO</p>\n",
      "<p class=\"titulo\">MINISTÉRIO DE MINAS E ENERGIA</p><p class=\"identifica\">DECRETO DE 31 DE DEZEMBRO DE 2022</p><p><strong>O VICE-PRESIDENTE DA REPÚBLICA</strong>, no exercício do cargo de<strong>PRESIDENTE DA REPÚBLICA,</strong>no uso da atribuição que lhe confere o art. 84,<strong>caput</strong>, inciso I, da Constituição, resolve:</p><p><strong>EXONERAR</strong></p><p>ADOLFO SACHSIDA do cargo de Ministro de Estado de Minas e Energia.</p><p>Brasília, 31 de dezembro de 2022; 201º da Independência e 134º da República.</p><p class=\"assinaPr\">ANTÔNIO HAMILTON MARTINS MOURÃO</p>\n",
      "<p class=\"titulo\">MINISTÉRIO DE MINAS E ENERGIA</p><p class=\"identifica\">DECRETO DE 31 DE DEZEMBRO DE 2022</p><p><strong>O VICE-PRESIDENTE DA REPÚBLICA</strong>, no exercício do cargo de<strong>PRESIDENTE DA REPÚBLICA,</strong>no uso da atribuição que lhe confere o art. 84,<strong>caput</strong>, inciso I, da Constituição, resolve:</p><p><strong>EXONERAR</strong></p><p>ADOLFO SACHSIDA do cargo de Ministro de Estado de Minas e Energia.</p><p>Brasília, 31 de dezembro de 2022; 201º da Independência e 134º da República.</p><p class=\"assinaPr\">ANTÔNIO HAMILTON MARTINS MOURÃO</p>\n",
      "<p class=\"titulo\">MINISTÉRIO DE MINAS E ENERGIA</p><p class=\"identifica\">DECRETO DE 31 DE DEZEMBRO DE 2022</p><p><strong>O VICE-PRESIDENTE DA REPÚBLICA</strong>, no exercício do cargo de<strong>PRESIDENTE DA REPÚBLICA,</strong>no uso da atribuição que lhe confere o art. 84,<strong>caput</strong>, inciso I, da Constituição, resolve:</p><p><strong>EXONERAR</strong></p><p>ADOLFO SACHSIDA do cargo de Ministro de Estado de Minas e Energia.</p><p>Brasília, 31 de dezembro de 2022; 201º da Independência e 134º da República.</p><p class=\"assinaPr\">ANTÔNIO HAMILTON MARTINS MOURÃO</p>\n",
      "<p class=\"titulo\">MINISTÉRIO DE MINAS E ENERGIA</p><p class=\"identifica\">DECRETO DE 31 DE DEZEMBRO DE 2022</p><p><strong>O VICE-PRESIDENTE DA REPÚBLICA</strong>, no exercício do cargo de<strong>PRESIDENTE DA REPÚBLICA,</strong>no uso da atribuição que lhe confere o art. 84,<strong>caput</strong>, inciso I, da Constituição, resolve:</p><p><strong>EXONERAR</strong></p><p>ADOLFO SACHSIDA do cargo de Ministro de Estado de Minas e Energia.</p><p>Brasília, 31 de dezembro de 2022; 201º da Independência e 134º da República.</p><p class=\"assinaPr\">ANTÔNIO HAMILTON MARTINS MOURÃO</p>\n",
      "<p class=\"titulo\">MINISTÉRIO DE MINAS E ENERGIA</p><p class=\"identifica\">DECRETO DE 31 DE DEZEMBRO DE 2022</p><p><strong>O VICE-PRESIDENTE DA REPÚBLICA</strong>, no exercício do cargo de<strong>PRESIDENTE DA REPÚBLICA,</strong>no uso da atribuição que lhe confere o art. 84,<strong>caput</strong>, inciso I, da Constituição, resolve:</p><p><strong>EXONERAR</strong></p><p>ADOLFO SACHSIDA do cargo de Ministro de Estado de Minas e Energia.</p><p>Brasília, 31 de dezembro de 2022; 201º da Independência e 134º da República.</p><p class=\"assinaPr\">ANTÔNIO HAMILTON MARTINS MOURÃO</p>\n",
      "<p class=\"titulo\">MINISTÉRIO DE MINAS E ENERGIA</p><p class=\"identifica\">DECRETO DE 31 DE DEZEMBRO DE 2022</p><p><strong>O VICE-PRESIDENTE DA REPÚBLICA</strong>, no exercício do cargo de<strong>PRESIDENTE DA REPÚBLICA,</strong>no uso da atribuição que lhe confere o art. 84,<strong>caput</strong>, inciso I, da Constituição, resolve:</p><p><strong>EXONERAR</strong></p><p>ADOLFO SACHSIDA do cargo de Ministro de Estado de Minas e Energia.</p><p>Brasília, 31 de dezembro de 2022; 201º da Independência e 134º da República.</p><p class=\"assinaPr\">ANTÔNIO HAMILTON MARTINS MOURÃO</p>\n",
      "<p class=\"titulo\">MINISTÉRIO DE MINAS E ENERGIA</p><p class=\"identifica\">DECRETO DE 31 DE DEZEMBRO DE 2022</p><p><strong>O VICE-PRESIDENTE DA REPÚBLICA</strong>, no exercício do cargo de<strong>PRESIDENTE DA REPÚBLICA,</strong>no uso da atribuição que lhe confere o art. 84,<strong>caput</strong>, inciso I, da Constituição, resolve:</p><p><strong>EXONERAR</strong></p><p>ADOLFO SACHSIDA do cargo de Ministro de Estado de Minas e Energia.</p><p>Brasília, 31 de dezembro de 2022; 201º da Independência e 134º da República.</p><p class=\"assinaPr\">ANTÔNIO HAMILTON MARTINS MOURÃO</p>\n",
      "<p class=\"titulo\">MINISTÉRIO DE MINAS E ENERGIA</p><p class=\"identifica\">DECRETO DE 31 DE DEZEMBRO DE 2022</p><p><strong>O VICE-PRESIDENTE DA REPÚBLICA</strong>, no exercício do cargo de<strong>PRESIDENTE DA REPÚBLICA,</strong>no uso da atribuição que lhe confere o art. 84,<strong>caput</strong>, inciso I, da Constituição, resolve:</p><p><strong>EXONERAR</strong></p><p>ADOLFO SACHSIDA do cargo de Ministro de Estado de Minas e Energia.</p><p>Brasília, 31 de dezembro de 2022; 201º da Independência e 134º da República.</p><p class=\"assinaPr\">ANTÔNIO HAMILTON MARTINS MOURÃO</p>\n",
      "<p class=\"titulo\">MINISTÉRIO DE MINAS E ENERGIA</p><p class=\"identifica\">DECRETO DE 31 DE DEZEMBRO DE 2022</p><p><strong>O VICE-PRESIDENTE DA REPÚBLICA</strong>, no exercício do cargo de<strong>PRESIDENTE DA REPÚBLICA,</strong>no uso da atribuição que lhe confere o art. 84,<strong>caput</strong>, inciso I, da Constituição, resolve:</p><p><strong>EXONERAR</strong></p><p>ADOLFO SACHSIDA do cargo de Ministro de Estado de Minas e Energia.</p><p>Brasília, 31 de dezembro de 2022; 201º da Independência e 134º da República.</p><p class=\"assinaPr\">ANTÔNIO HAMILTON MARTINS MOURÃO</p>\n",
      "<p class=\"titulo\">MINISTÉRIO DE MINAS E ENERGIA</p><p class=\"identifica\">DECRETO DE 31 DE DEZEMBRO DE 2022</p><p><strong>O VICE-PRESIDENTE DA REPÚBLICA</strong>, no exercício do cargo de<strong>PRESIDENTE DA REPÚBLICA,</strong>no uso da atribuição que lhe confere o art. 84,<strong>caput</strong>, inciso I, da Constituição, resolve:</p><p><strong>EXONERAR</strong></p><p>ADOLFO SACHSIDA do cargo de Ministro de Estado de Minas e Energia.</p><p>Brasília, 31 de dezembro de 2022; 201º da Independência e 134º da República.</p><p class=\"assinaPr\">ANTÔNIO HAMILTON MARTINS MOURÃO</p>\n",
      "<p class=\"titulo\">MINISTÉRIO DE MINAS E ENERGIA</p><p class=\"identifica\">DECRETO DE 31 DE DEZEMBRO DE 2022</p><p><strong>O VICE-PRESIDENTE DA REPÚBLICA</strong>, no exercício do cargo de<strong>PRESIDENTE DA REPÚBLICA,</strong>no uso da atribuição que lhe confere o art. 84,<strong>caput</strong>, inciso I, da Constituição, resolve:</p><p><strong>EXONERAR</strong></p><p>ADOLFO SACHSIDA do cargo de Ministro de Estado de Minas e Energia.</p><p>Brasília, 31 de dezembro de 2022; 201º da Independência e 134º da República.</p><p class=\"assinaPr\">ANTÔNIO HAMILTON MARTINS MOURÃO</p>\n",
      "<p class=\"titulo\">MINISTÉRIO DE MINAS E ENERGIA</p><p class=\"identifica\">DECRETO DE 31 DE DEZEMBRO DE 2022</p><p><strong>O VICE-PRESIDENTE DA REPÚBLICA</strong>, no exercício do cargo de<strong>PRESIDENTE DA REPÚBLICA,</strong>no uso da atribuição que lhe confere o art. 84,<strong>caput</strong>, inciso I, da Constituição, resolve:</p><p><strong>EXONERAR</strong></p><p>ADOLFO SACHSIDA do cargo de Ministro de Estado de Minas e Energia.</p><p>Brasília, 31 de dezembro de 2022; 201º da Independência e 134º da República.</p><p class=\"assinaPr\">ANTÔNIO HAMILTON MARTINS MOURÃO</p>\n",
      "<p class=\"titulo\">MINISTÉRIO DE MINAS E ENERGIA</p><p class=\"identifica\">DECRETO DE 31 DE DEZEMBRO DE 2022</p><p><strong>O VICE-PRESIDENTE DA REPÚBLICA</strong>, no exercício do cargo de<strong>PRESIDENTE DA REPÚBLICA,</strong>no uso da atribuição que lhe confere o art. 84,<strong>caput</strong>, inciso I, da Constituição, resolve:</p><p><strong>EXONERAR</strong></p><p>ADOLFO SACHSIDA do cargo de Ministro de Estado de Minas e Energia.</p><p>Brasília, 31 de dezembro de 2022; 201º da Independência e 134º da República.</p><p class=\"assinaPr\">ANTÔNIO HAMILTON MARTINS MOURÃO</p>\n",
      "<p class=\"titulo\">MINISTÉRIO DE MINAS E ENERGIA</p><p class=\"identifica\">DECRETO DE 31 DE DEZEMBRO DE 2022</p><p><strong>O VICE-PRESIDENTE DA REPÚBLICA</strong>, no exercício do cargo de<strong>PRESIDENTE DA REPÚBLICA,</strong>no uso da atribuição que lhe confere o art. 84,<strong>caput</strong>, inciso I, da Constituição, resolve:</p><p><strong>EXONERAR</strong></p><p>ADOLFO SACHSIDA do cargo de Ministro de Estado de Minas e Energia.</p><p>Brasília, 31 de dezembro de 2022; 201º da Independência e 134º da República.</p><p class=\"assinaPr\">ANTÔNIO HAMILTON MARTINS MOURÃO</p>\n",
      "<p class=\"titulo\">MINISTÉRIO DE MINAS E ENERGIA</p><p class=\"identifica\">DECRETO DE 31 DE DEZEMBRO DE 2022</p><p><strong>O VICE-PRESIDENTE DA REPÚBLICA</strong>, no exercício do cargo de<strong>PRESIDENTE DA REPÚBLICA,</strong>no uso da atribuição que lhe confere o art. 84,<strong>caput</strong>, inciso I, da Constituição, resolve:</p><p><strong>EXONERAR</strong></p><p>ADOLFO SACHSIDA do cargo de Ministro de Estado de Minas e Energia.</p><p>Brasília, 31 de dezembro de 2022; 201º da Independência e 134º da República.</p><p class=\"assinaPr\">ANTÔNIO HAMILTON MARTINS MOURÃO</p>\n",
      "<p class=\"titulo\">MINISTÉRIO DE MINAS E ENERGIA</p><p class=\"identifica\">DECRETO DE 31 DE DEZEMBRO DE 2022</p><p><strong>O VICE-PRESIDENTE DA REPÚBLICA</strong>, no exercício do cargo de<strong>PRESIDENTE DA REPÚBLICA,</strong>no uso da atribuição que lhe confere o art. 84,<strong>caput</strong>, inciso I, da Constituição, resolve:</p><p><strong>EXONERAR</strong></p><p>ADOLFO SACHSIDA do cargo de Ministro de Estado de Minas e Energia.</p><p>Brasília, 31 de dezembro de 2022; 201º da Independência e 134º da República.</p><p class=\"assinaPr\">ANTÔNIO HAMILTON MARTINS MOURÃO</p>\n",
      "<p class=\"titulo\">MINISTÉRIO DE MINAS E ENERGIA</p><p class=\"identifica\">DECRETO DE 31 DE DEZEMBRO DE 2022</p><p><strong>O VICE-PRESIDENTE DA REPÚBLICA</strong>, no exercício do cargo de<strong>PRESIDENTE DA REPÚBLICA,</strong>no uso da atribuição que lhe confere o art. 84,<strong>caput</strong>, inciso I, da Constituição, resolve:</p><p><strong>EXONERAR</strong></p><p>ADOLFO SACHSIDA do cargo de Ministro de Estado de Minas e Energia.</p><p>Brasília, 31 de dezembro de 2022; 201º da Independência e 134º da República.</p><p class=\"assinaPr\">ANTÔNIO HAMILTON MARTINS MOURÃO</p>\n",
      "<p class=\"titulo\">MINISTÉRIO DE MINAS E ENERGIA</p><p class=\"identifica\">DECRETO DE 31 DE DEZEMBRO DE 2022</p><p><strong>O VICE-PRESIDENTE DA REPÚBLICA</strong>, no exercício do cargo de<strong>PRESIDENTE DA REPÚBLICA,</strong>no uso da atribuição que lhe confere o art. 84,<strong>caput</strong>, inciso I, da Constituição, resolve:</p><p><strong>EXONERAR</strong></p><p>ADOLFO SACHSIDA do cargo de Ministro de Estado de Minas e Energia.</p><p>Brasília, 31 de dezembro de 2022; 201º da Independência e 134º da República.</p><p class=\"assinaPr\">ANTÔNIO HAMILTON MARTINS MOURÃO</p>\n",
      "<p class=\"titulo\">MINISTÉRIO DE MINAS E ENERGIA</p><p class=\"identifica\">DECRETO DE 31 DE DEZEMBRO DE 2022</p><p><strong>O VICE-PRESIDENTE DA REPÚBLICA</strong>, no exercício do cargo de<strong>PRESIDENTE DA REPÚBLICA,</strong>no uso da atribuição que lhe confere o art. 84,<strong>caput</strong>, inciso I, da Constituição, resolve:</p><p><strong>EXONERAR</strong></p><p>ADOLFO SACHSIDA do cargo de Ministro de Estado de Minas e Energia.</p><p>Brasília, 31 de dezembro de 2022; 201º da Independência e 134º da República.</p><p class=\"assinaPr\">ANTÔNIO HAMILTON MARTINS MOURÃO</p>\n",
      "<p class=\"titulo\">MINISTÉRIO DE MINAS E ENERGIA</p><p class=\"identifica\">DECRETO DE 31 DE DEZEMBRO DE 2022</p><p><strong>O VICE-PRESIDENTE DA REPÚBLICA</strong>, no exercício do cargo de<strong>PRESIDENTE DA REPÚBLICA,</strong>no uso da atribuição que lhe confere o art. 84,<strong>caput</strong>, inciso I, da Constituição, resolve:</p><p><strong>EXONERAR</strong></p><p>ADOLFO SACHSIDA do cargo de Ministro de Estado de Minas e Energia.</p><p>Brasília, 31 de dezembro de 2022; 201º da Independência e 134º da República.</p><p class=\"assinaPr\">ANTÔNIO HAMILTON MARTINS MOURÃO</p>\n",
      "<p class=\"titulo\">MINISTÉRIO DE MINAS E ENERGIA</p><p class=\"identifica\">DECRETO DE 31 DE DEZEMBRO DE 2022</p><p><strong>O VICE-PRESIDENTE DA REPÚBLICA</strong>, no exercício do cargo de<strong>PRESIDENTE DA REPÚBLICA,</strong>no uso da atribuição que lhe confere o art. 84,<strong>caput</strong>, inciso I, da Constituição, resolve:</p><p><strong>EXONERAR</strong></p><p>ADOLFO SACHSIDA do cargo de Ministro de Estado de Minas e Energia.</p><p>Brasília, 31 de dezembro de 2022; 201º da Independência e 134º da República.</p><p class=\"assinaPr\">ANTÔNIO HAMILTON MARTINS MOURÃO</p>\n",
      "<p class=\"titulo\">MINISTÉRIO DE MINAS E ENERGIA</p><p class=\"identifica\">DECRETO DE 31 DE DEZEMBRO DE 2022</p><p><strong>O VICE-PRESIDENTE DA REPÚBLICA</strong>, no exercício do cargo de<strong>PRESIDENTE DA REPÚBLICA,</strong>no uso da atribuição que lhe confere o art. 84,<strong>caput</strong>, inciso I, da Constituição, resolve:</p><p><strong>EXONERAR</strong></p><p>ADOLFO SACHSIDA do cargo de Ministro de Estado de Minas e Energia.</p><p>Brasília, 31 de dezembro de 2022; 201º da Independência e 134º da República.</p><p class=\"assinaPr\">ANTÔNIO HAMILTON MARTINS MOURÃO</p>\n",
      "<p class=\"titulo\">MINISTÉRIO DE MINAS E ENERGIA</p><p class=\"identifica\">DECRETO DE 31 DE DEZEMBRO DE 2022</p><p><strong>O VICE-PRESIDENTE DA REPÚBLICA</strong>, no exercício do cargo de<strong>PRESIDENTE DA REPÚBLICA,</strong>no uso da atribuição que lhe confere o art. 84,<strong>caput</strong>, inciso I, da Constituição, resolve:</p><p><strong>EXONERAR</strong></p><p>ADOLFO SACHSIDA do cargo de Ministro de Estado de Minas e Energia.</p><p>Brasília, 31 de dezembro de 2022; 201º da Independência e 134º da República.</p><p class=\"assinaPr\">ANTÔNIO HAMILTON MARTINS MOURÃO</p>\n",
      "<p class=\"titulo\">MINISTÉRIO DE MINAS E ENERGIA</p><p class=\"identifica\">DECRETO DE 31 DE DEZEMBRO DE 2022</p><p><strong>O VICE-PRESIDENTE DA REPÚBLICA</strong>, no exercício do cargo de<strong>PRESIDENTE DA REPÚBLICA,</strong>no uso da atribuição que lhe confere o art. 84,<strong>caput</strong>, inciso I, da Constituição, resolve:</p><p><strong>EXONERAR</strong></p><p>ADOLFO SACHSIDA do cargo de Ministro de Estado de Minas e Energia.</p><p>Brasília, 31 de dezembro de 2022; 201º da Independência e 134º da República.</p><p class=\"assinaPr\">ANTÔNIO HAMILTON MARTINS MOURÃO</p>\n",
      "<p class=\"titulo\">MINISTÉRIO DE MINAS E ENERGIA</p><p class=\"identifica\">DECRETO DE 31 DE DEZEMBRO DE 2022</p><p><strong>O VICE-PRESIDENTE DA REPÚBLICA</strong>, no exercício do cargo de<strong>PRESIDENTE DA REPÚBLICA,</strong>no uso da atribuição que lhe confere o art. 84,<strong>caput</strong>, inciso I, da Constituição, resolve:</p><p><strong>EXONERAR</strong></p><p>ADOLFO SACHSIDA do cargo de Ministro de Estado de Minas e Energia.</p><p>Brasília, 31 de dezembro de 2022; 201º da Independência e 134º da República.</p><p class=\"assinaPr\">ANTÔNIO HAMILTON MARTINS MOURÃO</p>\n",
      "<p class=\"titulo\">MINISTÉRIO DE MINAS E ENERGIA</p><p class=\"identifica\">DECRETO DE 31 DE DEZEMBRO DE 2022</p><p><strong>O VICE-PRESIDENTE DA REPÚBLICA</strong>, no exercício do cargo de<strong>PRESIDENTE DA REPÚBLICA,</strong>no uso da atribuição que lhe confere o art. 84,<strong>caput</strong>, inciso I, da Constituição, resolve:</p><p><strong>EXONERAR</strong></p><p>ADOLFO SACHSIDA do cargo de Ministro de Estado de Minas e Energia.</p><p>Brasília, 31 de dezembro de 2022; 201º da Independência e 134º da República.</p><p class=\"assinaPr\">ANTÔNIO HAMILTON MARTINS MOURÃO</p>\n",
      "<p class=\"titulo\">MINISTÉRIO DE MINAS E ENERGIA</p><p class=\"identifica\">DECRETO DE 31 DE DEZEMBRO DE 2022</p><p><strong>O VICE-PRESIDENTE DA REPÚBLICA</strong>, no exercício do cargo de<strong>PRESIDENTE DA REPÚBLICA,</strong>no uso da atribuição que lhe confere o art. 84,<strong>caput</strong>, inciso I, da Constituição, resolve:</p><p><strong>EXONERAR</strong></p><p>ADOLFO SACHSIDA do cargo de Ministro de Estado de Minas e Energia.</p><p>Brasília, 31 de dezembro de 2022; 201º da Independência e 134º da República.</p><p class=\"assinaPr\">ANTÔNIO HAMILTON MARTINS MOURÃO</p>\n",
      "<p class=\"titulo\">MINISTÉRIO DE MINAS E ENERGIA</p><p class=\"identifica\">DECRETO DE 31 DE DEZEMBRO DE 2022</p><p><strong>O VICE-PRESIDENTE DA REPÚBLICA</strong>, no exercício do cargo de<strong>PRESIDENTE DA REPÚBLICA,</strong>no uso da atribuição que lhe confere o art. 84,<strong>caput</strong>, inciso I, da Constituição, resolve:</p><p><strong>EXONERAR</strong></p><p>ADOLFO SACHSIDA do cargo de Ministro de Estado de Minas e Energia.</p><p>Brasília, 31 de dezembro de 2022; 201º da Independência e 134º da República.</p><p class=\"assinaPr\">ANTÔNIO HAMILTON MARTINS MOURÃO</p>\n",
      "<p class=\"titulo\">MINISTÉRIO DE MINAS E ENERGIA</p><p class=\"identifica\">DECRETO DE 31 DE DEZEMBRO DE 2022</p><p><strong>O VICE-PRESIDENTE DA REPÚBLICA</strong>, no exercício do cargo de<strong>PRESIDENTE DA REPÚBLICA,</strong>no uso da atribuição que lhe confere o art. 84,<strong>caput</strong>, inciso I, da Constituição, resolve:</p><p><strong>EXONERAR</strong></p><p>ADOLFO SACHSIDA do cargo de Ministro de Estado de Minas e Energia.</p><p>Brasília, 31 de dezembro de 2022; 201º da Independência e 134º da República.</p><p class=\"assinaPr\">ANTÔNIO HAMILTON MARTINS MOURÃO</p>\n",
      "<p class=\"titulo\">MINISTÉRIO DE MINAS E ENERGIA</p><p class=\"identifica\">DECRETO DE 31 DE DEZEMBRO DE 2022</p><p><strong>O VICE-PRESIDENTE DA REPÚBLICA</strong>, no exercício do cargo de<strong>PRESIDENTE DA REPÚBLICA,</strong>no uso da atribuição que lhe confere o art. 84,<strong>caput</strong>, inciso I, da Constituição, resolve:</p><p><strong>EXONERAR</strong></p><p>ADOLFO SACHSIDA do cargo de Ministro de Estado de Minas e Energia.</p><p>Brasília, 31 de dezembro de 2022; 201º da Independência e 134º da República.</p><p class=\"assinaPr\">ANTÔNIO HAMILTON MARTINS MOURÃO</p>\n",
      "<p class=\"titulo\">MINISTÉRIO DE MINAS E ENERGIA</p><p class=\"identifica\">DECRETO DE 31 DE DEZEMBRO DE 2022</p><p><strong>O VICE-PRESIDENTE DA REPÚBLICA</strong>, no exercício do cargo de<strong>PRESIDENTE DA REPÚBLICA,</strong>no uso da atribuição que lhe confere o art. 84,<strong>caput</strong>, inciso I, da Constituição, resolve:</p><p><strong>EXONERAR</strong></p><p>ADOLFO SACHSIDA do cargo de Ministro de Estado de Minas e Energia.</p><p>Brasília, 31 de dezembro de 2022; 201º da Independência e 134º da República.</p><p class=\"assinaPr\">ANTÔNIO HAMILTON MARTINS MOURÃO</p>\n",
      "<p class=\"titulo\">MINISTÉRIO DE MINAS E ENERGIA</p><p class=\"identifica\">DECRETO DE 31 DE DEZEMBRO DE 2022</p><p><strong>O VICE-PRESIDENTE DA REPÚBLICA</strong>, no exercício do cargo de<strong>PRESIDENTE DA REPÚBLICA,</strong>no uso da atribuição que lhe confere o art. 84,<strong>caput</strong>, inciso I, da Constituição, resolve:</p><p><strong>EXONERAR</strong></p><p>ADOLFO SACHSIDA do cargo de Ministro de Estado de Minas e Energia.</p><p>Brasília, 31 de dezembro de 2022; 201º da Independência e 134º da República.</p><p class=\"assinaPr\">ANTÔNIO HAMILTON MARTINS MOURÃO</p>\n",
      "<p class=\"titulo\">MINISTÉRIO DE MINAS E ENERGIA</p><p class=\"identifica\">DECRETO DE 31 DE DEZEMBRO DE 2022</p><p><strong>O VICE-PRESIDENTE DA REPÚBLICA</strong>, no exercício do cargo de<strong>PRESIDENTE DA REPÚBLICA,</strong>no uso da atribuição que lhe confere o art. 84,<strong>caput</strong>, inciso I, da Constituição, resolve:</p><p><strong>EXONERAR</strong></p><p>ADOLFO SACHSIDA do cargo de Ministro de Estado de Minas e Energia.</p><p>Brasília, 31 de dezembro de 2022; 201º da Independência e 134º da República.</p><p class=\"assinaPr\">ANTÔNIO HAMILTON MARTINS MOURÃO</p>\n",
      "<p class=\"titulo\">MINISTÉRIO DE MINAS E ENERGIA</p><p class=\"identifica\">DECRETO DE 31 DE DEZEMBRO DE 2022</p><p><strong>O VICE-PRESIDENTE DA REPÚBLICA</strong>, no exercício do cargo de<strong>PRESIDENTE DA REPÚBLICA,</strong>no uso da atribuição que lhe confere o art. 84,<strong>caput</strong>, inciso I, da Constituição, resolve:</p><p><strong>EXONERAR</strong></p><p>ADOLFO SACHSIDA do cargo de Ministro de Estado de Minas e Energia.</p><p>Brasília, 31 de dezembro de 2022; 201º da Independência e 134º da República.</p><p class=\"assinaPr\">ANTÔNIO HAMILTON MARTINS MOURÃO</p>\n",
      "<p class=\"titulo\">MINISTÉRIO DE MINAS E ENERGIA</p><p class=\"identifica\">DECRETO DE 31 DE DEZEMBRO DE 2022</p><p><strong>O VICE-PRESIDENTE DA REPÚBLICA</strong>, no exercício do cargo de<strong>PRESIDENTE DA REPÚBLICA,</strong>no uso da atribuição que lhe confere o art. 84,<strong>caput</strong>, inciso I, da Constituição, resolve:</p><p><strong>EXONERAR</strong></p><p>ADOLFO SACHSIDA do cargo de Ministro de Estado de Minas e Energia.</p><p>Brasília, 31 de dezembro de 2022; 201º da Independência e 134º da República.</p><p class=\"assinaPr\">ANTÔNIO HAMILTON MARTINS MOURÃO</p>\n",
      "<p class=\"titulo\">MINISTÉRIO DE MINAS E ENERGIA</p><p class=\"identifica\">DECRETO DE 31 DE DEZEMBRO DE 2022</p><p><strong>O VICE-PRESIDENTE DA REPÚBLICA</strong>, no exercício do cargo de<strong>PRESIDENTE DA REPÚBLICA,</strong>no uso da atribuição que lhe confere o art. 84,<strong>caput</strong>, inciso I, da Constituição, resolve:</p><p><strong>EXONERAR</strong></p><p>ADOLFO SACHSIDA do cargo de Ministro de Estado de Minas e Energia.</p><p>Brasília, 31 de dezembro de 2022; 201º da Independência e 134º da República.</p><p class=\"assinaPr\">ANTÔNIO HAMILTON MARTINS MOURÃO</p>\n",
      "<p class=\"titulo\">MINISTÉRIO DE MINAS E ENERGIA</p><p class=\"identifica\">DECRETO DE 31 DE DEZEMBRO DE 2022</p><p><strong>O VICE-PRESIDENTE DA REPÚBLICA</strong>, no exercício do cargo de<strong>PRESIDENTE DA REPÚBLICA,</strong>no uso da atribuição que lhe confere o art. 84,<strong>caput</strong>, inciso I, da Constituição, resolve:</p><p><strong>EXONERAR</strong></p><p>ADOLFO SACHSIDA do cargo de Ministro de Estado de Minas e Energia.</p><p>Brasília, 31 de dezembro de 2022; 201º da Independência e 134º da República.</p><p class=\"assinaPr\">ANTÔNIO HAMILTON MARTINS MOURÃO</p>\n",
      "<p class=\"titulo\">MINISTÉRIO DE MINAS E ENERGIA</p><p class=\"identifica\">DECRETO DE 31 DE DEZEMBRO DE 2022</p><p><strong>O VICE-PRESIDENTE DA REPÚBLICA</strong>, no exercício do cargo de<strong>PRESIDENTE DA REPÚBLICA,</strong>no uso da atribuição que lhe confere o art. 84,<strong>caput</strong>, inciso I, da Constituição, resolve:</p><p><strong>EXONERAR</strong></p><p>ADOLFO SACHSIDA do cargo de Ministro de Estado de Minas e Energia.</p><p>Brasília, 31 de dezembro de 2022; 201º da Independência e 134º da República.</p><p class=\"assinaPr\">ANTÔNIO HAMILTON MARTINS MOURÃO</p>\n",
      "<p class=\"titulo\">MINISTÉRIO DE MINAS E ENERGIA</p><p class=\"identifica\">DECRETO DE 31 DE DEZEMBRO DE 2022</p><p><strong>O VICE-PRESIDENTE DA REPÚBLICA</strong>, no exercício do cargo de<strong>PRESIDENTE DA REPÚBLICA,</strong>no uso da atribuição que lhe confere o art. 84,<strong>caput</strong>, inciso I, da Constituição, resolve:</p><p><strong>EXONERAR</strong></p><p>ADOLFO SACHSIDA do cargo de Ministro de Estado de Minas e Energia.</p><p>Brasília, 31 de dezembro de 2022; 201º da Independência e 134º da República.</p><p class=\"assinaPr\">ANTÔNIO HAMILTON MARTINS MOURÃO</p>\n",
      "<p class=\"titulo\">MINISTÉRIO DE MINAS E ENERGIA</p><p class=\"identifica\">DECRETO DE 31 DE DEZEMBRO DE 2022</p><p><strong>O VICE-PRESIDENTE DA REPÚBLICA</strong>, no exercício do cargo de<strong>PRESIDENTE DA REPÚBLICA,</strong>no uso da atribuição que lhe confere o art. 84,<strong>caput</strong>, inciso I, da Constituição, resolve:</p><p><strong>EXONERAR</strong></p><p>ADOLFO SACHSIDA do cargo de Ministro de Estado de Minas e Energia.</p><p>Brasília, 31 de dezembro de 2022; 201º da Independência e 134º da República.</p><p class=\"assinaPr\">ANTÔNIO HAMILTON MARTINS MOURÃO</p>\n",
      "<p class=\"titulo\">MINISTÉRIO DE MINAS E ENERGIA</p><p class=\"identifica\">DECRETO DE 31 DE DEZEMBRO DE 2022</p><p><strong>O VICE-PRESIDENTE DA REPÚBLICA</strong>, no exercício do cargo de<strong>PRESIDENTE DA REPÚBLICA,</strong>no uso da atribuição que lhe confere o art. 84,<strong>caput</strong>, inciso I, da Constituição, resolve:</p><p><strong>EXONERAR</strong></p><p>ADOLFO SACHSIDA do cargo de Ministro de Estado de Minas e Energia.</p><p>Brasília, 31 de dezembro de 2022; 201º da Independência e 134º da República.</p><p class=\"assinaPr\">ANTÔNIO HAMILTON MARTINS MOURÃO</p>\n",
      "<p class=\"titulo\">MINISTÉRIO DE MINAS E ENERGIA</p><p class=\"identifica\">DECRETO DE 31 DE DEZEMBRO DE 2022</p><p><strong>O VICE-PRESIDENTE DA REPÚBLICA</strong>, no exercício do cargo de<strong>PRESIDENTE DA REPÚBLICA,</strong>no uso da atribuição que lhe confere o art. 84,<strong>caput</strong>, inciso I, da Constituição, resolve:</p><p><strong>EXONERAR</strong></p><p>ADOLFO SACHSIDA do cargo de Ministro de Estado de Minas e Energia.</p><p>Brasília, 31 de dezembro de 2022; 201º da Independência e 134º da República.</p><p class=\"assinaPr\">ANTÔNIO HAMILTON MARTINS MOURÃO</p>\n",
      "<p class=\"titulo\">MINISTÉRIO DE MINAS E ENERGIA</p><p class=\"identifica\">DECRETO DE 31 DE DEZEMBRO DE 2022</p><p><strong>O VICE-PRESIDENTE DA REPÚBLICA</strong>, no exercício do cargo de<strong>PRESIDENTE DA REPÚBLICA,</strong>no uso da atribuição que lhe confere o art. 84,<strong>caput</strong>, inciso I, da Constituição, resolve:</p><p><strong>EXONERAR</strong></p><p>ADOLFO SACHSIDA do cargo de Ministro de Estado de Minas e Energia.</p><p>Brasília, 31 de dezembro de 2022; 201º da Independência e 134º da República.</p><p class=\"assinaPr\">ANTÔNIO HAMILTON MARTINS MOURÃO</p>\n",
      "<p class=\"titulo\">MINISTÉRIO DE MINAS E ENERGIA</p><p class=\"identifica\">DECRETO DE 31 DE DEZEMBRO DE 2022</p><p><strong>O VICE-PRESIDENTE DA REPÚBLICA</strong>, no exercício do cargo de<strong>PRESIDENTE DA REPÚBLICA,</strong>no uso da atribuição que lhe confere o art. 84,<strong>caput</strong>, inciso I, da Constituição, resolve:</p><p><strong>EXONERAR</strong></p><p>ADOLFO SACHSIDA do cargo de Ministro de Estado de Minas e Energia.</p><p>Brasília, 31 de dezembro de 2022; 201º da Independência e 134º da República.</p><p class=\"assinaPr\">ANTÔNIO HAMILTON MARTINS MOURÃO</p>\n",
      "<p class=\"titulo\">MINISTÉRIO DE MINAS E ENERGIA</p><p class=\"identifica\">DECRETO DE 31 DE DEZEMBRO DE 2022</p><p><strong>O VICE-PRESIDENTE DA REPÚBLICA</strong>, no exercício do cargo de<strong>PRESIDENTE DA REPÚBLICA,</strong>no uso da atribuição que lhe confere o art. 84,<strong>caput</strong>, inciso I, da Constituição, resolve:</p><p><strong>EXONERAR</strong></p><p>ADOLFO SACHSIDA do cargo de Ministro de Estado de Minas e Energia.</p><p>Brasília, 31 de dezembro de 2022; 201º da Independência e 134º da República.</p><p class=\"assinaPr\">ANTÔNIO HAMILTON MARTINS MOURÃO</p>\n",
      "<p class=\"titulo\">MINISTÉRIO DE MINAS E ENERGIA</p><p class=\"identifica\">DECRETO DE 31 DE DEZEMBRO DE 2022</p><p><strong>O VICE-PRESIDENTE DA REPÚBLICA</strong>, no exercício do cargo de<strong>PRESIDENTE DA REPÚBLICA,</strong>no uso da atribuição que lhe confere o art. 84,<strong>caput</strong>, inciso I, da Constituição, resolve:</p><p><strong>EXONERAR</strong></p><p>ADOLFO SACHSIDA do cargo de Ministro de Estado de Minas e Energia.</p><p>Brasília, 31 de dezembro de 2022; 201º da Independência e 134º da República.</p><p class=\"assinaPr\">ANTÔNIO HAMILTON MARTINS MOURÃO</p>\n",
      "<p class=\"titulo\">MINISTÉRIO DE MINAS E ENERGIA</p><p class=\"identifica\">DECRETO DE 31 DE DEZEMBRO DE 2022</p><p><strong>O VICE-PRESIDENTE DA REPÚBLICA</strong>, no exercício do cargo de<strong>PRESIDENTE DA REPÚBLICA,</strong>no uso da atribuição que lhe confere o art. 84,<strong>caput</strong>, inciso I, da Constituição, resolve:</p><p><strong>EXONERAR</strong></p><p>ADOLFO SACHSIDA do cargo de Ministro de Estado de Minas e Energia.</p><p>Brasília, 31 de dezembro de 2022; 201º da Independência e 134º da República.</p><p class=\"assinaPr\">ANTÔNIO HAMILTON MARTINS MOURÃO</p>\n",
      "<p class=\"titulo\">MINISTÉRIO DE MINAS E ENERGIA</p><p class=\"identifica\">DECRETO DE 31 DE DEZEMBRO DE 2022</p><p><strong>O VICE-PRESIDENTE DA REPÚBLICA</strong>, no exercício do cargo de<strong>PRESIDENTE DA REPÚBLICA,</strong>no uso da atribuição que lhe confere o art. 84,<strong>caput</strong>, inciso I, da Constituição, resolve:</p><p><strong>EXONERAR</strong></p><p>ADOLFO SACHSIDA do cargo de Ministro de Estado de Minas e Energia.</p><p>Brasília, 31 de dezembro de 2022; 201º da Independência e 134º da República.</p><p class=\"assinaPr\">ANTÔNIO HAMILTON MARTINS MOURÃO</p>\n",
      "<p class=\"titulo\">MINISTÉRIO DE MINAS E ENERGIA</p><p class=\"identifica\">DECRETO DE 31 DE DEZEMBRO DE 2022</p><p><strong>O VICE-PRESIDENTE DA REPÚBLICA</strong>, no exercício do cargo de<strong>PRESIDENTE DA REPÚBLICA,</strong>no uso da atribuição que lhe confere o art. 84,<strong>caput</strong>, inciso I, da Constituição, resolve:</p><p><strong>EXONERAR</strong></p><p>ADOLFO SACHSIDA do cargo de Ministro de Estado de Minas e Energia.</p><p>Brasília, 31 de dezembro de 2022; 201º da Independência e 134º da República.</p><p class=\"assinaPr\">ANTÔNIO HAMILTON MARTINS MOURÃO</p>\n",
      "<p class=\"titulo\">MINISTÉRIO DE MINAS E ENERGIA</p><p class=\"identifica\">DECRETO DE 31 DE DEZEMBRO DE 2022</p><p><strong>O VICE-PRESIDENTE DA REPÚBLICA</strong>, no exercício do cargo de<strong>PRESIDENTE DA REPÚBLICA,</strong>no uso da atribuição que lhe confere o art. 84,<strong>caput</strong>, inciso I, da Constituição, resolve:</p><p><strong>EXONERAR</strong></p><p>ADOLFO SACHSIDA do cargo de Ministro de Estado de Minas e Energia.</p><p>Brasília, 31 de dezembro de 2022; 201º da Independência e 134º da República.</p><p class=\"assinaPr\">ANTÔNIO HAMILTON MARTINS MOURÃO</p>\n",
      "<p class=\"titulo\">MINISTÉRIO DE MINAS E ENERGIA</p><p class=\"identifica\">DECRETO DE 31 DE DEZEMBRO DE 2022</p><p><strong>O VICE-PRESIDENTE DA REPÚBLICA</strong>, no exercício do cargo de<strong>PRESIDENTE DA REPÚBLICA,</strong>no uso da atribuição que lhe confere o art. 84,<strong>caput</strong>, inciso I, da Constituição, resolve:</p><p><strong>EXONERAR</strong></p><p>ADOLFO SACHSIDA do cargo de Ministro de Estado de Minas e Energia.</p><p>Brasília, 31 de dezembro de 2022; 201º da Independência e 134º da República.</p><p class=\"assinaPr\">ANTÔNIO HAMILTON MARTINS MOURÃO</p>\n",
      "<p class=\"titulo\">MINISTÉRIO DE MINAS E ENERGIA</p><p class=\"identifica\">DECRETO DE 31 DE DEZEMBRO DE 2022</p><p><strong>O VICE-PRESIDENTE DA REPÚBLICA</strong>, no exercício do cargo de<strong>PRESIDENTE DA REPÚBLICA,</strong>no uso da atribuição que lhe confere o art. 84,<strong>caput</strong>, inciso I, da Constituição, resolve:</p><p><strong>EXONERAR</strong></p><p>ADOLFO SACHSIDA do cargo de Ministro de Estado de Minas e Energia.</p><p>Brasília, 31 de dezembro de 2022; 201º da Independência e 134º da República.</p><p class=\"assinaPr\">ANTÔNIO HAMILTON MARTINS MOURÃO</p>\n",
      "<p class=\"titulo\">MINISTÉRIO DE MINAS E ENERGIA</p><p class=\"identifica\">DECRETO DE 31 DE DEZEMBRO DE 2022</p><p><strong>O VICE-PRESIDENTE DA REPÚBLICA</strong>, no exercício do cargo de<strong>PRESIDENTE DA REPÚBLICA,</strong>no uso da atribuição que lhe confere o art. 84,<strong>caput</strong>, inciso I, da Constituição, resolve:</p><p><strong>EXONERAR</strong></p><p>ADOLFO SACHSIDA do cargo de Ministro de Estado de Minas e Energia.</p><p>Brasília, 31 de dezembro de 2022; 201º da Independência e 134º da República.</p><p class=\"assinaPr\">ANTÔNIO HAMILTON MARTINS MOURÃO</p>\n",
      "<p class=\"titulo\">MINISTÉRIO DE MINAS E ENERGIA</p><p class=\"identifica\">DECRETO DE 31 DE DEZEMBRO DE 2022</p><p><strong>O VICE-PRESIDENTE DA REPÚBLICA</strong>, no exercício do cargo de<strong>PRESIDENTE DA REPÚBLICA,</strong>no uso da atribuição que lhe confere o art. 84,<strong>caput</strong>, inciso I, da Constituição, resolve:</p><p><strong>EXONERAR</strong></p><p>ADOLFO SACHSIDA do cargo de Ministro de Estado de Minas e Energia.</p><p>Brasília, 31 de dezembro de 2022; 201º da Independência e 134º da República.</p><p class=\"assinaPr\">ANTÔNIO HAMILTON MARTINS MOURÃO</p>\n",
      "<p class=\"titulo\">MINISTÉRIO DE MINAS E ENERGIA</p><p class=\"identifica\">DECRETO DE 31 DE DEZEMBRO DE 2022</p><p><strong>O VICE-PRESIDENTE DA REPÚBLICA</strong>, no exercício do cargo de<strong>PRESIDENTE DA REPÚBLICA,</strong>no uso da atribuição que lhe confere o art. 84,<strong>caput</strong>, inciso I, da Constituição, resolve:</p><p><strong>EXONERAR</strong></p><p>ADOLFO SACHSIDA do cargo de Ministro de Estado de Minas e Energia.</p><p>Brasília, 31 de dezembro de 2022; 201º da Independência e 134º da República.</p><p class=\"assinaPr\">ANTÔNIO HAMILTON MARTINS MOURÃO</p>\n",
      "<p class=\"titulo\">MINISTÉRIO DE MINAS E ENERGIA</p><p class=\"identifica\">DECRETO DE 31 DE DEZEMBRO DE 2022</p><p><strong>O VICE-PRESIDENTE DA REPÚBLICA</strong>, no exercício do cargo de<strong>PRESIDENTE DA REPÚBLICA,</strong>no uso da atribuição que lhe confere o art. 84,<strong>caput</strong>, inciso I, da Constituição, resolve:</p><p><strong>EXONERAR</strong></p><p>ADOLFO SACHSIDA do cargo de Ministro de Estado de Minas e Energia.</p><p>Brasília, 31 de dezembro de 2022; 201º da Independência e 134º da República.</p><p class=\"assinaPr\">ANTÔNIO HAMILTON MARTINS MOURÃO</p>\n",
      "<p class=\"titulo\">MINISTÉRIO DE MINAS E ENERGIA</p><p class=\"identifica\">DECRETO DE 31 DE DEZEMBRO DE 2022</p><p><strong>O VICE-PRESIDENTE DA REPÚBLICA</strong>, no exercício do cargo de<strong>PRESIDENTE DA REPÚBLICA,</strong>no uso da atribuição que lhe confere o art. 84,<strong>caput</strong>, inciso I, da Constituição, resolve:</p><p><strong>EXONERAR</strong></p><p>ADOLFO SACHSIDA do cargo de Ministro de Estado de Minas e Energia.</p><p>Brasília, 31 de dezembro de 2022; 201º da Independência e 134º da República.</p><p class=\"assinaPr\">ANTÔNIO HAMILTON MARTINS MOURÃO</p>\n",
      "<p class=\"titulo\">MINISTÉRIO DE MINAS E ENERGIA</p><p class=\"identifica\">DECRETO DE 31 DE DEZEMBRO DE 2022</p><p><strong>O VICE-PRESIDENTE DA REPÚBLICA</strong>, no exercício do cargo de<strong>PRESIDENTE DA REPÚBLICA,</strong>no uso da atribuição que lhe confere o art. 84,<strong>caput</strong>, inciso I, da Constituição, resolve:</p><p><strong>EXONERAR</strong></p><p>ADOLFO SACHSIDA do cargo de Ministro de Estado de Minas e Energia.</p><p>Brasília, 31 de dezembro de 2022; 201º da Independência e 134º da República.</p><p class=\"assinaPr\">ANTÔNIO HAMILTON MARTINS MOURÃO</p>\n",
      "<p class=\"titulo\">MINISTÉRIO DE MINAS E ENERGIA</p><p class=\"identifica\">DECRETO DE 31 DE DEZEMBRO DE 2022</p><p><strong>O VICE-PRESIDENTE DA REPÚBLICA</strong>, no exercício do cargo de<strong>PRESIDENTE DA REPÚBLICA,</strong>no uso da atribuição que lhe confere o art. 84,<strong>caput</strong>, inciso I, da Constituição, resolve:</p><p><strong>EXONERAR</strong></p><p>ADOLFO SACHSIDA do cargo de Ministro de Estado de Minas e Energia.</p><p>Brasília, 31 de dezembro de 2022; 201º da Independência e 134º da República.</p><p class=\"assinaPr\">ANTÔNIO HAMILTON MARTINS MOURÃO</p>\n",
      "<p class=\"titulo\">MINISTÉRIO DE MINAS E ENERGIA</p><p class=\"identifica\">DECRETO DE 31 DE DEZEMBRO DE 2022</p><p><strong>O VICE-PRESIDENTE DA REPÚBLICA</strong>, no exercício do cargo de<strong>PRESIDENTE DA REPÚBLICA,</strong>no uso da atribuição que lhe confere o art. 84,<strong>caput</strong>, inciso I, da Constituição, resolve:</p><p><strong>EXONERAR</strong></p><p>ADOLFO SACHSIDA do cargo de Ministro de Estado de Minas e Energia.</p><p>Brasília, 31 de dezembro de 2022; 201º da Independência e 134º da República.</p><p class=\"assinaPr\">ANTÔNIO HAMILTON MARTINS MOURÃO</p>\n",
      "<p class=\"titulo\">MINISTÉRIO DE MINAS E ENERGIA</p><p class=\"identifica\">DECRETO DE 31 DE DEZEMBRO DE 2022</p><p><strong>O VICE-PRESIDENTE DA REPÚBLICA</strong>, no exercício do cargo de<strong>PRESIDENTE DA REPÚBLICA,</strong>no uso da atribuição que lhe confere o art. 84,<strong>caput</strong>, inciso I, da Constituição, resolve:</p><p><strong>EXONERAR</strong></p><p>ADOLFO SACHSIDA do cargo de Ministro de Estado de Minas e Energia.</p><p>Brasília, 31 de dezembro de 2022; 201º da Independência e 134º da República.</p><p class=\"assinaPr\">ANTÔNIO HAMILTON MARTINS MOURÃO</p>\n",
      "<p class=\"titulo\">MINISTÉRIO DE MINAS E ENERGIA</p><p class=\"identifica\">DECRETO DE 31 DE DEZEMBRO DE 2022</p><p><strong>O VICE-PRESIDENTE DA REPÚBLICA</strong>, no exercício do cargo de<strong>PRESIDENTE DA REPÚBLICA,</strong>no uso da atribuição que lhe confere o art. 84,<strong>caput</strong>, inciso I, da Constituição, resolve:</p><p><strong>EXONERAR</strong></p><p>ADOLFO SACHSIDA do cargo de Ministro de Estado de Minas e Energia.</p><p>Brasília, 31 de dezembro de 2022; 201º da Independência e 134º da República.</p><p class=\"assinaPr\">ANTÔNIO HAMILTON MARTINS MOURÃO</p>\n",
      "<p class=\"titulo\">MINISTÉRIO DE MINAS E ENERGIA</p><p class=\"identifica\">DECRETO DE 31 DE DEZEMBRO DE 2022</p><p><strong>O VICE-PRESIDENTE DA REPÚBLICA</strong>, no exercício do cargo de<strong>PRESIDENTE DA REPÚBLICA,</strong>no uso da atribuição que lhe confere o art. 84,<strong>caput</strong>, inciso I, da Constituição, resolve:</p><p><strong>EXONERAR</strong></p><p>ADOLFO SACHSIDA do cargo de Ministro de Estado de Minas e Energia.</p><p>Brasília, 31 de dezembro de 2022; 201º da Independência e 134º da República.</p><p class=\"assinaPr\">ANTÔNIO HAMILTON MARTINS MOURÃO</p>\n",
      "<p class=\"titulo\">MINISTÉRIO DE MINAS E ENERGIA</p><p class=\"identifica\">DECRETO DE 31 DE DEZEMBRO DE 2022</p><p><strong>O VICE-PRESIDENTE DA REPÚBLICA</strong>, no exercício do cargo de<strong>PRESIDENTE DA REPÚBLICA,</strong>no uso da atribuição que lhe confere o art. 84,<strong>caput</strong>, inciso I, da Constituição, resolve:</p><p><strong>EXONERAR</strong></p><p>ADOLFO SACHSIDA do cargo de Ministro de Estado de Minas e Energia.</p><p>Brasília, 31 de dezembro de 2022; 201º da Independência e 134º da República.</p><p class=\"assinaPr\">ANTÔNIO HAMILTON MARTINS MOURÃO</p>\n",
      "<p class=\"titulo\">MINISTÉRIO DE MINAS E ENERGIA</p><p class=\"identifica\">DECRETO DE 31 DE DEZEMBRO DE 2022</p><p><strong>O VICE-PRESIDENTE DA REPÚBLICA</strong>, no exercício do cargo de<strong>PRESIDENTE DA REPÚBLICA,</strong>no uso da atribuição que lhe confere o art. 84,<strong>caput</strong>, inciso I, da Constituição, resolve:</p><p><strong>EXONERAR</strong></p><p>ADOLFO SACHSIDA do cargo de Ministro de Estado de Minas e Energia.</p><p>Brasília, 31 de dezembro de 2022; 201º da Independência e 134º da República.</p><p class=\"assinaPr\">ANTÔNIO HAMILTON MARTINS MOURÃO</p>\n",
      "<p class=\"titulo\">MINISTÉRIO DE MINAS E ENERGIA</p><p class=\"identifica\">DECRETO DE 31 DE DEZEMBRO DE 2022</p><p><strong>O VICE-PRESIDENTE DA REPÚBLICA</strong>, no exercício do cargo de<strong>PRESIDENTE DA REPÚBLICA,</strong>no uso da atribuição que lhe confere o art. 84,<strong>caput</strong>, inciso I, da Constituição, resolve:</p><p><strong>EXONERAR</strong></p><p>ADOLFO SACHSIDA do cargo de Ministro de Estado de Minas e Energia.</p><p>Brasília, 31 de dezembro de 2022; 201º da Independência e 134º da República.</p><p class=\"assinaPr\">ANTÔNIO HAMILTON MARTINS MOURÃO</p>\n",
      "<p class=\"titulo\">MINISTÉRIO DE MINAS E ENERGIA</p><p class=\"identifica\">DECRETO DE 31 DE DEZEMBRO DE 2022</p><p><strong>O VICE-PRESIDENTE DA REPÚBLICA</strong>, no exercício do cargo de<strong>PRESIDENTE DA REPÚBLICA,</strong>no uso da atribuição que lhe confere o art. 84,<strong>caput</strong>, inciso I, da Constituição, resolve:</p><p><strong>EXONERAR</strong></p><p>ADOLFO SACHSIDA do cargo de Ministro de Estado de Minas e Energia.</p><p>Brasília, 31 de dezembro de 2022; 201º da Independência e 134º da República.</p><p class=\"assinaPr\">ANTÔNIO HAMILTON MARTINS MOURÃO</p>\n",
      "<p class=\"titulo\">MINISTÉRIO DE MINAS E ENERGIA</p><p class=\"identifica\">DECRETO DE 31 DE DEZEMBRO DE 2022</p><p><strong>O VICE-PRESIDENTE DA REPÚBLICA</strong>, no exercício do cargo de<strong>PRESIDENTE DA REPÚBLICA,</strong>no uso da atribuição que lhe confere o art. 84,<strong>caput</strong>, inciso I, da Constituição, resolve:</p><p><strong>EXONERAR</strong></p><p>ADOLFO SACHSIDA do cargo de Ministro de Estado de Minas e Energia.</p><p>Brasília, 31 de dezembro de 2022; 201º da Independência e 134º da República.</p><p class=\"assinaPr\">ANTÔNIO HAMILTON MARTINS MOURÃO</p>\n",
      "<p class=\"titulo\">MINISTÉRIO DE MINAS E ENERGIA</p><p class=\"identifica\">DECRETO DE 31 DE DEZEMBRO DE 2022</p><p><strong>O VICE-PRESIDENTE DA REPÚBLICA</strong>, no exercício do cargo de<strong>PRESIDENTE DA REPÚBLICA,</strong>no uso da atribuição que lhe confere o art. 84,<strong>caput</strong>, inciso I, da Constituição, resolve:</p><p><strong>EXONERAR</strong></p><p>ADOLFO SACHSIDA do cargo de Ministro de Estado de Minas e Energia.</p><p>Brasília, 31 de dezembro de 2022; 201º da Independência e 134º da República.</p><p class=\"assinaPr\">ANTÔNIO HAMILTON MARTINS MOURÃO</p>\n",
      "<p class=\"titulo\">MINISTÉRIO DE MINAS E ENERGIA</p><p class=\"identifica\">DECRETO DE 31 DE DEZEMBRO DE 2022</p><p><strong>O VICE-PRESIDENTE DA REPÚBLICA</strong>, no exercício do cargo de<strong>PRESIDENTE DA REPÚBLICA,</strong>no uso da atribuição que lhe confere o art. 84,<strong>caput</strong>, inciso I, da Constituição, resolve:</p><p><strong>EXONERAR</strong></p><p>ADOLFO SACHSIDA do cargo de Ministro de Estado de Minas e Energia.</p><p>Brasília, 31 de dezembro de 2022; 201º da Independência e 134º da República.</p><p class=\"assinaPr\">ANTÔNIO HAMILTON MARTINS MOURÃO</p>\n",
      "<p class=\"titulo\">MINISTÉRIO DE MINAS E ENERGIA</p><p class=\"identifica\">DECRETO DE 31 DE DEZEMBRO DE 2022</p><p><strong>O VICE-PRESIDENTE DA REPÚBLICA</strong>, no exercício do cargo de<strong>PRESIDENTE DA REPÚBLICA,</strong>no uso da atribuição que lhe confere o art. 84,<strong>caput</strong>, inciso I, da Constituição, resolve:</p><p><strong>EXONERAR</strong></p><p>ADOLFO SACHSIDA do cargo de Ministro de Estado de Minas e Energia.</p><p>Brasília, 31 de dezembro de 2022; 201º da Independência e 134º da República.</p><p class=\"assinaPr\">ANTÔNIO HAMILTON MARTINS MOURÃO</p>\n",
      "<p class=\"titulo\">MINISTÉRIO DE MINAS E ENERGIA</p><p class=\"identifica\">DECRETO DE 31 DE DEZEMBRO DE 2022</p><p><strong>O VICE-PRESIDENTE DA REPÚBLICA</strong>, no exercício do cargo de<strong>PRESIDENTE DA REPÚBLICA,</strong>no uso da atribuição que lhe confere o art. 84,<strong>caput</strong>, inciso I, da Constituição, resolve:</p><p><strong>EXONERAR</strong></p><p>ADOLFO SACHSIDA do cargo de Ministro de Estado de Minas e Energia.</p><p>Brasília, 31 de dezembro de 2022; 201º da Independência e 134º da República.</p><p class=\"assinaPr\">ANTÔNIO HAMILTON MARTINS MOURÃO</p>\n",
      "<p class=\"titulo\">MINISTÉRIO DE MINAS E ENERGIA</p><p class=\"identifica\">DECRETO DE 31 DE DEZEMBRO DE 2022</p><p><strong>O VICE-PRESIDENTE DA REPÚBLICA</strong>, no exercício do cargo de<strong>PRESIDENTE DA REPÚBLICA,</strong>no uso da atribuição que lhe confere o art. 84,<strong>caput</strong>, inciso I, da Constituição, resolve:</p><p><strong>EXONERAR</strong></p><p>ADOLFO SACHSIDA do cargo de Ministro de Estado de Minas e Energia.</p><p>Brasília, 31 de dezembro de 2022; 201º da Independência e 134º da República.</p><p class=\"assinaPr\">ANTÔNIO HAMILTON MARTINS MOURÃO</p>\n",
      "<p class=\"titulo\">MINISTÉRIO DE MINAS E ENERGIA</p><p class=\"identifica\">DECRETO DE 31 DE DEZEMBRO DE 2022</p><p><strong>O VICE-PRESIDENTE DA REPÚBLICA</strong>, no exercício do cargo de<strong>PRESIDENTE DA REPÚBLICA,</strong>no uso da atribuição que lhe confere o art. 84,<strong>caput</strong>, inciso I, da Constituição, resolve:</p><p><strong>EXONERAR</strong></p><p>ADOLFO SACHSIDA do cargo de Ministro de Estado de Minas e Energia.</p><p>Brasília, 31 de dezembro de 2022; 201º da Independência e 134º da República.</p><p class=\"assinaPr\">ANTÔNIO HAMILTON MARTINS MOURÃO</p>\n",
      "<p class=\"titulo\">MINISTÉRIO DE MINAS E ENERGIA</p><p class=\"identifica\">DECRETO DE 31 DE DEZEMBRO DE 2022</p><p><strong>O VICE-PRESIDENTE DA REPÚBLICA</strong>, no exercício do cargo de<strong>PRESIDENTE DA REPÚBLICA,</strong>no uso da atribuição que lhe confere o art. 84,<strong>caput</strong>, inciso I, da Constituição, resolve:</p><p><strong>EXONERAR</strong></p><p>ADOLFO SACHSIDA do cargo de Ministro de Estado de Minas e Energia.</p><p>Brasília, 31 de dezembro de 2022; 201º da Independência e 134º da República.</p><p class=\"assinaPr\">ANTÔNIO HAMILTON MARTINS MOURÃO</p>\n",
      "<p class=\"titulo\">MINISTÉRIO DE MINAS E ENERGIA</p><p class=\"identifica\">DECRETO DE 31 DE DEZEMBRO DE 2022</p><p><strong>O VICE-PRESIDENTE DA REPÚBLICA</strong>, no exercício do cargo de<strong>PRESIDENTE DA REPÚBLICA,</strong>no uso da atribuição que lhe confere o art. 84,<strong>caput</strong>, inciso I, da Constituição, resolve:</p><p><strong>EXONERAR</strong></p><p>ADOLFO SACHSIDA do cargo de Ministro de Estado de Minas e Energia.</p><p>Brasília, 31 de dezembro de 2022; 201º da Independência e 134º da República.</p><p class=\"assinaPr\">ANTÔNIO HAMILTON MARTINS MOURÃO</p>\n",
      "<p class=\"titulo\">MINISTÉRIO DE MINAS E ENERGIA</p><p class=\"identifica\">DECRETO DE 31 DE DEZEMBRO DE 2022</p><p><strong>O VICE-PRESIDENTE DA REPÚBLICA</strong>, no exercício do cargo de<strong>PRESIDENTE DA REPÚBLICA,</strong>no uso da atribuição que lhe confere o art. 84,<strong>caput</strong>, inciso I, da Constituição, resolve:</p><p><strong>EXONERAR</strong></p><p>ADOLFO SACHSIDA do cargo de Ministro de Estado de Minas e Energia.</p><p>Brasília, 31 de dezembro de 2022; 201º da Independência e 134º da República.</p><p class=\"assinaPr\">ANTÔNIO HAMILTON MARTINS MOURÃO</p>\n",
      "<p class=\"titulo\">MINISTÉRIO DE MINAS E ENERGIA</p><p class=\"identifica\">DECRETO DE 31 DE DEZEMBRO DE 2022</p><p><strong>O VICE-PRESIDENTE DA REPÚBLICA</strong>, no exercício do cargo de<strong>PRESIDENTE DA REPÚBLICA,</strong>no uso da atribuição que lhe confere o art. 84,<strong>caput</strong>, inciso I, da Constituição, resolve:</p><p><strong>EXONERAR</strong></p><p>ADOLFO SACHSIDA do cargo de Ministro de Estado de Minas e Energia.</p><p>Brasília, 31 de dezembro de 2022; 201º da Independência e 134º da República.</p><p class=\"assinaPr\">ANTÔNIO HAMILTON MARTINS MOURÃO</p>\n",
      "<p class=\"titulo\">MINISTÉRIO DE MINAS E ENERGIA</p><p class=\"identifica\">DECRETO DE 31 DE DEZEMBRO DE 2022</p><p><strong>O VICE-PRESIDENTE DA REPÚBLICA</strong>, no exercício do cargo de<strong>PRESIDENTE DA REPÚBLICA,</strong>no uso da atribuição que lhe confere o art. 84,<strong>caput</strong>, inciso I, da Constituição, resolve:</p><p><strong>EXONERAR</strong></p><p>ADOLFO SACHSIDA do cargo de Ministro de Estado de Minas e Energia.</p><p>Brasília, 31 de dezembro de 2022; 201º da Independência e 134º da República.</p><p class=\"assinaPr\">ANTÔNIO HAMILTON MARTINS MOURÃO</p>\n",
      "<p class=\"titulo\">MINISTÉRIO DE MINAS E ENERGIA</p><p class=\"identifica\">DECRETO DE 31 DE DEZEMBRO DE 2022</p><p><strong>O VICE-PRESIDENTE DA REPÚBLICA</strong>, no exercício do cargo de<strong>PRESIDENTE DA REPÚBLICA,</strong>no uso da atribuição que lhe confere o art. 84,<strong>caput</strong>, inciso I, da Constituição, resolve:</p><p><strong>EXONERAR</strong></p><p>ADOLFO SACHSIDA do cargo de Ministro de Estado de Minas e Energia.</p><p>Brasília, 31 de dezembro de 2022; 201º da Independência e 134º da República.</p><p class=\"assinaPr\">ANTÔNIO HAMILTON MARTINS MOURÃO</p>\n",
      "<p class=\"titulo\">MINISTÉRIO DE MINAS E ENERGIA</p><p class=\"identifica\">DECRETO DE 31 DE DEZEMBRO DE 2022</p><p><strong>O VICE-PRESIDENTE DA REPÚBLICA</strong>, no exercício do cargo de<strong>PRESIDENTE DA REPÚBLICA,</strong>no uso da atribuição que lhe confere o art. 84,<strong>caput</strong>, inciso I, da Constituição, resolve:</p><p><strong>EXONERAR</strong></p><p>ADOLFO SACHSIDA do cargo de Ministro de Estado de Minas e Energia.</p><p>Brasília, 31 de dezembro de 2022; 201º da Independência e 134º da República.</p><p class=\"assinaPr\">ANTÔNIO HAMILTON MARTINS MOURÃO</p>\n",
      "<p class=\"titulo\">MINISTÉRIO DE MINAS E ENERGIA</p><p class=\"identifica\">DECRETO DE 31 DE DEZEMBRO DE 2022</p><p><strong>O VICE-PRESIDENTE DA REPÚBLICA</strong>, no exercício do cargo de<strong>PRESIDENTE DA REPÚBLICA,</strong>no uso da atribuição que lhe confere o art. 84,<strong>caput</strong>, inciso I, da Constituição, resolve:</p><p><strong>EXONERAR</strong></p><p>ADOLFO SACHSIDA do cargo de Ministro de Estado de Minas e Energia.</p><p>Brasília, 31 de dezembro de 2022; 201º da Independência e 134º da República.</p><p class=\"assinaPr\">ANTÔNIO HAMILTON MARTINS MOURÃO</p>\n",
      "<p class=\"titulo\">MINISTÉRIO DE MINAS E ENERGIA</p><p class=\"identifica\">DECRETO DE 31 DE DEZEMBRO DE 2022</p><p><strong>O VICE-PRESIDENTE DA REPÚBLICA</strong>, no exercício do cargo de<strong>PRESIDENTE DA REPÚBLICA,</strong>no uso da atribuição que lhe confere o art. 84,<strong>caput</strong>, inciso I, da Constituição, resolve:</p><p><strong>EXONERAR</strong></p><p>ADOLFO SACHSIDA do cargo de Ministro de Estado de Minas e Energia.</p><p>Brasília, 31 de dezembro de 2022; 201º da Independência e 134º da República.</p><p class=\"assinaPr\">ANTÔNIO HAMILTON MARTINS MOURÃO</p>\n",
      "<p class=\"titulo\">MINISTÉRIO DE MINAS E ENERGIA</p><p class=\"identifica\">DECRETO DE 31 DE DEZEMBRO DE 2022</p><p><strong>O VICE-PRESIDENTE DA REPÚBLICA</strong>, no exercício do cargo de<strong>PRESIDENTE DA REPÚBLICA,</strong>no uso da atribuição que lhe confere o art. 84,<strong>caput</strong>, inciso I, da Constituição, resolve:</p><p><strong>EXONERAR</strong></p><p>ADOLFO SACHSIDA do cargo de Ministro de Estado de Minas e Energia.</p><p>Brasília, 31 de dezembro de 2022; 201º da Independência e 134º da República.</p><p class=\"assinaPr\">ANTÔNIO HAMILTON MARTINS MOURÃO</p>\n",
      "<p class=\"titulo\">MINISTÉRIO DE MINAS E ENERGIA</p><p class=\"identifica\">DECRETO DE 31 DE DEZEMBRO DE 2022</p><p><strong>O VICE-PRESIDENTE DA REPÚBLICA</strong>, no exercício do cargo de<strong>PRESIDENTE DA REPÚBLICA,</strong>no uso da atribuição que lhe confere o art. 84,<strong>caput</strong>, inciso I, da Constituição, resolve:</p><p><strong>EXONERAR</strong></p><p>ADOLFO SACHSIDA do cargo de Ministro de Estado de Minas e Energia.</p><p>Brasília, 31 de dezembro de 2022; 201º da Independência e 134º da República.</p><p class=\"assinaPr\">ANTÔNIO HAMILTON MARTINS MOURÃO</p>\n",
      "<p class=\"titulo\">MINISTÉRIO DE MINAS E ENERGIA</p><p class=\"identifica\">DECRETO DE 31 DE DEZEMBRO DE 2022</p><p><strong>O VICE-PRESIDENTE DA REPÚBLICA</strong>, no exercício do cargo de<strong>PRESIDENTE DA REPÚBLICA,</strong>no uso da atribuição que lhe confere o art. 84,<strong>caput</strong>, inciso I, da Constituição, resolve:</p><p><strong>EXONERAR</strong></p><p>ADOLFO SACHSIDA do cargo de Ministro de Estado de Minas e Energia.</p><p>Brasília, 31 de dezembro de 2022; 201º da Independência e 134º da República.</p><p class=\"assinaPr\">ANTÔNIO HAMILTON MARTINS MOURÃO</p>\n",
      "<p class=\"titulo\">MINISTÉRIO DE MINAS E ENERGIA</p><p class=\"identifica\">DECRETO DE 31 DE DEZEMBRO DE 2022</p><p><strong>O VICE-PRESIDENTE DA REPÚBLICA</strong>, no exercício do cargo de<strong>PRESIDENTE DA REPÚBLICA,</strong>no uso da atribuição que lhe confere o art. 84,<strong>caput</strong>, inciso I, da Constituição, resolve:</p><p><strong>EXONERAR</strong></p><p>ADOLFO SACHSIDA do cargo de Ministro de Estado de Minas e Energia.</p><p>Brasília, 31 de dezembro de 2022; 201º da Independência e 134º da República.</p><p class=\"assinaPr\">ANTÔNIO HAMILTON MARTINS MOURÃO</p>\n",
      "<p class=\"titulo\">MINISTÉRIO DE MINAS E ENERGIA</p><p class=\"identifica\">DECRETO DE 31 DE DEZEMBRO DE 2022</p><p><strong>O VICE-PRESIDENTE DA REPÚBLICA</strong>, no exercício do cargo de<strong>PRESIDENTE DA REPÚBLICA,</strong>no uso da atribuição que lhe confere o art. 84,<strong>caput</strong>, inciso I, da Constituição, resolve:</p><p><strong>EXONERAR</strong></p><p>ADOLFO SACHSIDA do cargo de Ministro de Estado de Minas e Energia.</p><p>Brasília, 31 de dezembro de 2022; 201º da Independência e 134º da República.</p><p class=\"assinaPr\">ANTÔNIO HAMILTON MARTINS MOURÃO</p>\n",
      "<p class=\"titulo\">MINISTÉRIO DE MINAS E ENERGIA</p><p class=\"identifica\">DECRETO DE 31 DE DEZEMBRO DE 2022</p><p><strong>O VICE-PRESIDENTE DA REPÚBLICA</strong>, no exercício do cargo de<strong>PRESIDENTE DA REPÚBLICA,</strong>no uso da atribuição que lhe confere o art. 84,<strong>caput</strong>, inciso I, da Constituição, resolve:</p><p><strong>EXONERAR</strong></p><p>ADOLFO SACHSIDA do cargo de Ministro de Estado de Minas e Energia.</p><p>Brasília, 31 de dezembro de 2022; 201º da Independência e 134º da República.</p><p class=\"assinaPr\">ANTÔNIO HAMILTON MARTINS MOURÃO</p>\n",
      "<p class=\"titulo\">MINISTÉRIO DE MINAS E ENERGIA</p><p class=\"identifica\">DECRETO DE 31 DE DEZEMBRO DE 2022</p><p><strong>O VICE-PRESIDENTE DA REPÚBLICA</strong>, no exercício do cargo de<strong>PRESIDENTE DA REPÚBLICA,</strong>no uso da atribuição que lhe confere o art. 84,<strong>caput</strong>, inciso I, da Constituição, resolve:</p><p><strong>EXONERAR</strong></p><p>ADOLFO SACHSIDA do cargo de Ministro de Estado de Minas e Energia.</p><p>Brasília, 31 de dezembro de 2022; 201º da Independência e 134º da República.</p><p class=\"assinaPr\">ANTÔNIO HAMILTON MARTINS MOURÃO</p>\n",
      "<p class=\"titulo\">MINISTÉRIO DE MINAS E ENERGIA</p><p class=\"identifica\">DECRETO DE 31 DE DEZEMBRO DE 2022</p><p><strong>O VICE-PRESIDENTE DA REPÚBLICA</strong>, no exercício do cargo de<strong>PRESIDENTE DA REPÚBLICA,</strong>no uso da atribuição que lhe confere o art. 84,<strong>caput</strong>, inciso I, da Constituição, resolve:</p><p><strong>EXONERAR</strong></p><p>ADOLFO SACHSIDA do cargo de Ministro de Estado de Minas e Energia.</p><p>Brasília, 31 de dezembro de 2022; 201º da Independência e 134º da República.</p><p class=\"assinaPr\">ANTÔNIO HAMILTON MARTINS MOURÃO</p>\n",
      "<p class=\"titulo\">MINISTÉRIO DE MINAS E ENERGIA</p><p class=\"identifica\">DECRETO DE 31 DE DEZEMBRO DE 2022</p><p><strong>O VICE-PRESIDENTE DA REPÚBLICA</strong>, no exercício do cargo de<strong>PRESIDENTE DA REPÚBLICA,</strong>no uso da atribuição que lhe confere o art. 84,<strong>caput</strong>, inciso I, da Constituição, resolve:</p><p><strong>EXONERAR</strong></p><p>ADOLFO SACHSIDA do cargo de Ministro de Estado de Minas e Energia.</p><p>Brasília, 31 de dezembro de 2022; 201º da Independência e 134º da República.</p><p class=\"assinaPr\">ANTÔNIO HAMILTON MARTINS MOURÃO</p>\n",
      "<p class=\"titulo\">MINISTÉRIO DE MINAS E ENERGIA</p><p class=\"identifica\">DECRETO DE 31 DE DEZEMBRO DE 2022</p><p><strong>O VICE-PRESIDENTE DA REPÚBLICA</strong>, no exercício do cargo de<strong>PRESIDENTE DA REPÚBLICA,</strong>no uso da atribuição que lhe confere o art. 84,<strong>caput</strong>, inciso I, da Constituição, resolve:</p><p><strong>EXONERAR</strong></p><p>ADOLFO SACHSIDA do cargo de Ministro de Estado de Minas e Energia.</p><p>Brasília, 31 de dezembro de 2022; 201º da Independência e 134º da República.</p><p class=\"assinaPr\">ANTÔNIO HAMILTON MARTINS MOURÃO</p>\n",
      "<p class=\"titulo\">MINISTÉRIO DE MINAS E ENERGIA</p><p class=\"identifica\">DECRETO DE 31 DE DEZEMBRO DE 2022</p><p><strong>O VICE-PRESIDENTE DA REPÚBLICA</strong>, no exercício do cargo de<strong>PRESIDENTE DA REPÚBLICA,</strong>no uso da atribuição que lhe confere o art. 84,<strong>caput</strong>, inciso I, da Constituição, resolve:</p><p><strong>EXONERAR</strong></p><p>ADOLFO SACHSIDA do cargo de Ministro de Estado de Minas e Energia.</p><p>Brasília, 31 de dezembro de 2022; 201º da Independência e 134º da República.</p><p class=\"assinaPr\">ANTÔNIO HAMILTON MARTINS MOURÃO</p>\n",
      "<p class=\"titulo\">MINISTÉRIO DE MINAS E ENERGIA</p><p class=\"identifica\">DECRETO DE 31 DE DEZEMBRO DE 2022</p><p><strong>O VICE-PRESIDENTE DA REPÚBLICA</strong>, no exercício do cargo de<strong>PRESIDENTE DA REPÚBLICA,</strong>no uso da atribuição que lhe confere o art. 84,<strong>caput</strong>, inciso I, da Constituição, resolve:</p><p><strong>EXONERAR</strong></p><p>ADOLFO SACHSIDA do cargo de Ministro de Estado de Minas e Energia.</p><p>Brasília, 31 de dezembro de 2022; 201º da Independência e 134º da República.</p><p class=\"assinaPr\">ANTÔNIO HAMILTON MARTINS MOURÃO</p>\n",
      "<p class=\"titulo\">MINISTÉRIO DE MINAS E ENERGIA</p><p class=\"identifica\">DECRETO DE 31 DE DEZEMBRO DE 2022</p><p><strong>O VICE-PRESIDENTE DA REPÚBLICA</strong>, no exercício do cargo de<strong>PRESIDENTE DA REPÚBLICA,</strong>no uso da atribuição que lhe confere o art. 84,<strong>caput</strong>, inciso I, da Constituição, resolve:</p><p><strong>EXONERAR</strong></p><p>ADOLFO SACHSIDA do cargo de Ministro de Estado de Minas e Energia.</p><p>Brasília, 31 de dezembro de 2022; 201º da Independência e 134º da República.</p><p class=\"assinaPr\">ANTÔNIO HAMILTON MARTINS MOURÃO</p>\n",
      "<p class=\"titulo\">MINISTÉRIO DE MINAS E ENERGIA</p><p class=\"identifica\">DECRETO DE 31 DE DEZEMBRO DE 2022</p><p><strong>O VICE-PRESIDENTE DA REPÚBLICA</strong>, no exercício do cargo de<strong>PRESIDENTE DA REPÚBLICA,</strong>no uso da atribuição que lhe confere o art. 84,<strong>caput</strong>, inciso I, da Constituição, resolve:</p><p><strong>EXONERAR</strong></p><p>ADOLFO SACHSIDA do cargo de Ministro de Estado de Minas e Energia.</p><p>Brasília, 31 de dezembro de 2022; 201º da Independência e 134º da República.</p><p class=\"assinaPr\">ANTÔNIO HAMILTON MARTINS MOURÃO</p>\n",
      "<p class=\"titulo\">MINISTÉRIO DE MINAS E ENERGIA</p><p class=\"identifica\">DECRETO DE 31 DE DEZEMBRO DE 2022</p><p><strong>O VICE-PRESIDENTE DA REPÚBLICA</strong>, no exercício do cargo de<strong>PRESIDENTE DA REPÚBLICA,</strong>no uso da atribuição que lhe confere o art. 84,<strong>caput</strong>, inciso I, da Constituição, resolve:</p><p><strong>EXONERAR</strong></p><p>ADOLFO SACHSIDA do cargo de Ministro de Estado de Minas e Energia.</p><p>Brasília, 31 de dezembro de 2022; 201º da Independência e 134º da República.</p><p class=\"assinaPr\">ANTÔNIO HAMILTON MARTINS MOURÃO</p>\n",
      "<p class=\"titulo\">MINISTÉRIO DE MINAS E ENERGIA</p><p class=\"identifica\">DECRETO DE 31 DE DEZEMBRO DE 2022</p><p><strong>O VICE-PRESIDENTE DA REPÚBLICA</strong>, no exercício do cargo de<strong>PRESIDENTE DA REPÚBLICA,</strong>no uso da atribuição que lhe confere o art. 84,<strong>caput</strong>, inciso I, da Constituição, resolve:</p><p><strong>EXONERAR</strong></p><p>ADOLFO SACHSIDA do cargo de Ministro de Estado de Minas e Energia.</p><p>Brasília, 31 de dezembro de 2022; 201º da Independência e 134º da República.</p><p class=\"assinaPr\">ANTÔNIO HAMILTON MARTINS MOURÃO</p>\n",
      "<p class=\"titulo\">MINISTÉRIO DE MINAS E ENERGIA</p><p class=\"identifica\">DECRETO DE 31 DE DEZEMBRO DE 2022</p><p><strong>O VICE-PRESIDENTE DA REPÚBLICA</strong>, no exercício do cargo de<strong>PRESIDENTE DA REPÚBLICA,</strong>no uso da atribuição que lhe confere o art. 84,<strong>caput</strong>, inciso I, da Constituição, resolve:</p><p><strong>EXONERAR</strong></p><p>ADOLFO SACHSIDA do cargo de Ministro de Estado de Minas e Energia.</p><p>Brasília, 31 de dezembro de 2022; 201º da Independência e 134º da República.</p><p class=\"assinaPr\">ANTÔNIO HAMILTON MARTINS MOURÃO</p>\n",
      "<p class=\"titulo\">MINISTÉRIO DE MINAS E ENERGIA</p><p class=\"identifica\">DECRETO DE 31 DE DEZEMBRO DE 2022</p><p><strong>O VICE-PRESIDENTE DA REPÚBLICA</strong>, no exercício do cargo de<strong>PRESIDENTE DA REPÚBLICA,</strong>no uso da atribuição que lhe confere o art. 84,<strong>caput</strong>, inciso I, da Constituição, resolve:</p><p><strong>EXONERAR</strong></p><p>ADOLFO SACHSIDA do cargo de Ministro de Estado de Minas e Energia.</p><p>Brasília, 31 de dezembro de 2022; 201º da Independência e 134º da República.</p><p class=\"assinaPr\">ANTÔNIO HAMILTON MARTINS MOURÃO</p>\n",
      "<p class=\"titulo\">MINISTÉRIO DE MINAS E ENERGIA</p><p class=\"identifica\">DECRETO DE 31 DE DEZEMBRO DE 2022</p><p><strong>O VICE-PRESIDENTE DA REPÚBLICA</strong>, no exercício do cargo de<strong>PRESIDENTE DA REPÚBLICA,</strong>no uso da atribuição que lhe confere o art. 84,<strong>caput</strong>, inciso I, da Constituição, resolve:</p><p><strong>EXONERAR</strong></p><p>ADOLFO SACHSIDA do cargo de Ministro de Estado de Minas e Energia.</p><p>Brasília, 31 de dezembro de 2022; 201º da Independência e 134º da República.</p><p class=\"assinaPr\">ANTÔNIO HAMILTON MARTINS MOURÃO</p>\n",
      "<p class=\"titulo\">MINISTÉRIO DE MINAS E ENERGIA</p><p class=\"identifica\">DECRETO DE 31 DE DEZEMBRO DE 2022</p><p><strong>O VICE-PRESIDENTE DA REPÚBLICA</strong>, no exercício do cargo de<strong>PRESIDENTE DA REPÚBLICA,</strong>no uso da atribuição que lhe confere o art. 84,<strong>caput</strong>, inciso I, da Constituição, resolve:</p><p><strong>EXONERAR</strong></p><p>ADOLFO SACHSIDA do cargo de Ministro de Estado de Minas e Energia.</p><p>Brasília, 31 de dezembro de 2022; 201º da Independência e 134º da República.</p><p class=\"assinaPr\">ANTÔNIO HAMILTON MARTINS MOURÃO</p>\n",
      "<p class=\"titulo\">MINISTÉRIO DE MINAS E ENERGIA</p><p class=\"identifica\">DECRETO DE 31 DE DEZEMBRO DE 2022</p><p><strong>O VICE-PRESIDENTE DA REPÚBLICA</strong>, no exercício do cargo de<strong>PRESIDENTE DA REPÚBLICA,</strong>no uso da atribuição que lhe confere o art. 84,<strong>caput</strong>, inciso I, da Constituição, resolve:</p><p><strong>EXONERAR</strong></p><p>ADOLFO SACHSIDA do cargo de Ministro de Estado de Minas e Energia.</p><p>Brasília, 31 de dezembro de 2022; 201º da Independência e 134º da República.</p><p class=\"assinaPr\">ANTÔNIO HAMILTON MARTINS MOURÃO</p>\n",
      "<p class=\"titulo\">MINISTÉRIO DE MINAS E ENERGIA</p><p class=\"identifica\">DECRETO DE 31 DE DEZEMBRO DE 2022</p><p><strong>O VICE-PRESIDENTE DA REPÚBLICA</strong>, no exercício do cargo de<strong>PRESIDENTE DA REPÚBLICA,</strong>no uso da atribuição que lhe confere o art. 84,<strong>caput</strong>, inciso I, da Constituição, resolve:</p><p><strong>EXONERAR</strong></p><p>ADOLFO SACHSIDA do cargo de Ministro de Estado de Minas e Energia.</p><p>Brasília, 31 de dezembro de 2022; 201º da Independência e 134º da República.</p><p class=\"assinaPr\">ANTÔNIO HAMILTON MARTINS MOURÃO</p>\n",
      "<p class=\"titulo\">MINISTÉRIO DE MINAS E ENERGIA</p><p class=\"identifica\">DECRETO DE 31 DE DEZEMBRO DE 2022</p><p><strong>O VICE-PRESIDENTE DA REPÚBLICA</strong>, no exercício do cargo de<strong>PRESIDENTE DA REPÚBLICA,</strong>no uso da atribuição que lhe confere o art. 84,<strong>caput</strong>, inciso I, da Constituição, resolve:</p><p><strong>EXONERAR</strong></p><p>ADOLFO SACHSIDA do cargo de Ministro de Estado de Minas e Energia.</p><p>Brasília, 31 de dezembro de 2022; 201º da Independência e 134º da República.</p><p class=\"assinaPr\">ANTÔNIO HAMILTON MARTINS MOURÃO</p>\n",
      "<p class=\"titulo\">MINISTÉRIO DE MINAS E ENERGIA</p><p class=\"identifica\">DECRETO DE 31 DE DEZEMBRO DE 2022</p><p><strong>O VICE-PRESIDENTE DA REPÚBLICA</strong>, no exercício do cargo de<strong>PRESIDENTE DA REPÚBLICA,</strong>no uso da atribuição que lhe confere o art. 84,<strong>caput</strong>, inciso I, da Constituição, resolve:</p><p><strong>EXONERAR</strong></p><p>ADOLFO SACHSIDA do cargo de Ministro de Estado de Minas e Energia.</p><p>Brasília, 31 de dezembro de 2022; 201º da Independência e 134º da República.</p><p class=\"assinaPr\">ANTÔNIO HAMILTON MARTINS MOURÃO</p>\n",
      "<p class=\"titulo\">MINISTÉRIO DE MINAS E ENERGIA</p><p class=\"identifica\">DECRETO DE 31 DE DEZEMBRO DE 2022</p><p><strong>O VICE-PRESIDENTE DA REPÚBLICA</strong>, no exercício do cargo de<strong>PRESIDENTE DA REPÚBLICA,</strong>no uso da atribuição que lhe confere o art. 84,<strong>caput</strong>, inciso I, da Constituição, resolve:</p><p><strong>EXONERAR</strong></p><p>ADOLFO SACHSIDA do cargo de Ministro de Estado de Minas e Energia.</p><p>Brasília, 31 de dezembro de 2022; 201º da Independência e 134º da República.</p><p class=\"assinaPr\">ANTÔNIO HAMILTON MARTINS MOURÃO</p>\n",
      "<p class=\"titulo\">MINISTÉRIO DE MINAS E ENERGIA</p><p class=\"identifica\">DECRETO DE 31 DE DEZEMBRO DE 2022</p><p><strong>O VICE-PRESIDENTE DA REPÚBLICA</strong>, no exercício do cargo de<strong>PRESIDENTE DA REPÚBLICA,</strong>no uso da atribuição que lhe confere o art. 84,<strong>caput</strong>, inciso I, da Constituição, resolve:</p><p><strong>EXONERAR</strong></p><p>ADOLFO SACHSIDA do cargo de Ministro de Estado de Minas e Energia.</p><p>Brasília, 31 de dezembro de 2022; 201º da Independência e 134º da República.</p><p class=\"assinaPr\">ANTÔNIO HAMILTON MARTINS MOURÃO</p>\n",
      "<p class=\"titulo\">MINISTÉRIO DE MINAS E ENERGIA</p><p class=\"identifica\">DECRETO DE 31 DE DEZEMBRO DE 2022</p><p><strong>O VICE-PRESIDENTE DA REPÚBLICA</strong>, no exercício do cargo de<strong>PRESIDENTE DA REPÚBLICA,</strong>no uso da atribuição que lhe confere o art. 84,<strong>caput</strong>, inciso I, da Constituição, resolve:</p><p><strong>EXONERAR</strong></p><p>ADOLFO SACHSIDA do cargo de Ministro de Estado de Minas e Energia.</p><p>Brasília, 31 de dezembro de 2022; 201º da Independência e 134º da República.</p><p class=\"assinaPr\">ANTÔNIO HAMILTON MARTINS MOURÃO</p>\n",
      "<p class=\"titulo\">MINISTÉRIO DE MINAS E ENERGIA</p><p class=\"identifica\">DECRETO DE 31 DE DEZEMBRO DE 2022</p><p><strong>O VICE-PRESIDENTE DA REPÚBLICA</strong>, no exercício do cargo de<strong>PRESIDENTE DA REPÚBLICA,</strong>no uso da atribuição que lhe confere o art. 84,<strong>caput</strong>, inciso I, da Constituição, resolve:</p><p><strong>EXONERAR</strong></p><p>ADOLFO SACHSIDA do cargo de Ministro de Estado de Minas e Energia.</p><p>Brasília, 31 de dezembro de 2022; 201º da Independência e 134º da República.</p><p class=\"assinaPr\">ANTÔNIO HAMILTON MARTINS MOURÃO</p>\n",
      "<p class=\"titulo\">MINISTÉRIO DE MINAS E ENERGIA</p><p class=\"identifica\">DECRETO DE 31 DE DEZEMBRO DE 2022</p><p><strong>O VICE-PRESIDENTE DA REPÚBLICA</strong>, no exercício do cargo de<strong>PRESIDENTE DA REPÚBLICA,</strong>no uso da atribuição que lhe confere o art. 84,<strong>caput</strong>, inciso I, da Constituição, resolve:</p><p><strong>EXONERAR</strong></p><p>ADOLFO SACHSIDA do cargo de Ministro de Estado de Minas e Energia.</p><p>Brasília, 31 de dezembro de 2022; 201º da Independência e 134º da República.</p><p class=\"assinaPr\">ANTÔNIO HAMILTON MARTINS MOURÃO</p>\n",
      "<p class=\"titulo\">MINISTÉRIO DE MINAS E ENERGIA</p><p class=\"identifica\">DECRETO DE 31 DE DEZEMBRO DE 2022</p><p><strong>O VICE-PRESIDENTE DA REPÚBLICA</strong>, no exercício do cargo de<strong>PRESIDENTE DA REPÚBLICA,</strong>no uso da atribuição que lhe confere o art. 84,<strong>caput</strong>, inciso I, da Constituição, resolve:</p><p><strong>EXONERAR</strong></p><p>ADOLFO SACHSIDA do cargo de Ministro de Estado de Minas e Energia.</p><p>Brasília, 31 de dezembro de 2022; 201º da Independência e 134º da República.</p><p class=\"assinaPr\">ANTÔNIO HAMILTON MARTINS MOURÃO</p>\n",
      "<p class=\"titulo\">MINISTÉRIO DE MINAS E ENERGIA</p><p class=\"identifica\">DECRETO DE 31 DE DEZEMBRO DE 2022</p><p><strong>O VICE-PRESIDENTE DA REPÚBLICA</strong>, no exercício do cargo de<strong>PRESIDENTE DA REPÚBLICA,</strong>no uso da atribuição que lhe confere o art. 84,<strong>caput</strong>, inciso I, da Constituição, resolve:</p><p><strong>EXONERAR</strong></p><p>ADOLFO SACHSIDA do cargo de Ministro de Estado de Minas e Energia.</p><p>Brasília, 31 de dezembro de 2022; 201º da Independência e 134º da República.</p><p class=\"assinaPr\">ANTÔNIO HAMILTON MARTINS MOURÃO</p>\n",
      "<p class=\"titulo\">MINISTÉRIO DE MINAS E ENERGIA</p><p class=\"identifica\">DECRETO DE 31 DE DEZEMBRO DE 2022</p><p><strong>O VICE-PRESIDENTE DA REPÚBLICA</strong>, no exercício do cargo de<strong>PRESIDENTE DA REPÚBLICA,</strong>no uso da atribuição que lhe confere o art. 84,<strong>caput</strong>, inciso I, da Constituição, resolve:</p><p><strong>EXONERAR</strong></p><p>ADOLFO SACHSIDA do cargo de Ministro de Estado de Minas e Energia.</p><p>Brasília, 31 de dezembro de 2022; 201º da Independência e 134º da República.</p><p class=\"assinaPr\">ANTÔNIO HAMILTON MARTINS MOURÃO</p>\n",
      "<p class=\"titulo\">MINISTÉRIO DE MINAS E ENERGIA</p><p class=\"identifica\">DECRETO DE 31 DE DEZEMBRO DE 2022</p><p><strong>O VICE-PRESIDENTE DA REPÚBLICA</strong>, no exercício do cargo de<strong>PRESIDENTE DA REPÚBLICA,</strong>no uso da atribuição que lhe confere o art. 84,<strong>caput</strong>, inciso I, da Constituição, resolve:</p><p><strong>EXONERAR</strong></p><p>ADOLFO SACHSIDA do cargo de Ministro de Estado de Minas e Energia.</p><p>Brasília, 31 de dezembro de 2022; 201º da Independência e 134º da República.</p><p class=\"assinaPr\">ANTÔNIO HAMILTON MARTINS MOURÃO</p>\n",
      "<p class=\"titulo\">MINISTÉRIO DE MINAS E ENERGIA</p><p class=\"identifica\">DECRETO DE 31 DE DEZEMBRO DE 2022</p><p><strong>O VICE-PRESIDENTE DA REPÚBLICA</strong>, no exercício do cargo de<strong>PRESIDENTE DA REPÚBLICA,</strong>no uso da atribuição que lhe confere o art. 84,<strong>caput</strong>, inciso I, da Constituição, resolve:</p><p><strong>EXONERAR</strong></p><p>ADOLFO SACHSIDA do cargo de Ministro de Estado de Minas e Energia.</p><p>Brasília, 31 de dezembro de 2022; 201º da Independência e 134º da República.</p><p class=\"assinaPr\">ANTÔNIO HAMILTON MARTINS MOURÃO</p>\n",
      "<p class=\"titulo\">MINISTÉRIO DE MINAS E ENERGIA</p><p class=\"identifica\">DECRETO DE 31 DE DEZEMBRO DE 2022</p><p><strong>O VICE-PRESIDENTE DA REPÚBLICA</strong>, no exercício do cargo de<strong>PRESIDENTE DA REPÚBLICA,</strong>no uso da atribuição que lhe confere o art. 84,<strong>caput</strong>, inciso I, da Constituição, resolve:</p><p><strong>EXONERAR</strong></p><p>ADOLFO SACHSIDA do cargo de Ministro de Estado de Minas e Energia.</p><p>Brasília, 31 de dezembro de 2022; 201º da Independência e 134º da República.</p><p class=\"assinaPr\">ANTÔNIO HAMILTON MARTINS MOURÃO</p>\n",
      "<p class=\"titulo\">MINISTÉRIO DE MINAS E ENERGIA</p><p class=\"identifica\">DECRETO DE 31 DE DEZEMBRO DE 2022</p><p><strong>O VICE-PRESIDENTE DA REPÚBLICA</strong>, no exercício do cargo de<strong>PRESIDENTE DA REPÚBLICA,</strong>no uso da atribuição que lhe confere o art. 84,<strong>caput</strong>, inciso I, da Constituição, resolve:</p><p><strong>EXONERAR</strong></p><p>ADOLFO SACHSIDA do cargo de Ministro de Estado de Minas e Energia.</p><p>Brasília, 31 de dezembro de 2022; 201º da Independência e 134º da República.</p><p class=\"assinaPr\">ANTÔNIO HAMILTON MARTINS MOURÃO</p>\n",
      "<p class=\"titulo\">MINISTÉRIO DE MINAS E ENERGIA</p><p class=\"identifica\">DECRETO DE 31 DE DEZEMBRO DE 2022</p><p><strong>O VICE-PRESIDENTE DA REPÚBLICA</strong>, no exercício do cargo de<strong>PRESIDENTE DA REPÚBLICA,</strong>no uso da atribuição que lhe confere o art. 84,<strong>caput</strong>, inciso I, da Constituição, resolve:</p><p><strong>EXONERAR</strong></p><p>ADOLFO SACHSIDA do cargo de Ministro de Estado de Minas e Energia.</p><p>Brasília, 31 de dezembro de 2022; 201º da Independência e 134º da República.</p><p class=\"assinaPr\">ANTÔNIO HAMILTON MARTINS MOURÃO</p>\n",
      "<p class=\"titulo\">MINISTÉRIO DE MINAS E ENERGIA</p><p class=\"identifica\">DECRETO DE 31 DE DEZEMBRO DE 2022</p><p><strong>O VICE-PRESIDENTE DA REPÚBLICA</strong>, no exercício do cargo de<strong>PRESIDENTE DA REPÚBLICA,</strong>no uso da atribuição que lhe confere o art. 84,<strong>caput</strong>, inciso I, da Constituição, resolve:</p><p><strong>EXONERAR</strong></p><p>ADOLFO SACHSIDA do cargo de Ministro de Estado de Minas e Energia.</p><p>Brasília, 31 de dezembro de 2022; 201º da Independência e 134º da República.</p><p class=\"assinaPr\">ANTÔNIO HAMILTON MARTINS MOURÃO</p>\n",
      "<p class=\"titulo\">MINISTÉRIO DE MINAS E ENERGIA</p><p class=\"identifica\">DECRETO DE 31 DE DEZEMBRO DE 2022</p><p><strong>O VICE-PRESIDENTE DA REPÚBLICA</strong>, no exercício do cargo de<strong>PRESIDENTE DA REPÚBLICA,</strong>no uso da atribuição que lhe confere o art. 84,<strong>caput</strong>, inciso I, da Constituição, resolve:</p><p><strong>EXONERAR</strong></p><p>ADOLFO SACHSIDA do cargo de Ministro de Estado de Minas e Energia.</p><p>Brasília, 31 de dezembro de 2022; 201º da Independência e 134º da República.</p><p class=\"assinaPr\">ANTÔNIO HAMILTON MARTINS MOURÃO</p>\n",
      "<p class=\"titulo\">MINISTÉRIO DE MINAS E ENERGIA</p><p class=\"identifica\">DECRETO DE 31 DE DEZEMBRO DE 2022</p><p><strong>O VICE-PRESIDENTE DA REPÚBLICA</strong>, no exercício do cargo de<strong>PRESIDENTE DA REPÚBLICA,</strong>no uso da atribuição que lhe confere o art. 84,<strong>caput</strong>, inciso I, da Constituição, resolve:</p><p><strong>EXONERAR</strong></p><p>ADOLFO SACHSIDA do cargo de Ministro de Estado de Minas e Energia.</p><p>Brasília, 31 de dezembro de 2022; 201º da Independência e 134º da República.</p><p class=\"assinaPr\">ANTÔNIO HAMILTON MARTINS MOURÃO</p>\n",
      "<p class=\"titulo\">MINISTÉRIO DE MINAS E ENERGIA</p><p class=\"identifica\">DECRETO DE 31 DE DEZEMBRO DE 2022</p><p><strong>O VICE-PRESIDENTE DA REPÚBLICA</strong>, no exercício do cargo de<strong>PRESIDENTE DA REPÚBLICA,</strong>no uso da atribuição que lhe confere o art. 84,<strong>caput</strong>, inciso I, da Constituição, resolve:</p><p><strong>EXONERAR</strong></p><p>ADOLFO SACHSIDA do cargo de Ministro de Estado de Minas e Energia.</p><p>Brasília, 31 de dezembro de 2022; 201º da Independência e 134º da República.</p><p class=\"assinaPr\">ANTÔNIO HAMILTON MARTINS MOURÃO</p>\n",
      "<p class=\"titulo\">MINISTÉRIO DE MINAS E ENERGIA</p><p class=\"identifica\">DECRETO DE 31 DE DEZEMBRO DE 2022</p><p><strong>O VICE-PRESIDENTE DA REPÚBLICA</strong>, no exercício do cargo de<strong>PRESIDENTE DA REPÚBLICA,</strong>no uso da atribuição que lhe confere o art. 84,<strong>caput</strong>, inciso I, da Constituição, resolve:</p><p><strong>EXONERAR</strong></p><p>ADOLFO SACHSIDA do cargo de Ministro de Estado de Minas e Energia.</p><p>Brasília, 31 de dezembro de 2022; 201º da Independência e 134º da República.</p><p class=\"assinaPr\">ANTÔNIO HAMILTON MARTINS MOURÃO</p>\n",
      "<p class=\"titulo\">MINISTÉRIO DE MINAS E ENERGIA</p><p class=\"identifica\">DECRETO DE 31 DE DEZEMBRO DE 2022</p><p><strong>O VICE-PRESIDENTE DA REPÚBLICA</strong>, no exercício do cargo de<strong>PRESIDENTE DA REPÚBLICA,</strong>no uso da atribuição que lhe confere o art. 84,<strong>caput</strong>, inciso I, da Constituição, resolve:</p><p><strong>EXONERAR</strong></p><p>ADOLFO SACHSIDA do cargo de Ministro de Estado de Minas e Energia.</p><p>Brasília, 31 de dezembro de 2022; 201º da Independência e 134º da República.</p><p class=\"assinaPr\">ANTÔNIO HAMILTON MARTINS MOURÃO</p>\n",
      "<p class=\"titulo\">MINISTÉRIO DE MINAS E ENERGIA</p><p class=\"identifica\">DECRETO DE 31 DE DEZEMBRO DE 2022</p><p><strong>O VICE-PRESIDENTE DA REPÚBLICA</strong>, no exercício do cargo de<strong>PRESIDENTE DA REPÚBLICA,</strong>no uso da atribuição que lhe confere o art. 84,<strong>caput</strong>, inciso I, da Constituição, resolve:</p><p><strong>EXONERAR</strong></p><p>ADOLFO SACHSIDA do cargo de Ministro de Estado de Minas e Energia.</p><p>Brasília, 31 de dezembro de 2022; 201º da Independência e 134º da República.</p><p class=\"assinaPr\">ANTÔNIO HAMILTON MARTINS MOURÃO</p>\n",
      "<p class=\"titulo\">MINISTÉRIO DE MINAS E ENERGIA</p><p class=\"identifica\">DECRETO DE 31 DE DEZEMBRO DE 2022</p><p><strong>O VICE-PRESIDENTE DA REPÚBLICA</strong>, no exercício do cargo de<strong>PRESIDENTE DA REPÚBLICA,</strong>no uso da atribuição que lhe confere o art. 84,<strong>caput</strong>, inciso I, da Constituição, resolve:</p><p><strong>EXONERAR</strong></p><p>ADOLFO SACHSIDA do cargo de Ministro de Estado de Minas e Energia.</p><p>Brasília, 31 de dezembro de 2022; 201º da Independência e 134º da República.</p><p class=\"assinaPr\">ANTÔNIO HAMILTON MARTINS MOURÃO</p>\n",
      "<p class=\"titulo\">MINISTÉRIO DE MINAS E ENERGIA</p><p class=\"identifica\">DECRETO DE 31 DE DEZEMBRO DE 2022</p><p><strong>O VICE-PRESIDENTE DA REPÚBLICA</strong>, no exercício do cargo de<strong>PRESIDENTE DA REPÚBLICA,</strong>no uso da atribuição que lhe confere o art. 84,<strong>caput</strong>, inciso I, da Constituição, resolve:</p><p><strong>EXONERAR</strong></p><p>ADOLFO SACHSIDA do cargo de Ministro de Estado de Minas e Energia.</p><p>Brasília, 31 de dezembro de 2022; 201º da Independência e 134º da República.</p><p class=\"assinaPr\">ANTÔNIO HAMILTON MARTINS MOURÃO</p>\n",
      "<p class=\"titulo\">MINISTÉRIO DE MINAS E ENERGIA</p><p class=\"identifica\">DECRETO DE 31 DE DEZEMBRO DE 2022</p><p><strong>O VICE-PRESIDENTE DA REPÚBLICA</strong>, no exercício do cargo de<strong>PRESIDENTE DA REPÚBLICA,</strong>no uso da atribuição que lhe confere o art. 84,<strong>caput</strong>, inciso I, da Constituição, resolve:</p><p><strong>EXONERAR</strong></p><p>ADOLFO SACHSIDA do cargo de Ministro de Estado de Minas e Energia.</p><p>Brasília, 31 de dezembro de 2022; 201º da Independência e 134º da República.</p><p class=\"assinaPr\">ANTÔNIO HAMILTON MARTINS MOURÃO</p>\n",
      "<p class=\"titulo\">MINISTÉRIO DE MINAS E ENERGIA</p><p class=\"identifica\">DECRETO DE 31 DE DEZEMBRO DE 2022</p><p><strong>O VICE-PRESIDENTE DA REPÚBLICA</strong>, no exercício do cargo de<strong>PRESIDENTE DA REPÚBLICA,</strong>no uso da atribuição que lhe confere o art. 84,<strong>caput</strong>, inciso I, da Constituição, resolve:</p><p><strong>EXONERAR</strong></p><p>ADOLFO SACHSIDA do cargo de Ministro de Estado de Minas e Energia.</p><p>Brasília, 31 de dezembro de 2022; 201º da Independência e 134º da República.</p><p class=\"assinaPr\">ANTÔNIO HAMILTON MARTINS MOURÃO</p>\n",
      "<p class=\"titulo\">MINISTÉRIO DE MINAS E ENERGIA</p><p class=\"identifica\">DECRETO DE 31 DE DEZEMBRO DE 2022</p><p><strong>O VICE-PRESIDENTE DA REPÚBLICA</strong>, no exercício do cargo de<strong>PRESIDENTE DA REPÚBLICA,</strong>no uso da atribuição que lhe confere o art. 84,<strong>caput</strong>, inciso I, da Constituição, resolve:</p><p><strong>EXONERAR</strong></p><p>ADOLFO SACHSIDA do cargo de Ministro de Estado de Minas e Energia.</p><p>Brasília, 31 de dezembro de 2022; 201º da Independência e 134º da República.</p><p class=\"assinaPr\">ANTÔNIO HAMILTON MARTINS MOURÃO</p>\n",
      "<p class=\"titulo\">MINISTÉRIO DE MINAS E ENERGIA</p><p class=\"identifica\">DECRETO DE 31 DE DEZEMBRO DE 2022</p><p><strong>O VICE-PRESIDENTE DA REPÚBLICA</strong>, no exercício do cargo de<strong>PRESIDENTE DA REPÚBLICA,</strong>no uso da atribuição que lhe confere o art. 84,<strong>caput</strong>, inciso I, da Constituição, resolve:</p><p><strong>EXONERAR</strong></p><p>ADOLFO SACHSIDA do cargo de Ministro de Estado de Minas e Energia.</p><p>Brasília, 31 de dezembro de 2022; 201º da Independência e 134º da República.</p><p class=\"assinaPr\">ANTÔNIO HAMILTON MARTINS MOURÃO</p>\n",
      "<p class=\"titulo\">MINISTÉRIO DE MINAS E ENERGIA</p><p class=\"identifica\">DECRETO DE 31 DE DEZEMBRO DE 2022</p><p><strong>O VICE-PRESIDENTE DA REPÚBLICA</strong>, no exercício do cargo de<strong>PRESIDENTE DA REPÚBLICA,</strong>no uso da atribuição que lhe confere o art. 84,<strong>caput</strong>, inciso I, da Constituição, resolve:</p><p><strong>EXONERAR</strong></p><p>ADOLFO SACHSIDA do cargo de Ministro de Estado de Minas e Energia.</p><p>Brasília, 31 de dezembro de 2022; 201º da Independência e 134º da República.</p><p class=\"assinaPr\">ANTÔNIO HAMILTON MARTINS MOURÃO</p>\n",
      "<p class=\"titulo\">MINISTÉRIO DE MINAS E ENERGIA</p><p class=\"identifica\">DECRETO DE 31 DE DEZEMBRO DE 2022</p><p><strong>O VICE-PRESIDENTE DA REPÚBLICA</strong>, no exercício do cargo de<strong>PRESIDENTE DA REPÚBLICA,</strong>no uso da atribuição que lhe confere o art. 84,<strong>caput</strong>, inciso I, da Constituição, resolve:</p><p><strong>EXONERAR</strong></p><p>ADOLFO SACHSIDA do cargo de Ministro de Estado de Minas e Energia.</p><p>Brasília, 31 de dezembro de 2022; 201º da Independência e 134º da República.</p><p class=\"assinaPr\">ANTÔNIO HAMILTON MARTINS MOURÃO</p>\n",
      "<p class=\"titulo\">MINISTÉRIO DE MINAS E ENERGIA</p><p class=\"identifica\">DECRETO DE 31 DE DEZEMBRO DE 2022</p><p><strong>O VICE-PRESIDENTE DA REPÚBLICA</strong>, no exercício do cargo de<strong>PRESIDENTE DA REPÚBLICA,</strong>no uso da atribuição que lhe confere o art. 84,<strong>caput</strong>, inciso I, da Constituição, resolve:</p><p><strong>EXONERAR</strong></p><p>ADOLFO SACHSIDA do cargo de Ministro de Estado de Minas e Energia.</p><p>Brasília, 31 de dezembro de 2022; 201º da Independência e 134º da República.</p><p class=\"assinaPr\">ANTÔNIO HAMILTON MARTINS MOURÃO</p>\n",
      "<p class=\"titulo\">MINISTÉRIO DE MINAS E ENERGIA</p><p class=\"identifica\">DECRETO DE 31 DE DEZEMBRO DE 2022</p><p><strong>O VICE-PRESIDENTE DA REPÚBLICA</strong>, no exercício do cargo de<strong>PRESIDENTE DA REPÚBLICA,</strong>no uso da atribuição que lhe confere o art. 84,<strong>caput</strong>, inciso I, da Constituição, resolve:</p><p><strong>EXONERAR</strong></p><p>ADOLFO SACHSIDA do cargo de Ministro de Estado de Minas e Energia.</p><p>Brasília, 31 de dezembro de 2022; 201º da Independência e 134º da República.</p><p class=\"assinaPr\">ANTÔNIO HAMILTON MARTINS MOURÃO</p>\n",
      "<p class=\"titulo\">MINISTÉRIO DE MINAS E ENERGIA</p><p class=\"identifica\">DECRETO DE 31 DE DEZEMBRO DE 2022</p><p><strong>O VICE-PRESIDENTE DA REPÚBLICA</strong>, no exercício do cargo de<strong>PRESIDENTE DA REPÚBLICA,</strong>no uso da atribuição que lhe confere o art. 84,<strong>caput</strong>, inciso I, da Constituição, resolve:</p><p><strong>EXONERAR</strong></p><p>ADOLFO SACHSIDA do cargo de Ministro de Estado de Minas e Energia.</p><p>Brasília, 31 de dezembro de 2022; 201º da Independência e 134º da República.</p><p class=\"assinaPr\">ANTÔNIO HAMILTON MARTINS MOURÃO</p>\n",
      "<p class=\"titulo\">MINISTÉRIO DE MINAS E ENERGIA</p><p class=\"identifica\">DECRETO DE 31 DE DEZEMBRO DE 2022</p><p><strong>O VICE-PRESIDENTE DA REPÚBLICA</strong>, no exercício do cargo de<strong>PRESIDENTE DA REPÚBLICA,</strong>no uso da atribuição que lhe confere o art. 84,<strong>caput</strong>, inciso I, da Constituição, resolve:</p><p><strong>EXONERAR</strong></p><p>ADOLFO SACHSIDA do cargo de Ministro de Estado de Minas e Energia.</p><p>Brasília, 31 de dezembro de 2022; 201º da Independência e 134º da República.</p><p class=\"assinaPr\">ANTÔNIO HAMILTON MARTINS MOURÃO</p>\n",
      "<p class=\"titulo\">MINISTÉRIO DE MINAS E ENERGIA</p><p class=\"identifica\">DECRETO DE 31 DE DEZEMBRO DE 2022</p><p><strong>O VICE-PRESIDENTE DA REPÚBLICA</strong>, no exercício do cargo de<strong>PRESIDENTE DA REPÚBLICA,</strong>no uso da atribuição que lhe confere o art. 84,<strong>caput</strong>, inciso I, da Constituição, resolve:</p><p><strong>EXONERAR</strong></p><p>ADOLFO SACHSIDA do cargo de Ministro de Estado de Minas e Energia.</p><p>Brasília, 31 de dezembro de 2022; 201º da Independência e 134º da República.</p><p class=\"assinaPr\">ANTÔNIO HAMILTON MARTINS MOURÃO</p>\n",
      "<p class=\"titulo\">MINISTÉRIO DE MINAS E ENERGIA</p><p class=\"identifica\">DECRETO DE 31 DE DEZEMBRO DE 2022</p><p><strong>O VICE-PRESIDENTE DA REPÚBLICA</strong>, no exercício do cargo de<strong>PRESIDENTE DA REPÚBLICA,</strong>no uso da atribuição que lhe confere o art. 84,<strong>caput</strong>, inciso I, da Constituição, resolve:</p><p><strong>EXONERAR</strong></p><p>ADOLFO SACHSIDA do cargo de Ministro de Estado de Minas e Energia.</p><p>Brasília, 31 de dezembro de 2022; 201º da Independência e 134º da República.</p><p class=\"assinaPr\">ANTÔNIO HAMILTON MARTINS MOURÃO</p>\n",
      "<p class=\"titulo\">MINISTÉRIO DE MINAS E ENERGIA</p><p class=\"identifica\">DECRETO DE 31 DE DEZEMBRO DE 2022</p><p><strong>O VICE-PRESIDENTE DA REPÚBLICA</strong>, no exercício do cargo de<strong>PRESIDENTE DA REPÚBLICA,</strong>no uso da atribuição que lhe confere o art. 84,<strong>caput</strong>, inciso I, da Constituição, resolve:</p><p><strong>EXONERAR</strong></p><p>ADOLFO SACHSIDA do cargo de Ministro de Estado de Minas e Energia.</p><p>Brasília, 31 de dezembro de 2022; 201º da Independência e 134º da República.</p><p class=\"assinaPr\">ANTÔNIO HAMILTON MARTINS MOURÃO</p>\n",
      "<p class=\"titulo\">MINISTÉRIO DE MINAS E ENERGIA</p><p class=\"identifica\">DECRETO DE 31 DE DEZEMBRO DE 2022</p><p><strong>O VICE-PRESIDENTE DA REPÚBLICA</strong>, no exercício do cargo de<strong>PRESIDENTE DA REPÚBLICA,</strong>no uso da atribuição que lhe confere o art. 84,<strong>caput</strong>, inciso I, da Constituição, resolve:</p><p><strong>EXONERAR</strong></p><p>ADOLFO SACHSIDA do cargo de Ministro de Estado de Minas e Energia.</p><p>Brasília, 31 de dezembro de 2022; 201º da Independência e 134º da República.</p><p class=\"assinaPr\">ANTÔNIO HAMILTON MARTINS MOURÃO</p>\n",
      "<p class=\"titulo\">MINISTÉRIO DE MINAS E ENERGIA</p><p class=\"identifica\">DECRETO DE 31 DE DEZEMBRO DE 2022</p><p><strong>O VICE-PRESIDENTE DA REPÚBLICA</strong>, no exercício do cargo de<strong>PRESIDENTE DA REPÚBLICA,</strong>no uso da atribuição que lhe confere o art. 84,<strong>caput</strong>, inciso I, da Constituição, resolve:</p><p><strong>EXONERAR</strong></p><p>ADOLFO SACHSIDA do cargo de Ministro de Estado de Minas e Energia.</p><p>Brasília, 31 de dezembro de 2022; 201º da Independência e 134º da República.</p><p class=\"assinaPr\">ANTÔNIO HAMILTON MARTINS MOURÃO</p>\n",
      "<p class=\"titulo\">MINISTÉRIO DE MINAS E ENERGIA</p><p class=\"identifica\">DECRETO DE 31 DE DEZEMBRO DE 2022</p><p><strong>O VICE-PRESIDENTE DA REPÚBLICA</strong>, no exercício do cargo de<strong>PRESIDENTE DA REPÚBLICA,</strong>no uso da atribuição que lhe confere o art. 84,<strong>caput</strong>, inciso I, da Constituição, resolve:</p><p><strong>EXONERAR</strong></p><p>ADOLFO SACHSIDA do cargo de Ministro de Estado de Minas e Energia.</p><p>Brasília, 31 de dezembro de 2022; 201º da Independência e 134º da República.</p><p class=\"assinaPr\">ANTÔNIO HAMILTON MARTINS MOURÃO</p>\n",
      "<p class=\"titulo\">MINISTÉRIO DE MINAS E ENERGIA</p><p class=\"identifica\">DECRETO DE 31 DE DEZEMBRO DE 2022</p><p><strong>O VICE-PRESIDENTE DA REPÚBLICA</strong>, no exercício do cargo de<strong>PRESIDENTE DA REPÚBLICA,</strong>no uso da atribuição que lhe confere o art. 84,<strong>caput</strong>, inciso I, da Constituição, resolve:</p><p><strong>EXONERAR</strong></p><p>ADOLFO SACHSIDA do cargo de Ministro de Estado de Minas e Energia.</p><p>Brasília, 31 de dezembro de 2022; 201º da Independência e 134º da República.</p><p class=\"assinaPr\">ANTÔNIO HAMILTON MARTINS MOURÃO</p>\n",
      "<p class=\"titulo\">MINISTÉRIO DE MINAS E ENERGIA</p><p class=\"identifica\">DECRETO DE 31 DE DEZEMBRO DE 2022</p><p><strong>O VICE-PRESIDENTE DA REPÚBLICA</strong>, no exercício do cargo de<strong>PRESIDENTE DA REPÚBLICA,</strong>no uso da atribuição que lhe confere o art. 84,<strong>caput</strong>, inciso I, da Constituição, resolve:</p><p><strong>EXONERAR</strong></p><p>ADOLFO SACHSIDA do cargo de Ministro de Estado de Minas e Energia.</p><p>Brasília, 31 de dezembro de 2022; 201º da Independência e 134º da República.</p><p class=\"assinaPr\">ANTÔNIO HAMILTON MARTINS MOURÃO</p>\n",
      "<p class=\"titulo\">MINISTÉRIO DE MINAS E ENERGIA</p><p class=\"identifica\">DECRETO DE 31 DE DEZEMBRO DE 2022</p><p><strong>O VICE-PRESIDENTE DA REPÚBLICA</strong>, no exercício do cargo de<strong>PRESIDENTE DA REPÚBLICA,</strong>no uso da atribuição que lhe confere o art. 84,<strong>caput</strong>, inciso I, da Constituição, resolve:</p><p><strong>EXONERAR</strong></p><p>ADOLFO SACHSIDA do cargo de Ministro de Estado de Minas e Energia.</p><p>Brasília, 31 de dezembro de 2022; 201º da Independência e 134º da República.</p><p class=\"assinaPr\">ANTÔNIO HAMILTON MARTINS MOURÃO</p>\n",
      "<p class=\"titulo\">MINISTÉRIO DE MINAS E ENERGIA</p><p class=\"identifica\">DECRETO DE 31 DE DEZEMBRO DE 2022</p><p><strong>O VICE-PRESIDENTE DA REPÚBLICA</strong>, no exercício do cargo de<strong>PRESIDENTE DA REPÚBLICA,</strong>no uso da atribuição que lhe confere o art. 84,<strong>caput</strong>, inciso I, da Constituição, resolve:</p><p><strong>EXONERAR</strong></p><p>ADOLFO SACHSIDA do cargo de Ministro de Estado de Minas e Energia.</p><p>Brasília, 31 de dezembro de 2022; 201º da Independência e 134º da República.</p><p class=\"assinaPr\">ANTÔNIO HAMILTON MARTINS MOURÃO</p>\n",
      "<p class=\"titulo\">MINISTÉRIO DE MINAS E ENERGIA</p><p class=\"identifica\">DECRETO DE 31 DE DEZEMBRO DE 2022</p><p><strong>O VICE-PRESIDENTE DA REPÚBLICA</strong>, no exercício do cargo de<strong>PRESIDENTE DA REPÚBLICA,</strong>no uso da atribuição que lhe confere o art. 84,<strong>caput</strong>, inciso I, da Constituição, resolve:</p><p><strong>EXONERAR</strong></p><p>ADOLFO SACHSIDA do cargo de Ministro de Estado de Minas e Energia.</p><p>Brasília, 31 de dezembro de 2022; 201º da Independência e 134º da República.</p><p class=\"assinaPr\">ANTÔNIO HAMILTON MARTINS MOURÃO</p>\n",
      "<p class=\"titulo\">MINISTÉRIO DE MINAS E ENERGIA</p><p class=\"identifica\">DECRETO DE 31 DE DEZEMBRO DE 2022</p><p><strong>O VICE-PRESIDENTE DA REPÚBLICA</strong>, no exercício do cargo de<strong>PRESIDENTE DA REPÚBLICA,</strong>no uso da atribuição que lhe confere o art. 84,<strong>caput</strong>, inciso I, da Constituição, resolve:</p><p><strong>EXONERAR</strong></p><p>ADOLFO SACHSIDA do cargo de Ministro de Estado de Minas e Energia.</p><p>Brasília, 31 de dezembro de 2022; 201º da Independência e 134º da República.</p><p class=\"assinaPr\">ANTÔNIO HAMILTON MARTINS MOURÃO</p>\n",
      "<p class=\"titulo\">MINISTÉRIO DE MINAS E ENERGIA</p><p class=\"identifica\">DECRETO DE 31 DE DEZEMBRO DE 2022</p><p><strong>O VICE-PRESIDENTE DA REPÚBLICA</strong>, no exercício do cargo de<strong>PRESIDENTE DA REPÚBLICA,</strong>no uso da atribuição que lhe confere o art. 84,<strong>caput</strong>, inciso I, da Constituição, resolve:</p><p><strong>EXONERAR</strong></p><p>ADOLFO SACHSIDA do cargo de Ministro de Estado de Minas e Energia.</p><p>Brasília, 31 de dezembro de 2022; 201º da Independência e 134º da República.</p><p class=\"assinaPr\">ANTÔNIO HAMILTON MARTINS MOURÃO</p>\n",
      "<p class=\"titulo\">MINISTÉRIO DE MINAS E ENERGIA</p><p class=\"identifica\">DECRETO DE 31 DE DEZEMBRO DE 2022</p><p><strong>O VICE-PRESIDENTE DA REPÚBLICA</strong>, no exercício do cargo de<strong>PRESIDENTE DA REPÚBLICA,</strong>no uso da atribuição que lhe confere o art. 84,<strong>caput</strong>, inciso I, da Constituição, resolve:</p><p><strong>EXONERAR</strong></p><p>ADOLFO SACHSIDA do cargo de Ministro de Estado de Minas e Energia.</p><p>Brasília, 31 de dezembro de 2022; 201º da Independência e 134º da República.</p><p class=\"assinaPr\">ANTÔNIO HAMILTON MARTINS MOURÃO</p>\n",
      "<p class=\"titulo\">MINISTÉRIO DE MINAS E ENERGIA</p><p class=\"identifica\">DECRETO DE 31 DE DEZEMBRO DE 2022</p><p><strong>O VICE-PRESIDENTE DA REPÚBLICA</strong>, no exercício do cargo de<strong>PRESIDENTE DA REPÚBLICA,</strong>no uso da atribuição que lhe confere o art. 84,<strong>caput</strong>, inciso I, da Constituição, resolve:</p><p><strong>EXONERAR</strong></p><p>ADOLFO SACHSIDA do cargo de Ministro de Estado de Minas e Energia.</p><p>Brasília, 31 de dezembro de 2022; 201º da Independência e 134º da República.</p><p class=\"assinaPr\">ANTÔNIO HAMILTON MARTINS MOURÃO</p>\n",
      "<p class=\"titulo\">MINISTÉRIO DE MINAS E ENERGIA</p><p class=\"identifica\">DECRETO DE 31 DE DEZEMBRO DE 2022</p><p><strong>O VICE-PRESIDENTE DA REPÚBLICA</strong>, no exercício do cargo de<strong>PRESIDENTE DA REPÚBLICA,</strong>no uso da atribuição que lhe confere o art. 84,<strong>caput</strong>, inciso I, da Constituição, resolve:</p><p><strong>EXONERAR</strong></p><p>ADOLFO SACHSIDA do cargo de Ministro de Estado de Minas e Energia.</p><p>Brasília, 31 de dezembro de 2022; 201º da Independência e 134º da República.</p><p class=\"assinaPr\">ANTÔNIO HAMILTON MARTINS MOURÃO</p>\n",
      "<p class=\"titulo\">MINISTÉRIO DE MINAS E ENERGIA</p><p class=\"identifica\">DECRETO DE 31 DE DEZEMBRO DE 2022</p><p><strong>O VICE-PRESIDENTE DA REPÚBLICA</strong>, no exercício do cargo de<strong>PRESIDENTE DA REPÚBLICA,</strong>no uso da atribuição que lhe confere o art. 84,<strong>caput</strong>, inciso I, da Constituição, resolve:</p><p><strong>EXONERAR</strong></p><p>ADOLFO SACHSIDA do cargo de Ministro de Estado de Minas e Energia.</p><p>Brasília, 31 de dezembro de 2022; 201º da Independência e 134º da República.</p><p class=\"assinaPr\">ANTÔNIO HAMILTON MARTINS MOURÃO</p>\n",
      "<p class=\"titulo\">MINISTÉRIO DE MINAS E ENERGIA</p><p class=\"identifica\">DECRETO DE 31 DE DEZEMBRO DE 2022</p><p><strong>O VICE-PRESIDENTE DA REPÚBLICA</strong>, no exercício do cargo de<strong>PRESIDENTE DA REPÚBLICA,</strong>no uso da atribuição que lhe confere o art. 84,<strong>caput</strong>, inciso I, da Constituição, resolve:</p><p><strong>EXONERAR</strong></p><p>ADOLFO SACHSIDA do cargo de Ministro de Estado de Minas e Energia.</p><p>Brasília, 31 de dezembro de 2022; 201º da Independência e 134º da República.</p><p class=\"assinaPr\">ANTÔNIO HAMILTON MARTINS MOURÃO</p>\n",
      "<p class=\"titulo\">MINISTÉRIO DE MINAS E ENERGIA</p><p class=\"identifica\">DECRETO DE 31 DE DEZEMBRO DE 2022</p><p><strong>O VICE-PRESIDENTE DA REPÚBLICA</strong>, no exercício do cargo de<strong>PRESIDENTE DA REPÚBLICA,</strong>no uso da atribuição que lhe confere o art. 84,<strong>caput</strong>, inciso I, da Constituição, resolve:</p><p><strong>EXONERAR</strong></p><p>ADOLFO SACHSIDA do cargo de Ministro de Estado de Minas e Energia.</p><p>Brasília, 31 de dezembro de 2022; 201º da Independência e 134º da República.</p><p class=\"assinaPr\">ANTÔNIO HAMILTON MARTINS MOURÃO</p>\n",
      "<p class=\"titulo\">MINISTÉRIO DE MINAS E ENERGIA</p><p class=\"identifica\">DECRETO DE 31 DE DEZEMBRO DE 2022</p><p><strong>O VICE-PRESIDENTE DA REPÚBLICA</strong>, no exercício do cargo de<strong>PRESIDENTE DA REPÚBLICA,</strong>no uso da atribuição que lhe confere o art. 84,<strong>caput</strong>, inciso I, da Constituição, resolve:</p><p><strong>EXONERAR</strong></p><p>ADOLFO SACHSIDA do cargo de Ministro de Estado de Minas e Energia.</p><p>Brasília, 31 de dezembro de 2022; 201º da Independência e 134º da República.</p><p class=\"assinaPr\">ANTÔNIO HAMILTON MARTINS MOURÃO</p>\n",
      "<p class=\"titulo\">MINISTÉRIO DE MINAS E ENERGIA</p><p class=\"identifica\">DECRETO DE 31 DE DEZEMBRO DE 2022</p><p><strong>O VICE-PRESIDENTE DA REPÚBLICA</strong>, no exercício do cargo de<strong>PRESIDENTE DA REPÚBLICA,</strong>no uso da atribuição que lhe confere o art. 84,<strong>caput</strong>, inciso I, da Constituição, resolve:</p><p><strong>EXONERAR</strong></p><p>ADOLFO SACHSIDA do cargo de Ministro de Estado de Minas e Energia.</p><p>Brasília, 31 de dezembro de 2022; 201º da Independência e 134º da República.</p><p class=\"assinaPr\">ANTÔNIO HAMILTON MARTINS MOURÃO</p>\n",
      "<p class=\"titulo\">MINISTÉRIO DE MINAS E ENERGIA</p><p class=\"identifica\">DECRETO DE 31 DE DEZEMBRO DE 2022</p><p><strong>O VICE-PRESIDENTE DA REPÚBLICA</strong>, no exercício do cargo de<strong>PRESIDENTE DA REPÚBLICA,</strong>no uso da atribuição que lhe confere o art. 84,<strong>caput</strong>, inciso I, da Constituição, resolve:</p><p><strong>EXONERAR</strong></p><p>ADOLFO SACHSIDA do cargo de Ministro de Estado de Minas e Energia.</p><p>Brasília, 31 de dezembro de 2022; 201º da Independência e 134º da República.</p><p class=\"assinaPr\">ANTÔNIO HAMILTON MARTINS MOURÃO</p>\n",
      "<p class=\"titulo\">MINISTÉRIO DE MINAS E ENERGIA</p><p class=\"identifica\">DECRETO DE 31 DE DEZEMBRO DE 2022</p><p><strong>O VICE-PRESIDENTE DA REPÚBLICA</strong>, no exercício do cargo de<strong>PRESIDENTE DA REPÚBLICA,</strong>no uso da atribuição que lhe confere o art. 84,<strong>caput</strong>, inciso I, da Constituição, resolve:</p><p><strong>EXONERAR</strong></p><p>ADOLFO SACHSIDA do cargo de Ministro de Estado de Minas e Energia.</p><p>Brasília, 31 de dezembro de 2022; 201º da Independência e 134º da República.</p><p class=\"assinaPr\">ANTÔNIO HAMILTON MARTINS MOURÃO</p>\n",
      "<p class=\"titulo\">MINISTÉRIO DE MINAS E ENERGIA</p><p class=\"identifica\">DECRETO DE 31 DE DEZEMBRO DE 2022</p><p><strong>O VICE-PRESIDENTE DA REPÚBLICA</strong>, no exercício do cargo de<strong>PRESIDENTE DA REPÚBLICA,</strong>no uso da atribuição que lhe confere o art. 84,<strong>caput</strong>, inciso I, da Constituição, resolve:</p><p><strong>EXONERAR</strong></p><p>ADOLFO SACHSIDA do cargo de Ministro de Estado de Minas e Energia.</p><p>Brasília, 31 de dezembro de 2022; 201º da Independência e 134º da República.</p><p class=\"assinaPr\">ANTÔNIO HAMILTON MARTINS MOURÃO</p>\n",
      "<p class=\"titulo\">MINISTÉRIO DE MINAS E ENERGIA</p><p class=\"identifica\">DECRETO DE 31 DE DEZEMBRO DE 2022</p><p><strong>O VICE-PRESIDENTE DA REPÚBLICA</strong>, no exercício do cargo de<strong>PRESIDENTE DA REPÚBLICA,</strong>no uso da atribuição que lhe confere o art. 84,<strong>caput</strong>, inciso I, da Constituição, resolve:</p><p><strong>EXONERAR</strong></p><p>ADOLFO SACHSIDA do cargo de Ministro de Estado de Minas e Energia.</p><p>Brasília, 31 de dezembro de 2022; 201º da Independência e 134º da República.</p><p class=\"assinaPr\">ANTÔNIO HAMILTON MARTINS MOURÃO</p>\n",
      "<p class=\"titulo\">MINISTÉRIO DE MINAS E ENERGIA</p><p class=\"identifica\">DECRETO DE 31 DE DEZEMBRO DE 2022</p><p><strong>O VICE-PRESIDENTE DA REPÚBLICA</strong>, no exercício do cargo de<strong>PRESIDENTE DA REPÚBLICA,</strong>no uso da atribuição que lhe confere o art. 84,<strong>caput</strong>, inciso I, da Constituição, resolve:</p><p><strong>EXONERAR</strong></p><p>ADOLFO SACHSIDA do cargo de Ministro de Estado de Minas e Energia.</p><p>Brasília, 31 de dezembro de 2022; 201º da Independência e 134º da República.</p><p class=\"assinaPr\">ANTÔNIO HAMILTON MARTINS MOURÃO</p>\n",
      "<p class=\"titulo\">MINISTÉRIO DE MINAS E ENERGIA</p><p class=\"identifica\">DECRETO DE 31 DE DEZEMBRO DE 2022</p><p><strong>O VICE-PRESIDENTE DA REPÚBLICA</strong>, no exercício do cargo de<strong>PRESIDENTE DA REPÚBLICA,</strong>no uso da atribuição que lhe confere o art. 84,<strong>caput</strong>, inciso I, da Constituição, resolve:</p><p><strong>EXONERAR</strong></p><p>ADOLFO SACHSIDA do cargo de Ministro de Estado de Minas e Energia.</p><p>Brasília, 31 de dezembro de 2022; 201º da Independência e 134º da República.</p><p class=\"assinaPr\">ANTÔNIO HAMILTON MARTINS MOURÃO</p>\n",
      "<p class=\"titulo\">MINISTÉRIO DE MINAS E ENERGIA</p><p class=\"identifica\">DECRETO DE 31 DE DEZEMBRO DE 2022</p><p><strong>O VICE-PRESIDENTE DA REPÚBLICA</strong>, no exercício do cargo de<strong>PRESIDENTE DA REPÚBLICA,</strong>no uso da atribuição que lhe confere o art. 84,<strong>caput</strong>, inciso I, da Constituição, resolve:</p><p><strong>EXONERAR</strong></p><p>ADOLFO SACHSIDA do cargo de Ministro de Estado de Minas e Energia.</p><p>Brasília, 31 de dezembro de 2022; 201º da Independência e 134º da República.</p><p class=\"assinaPr\">ANTÔNIO HAMILTON MARTINS MOURÃO</p>\n",
      "<p class=\"titulo\">MINISTÉRIO DE MINAS E ENERGIA</p><p class=\"identifica\">DECRETO DE 31 DE DEZEMBRO DE 2022</p><p><strong>O VICE-PRESIDENTE DA REPÚBLICA</strong>, no exercício do cargo de<strong>PRESIDENTE DA REPÚBLICA,</strong>no uso da atribuição que lhe confere o art. 84,<strong>caput</strong>, inciso I, da Constituição, resolve:</p><p><strong>EXONERAR</strong></p><p>ADOLFO SACHSIDA do cargo de Ministro de Estado de Minas e Energia.</p><p>Brasília, 31 de dezembro de 2022; 201º da Independência e 134º da República.</p><p class=\"assinaPr\">ANTÔNIO HAMILTON MARTINS MOURÃO</p>\n",
      "<p class=\"titulo\">MINISTÉRIO DE MINAS E ENERGIA</p><p class=\"identifica\">DECRETO DE 31 DE DEZEMBRO DE 2022</p><p><strong>O VICE-PRESIDENTE DA REPÚBLICA</strong>, no exercício do cargo de<strong>PRESIDENTE DA REPÚBLICA,</strong>no uso da atribuição que lhe confere o art. 84,<strong>caput</strong>, inciso I, da Constituição, resolve:</p><p><strong>EXONERAR</strong></p><p>ADOLFO SACHSIDA do cargo de Ministro de Estado de Minas e Energia.</p><p>Brasília, 31 de dezembro de 2022; 201º da Independência e 134º da República.</p><p class=\"assinaPr\">ANTÔNIO HAMILTON MARTINS MOURÃO</p>\n",
      "<p class=\"titulo\">MINISTÉRIO DE MINAS E ENERGIA</p><p class=\"identifica\">DECRETO DE 31 DE DEZEMBRO DE 2022</p><p><strong>O VICE-PRESIDENTE DA REPÚBLICA</strong>, no exercício do cargo de<strong>PRESIDENTE DA REPÚBLICA,</strong>no uso da atribuição que lhe confere o art. 84,<strong>caput</strong>, inciso I, da Constituição, resolve:</p><p><strong>EXONERAR</strong></p><p>ADOLFO SACHSIDA do cargo de Ministro de Estado de Minas e Energia.</p><p>Brasília, 31 de dezembro de 2022; 201º da Independência e 134º da República.</p><p class=\"assinaPr\">ANTÔNIO HAMILTON MARTINS MOURÃO</p>\n",
      "<p class=\"titulo\">MINISTÉRIO DE MINAS E ENERGIA</p><p class=\"identifica\">DECRETO DE 31 DE DEZEMBRO DE 2022</p><p><strong>O VICE-PRESIDENTE DA REPÚBLICA</strong>, no exercício do cargo de<strong>PRESIDENTE DA REPÚBLICA,</strong>no uso da atribuição que lhe confere o art. 84,<strong>caput</strong>, inciso I, da Constituição, resolve:</p><p><strong>EXONERAR</strong></p><p>ADOLFO SACHSIDA do cargo de Ministro de Estado de Minas e Energia.</p><p>Brasília, 31 de dezembro de 2022; 201º da Independência e 134º da República.</p><p class=\"assinaPr\">ANTÔNIO HAMILTON MARTINS MOURÃO</p>\n",
      "<p class=\"titulo\">MINISTÉRIO DE MINAS E ENERGIA</p><p class=\"identifica\">DECRETO DE 31 DE DEZEMBRO DE 2022</p><p><strong>O VICE-PRESIDENTE DA REPÚBLICA</strong>, no exercício do cargo de<strong>PRESIDENTE DA REPÚBLICA,</strong>no uso da atribuição que lhe confere o art. 84,<strong>caput</strong>, inciso I, da Constituição, resolve:</p><p><strong>EXONERAR</strong></p><p>ADOLFO SACHSIDA do cargo de Ministro de Estado de Minas e Energia.</p><p>Brasília, 31 de dezembro de 2022; 201º da Independência e 134º da República.</p><p class=\"assinaPr\">ANTÔNIO HAMILTON MARTINS MOURÃO</p>\n",
      "<p class=\"titulo\">MINISTÉRIO DE MINAS E ENERGIA</p><p class=\"identifica\">DECRETO DE 31 DE DEZEMBRO DE 2022</p><p><strong>O VICE-PRESIDENTE DA REPÚBLICA</strong>, no exercício do cargo de<strong>PRESIDENTE DA REPÚBLICA,</strong>no uso da atribuição que lhe confere o art. 84,<strong>caput</strong>, inciso I, da Constituição, resolve:</p><p><strong>EXONERAR</strong></p><p>ADOLFO SACHSIDA do cargo de Ministro de Estado de Minas e Energia.</p><p>Brasília, 31 de dezembro de 2022; 201º da Independência e 134º da República.</p><p class=\"assinaPr\">ANTÔNIO HAMILTON MARTINS MOURÃO</p>\n",
      "<p class=\"titulo\">MINISTÉRIO DE MINAS E ENERGIA</p><p class=\"identifica\">DECRETO DE 31 DE DEZEMBRO DE 2022</p><p><strong>O VICE-PRESIDENTE DA REPÚBLICA</strong>, no exercício do cargo de<strong>PRESIDENTE DA REPÚBLICA,</strong>no uso da atribuição que lhe confere o art. 84,<strong>caput</strong>, inciso I, da Constituição, resolve:</p><p><strong>EXONERAR</strong></p><p>ADOLFO SACHSIDA do cargo de Ministro de Estado de Minas e Energia.</p><p>Brasília, 31 de dezembro de 2022; 201º da Independência e 134º da República.</p><p class=\"assinaPr\">ANTÔNIO HAMILTON MARTINS MOURÃO</p>\n",
      "<p class=\"titulo\">MINISTÉRIO DE MINAS E ENERGIA</p><p class=\"identifica\">DECRETO DE 31 DE DEZEMBRO DE 2022</p><p><strong>O VICE-PRESIDENTE DA REPÚBLICA</strong>, no exercício do cargo de<strong>PRESIDENTE DA REPÚBLICA,</strong>no uso da atribuição que lhe confere o art. 84,<strong>caput</strong>, inciso I, da Constituição, resolve:</p><p><strong>EXONERAR</strong></p><p>ADOLFO SACHSIDA do cargo de Ministro de Estado de Minas e Energia.</p><p>Brasília, 31 de dezembro de 2022; 201º da Independência e 134º da República.</p><p class=\"assinaPr\">ANTÔNIO HAMILTON MARTINS MOURÃO</p>\n",
      "<p class=\"titulo\">MINISTÉRIO DE MINAS E ENERGIA</p><p class=\"identifica\">DECRETO DE 31 DE DEZEMBRO DE 2022</p><p><strong>O VICE-PRESIDENTE DA REPÚBLICA</strong>, no exercício do cargo de<strong>PRESIDENTE DA REPÚBLICA,</strong>no uso da atribuição que lhe confere o art. 84,<strong>caput</strong>, inciso I, da Constituição, resolve:</p><p><strong>EXONERAR</strong></p><p>ADOLFO SACHSIDA do cargo de Ministro de Estado de Minas e Energia.</p><p>Brasília, 31 de dezembro de 2022; 201º da Independência e 134º da República.</p><p class=\"assinaPr\">ANTÔNIO HAMILTON MARTINS MOURÃO</p>\n",
      "<p class=\"titulo\">MINISTÉRIO DE MINAS E ENERGIA</p><p class=\"identifica\">DECRETO DE 31 DE DEZEMBRO DE 2022</p><p><strong>O VICE-PRESIDENTE DA REPÚBLICA</strong>, no exercício do cargo de<strong>PRESIDENTE DA REPÚBLICA,</strong>no uso da atribuição que lhe confere o art. 84,<strong>caput</strong>, inciso I, da Constituição, resolve:</p><p><strong>EXONERAR</strong></p><p>ADOLFO SACHSIDA do cargo de Ministro de Estado de Minas e Energia.</p><p>Brasília, 31 de dezembro de 2022; 201º da Independência e 134º da República.</p><p class=\"assinaPr\">ANTÔNIO HAMILTON MARTINS MOURÃO</p>\n",
      "<p class=\"titulo\">MINISTÉRIO DE MINAS E ENERGIA</p><p class=\"identifica\">DECRETO DE 31 DE DEZEMBRO DE 2022</p><p><strong>O VICE-PRESIDENTE DA REPÚBLICA</strong>, no exercício do cargo de<strong>PRESIDENTE DA REPÚBLICA,</strong>no uso da atribuição que lhe confere o art. 84,<strong>caput</strong>, inciso I, da Constituição, resolve:</p><p><strong>EXONERAR</strong></p><p>ADOLFO SACHSIDA do cargo de Ministro de Estado de Minas e Energia.</p><p>Brasília, 31 de dezembro de 2022; 201º da Independência e 134º da República.</p><p class=\"assinaPr\">ANTÔNIO HAMILTON MARTINS MOURÃO</p>\n",
      "<p class=\"titulo\">MINISTÉRIO DE MINAS E ENERGIA</p><p class=\"identifica\">DECRETO DE 31 DE DEZEMBRO DE 2022</p><p><strong>O VICE-PRESIDENTE DA REPÚBLICA</strong>, no exercício do cargo de<strong>PRESIDENTE DA REPÚBLICA,</strong>no uso da atribuição que lhe confere o art. 84,<strong>caput</strong>, inciso I, da Constituição, resolve:</p><p><strong>EXONERAR</strong></p><p>ADOLFO SACHSIDA do cargo de Ministro de Estado de Minas e Energia.</p><p>Brasília, 31 de dezembro de 2022; 201º da Independência e 134º da República.</p><p class=\"assinaPr\">ANTÔNIO HAMILTON MARTINS MOURÃO</p>\n",
      "<p class=\"titulo\">MINISTÉRIO DE MINAS E ENERGIA</p><p class=\"identifica\">DECRETO DE 31 DE DEZEMBRO DE 2022</p><p><strong>O VICE-PRESIDENTE DA REPÚBLICA</strong>, no exercício do cargo de<strong>PRESIDENTE DA REPÚBLICA,</strong>no uso da atribuição que lhe confere o art. 84,<strong>caput</strong>, inciso I, da Constituição, resolve:</p><p><strong>EXONERAR</strong></p><p>ADOLFO SACHSIDA do cargo de Ministro de Estado de Minas e Energia.</p><p>Brasília, 31 de dezembro de 2022; 201º da Independência e 134º da República.</p><p class=\"assinaPr\">ANTÔNIO HAMILTON MARTINS MOURÃO</p>\n",
      "<p class=\"titulo\">MINISTÉRIO DE MINAS E ENERGIA</p><p class=\"identifica\">DECRETO DE 31 DE DEZEMBRO DE 2022</p><p><strong>O VICE-PRESIDENTE DA REPÚBLICA</strong>, no exercício do cargo de<strong>PRESIDENTE DA REPÚBLICA,</strong>no uso da atribuição que lhe confere o art. 84,<strong>caput</strong>, inciso I, da Constituição, resolve:</p><p><strong>EXONERAR</strong></p><p>ADOLFO SACHSIDA do cargo de Ministro de Estado de Minas e Energia.</p><p>Brasília, 31 de dezembro de 2022; 201º da Independência e 134º da República.</p><p class=\"assinaPr\">ANTÔNIO HAMILTON MARTINS MOURÃO</p>\n",
      "<p class=\"titulo\">MINISTÉRIO DE MINAS E ENERGIA</p><p class=\"identifica\">DECRETO DE 31 DE DEZEMBRO DE 2022</p><p><strong>O VICE-PRESIDENTE DA REPÚBLICA</strong>, no exercício do cargo de<strong>PRESIDENTE DA REPÚBLICA,</strong>no uso da atribuição que lhe confere o art. 84,<strong>caput</strong>, inciso I, da Constituição, resolve:</p><p><strong>EXONERAR</strong></p><p>ADOLFO SACHSIDA do cargo de Ministro de Estado de Minas e Energia.</p><p>Brasília, 31 de dezembro de 2022; 201º da Independência e 134º da República.</p><p class=\"assinaPr\">ANTÔNIO HAMILTON MARTINS MOURÃO</p>\n",
      "<p class=\"titulo\">MINISTÉRIO DE MINAS E ENERGIA</p><p class=\"identifica\">DECRETO DE 31 DE DEZEMBRO DE 2022</p><p><strong>O VICE-PRESIDENTE DA REPÚBLICA</strong>, no exercício do cargo de<strong>PRESIDENTE DA REPÚBLICA,</strong>no uso da atribuição que lhe confere o art. 84,<strong>caput</strong>, inciso I, da Constituição, resolve:</p><p><strong>EXONERAR</strong></p><p>ADOLFO SACHSIDA do cargo de Ministro de Estado de Minas e Energia.</p><p>Brasília, 31 de dezembro de 2022; 201º da Independência e 134º da República.</p><p class=\"assinaPr\">ANTÔNIO HAMILTON MARTINS MOURÃO</p>\n",
      "<p class=\"titulo\">MINISTÉRIO DE MINAS E ENERGIA</p><p class=\"identifica\">DECRETO DE 31 DE DEZEMBRO DE 2022</p><p><strong>O VICE-PRESIDENTE DA REPÚBLICA</strong>, no exercício do cargo de<strong>PRESIDENTE DA REPÚBLICA,</strong>no uso da atribuição que lhe confere o art. 84,<strong>caput</strong>, inciso I, da Constituição, resolve:</p><p><strong>EXONERAR</strong></p><p>ADOLFO SACHSIDA do cargo de Ministro de Estado de Minas e Energia.</p><p>Brasília, 31 de dezembro de 2022; 201º da Independência e 134º da República.</p><p class=\"assinaPr\">ANTÔNIO HAMILTON MARTINS MOURÃO</p>\n",
      "<p class=\"titulo\">MINISTÉRIO DE MINAS E ENERGIA</p><p class=\"identifica\">DECRETO DE 31 DE DEZEMBRO DE 2022</p><p><strong>O VICE-PRESIDENTE DA REPÚBLICA</strong>, no exercício do cargo de<strong>PRESIDENTE DA REPÚBLICA,</strong>no uso da atribuição que lhe confere o art. 84,<strong>caput</strong>, inciso I, da Constituição, resolve:</p><p><strong>EXONERAR</strong></p><p>ADOLFO SACHSIDA do cargo de Ministro de Estado de Minas e Energia.</p><p>Brasília, 31 de dezembro de 2022; 201º da Independência e 134º da República.</p><p class=\"assinaPr\">ANTÔNIO HAMILTON MARTINS MOURÃO</p>\n",
      "<p class=\"titulo\">MINISTÉRIO DE MINAS E ENERGIA</p><p class=\"identifica\">DECRETO DE 31 DE DEZEMBRO DE 2022</p><p><strong>O VICE-PRESIDENTE DA REPÚBLICA</strong>, no exercício do cargo de<strong>PRESIDENTE DA REPÚBLICA,</strong>no uso da atribuição que lhe confere o art. 84,<strong>caput</strong>, inciso I, da Constituição, resolve:</p><p><strong>EXONERAR</strong></p><p>ADOLFO SACHSIDA do cargo de Ministro de Estado de Minas e Energia.</p><p>Brasília, 31 de dezembro de 2022; 201º da Independência e 134º da República.</p><p class=\"assinaPr\">ANTÔNIO HAMILTON MARTINS MOURÃO</p>\n",
      "<p class=\"titulo\">MINISTÉRIO DE MINAS E ENERGIA</p><p class=\"identifica\">DECRETO DE 31 DE DEZEMBRO DE 2022</p><p><strong>O VICE-PRESIDENTE DA REPÚBLICA</strong>, no exercício do cargo de<strong>PRESIDENTE DA REPÚBLICA,</strong>no uso da atribuição que lhe confere o art. 84,<strong>caput</strong>, inciso I, da Constituição, resolve:</p><p><strong>EXONERAR</strong></p><p>ADOLFO SACHSIDA do cargo de Ministro de Estado de Minas e Energia.</p><p>Brasília, 31 de dezembro de 2022; 201º da Independência e 134º da República.</p><p class=\"assinaPr\">ANTÔNIO HAMILTON MARTINS MOURÃO</p>\n",
      "<p class=\"titulo\">MINISTÉRIO DE MINAS E ENERGIA</p><p class=\"identifica\">DECRETO DE 31 DE DEZEMBRO DE 2022</p><p><strong>O VICE-PRESIDENTE DA REPÚBLICA</strong>, no exercício do cargo de<strong>PRESIDENTE DA REPÚBLICA,</strong>no uso da atribuição que lhe confere o art. 84,<strong>caput</strong>, inciso I, da Constituição, resolve:</p><p><strong>EXONERAR</strong></p><p>ADOLFO SACHSIDA do cargo de Ministro de Estado de Minas e Energia.</p><p>Brasília, 31 de dezembro de 2022; 201º da Independência e 134º da República.</p><p class=\"assinaPr\">ANTÔNIO HAMILTON MARTINS MOURÃO</p>\n",
      "<p class=\"titulo\">MINISTÉRIO DE MINAS E ENERGIA</p><p class=\"identifica\">DECRETO DE 31 DE DEZEMBRO DE 2022</p><p><strong>O VICE-PRESIDENTE DA REPÚBLICA</strong>, no exercício do cargo de<strong>PRESIDENTE DA REPÚBLICA,</strong>no uso da atribuição que lhe confere o art. 84,<strong>caput</strong>, inciso I, da Constituição, resolve:</p><p><strong>EXONERAR</strong></p><p>ADOLFO SACHSIDA do cargo de Ministro de Estado de Minas e Energia.</p><p>Brasília, 31 de dezembro de 2022; 201º da Independência e 134º da República.</p><p class=\"assinaPr\">ANTÔNIO HAMILTON MARTINS MOURÃO</p>\n",
      "<p class=\"titulo\">MINISTÉRIO DE MINAS E ENERGIA</p><p class=\"identifica\">DECRETO DE 31 DE DEZEMBRO DE 2022</p><p><strong>O VICE-PRESIDENTE DA REPÚBLICA</strong>, no exercício do cargo de<strong>PRESIDENTE DA REPÚBLICA,</strong>no uso da atribuição que lhe confere o art. 84,<strong>caput</strong>, inciso I, da Constituição, resolve:</p><p><strong>EXONERAR</strong></p><p>ADOLFO SACHSIDA do cargo de Ministro de Estado de Minas e Energia.</p><p>Brasília, 31 de dezembro de 2022; 201º da Independência e 134º da República.</p><p class=\"assinaPr\">ANTÔNIO HAMILTON MARTINS MOURÃO</p>\n",
      "<p class=\"titulo\">MINISTÉRIO DE MINAS E ENERGIA</p><p class=\"identifica\">DECRETO DE 31 DE DEZEMBRO DE 2022</p><p><strong>O VICE-PRESIDENTE DA REPÚBLICA</strong>, no exercício do cargo de<strong>PRESIDENTE DA REPÚBLICA,</strong>no uso da atribuição que lhe confere o art. 84,<strong>caput</strong>, inciso I, da Constituição, resolve:</p><p><strong>EXONERAR</strong></p><p>ADOLFO SACHSIDA do cargo de Ministro de Estado de Minas e Energia.</p><p>Brasília, 31 de dezembro de 2022; 201º da Independência e 134º da República.</p><p class=\"assinaPr\">ANTÔNIO HAMILTON MARTINS MOURÃO</p>\n",
      "<p class=\"titulo\">MINISTÉRIO DE MINAS E ENERGIA</p><p class=\"identifica\">DECRETO DE 31 DE DEZEMBRO DE 2022</p><p><strong>O VICE-PRESIDENTE DA REPÚBLICA</strong>, no exercício do cargo de<strong>PRESIDENTE DA REPÚBLICA,</strong>no uso da atribuição que lhe confere o art. 84,<strong>caput</strong>, inciso I, da Constituição, resolve:</p><p><strong>EXONERAR</strong></p><p>ADOLFO SACHSIDA do cargo de Ministro de Estado de Minas e Energia.</p><p>Brasília, 31 de dezembro de 2022; 201º da Independência e 134º da República.</p><p class=\"assinaPr\">ANTÔNIO HAMILTON MARTINS MOURÃO</p>\n",
      "<p class=\"titulo\">MINISTÉRIO DE MINAS E ENERGIA</p><p class=\"identifica\">DECRETO DE 31 DE DEZEMBRO DE 2022</p><p><strong>O VICE-PRESIDENTE DA REPÚBLICA</strong>, no exercício do cargo de<strong>PRESIDENTE DA REPÚBLICA,</strong>no uso da atribuição que lhe confere o art. 84,<strong>caput</strong>, inciso I, da Constituição, resolve:</p><p><strong>EXONERAR</strong></p><p>ADOLFO SACHSIDA do cargo de Ministro de Estado de Minas e Energia.</p><p>Brasília, 31 de dezembro de 2022; 201º da Independência e 134º da República.</p><p class=\"assinaPr\">ANTÔNIO HAMILTON MARTINS MOURÃO</p>\n",
      "<p class=\"titulo\">MINISTÉRIO DE MINAS E ENERGIA</p><p class=\"identifica\">DECRETO DE 31 DE DEZEMBRO DE 2022</p><p><strong>O VICE-PRESIDENTE DA REPÚBLICA</strong>, no exercício do cargo de<strong>PRESIDENTE DA REPÚBLICA,</strong>no uso da atribuição que lhe confere o art. 84,<strong>caput</strong>, inciso I, da Constituição, resolve:</p><p><strong>EXONERAR</strong></p><p>ADOLFO SACHSIDA do cargo de Ministro de Estado de Minas e Energia.</p><p>Brasília, 31 de dezembro de 2022; 201º da Independência e 134º da República.</p><p class=\"assinaPr\">ANTÔNIO HAMILTON MARTINS MOURÃO</p>\n",
      "<p class=\"titulo\">MINISTÉRIO DE MINAS E ENERGIA</p><p class=\"identifica\">DECRETO DE 31 DE DEZEMBRO DE 2022</p><p><strong>O VICE-PRESIDENTE DA REPÚBLICA</strong>, no exercício do cargo de<strong>PRESIDENTE DA REPÚBLICA,</strong>no uso da atribuição que lhe confere o art. 84,<strong>caput</strong>, inciso I, da Constituição, resolve:</p><p><strong>EXONERAR</strong></p><p>ADOLFO SACHSIDA do cargo de Ministro de Estado de Minas e Energia.</p><p>Brasília, 31 de dezembro de 2022; 201º da Independência e 134º da República.</p><p class=\"assinaPr\">ANTÔNIO HAMILTON MARTINS MOURÃO</p>\n",
      "<p class=\"titulo\">MINISTÉRIO DE MINAS E ENERGIA</p><p class=\"identifica\">DECRETO DE 31 DE DEZEMBRO DE 2022</p><p><strong>O VICE-PRESIDENTE DA REPÚBLICA</strong>, no exercício do cargo de<strong>PRESIDENTE DA REPÚBLICA,</strong>no uso da atribuição que lhe confere o art. 84,<strong>caput</strong>, inciso I, da Constituição, resolve:</p><p><strong>EXONERAR</strong></p><p>ADOLFO SACHSIDA do cargo de Ministro de Estado de Minas e Energia.</p><p>Brasília, 31 de dezembro de 2022; 201º da Independência e 134º da República.</p><p class=\"assinaPr\">ANTÔNIO HAMILTON MARTINS MOURÃO</p>\n",
      "<p class=\"titulo\">MINISTÉRIO DE MINAS E ENERGIA</p><p class=\"identifica\">DECRETO DE 31 DE DEZEMBRO DE 2022</p><p><strong>O VICE-PRESIDENTE DA REPÚBLICA</strong>, no exercício do cargo de<strong>PRESIDENTE DA REPÚBLICA,</strong>no uso da atribuição que lhe confere o art. 84,<strong>caput</strong>, inciso I, da Constituição, resolve:</p><p><strong>EXONERAR</strong></p><p>ADOLFO SACHSIDA do cargo de Ministro de Estado de Minas e Energia.</p><p>Brasília, 31 de dezembro de 2022; 201º da Independência e 134º da República.</p><p class=\"assinaPr\">ANTÔNIO HAMILTON MARTINS MOURÃO</p>\n",
      "<p class=\"titulo\">MINISTÉRIO DE MINAS E ENERGIA</p><p class=\"identifica\">DECRETO DE 31 DE DEZEMBRO DE 2022</p><p><strong>O VICE-PRESIDENTE DA REPÚBLICA</strong>, no exercício do cargo de<strong>PRESIDENTE DA REPÚBLICA,</strong>no uso da atribuição que lhe confere o art. 84,<strong>caput</strong>, inciso I, da Constituição, resolve:</p><p><strong>EXONERAR</strong></p><p>ADOLFO SACHSIDA do cargo de Ministro de Estado de Minas e Energia.</p><p>Brasília, 31 de dezembro de 2022; 201º da Independência e 134º da República.</p><p class=\"assinaPr\">ANTÔNIO HAMILTON MARTINS MOURÃO</p>\n",
      "<p class=\"titulo\">MINISTÉRIO DE MINAS E ENERGIA</p><p class=\"identifica\">DECRETO DE 31 DE DEZEMBRO DE 2022</p><p><strong>O VICE-PRESIDENTE DA REPÚBLICA</strong>, no exercício do cargo de<strong>PRESIDENTE DA REPÚBLICA,</strong>no uso da atribuição que lhe confere o art. 84,<strong>caput</strong>, inciso I, da Constituição, resolve:</p><p><strong>EXONERAR</strong></p><p>ADOLFO SACHSIDA do cargo de Ministro de Estado de Minas e Energia.</p><p>Brasília, 31 de dezembro de 2022; 201º da Independência e 134º da República.</p><p class=\"assinaPr\">ANTÔNIO HAMILTON MARTINS MOURÃO</p>\n",
      "<p class=\"titulo\">MINISTÉRIO DE MINAS E ENERGIA</p><p class=\"identifica\">DECRETO DE 31 DE DEZEMBRO DE 2022</p><p><strong>O VICE-PRESIDENTE DA REPÚBLICA</strong>, no exercício do cargo de<strong>PRESIDENTE DA REPÚBLICA,</strong>no uso da atribuição que lhe confere o art. 84,<strong>caput</strong>, inciso I, da Constituição, resolve:</p><p><strong>EXONERAR</strong></p><p>ADOLFO SACHSIDA do cargo de Ministro de Estado de Minas e Energia.</p><p>Brasília, 31 de dezembro de 2022; 201º da Independência e 134º da República.</p><p class=\"assinaPr\">ANTÔNIO HAMILTON MARTINS MOURÃO</p>\n",
      "<p class=\"titulo\">MINISTÉRIO DE MINAS E ENERGIA</p><p class=\"identifica\">DECRETO DE 31 DE DEZEMBRO DE 2022</p><p><strong>O VICE-PRESIDENTE DA REPÚBLICA</strong>, no exercício do cargo de<strong>PRESIDENTE DA REPÚBLICA,</strong>no uso da atribuição que lhe confere o art. 84,<strong>caput</strong>, inciso I, da Constituição, resolve:</p><p><strong>EXONERAR</strong></p><p>ADOLFO SACHSIDA do cargo de Ministro de Estado de Minas e Energia.</p><p>Brasília, 31 de dezembro de 2022; 201º da Independência e 134º da República.</p><p class=\"assinaPr\">ANTÔNIO HAMILTON MARTINS MOURÃO</p>\n",
      "<p class=\"titulo\">MINISTÉRIO DE MINAS E ENERGIA</p><p class=\"identifica\">DECRETO DE 31 DE DEZEMBRO DE 2022</p><p><strong>O VICE-PRESIDENTE DA REPÚBLICA</strong>, no exercício do cargo de<strong>PRESIDENTE DA REPÚBLICA,</strong>no uso da atribuição que lhe confere o art. 84,<strong>caput</strong>, inciso I, da Constituição, resolve:</p><p><strong>EXONERAR</strong></p><p>ADOLFO SACHSIDA do cargo de Ministro de Estado de Minas e Energia.</p><p>Brasília, 31 de dezembro de 2022; 201º da Independência e 134º da República.</p><p class=\"assinaPr\">ANTÔNIO HAMILTON MARTINS MOURÃO</p>\n",
      "<p class=\"titulo\">MINISTÉRIO DE MINAS E ENERGIA</p><p class=\"identifica\">DECRETO DE 31 DE DEZEMBRO DE 2022</p><p><strong>O VICE-PRESIDENTE DA REPÚBLICA</strong>, no exercício do cargo de<strong>PRESIDENTE DA REPÚBLICA,</strong>no uso da atribuição que lhe confere o art. 84,<strong>caput</strong>, inciso I, da Constituição, resolve:</p><p><strong>EXONERAR</strong></p><p>ADOLFO SACHSIDA do cargo de Ministro de Estado de Minas e Energia.</p><p>Brasília, 31 de dezembro de 2022; 201º da Independência e 134º da República.</p><p class=\"assinaPr\">ANTÔNIO HAMILTON MARTINS MOURÃO</p>\n",
      "<p class=\"titulo\">MINISTÉRIO DE MINAS E ENERGIA</p><p class=\"identifica\">DECRETO DE 31 DE DEZEMBRO DE 2022</p><p><strong>O VICE-PRESIDENTE DA REPÚBLICA</strong>, no exercício do cargo de<strong>PRESIDENTE DA REPÚBLICA,</strong>no uso da atribuição que lhe confere o art. 84,<strong>caput</strong>, inciso I, da Constituição, resolve:</p><p><strong>EXONERAR</strong></p><p>ADOLFO SACHSIDA do cargo de Ministro de Estado de Minas e Energia.</p><p>Brasília, 31 de dezembro de 2022; 201º da Independência e 134º da República.</p><p class=\"assinaPr\">ANTÔNIO HAMILTON MARTINS MOURÃO</p>\n",
      "<p class=\"titulo\">MINISTÉRIO DE MINAS E ENERGIA</p><p class=\"identifica\">DECRETO DE 31 DE DEZEMBRO DE 2022</p><p><strong>O VICE-PRESIDENTE DA REPÚBLICA</strong>, no exercício do cargo de<strong>PRESIDENTE DA REPÚBLICA,</strong>no uso da atribuição que lhe confere o art. 84,<strong>caput</strong>, inciso I, da Constituição, resolve:</p><p><strong>EXONERAR</strong></p><p>ADOLFO SACHSIDA do cargo de Ministro de Estado de Minas e Energia.</p><p>Brasília, 31 de dezembro de 2022; 201º da Independência e 134º da República.</p><p class=\"assinaPr\">ANTÔNIO HAMILTON MARTINS MOURÃO</p>\n",
      "<p class=\"titulo\">MINISTÉRIO DE MINAS E ENERGIA</p><p class=\"identifica\">DECRETO DE 31 DE DEZEMBRO DE 2022</p><p><strong>O VICE-PRESIDENTE DA REPÚBLICA</strong>, no exercício do cargo de<strong>PRESIDENTE DA REPÚBLICA,</strong>no uso da atribuição que lhe confere o art. 84,<strong>caput</strong>, inciso I, da Constituição, resolve:</p><p><strong>EXONERAR</strong></p><p>ADOLFO SACHSIDA do cargo de Ministro de Estado de Minas e Energia.</p><p>Brasília, 31 de dezembro de 2022; 201º da Independência e 134º da República.</p><p class=\"assinaPr\">ANTÔNIO HAMILTON MARTINS MOURÃO</p>\n",
      "<p class=\"titulo\">MINISTÉRIO DE MINAS E ENERGIA</p><p class=\"identifica\">DECRETO DE 31 DE DEZEMBRO DE 2022</p><p><strong>O VICE-PRESIDENTE DA REPÚBLICA</strong>, no exercício do cargo de<strong>PRESIDENTE DA REPÚBLICA,</strong>no uso da atribuição que lhe confere o art. 84,<strong>caput</strong>, inciso I, da Constituição, resolve:</p><p><strong>EXONERAR</strong></p><p>ADOLFO SACHSIDA do cargo de Ministro de Estado de Minas e Energia.</p><p>Brasília, 31 de dezembro de 2022; 201º da Independência e 134º da República.</p><p class=\"assinaPr\">ANTÔNIO HAMILTON MARTINS MOURÃO</p>\n",
      "<p class=\"titulo\">MINISTÉRIO DE MINAS E ENERGIA</p><p class=\"identifica\">DECRETO DE 31 DE DEZEMBRO DE 2022</p><p><strong>O VICE-PRESIDENTE DA REPÚBLICA</strong>, no exercício do cargo de<strong>PRESIDENTE DA REPÚBLICA,</strong>no uso da atribuição que lhe confere o art. 84,<strong>caput</strong>, inciso I, da Constituição, resolve:</p><p><strong>EXONERAR</strong></p><p>ADOLFO SACHSIDA do cargo de Ministro de Estado de Minas e Energia.</p><p>Brasília, 31 de dezembro de 2022; 201º da Independência e 134º da República.</p><p class=\"assinaPr\">ANTÔNIO HAMILTON MARTINS MOURÃO</p>\n",
      "<p class=\"titulo\">MINISTÉRIO DE MINAS E ENERGIA</p><p class=\"identifica\">DECRETO DE 31 DE DEZEMBRO DE 2022</p><p><strong>O VICE-PRESIDENTE DA REPÚBLICA</strong>, no exercício do cargo de<strong>PRESIDENTE DA REPÚBLICA,</strong>no uso da atribuição que lhe confere o art. 84,<strong>caput</strong>, inciso I, da Constituição, resolve:</p><p><strong>EXONERAR</strong></p><p>ADOLFO SACHSIDA do cargo de Ministro de Estado de Minas e Energia.</p><p>Brasília, 31 de dezembro de 2022; 201º da Independência e 134º da República.</p><p class=\"assinaPr\">ANTÔNIO HAMILTON MARTINS MOURÃO</p>\n",
      "<p class=\"titulo\">MINISTÉRIO DE MINAS E ENERGIA</p><p class=\"identifica\">DECRETO DE 31 DE DEZEMBRO DE 2022</p><p><strong>O VICE-PRESIDENTE DA REPÚBLICA</strong>, no exercício do cargo de<strong>PRESIDENTE DA REPÚBLICA,</strong>no uso da atribuição que lhe confere o art. 84,<strong>caput</strong>, inciso I, da Constituição, resolve:</p><p><strong>EXONERAR</strong></p><p>ADOLFO SACHSIDA do cargo de Ministro de Estado de Minas e Energia.</p><p>Brasília, 31 de dezembro de 2022; 201º da Independência e 134º da República.</p><p class=\"assinaPr\">ANTÔNIO HAMILTON MARTINS MOURÃO</p>\n",
      "<p class=\"titulo\">MINISTÉRIO DE MINAS E ENERGIA</p><p class=\"identifica\">DECRETO DE 31 DE DEZEMBRO DE 2022</p><p><strong>O VICE-PRESIDENTE DA REPÚBLICA</strong>, no exercício do cargo de<strong>PRESIDENTE DA REPÚBLICA,</strong>no uso da atribuição que lhe confere o art. 84,<strong>caput</strong>, inciso I, da Constituição, resolve:</p><p><strong>EXONERAR</strong></p><p>ADOLFO SACHSIDA do cargo de Ministro de Estado de Minas e Energia.</p><p>Brasília, 31 de dezembro de 2022; 201º da Independência e 134º da República.</p><p class=\"assinaPr\">ANTÔNIO HAMILTON MARTINS MOURÃO</p>\n",
      "<p class=\"titulo\">MINISTÉRIO DE MINAS E ENERGIA</p><p class=\"identifica\">DECRETO DE 31 DE DEZEMBRO DE 2022</p><p><strong>O VICE-PRESIDENTE DA REPÚBLICA</strong>, no exercício do cargo de<strong>PRESIDENTE DA REPÚBLICA,</strong>no uso da atribuição que lhe confere o art. 84,<strong>caput</strong>, inciso I, da Constituição, resolve:</p><p><strong>EXONERAR</strong></p><p>ADOLFO SACHSIDA do cargo de Ministro de Estado de Minas e Energia.</p><p>Brasília, 31 de dezembro de 2022; 201º da Independência e 134º da República.</p><p class=\"assinaPr\">ANTÔNIO HAMILTON MARTINS MOURÃO</p>\n",
      "<p class=\"titulo\">MINISTÉRIO DE MINAS E ENERGIA</p><p class=\"identifica\">DECRETO DE 31 DE DEZEMBRO DE 2022</p><p><strong>O VICE-PRESIDENTE DA REPÚBLICA</strong>, no exercício do cargo de<strong>PRESIDENTE DA REPÚBLICA,</strong>no uso da atribuição que lhe confere o art. 84,<strong>caput</strong>, inciso I, da Constituição, resolve:</p><p><strong>EXONERAR</strong></p><p>ADOLFO SACHSIDA do cargo de Ministro de Estado de Minas e Energia.</p><p>Brasília, 31 de dezembro de 2022; 201º da Independência e 134º da República.</p><p class=\"assinaPr\">ANTÔNIO HAMILTON MARTINS MOURÃO</p>\n",
      "<p class=\"titulo\">MINISTÉRIO DE MINAS E ENERGIA</p><p class=\"identifica\">DECRETO DE 31 DE DEZEMBRO DE 2022</p><p><strong>O VICE-PRESIDENTE DA REPÚBLICA</strong>, no exercício do cargo de<strong>PRESIDENTE DA REPÚBLICA,</strong>no uso da atribuição que lhe confere o art. 84,<strong>caput</strong>, inciso I, da Constituição, resolve:</p><p><strong>EXONERAR</strong></p><p>ADOLFO SACHSIDA do cargo de Ministro de Estado de Minas e Energia.</p><p>Brasília, 31 de dezembro de 2022; 201º da Independência e 134º da República.</p><p class=\"assinaPr\">ANTÔNIO HAMILTON MARTINS MOURÃO</p>\n",
      "<p class=\"titulo\">MINISTÉRIO DE MINAS E ENERGIA</p><p class=\"identifica\">DECRETO DE 31 DE DEZEMBRO DE 2022</p><p><strong>O VICE-PRESIDENTE DA REPÚBLICA</strong>, no exercício do cargo de<strong>PRESIDENTE DA REPÚBLICA,</strong>no uso da atribuição que lhe confere o art. 84,<strong>caput</strong>, inciso I, da Constituição, resolve:</p><p><strong>EXONERAR</strong></p><p>ADOLFO SACHSIDA do cargo de Ministro de Estado de Minas e Energia.</p><p>Brasília, 31 de dezembro de 2022; 201º da Independência e 134º da República.</p><p class=\"assinaPr\">ANTÔNIO HAMILTON MARTINS MOURÃO</p>\n",
      "<p class=\"titulo\">MINISTÉRIO DE MINAS E ENERGIA</p><p class=\"identifica\">DECRETO DE 31 DE DEZEMBRO DE 2022</p><p><strong>O VICE-PRESIDENTE DA REPÚBLICA</strong>, no exercício do cargo de<strong>PRESIDENTE DA REPÚBLICA,</strong>no uso da atribuição que lhe confere o art. 84,<strong>caput</strong>, inciso I, da Constituição, resolve:</p><p><strong>EXONERAR</strong></p><p>ADOLFO SACHSIDA do cargo de Ministro de Estado de Minas e Energia.</p><p>Brasília, 31 de dezembro de 2022; 201º da Independência e 134º da República.</p><p class=\"assinaPr\">ANTÔNIO HAMILTON MARTINS MOURÃO</p>\n",
      "<p class=\"titulo\">MINISTÉRIO DE MINAS E ENERGIA</p><p class=\"identifica\">DECRETO DE 31 DE DEZEMBRO DE 2022</p><p><strong>O VICE-PRESIDENTE DA REPÚBLICA</strong>, no exercício do cargo de<strong>PRESIDENTE DA REPÚBLICA,</strong>no uso da atribuição que lhe confere o art. 84,<strong>caput</strong>, inciso I, da Constituição, resolve:</p><p><strong>EXONERAR</strong></p><p>ADOLFO SACHSIDA do cargo de Ministro de Estado de Minas e Energia.</p><p>Brasília, 31 de dezembro de 2022; 201º da Independência e 134º da República.</p><p class=\"assinaPr\">ANTÔNIO HAMILTON MARTINS MOURÃO</p>\n",
      "<p class=\"titulo\">MINISTÉRIO DE MINAS E ENERGIA</p><p class=\"identifica\">DECRETO DE 31 DE DEZEMBRO DE 2022</p><p><strong>O VICE-PRESIDENTE DA REPÚBLICA</strong>, no exercício do cargo de<strong>PRESIDENTE DA REPÚBLICA,</strong>no uso da atribuição que lhe confere o art. 84,<strong>caput</strong>, inciso I, da Constituição, resolve:</p><p><strong>EXONERAR</strong></p><p>ADOLFO SACHSIDA do cargo de Ministro de Estado de Minas e Energia.</p><p>Brasília, 31 de dezembro de 2022; 201º da Independência e 134º da República.</p><p class=\"assinaPr\">ANTÔNIO HAMILTON MARTINS MOURÃO</p>\n",
      "<p class=\"titulo\">MINISTÉRIO DE MINAS E ENERGIA</p><p class=\"identifica\">DECRETO DE 31 DE DEZEMBRO DE 2022</p><p><strong>O VICE-PRESIDENTE DA REPÚBLICA</strong>, no exercício do cargo de<strong>PRESIDENTE DA REPÚBLICA,</strong>no uso da atribuição que lhe confere o art. 84,<strong>caput</strong>, inciso I, da Constituição, resolve:</p><p><strong>EXONERAR</strong></p><p>ADOLFO SACHSIDA do cargo de Ministro de Estado de Minas e Energia.</p><p>Brasília, 31 de dezembro de 2022; 201º da Independência e 134º da República.</p><p class=\"assinaPr\">ANTÔNIO HAMILTON MARTINS MOURÃO</p>\n",
      "<p class=\"titulo\">MINISTÉRIO DE MINAS E ENERGIA</p><p class=\"identifica\">DECRETO DE 31 DE DEZEMBRO DE 2022</p><p><strong>O VICE-PRESIDENTE DA REPÚBLICA</strong>, no exercício do cargo de<strong>PRESIDENTE DA REPÚBLICA,</strong>no uso da atribuição que lhe confere o art. 84,<strong>caput</strong>, inciso I, da Constituição, resolve:</p><p><strong>EXONERAR</strong></p><p>ADOLFO SACHSIDA do cargo de Ministro de Estado de Minas e Energia.</p><p>Brasília, 31 de dezembro de 2022; 201º da Independência e 134º da República.</p><p class=\"assinaPr\">ANTÔNIO HAMILTON MARTINS MOURÃO</p>\n",
      "<p class=\"titulo\">MINISTÉRIO DE MINAS E ENERGIA</p><p class=\"identifica\">DECRETO DE 31 DE DEZEMBRO DE 2022</p><p><strong>O VICE-PRESIDENTE DA REPÚBLICA</strong>, no exercício do cargo de<strong>PRESIDENTE DA REPÚBLICA,</strong>no uso da atribuição que lhe confere o art. 84,<strong>caput</strong>, inciso I, da Constituição, resolve:</p><p><strong>EXONERAR</strong></p><p>ADOLFO SACHSIDA do cargo de Ministro de Estado de Minas e Energia.</p><p>Brasília, 31 de dezembro de 2022; 201º da Independência e 134º da República.</p><p class=\"assinaPr\">ANTÔNIO HAMILTON MARTINS MOURÃO</p>\n",
      "<p class=\"titulo\">MINISTÉRIO DE MINAS E ENERGIA</p><p class=\"identifica\">DECRETO DE 31 DE DEZEMBRO DE 2022</p><p><strong>O VICE-PRESIDENTE DA REPÚBLICA</strong>, no exercício do cargo de<strong>PRESIDENTE DA REPÚBLICA,</strong>no uso da atribuição que lhe confere o art. 84,<strong>caput</strong>, inciso I, da Constituição, resolve:</p><p><strong>EXONERAR</strong></p><p>ADOLFO SACHSIDA do cargo de Ministro de Estado de Minas e Energia.</p><p>Brasília, 31 de dezembro de 2022; 201º da Independência e 134º da República.</p><p class=\"assinaPr\">ANTÔNIO HAMILTON MARTINS MOURÃO</p>\n",
      "<p class=\"titulo\">MINISTÉRIO DE MINAS E ENERGIA</p><p class=\"identifica\">DECRETO DE 31 DE DEZEMBRO DE 2022</p><p><strong>O VICE-PRESIDENTE DA REPÚBLICA</strong>, no exercício do cargo de<strong>PRESIDENTE DA REPÚBLICA,</strong>no uso da atribuição que lhe confere o art. 84,<strong>caput</strong>, inciso I, da Constituição, resolve:</p><p><strong>EXONERAR</strong></p><p>ADOLFO SACHSIDA do cargo de Ministro de Estado de Minas e Energia.</p><p>Brasília, 31 de dezembro de 2022; 201º da Independência e 134º da República.</p><p class=\"assinaPr\">ANTÔNIO HAMILTON MARTINS MOURÃO</p>\n",
      "<p class=\"titulo\">MINISTÉRIO DE MINAS E ENERGIA</p><p class=\"identifica\">DECRETO DE 31 DE DEZEMBRO DE 2022</p><p><strong>O VICE-PRESIDENTE DA REPÚBLICA</strong>, no exercício do cargo de<strong>PRESIDENTE DA REPÚBLICA,</strong>no uso da atribuição que lhe confere o art. 84,<strong>caput</strong>, inciso I, da Constituição, resolve:</p><p><strong>EXONERAR</strong></p><p>ADOLFO SACHSIDA do cargo de Ministro de Estado de Minas e Energia.</p><p>Brasília, 31 de dezembro de 2022; 201º da Independência e 134º da República.</p><p class=\"assinaPr\">ANTÔNIO HAMILTON MARTINS MOURÃO</p>\n",
      "<p class=\"titulo\">MINISTÉRIO DE MINAS E ENERGIA</p><p class=\"identifica\">DECRETO DE 31 DE DEZEMBRO DE 2022</p><p><strong>O VICE-PRESIDENTE DA REPÚBLICA</strong>, no exercício do cargo de<strong>PRESIDENTE DA REPÚBLICA,</strong>no uso da atribuição que lhe confere o art. 84,<strong>caput</strong>, inciso I, da Constituição, resolve:</p><p><strong>EXONERAR</strong></p><p>ADOLFO SACHSIDA do cargo de Ministro de Estado de Minas e Energia.</p><p>Brasília, 31 de dezembro de 2022; 201º da Independência e 134º da República.</p><p class=\"assinaPr\">ANTÔNIO HAMILTON MARTINS MOURÃO</p>\n",
      "<p class=\"titulo\">MINISTÉRIO DE MINAS E ENERGIA</p><p class=\"identifica\">DECRETO DE 31 DE DEZEMBRO DE 2022</p><p><strong>O VICE-PRESIDENTE DA REPÚBLICA</strong>, no exercício do cargo de<strong>PRESIDENTE DA REPÚBLICA,</strong>no uso da atribuição que lhe confere o art. 84,<strong>caput</strong>, inciso I, da Constituição, resolve:</p><p><strong>EXONERAR</strong></p><p>ADOLFO SACHSIDA do cargo de Ministro de Estado de Minas e Energia.</p><p>Brasília, 31 de dezembro de 2022; 201º da Independência e 134º da República.</p><p class=\"assinaPr\">ANTÔNIO HAMILTON MARTINS MOURÃO</p>\n",
      "<p class=\"titulo\">MINISTÉRIO DE MINAS E ENERGIA</p><p class=\"identifica\">DECRETO DE 31 DE DEZEMBRO DE 2022</p><p><strong>O VICE-PRESIDENTE DA REPÚBLICA</strong>, no exercício do cargo de<strong>PRESIDENTE DA REPÚBLICA,</strong>no uso da atribuição que lhe confere o art. 84,<strong>caput</strong>, inciso I, da Constituição, resolve:</p><p><strong>EXONERAR</strong></p><p>ADOLFO SACHSIDA do cargo de Ministro de Estado de Minas e Energia.</p><p>Brasília, 31 de dezembro de 2022; 201º da Independência e 134º da República.</p><p class=\"assinaPr\">ANTÔNIO HAMILTON MARTINS MOURÃO</p>\n",
      "<p class=\"titulo\">MINISTÉRIO DE MINAS E ENERGIA</p><p class=\"identifica\">DECRETO DE 31 DE DEZEMBRO DE 2022</p><p><strong>O VICE-PRESIDENTE DA REPÚBLICA</strong>, no exercício do cargo de<strong>PRESIDENTE DA REPÚBLICA,</strong>no uso da atribuição que lhe confere o art. 84,<strong>caput</strong>, inciso I, da Constituição, resolve:</p><p><strong>EXONERAR</strong></p><p>ADOLFO SACHSIDA do cargo de Ministro de Estado de Minas e Energia.</p><p>Brasília, 31 de dezembro de 2022; 201º da Independência e 134º da República.</p><p class=\"assinaPr\">ANTÔNIO HAMILTON MARTINS MOURÃO</p>\n",
      "<p class=\"titulo\">MINISTÉRIO DE MINAS E ENERGIA</p><p class=\"identifica\">DECRETO DE 31 DE DEZEMBRO DE 2022</p><p><strong>O VICE-PRESIDENTE DA REPÚBLICA</strong>, no exercício do cargo de<strong>PRESIDENTE DA REPÚBLICA,</strong>no uso da atribuição que lhe confere o art. 84,<strong>caput</strong>, inciso I, da Constituição, resolve:</p><p><strong>EXONERAR</strong></p><p>ADOLFO SACHSIDA do cargo de Ministro de Estado de Minas e Energia.</p><p>Brasília, 31 de dezembro de 2022; 201º da Independência e 134º da República.</p><p class=\"assinaPr\">ANTÔNIO HAMILTON MARTINS MOURÃO</p>\n",
      "<p class=\"titulo\">MINISTÉRIO DE MINAS E ENERGIA</p><p class=\"identifica\">DECRETO DE 31 DE DEZEMBRO DE 2022</p><p><strong>O VICE-PRESIDENTE DA REPÚBLICA</strong>, no exercício do cargo de<strong>PRESIDENTE DA REPÚBLICA,</strong>no uso da atribuição que lhe confere o art. 84,<strong>caput</strong>, inciso I, da Constituição, resolve:</p><p><strong>EXONERAR</strong></p><p>ADOLFO SACHSIDA do cargo de Ministro de Estado de Minas e Energia.</p><p>Brasília, 31 de dezembro de 2022; 201º da Independência e 134º da República.</p><p class=\"assinaPr\">ANTÔNIO HAMILTON MARTINS MOURÃO</p>\n",
      "<p class=\"titulo\">MINISTÉRIO DE MINAS E ENERGIA</p><p class=\"identifica\">DECRETO DE 31 DE DEZEMBRO DE 2022</p><p><strong>O VICE-PRESIDENTE DA REPÚBLICA</strong>, no exercício do cargo de<strong>PRESIDENTE DA REPÚBLICA,</strong>no uso da atribuição que lhe confere o art. 84,<strong>caput</strong>, inciso I, da Constituição, resolve:</p><p><strong>EXONERAR</strong></p><p>ADOLFO SACHSIDA do cargo de Ministro de Estado de Minas e Energia.</p><p>Brasília, 31 de dezembro de 2022; 201º da Independência e 134º da República.</p><p class=\"assinaPr\">ANTÔNIO HAMILTON MARTINS MOURÃO</p>\n",
      "<p class=\"titulo\">MINISTÉRIO DE MINAS E ENERGIA</p><p class=\"identifica\">DECRETO DE 31 DE DEZEMBRO DE 2022</p><p><strong>O VICE-PRESIDENTE DA REPÚBLICA</strong>, no exercício do cargo de<strong>PRESIDENTE DA REPÚBLICA,</strong>no uso da atribuição que lhe confere o art. 84,<strong>caput</strong>, inciso I, da Constituição, resolve:</p><p><strong>EXONERAR</strong></p><p>ADOLFO SACHSIDA do cargo de Ministro de Estado de Minas e Energia.</p><p>Brasília, 31 de dezembro de 2022; 201º da Independência e 134º da República.</p><p class=\"assinaPr\">ANTÔNIO HAMILTON MARTINS MOURÃO</p>\n",
      "<p class=\"titulo\">MINISTÉRIO DE MINAS E ENERGIA</p><p class=\"identifica\">DECRETO DE 31 DE DEZEMBRO DE 2022</p><p><strong>O VICE-PRESIDENTE DA REPÚBLICA</strong>, no exercício do cargo de<strong>PRESIDENTE DA REPÚBLICA,</strong>no uso da atribuição que lhe confere o art. 84,<strong>caput</strong>, inciso I, da Constituição, resolve:</p><p><strong>EXONERAR</strong></p><p>ADOLFO SACHSIDA do cargo de Ministro de Estado de Minas e Energia.</p><p>Brasília, 31 de dezembro de 2022; 201º da Independência e 134º da República.</p><p class=\"assinaPr\">ANTÔNIO HAMILTON MARTINS MOURÃO</p>\n",
      "<p class=\"titulo\">MINISTÉRIO DE MINAS E ENERGIA</p><p class=\"identifica\">DECRETO DE 31 DE DEZEMBRO DE 2022</p><p><strong>O VICE-PRESIDENTE DA REPÚBLICA</strong>, no exercício do cargo de<strong>PRESIDENTE DA REPÚBLICA,</strong>no uso da atribuição que lhe confere o art. 84,<strong>caput</strong>, inciso I, da Constituição, resolve:</p><p><strong>EXONERAR</strong></p><p>ADOLFO SACHSIDA do cargo de Ministro de Estado de Minas e Energia.</p><p>Brasília, 31 de dezembro de 2022; 201º da Independência e 134º da República.</p><p class=\"assinaPr\">ANTÔNIO HAMILTON MARTINS MOURÃO</p>\n",
      "<p class=\"titulo\">MINISTÉRIO DE MINAS E ENERGIA</p><p class=\"identifica\">DECRETO DE 31 DE DEZEMBRO DE 2022</p><p><strong>O VICE-PRESIDENTE DA REPÚBLICA</strong>, no exercício do cargo de<strong>PRESIDENTE DA REPÚBLICA,</strong>no uso da atribuição que lhe confere o art. 84,<strong>caput</strong>, inciso I, da Constituição, resolve:</p><p><strong>EXONERAR</strong></p><p>ADOLFO SACHSIDA do cargo de Ministro de Estado de Minas e Energia.</p><p>Brasília, 31 de dezembro de 2022; 201º da Independência e 134º da República.</p><p class=\"assinaPr\">ANTÔNIO HAMILTON MARTINS MOURÃO</p>\n",
      "<p class=\"titulo\">MINISTÉRIO DE MINAS E ENERGIA</p><p class=\"identifica\">DECRETO DE 31 DE DEZEMBRO DE 2022</p><p><strong>O VICE-PRESIDENTE DA REPÚBLICA</strong>, no exercício do cargo de<strong>PRESIDENTE DA REPÚBLICA,</strong>no uso da atribuição que lhe confere o art. 84,<strong>caput</strong>, inciso I, da Constituição, resolve:</p><p><strong>EXONERAR</strong></p><p>ADOLFO SACHSIDA do cargo de Ministro de Estado de Minas e Energia.</p><p>Brasília, 31 de dezembro de 2022; 201º da Independência e 134º da República.</p><p class=\"assinaPr\">ANTÔNIO HAMILTON MARTINS MOURÃO</p>\n",
      "<p class=\"titulo\">MINISTÉRIO DE MINAS E ENERGIA</p><p class=\"identifica\">DECRETO DE 31 DE DEZEMBRO DE 2022</p><p><strong>O VICE-PRESIDENTE DA REPÚBLICA</strong>, no exercício do cargo de<strong>PRESIDENTE DA REPÚBLICA,</strong>no uso da atribuição que lhe confere o art. 84,<strong>caput</strong>, inciso I, da Constituição, resolve:</p><p><strong>EXONERAR</strong></p><p>ADOLFO SACHSIDA do cargo de Ministro de Estado de Minas e Energia.</p><p>Brasília, 31 de dezembro de 2022; 201º da Independência e 134º da República.</p><p class=\"assinaPr\">ANTÔNIO HAMILTON MARTINS MOURÃO</p>\n",
      "<p class=\"titulo\">MINISTÉRIO DE MINAS E ENERGIA</p><p class=\"identifica\">DECRETO DE 31 DE DEZEMBRO DE 2022</p><p><strong>O VICE-PRESIDENTE DA REPÚBLICA</strong>, no exercício do cargo de<strong>PRESIDENTE DA REPÚBLICA,</strong>no uso da atribuição que lhe confere o art. 84,<strong>caput</strong>, inciso I, da Constituição, resolve:</p><p><strong>EXONERAR</strong></p><p>ADOLFO SACHSIDA do cargo de Ministro de Estado de Minas e Energia.</p><p>Brasília, 31 de dezembro de 2022; 201º da Independência e 134º da República.</p><p class=\"assinaPr\">ANTÔNIO HAMILTON MARTINS MOURÃO</p>\n",
      "<p class=\"titulo\">MINISTÉRIO DE MINAS E ENERGIA</p><p class=\"identifica\">DECRETO DE 31 DE DEZEMBRO DE 2022</p><p><strong>O VICE-PRESIDENTE DA REPÚBLICA</strong>, no exercício do cargo de<strong>PRESIDENTE DA REPÚBLICA,</strong>no uso da atribuição que lhe confere o art. 84,<strong>caput</strong>, inciso I, da Constituição, resolve:</p><p><strong>EXONERAR</strong></p><p>ADOLFO SACHSIDA do cargo de Ministro de Estado de Minas e Energia.</p><p>Brasília, 31 de dezembro de 2022; 201º da Independência e 134º da República.</p><p class=\"assinaPr\">ANTÔNIO HAMILTON MARTINS MOURÃO</p>\n",
      "<p class=\"titulo\">MINISTÉRIO DE MINAS E ENERGIA</p><p class=\"identifica\">DECRETO DE 31 DE DEZEMBRO DE 2022</p><p><strong>O VICE-PRESIDENTE DA REPÚBLICA</strong>, no exercício do cargo de<strong>PRESIDENTE DA REPÚBLICA,</strong>no uso da atribuição que lhe confere o art. 84,<strong>caput</strong>, inciso I, da Constituição, resolve:</p><p><strong>EXONERAR</strong></p><p>ADOLFO SACHSIDA do cargo de Ministro de Estado de Minas e Energia.</p><p>Brasília, 31 de dezembro de 2022; 201º da Independência e 134º da República.</p><p class=\"assinaPr\">ANTÔNIO HAMILTON MARTINS MOURÃO</p>\n",
      "<p class=\"titulo\">MINISTÉRIO DE MINAS E ENERGIA</p><p class=\"identifica\">DECRETO DE 31 DE DEZEMBRO DE 2022</p><p><strong>O VICE-PRESIDENTE DA REPÚBLICA</strong>, no exercício do cargo de<strong>PRESIDENTE DA REPÚBLICA,</strong>no uso da atribuição que lhe confere o art. 84,<strong>caput</strong>, inciso I, da Constituição, resolve:</p><p><strong>EXONERAR</strong></p><p>ADOLFO SACHSIDA do cargo de Ministro de Estado de Minas e Energia.</p><p>Brasília, 31 de dezembro de 2022; 201º da Independência e 134º da República.</p><p class=\"assinaPr\">ANTÔNIO HAMILTON MARTINS MOURÃO</p>\n",
      "<p class=\"titulo\">MINISTÉRIO DE MINAS E ENERGIA</p><p class=\"identifica\">DECRETO DE 31 DE DEZEMBRO DE 2022</p><p><strong>O VICE-PRESIDENTE DA REPÚBLICA</strong>, no exercício do cargo de<strong>PRESIDENTE DA REPÚBLICA,</strong>no uso da atribuição que lhe confere o art. 84,<strong>caput</strong>, inciso I, da Constituição, resolve:</p><p><strong>EXONERAR</strong></p><p>ADOLFO SACHSIDA do cargo de Ministro de Estado de Minas e Energia.</p><p>Brasília, 31 de dezembro de 2022; 201º da Independência e 134º da República.</p><p class=\"assinaPr\">ANTÔNIO HAMILTON MARTINS MOURÃO</p>\n",
      "<p class=\"titulo\">MINISTÉRIO DE MINAS E ENERGIA</p><p class=\"identifica\">DECRETO DE 31 DE DEZEMBRO DE 2022</p><p><strong>O VICE-PRESIDENTE DA REPÚBLICA</strong>, no exercício do cargo de<strong>PRESIDENTE DA REPÚBLICA,</strong>no uso da atribuição que lhe confere o art. 84,<strong>caput</strong>, inciso I, da Constituição, resolve:</p><p><strong>EXONERAR</strong></p><p>ADOLFO SACHSIDA do cargo de Ministro de Estado de Minas e Energia.</p><p>Brasília, 31 de dezembro de 2022; 201º da Independência e 134º da República.</p><p class=\"assinaPr\">ANTÔNIO HAMILTON MARTINS MOURÃO</p>\n",
      "<p class=\"titulo\">MINISTÉRIO DE MINAS E ENERGIA</p><p class=\"identifica\">DECRETO DE 31 DE DEZEMBRO DE 2022</p><p><strong>O VICE-PRESIDENTE DA REPÚBLICA</strong>, no exercício do cargo de<strong>PRESIDENTE DA REPÚBLICA,</strong>no uso da atribuição que lhe confere o art. 84,<strong>caput</strong>, inciso I, da Constituição, resolve:</p><p><strong>EXONERAR</strong></p><p>ADOLFO SACHSIDA do cargo de Ministro de Estado de Minas e Energia.</p><p>Brasília, 31 de dezembro de 2022; 201º da Independência e 134º da República.</p><p class=\"assinaPr\">ANTÔNIO HAMILTON MARTINS MOURÃO</p>\n",
      "<p class=\"titulo\">MINISTÉRIO DE MINAS E ENERGIA</p><p class=\"identifica\">DECRETO DE 31 DE DEZEMBRO DE 2022</p><p><strong>O VICE-PRESIDENTE DA REPÚBLICA</strong>, no exercício do cargo de<strong>PRESIDENTE DA REPÚBLICA,</strong>no uso da atribuição que lhe confere o art. 84,<strong>caput</strong>, inciso I, da Constituição, resolve:</p><p><strong>EXONERAR</strong></p><p>ADOLFO SACHSIDA do cargo de Ministro de Estado de Minas e Energia.</p><p>Brasília, 31 de dezembro de 2022; 201º da Independência e 134º da República.</p><p class=\"assinaPr\">ANTÔNIO HAMILTON MARTINS MOURÃO</p>\n",
      "<p class=\"titulo\">MINISTÉRIO DE MINAS E ENERGIA</p><p class=\"identifica\">DECRETO DE 31 DE DEZEMBRO DE 2022</p><p><strong>O VICE-PRESIDENTE DA REPÚBLICA</strong>, no exercício do cargo de<strong>PRESIDENTE DA REPÚBLICA,</strong>no uso da atribuição que lhe confere o art. 84,<strong>caput</strong>, inciso I, da Constituição, resolve:</p><p><strong>EXONERAR</strong></p><p>ADOLFO SACHSIDA do cargo de Ministro de Estado de Minas e Energia.</p><p>Brasília, 31 de dezembro de 2022; 201º da Independência e 134º da República.</p><p class=\"assinaPr\">ANTÔNIO HAMILTON MARTINS MOURÃO</p>\n",
      "<p class=\"titulo\">MINISTÉRIO DE MINAS E ENERGIA</p><p class=\"identifica\">DECRETO DE 31 DE DEZEMBRO DE 2022</p><p><strong>O VICE-PRESIDENTE DA REPÚBLICA</strong>, no exercício do cargo de<strong>PRESIDENTE DA REPÚBLICA,</strong>no uso da atribuição que lhe confere o art. 84,<strong>caput</strong>, inciso I, da Constituição, resolve:</p><p><strong>EXONERAR</strong></p><p>ADOLFO SACHSIDA do cargo de Ministro de Estado de Minas e Energia.</p><p>Brasília, 31 de dezembro de 2022; 201º da Independência e 134º da República.</p><p class=\"assinaPr\">ANTÔNIO HAMILTON MARTINS MOURÃO</p>\n",
      "<p class=\"titulo\">MINISTÉRIO DE MINAS E ENERGIA</p><p class=\"identifica\">DECRETO DE 31 DE DEZEMBRO DE 2022</p><p><strong>O VICE-PRESIDENTE DA REPÚBLICA</strong>, no exercício do cargo de<strong>PRESIDENTE DA REPÚBLICA,</strong>no uso da atribuição que lhe confere o art. 84,<strong>caput</strong>, inciso I, da Constituição, resolve:</p><p><strong>EXONERAR</strong></p><p>ADOLFO SACHSIDA do cargo de Ministro de Estado de Minas e Energia.</p><p>Brasília, 31 de dezembro de 2022; 201º da Independência e 134º da República.</p><p class=\"assinaPr\">ANTÔNIO HAMILTON MARTINS MOURÃO</p>\n",
      "<p class=\"titulo\">MINISTÉRIO DE MINAS E ENERGIA</p><p class=\"identifica\">DECRETO DE 31 DE DEZEMBRO DE 2022</p><p><strong>O VICE-PRESIDENTE DA REPÚBLICA</strong>, no exercício do cargo de<strong>PRESIDENTE DA REPÚBLICA,</strong>no uso da atribuição que lhe confere o art. 84,<strong>caput</strong>, inciso I, da Constituição, resolve:</p><p><strong>EXONERAR</strong></p><p>ADOLFO SACHSIDA do cargo de Ministro de Estado de Minas e Energia.</p><p>Brasília, 31 de dezembro de 2022; 201º da Independência e 134º da República.</p><p class=\"assinaPr\">ANTÔNIO HAMILTON MARTINS MOURÃO</p>\n",
      "<p class=\"titulo\">MINISTÉRIO DE MINAS E ENERGIA</p><p class=\"identifica\">DECRETO DE 31 DE DEZEMBRO DE 2022</p><p><strong>O VICE-PRESIDENTE DA REPÚBLICA</strong>, no exercício do cargo de<strong>PRESIDENTE DA REPÚBLICA,</strong>no uso da atribuição que lhe confere o art. 84,<strong>caput</strong>, inciso I, da Constituição, resolve:</p><p><strong>EXONERAR</strong></p><p>ADOLFO SACHSIDA do cargo de Ministro de Estado de Minas e Energia.</p><p>Brasília, 31 de dezembro de 2022; 201º da Independência e 134º da República.</p><p class=\"assinaPr\">ANTÔNIO HAMILTON MARTINS MOURÃO</p>\n",
      "<p class=\"titulo\">MINISTÉRIO DE MINAS E ENERGIA</p><p class=\"identifica\">DECRETO DE 31 DE DEZEMBRO DE 2022</p><p><strong>O VICE-PRESIDENTE DA REPÚBLICA</strong>, no exercício do cargo de<strong>PRESIDENTE DA REPÚBLICA,</strong>no uso da atribuição que lhe confere o art. 84,<strong>caput</strong>, inciso I, da Constituição, resolve:</p><p><strong>EXONERAR</strong></p><p>ADOLFO SACHSIDA do cargo de Ministro de Estado de Minas e Energia.</p><p>Brasília, 31 de dezembro de 2022; 201º da Independência e 134º da República.</p><p class=\"assinaPr\">ANTÔNIO HAMILTON MARTINS MOURÃO</p>\n",
      "<p class=\"titulo\">MINISTÉRIO DE MINAS E ENERGIA</p><p class=\"identifica\">DECRETO DE 31 DE DEZEMBRO DE 2022</p><p><strong>O VICE-PRESIDENTE DA REPÚBLICA</strong>, no exercício do cargo de<strong>PRESIDENTE DA REPÚBLICA,</strong>no uso da atribuição que lhe confere o art. 84,<strong>caput</strong>, inciso I, da Constituição, resolve:</p><p><strong>EXONERAR</strong></p><p>ADOLFO SACHSIDA do cargo de Ministro de Estado de Minas e Energia.</p><p>Brasília, 31 de dezembro de 2022; 201º da Independência e 134º da República.</p><p class=\"assinaPr\">ANTÔNIO HAMILTON MARTINS MOURÃO</p>\n",
      "<p class=\"titulo\">MINISTÉRIO DE MINAS E ENERGIA</p><p class=\"identifica\">DECRETO DE 31 DE DEZEMBRO DE 2022</p><p><strong>O VICE-PRESIDENTE DA REPÚBLICA</strong>, no exercício do cargo de<strong>PRESIDENTE DA REPÚBLICA,</strong>no uso da atribuição que lhe confere o art. 84,<strong>caput</strong>, inciso I, da Constituição, resolve:</p><p><strong>EXONERAR</strong></p><p>ADOLFO SACHSIDA do cargo de Ministro de Estado de Minas e Energia.</p><p>Brasília, 31 de dezembro de 2022; 201º da Independência e 134º da República.</p><p class=\"assinaPr\">ANTÔNIO HAMILTON MARTINS MOURÃO</p>\n",
      "<p class=\"titulo\">MINISTÉRIO DE MINAS E ENERGIA</p><p class=\"identifica\">DECRETO DE 31 DE DEZEMBRO DE 2022</p><p><strong>O VICE-PRESIDENTE DA REPÚBLICA</strong>, no exercício do cargo de<strong>PRESIDENTE DA REPÚBLICA,</strong>no uso da atribuição que lhe confere o art. 84,<strong>caput</strong>, inciso I, da Constituição, resolve:</p><p><strong>EXONERAR</strong></p><p>ADOLFO SACHSIDA do cargo de Ministro de Estado de Minas e Energia.</p><p>Brasília, 31 de dezembro de 2022; 201º da Independência e 134º da República.</p><p class=\"assinaPr\">ANTÔNIO HAMILTON MARTINS MOURÃO</p>\n",
      "<p class=\"titulo\">MINISTÉRIO DE MINAS E ENERGIA</p><p class=\"identifica\">DECRETO DE 31 DE DEZEMBRO DE 2022</p><p><strong>O VICE-PRESIDENTE DA REPÚBLICA</strong>, no exercício do cargo de<strong>PRESIDENTE DA REPÚBLICA,</strong>no uso da atribuição que lhe confere o art. 84,<strong>caput</strong>, inciso I, da Constituição, resolve:</p><p><strong>EXONERAR</strong></p><p>ADOLFO SACHSIDA do cargo de Ministro de Estado de Minas e Energia.</p><p>Brasília, 31 de dezembro de 2022; 201º da Independência e 134º da República.</p><p class=\"assinaPr\">ANTÔNIO HAMILTON MARTINS MOURÃO</p>\n",
      "<p class=\"titulo\">MINISTÉRIO DE MINAS E ENERGIA</p><p class=\"identifica\">DECRETO DE 31 DE DEZEMBRO DE 2022</p><p><strong>O VICE-PRESIDENTE DA REPÚBLICA</strong>, no exercício do cargo de<strong>PRESIDENTE DA REPÚBLICA,</strong>no uso da atribuição que lhe confere o art. 84,<strong>caput</strong>, inciso I, da Constituição, resolve:</p><p><strong>EXONERAR</strong></p><p>ADOLFO SACHSIDA do cargo de Ministro de Estado de Minas e Energia.</p><p>Brasília, 31 de dezembro de 2022; 201º da Independência e 134º da República.</p><p class=\"assinaPr\">ANTÔNIO HAMILTON MARTINS MOURÃO</p>\n",
      "<p class=\"titulo\">MINISTÉRIO DE MINAS E ENERGIA</p><p class=\"identifica\">DECRETO DE 31 DE DEZEMBRO DE 2022</p><p><strong>O VICE-PRESIDENTE DA REPÚBLICA</strong>, no exercício do cargo de<strong>PRESIDENTE DA REPÚBLICA,</strong>no uso da atribuição que lhe confere o art. 84,<strong>caput</strong>, inciso I, da Constituição, resolve:</p><p><strong>EXONERAR</strong></p><p>ADOLFO SACHSIDA do cargo de Ministro de Estado de Minas e Energia.</p><p>Brasília, 31 de dezembro de 2022; 201º da Independência e 134º da República.</p><p class=\"assinaPr\">ANTÔNIO HAMILTON MARTINS MOURÃO</p>\n",
      "<p class=\"titulo\">MINISTÉRIO DE MINAS E ENERGIA</p><p class=\"identifica\">DECRETO DE 31 DE DEZEMBRO DE 2022</p><p><strong>O VICE-PRESIDENTE DA REPÚBLICA</strong>, no exercício do cargo de<strong>PRESIDENTE DA REPÚBLICA,</strong>no uso da atribuição que lhe confere o art. 84,<strong>caput</strong>, inciso I, da Constituição, resolve:</p><p><strong>EXONERAR</strong></p><p>ADOLFO SACHSIDA do cargo de Ministro de Estado de Minas e Energia.</p><p>Brasília, 31 de dezembro de 2022; 201º da Independência e 134º da República.</p><p class=\"assinaPr\">ANTÔNIO HAMILTON MARTINS MOURÃO</p>\n",
      "<p class=\"titulo\">MINISTÉRIO DE MINAS E ENERGIA</p><p class=\"identifica\">DECRETO DE 31 DE DEZEMBRO DE 2022</p><p><strong>O VICE-PRESIDENTE DA REPÚBLICA</strong>, no exercício do cargo de<strong>PRESIDENTE DA REPÚBLICA,</strong>no uso da atribuição que lhe confere o art. 84,<strong>caput</strong>, inciso I, da Constituição, resolve:</p><p><strong>EXONERAR</strong></p><p>ADOLFO SACHSIDA do cargo de Ministro de Estado de Minas e Energia.</p><p>Brasília, 31 de dezembro de 2022; 201º da Independência e 134º da República.</p><p class=\"assinaPr\">ANTÔNIO HAMILTON MARTINS MOURÃO</p>\n",
      "<p class=\"titulo\">MINISTÉRIO DE MINAS E ENERGIA</p><p class=\"identifica\">DECRETO DE 31 DE DEZEMBRO DE 2022</p><p><strong>O VICE-PRESIDENTE DA REPÚBLICA</strong>, no exercício do cargo de<strong>PRESIDENTE DA REPÚBLICA,</strong>no uso da atribuição que lhe confere o art. 84,<strong>caput</strong>, inciso I, da Constituição, resolve:</p><p><strong>EXONERAR</strong></p><p>ADOLFO SACHSIDA do cargo de Ministro de Estado de Minas e Energia.</p><p>Brasília, 31 de dezembro de 2022; 201º da Independência e 134º da República.</p><p class=\"assinaPr\">ANTÔNIO HAMILTON MARTINS MOURÃO</p>\n",
      "<p class=\"titulo\">MINISTÉRIO DE MINAS E ENERGIA</p><p class=\"identifica\">DECRETO DE 31 DE DEZEMBRO DE 2022</p><p><strong>O VICE-PRESIDENTE DA REPÚBLICA</strong>, no exercício do cargo de<strong>PRESIDENTE DA REPÚBLICA,</strong>no uso da atribuição que lhe confere o art. 84,<strong>caput</strong>, inciso I, da Constituição, resolve:</p><p><strong>EXONERAR</strong></p><p>ADOLFO SACHSIDA do cargo de Ministro de Estado de Minas e Energia.</p><p>Brasília, 31 de dezembro de 2022; 201º da Independência e 134º da República.</p><p class=\"assinaPr\">ANTÔNIO HAMILTON MARTINS MOURÃO</p>\n",
      "<p class=\"titulo\">MINISTÉRIO DE MINAS E ENERGIA</p><p class=\"identifica\">DECRETO DE 31 DE DEZEMBRO DE 2022</p><p><strong>O VICE-PRESIDENTE DA REPÚBLICA</strong>, no exercício do cargo de<strong>PRESIDENTE DA REPÚBLICA,</strong>no uso da atribuição que lhe confere o art. 84,<strong>caput</strong>, inciso I, da Constituição, resolve:</p><p><strong>EXONERAR</strong></p><p>ADOLFO SACHSIDA do cargo de Ministro de Estado de Minas e Energia.</p><p>Brasília, 31 de dezembro de 2022; 201º da Independência e 134º da República.</p><p class=\"assinaPr\">ANTÔNIO HAMILTON MARTINS MOURÃO</p>\n",
      "<p class=\"titulo\">MINISTÉRIO DE MINAS E ENERGIA</p><p class=\"identifica\">DECRETO DE 31 DE DEZEMBRO DE 2022</p><p><strong>O VICE-PRESIDENTE DA REPÚBLICA</strong>, no exercício do cargo de<strong>PRESIDENTE DA REPÚBLICA,</strong>no uso da atribuição que lhe confere o art. 84,<strong>caput</strong>, inciso I, da Constituição, resolve:</p><p><strong>EXONERAR</strong></p><p>ADOLFO SACHSIDA do cargo de Ministro de Estado de Minas e Energia.</p><p>Brasília, 31 de dezembro de 2022; 201º da Independência e 134º da República.</p><p class=\"assinaPr\">ANTÔNIO HAMILTON MARTINS MOURÃO</p>\n",
      "<p class=\"titulo\">MINISTÉRIO DE MINAS E ENERGIA</p><p class=\"identifica\">DECRETO DE 31 DE DEZEMBRO DE 2022</p><p><strong>O VICE-PRESIDENTE DA REPÚBLICA</strong>, no exercício do cargo de<strong>PRESIDENTE DA REPÚBLICA,</strong>no uso da atribuição que lhe confere o art. 84,<strong>caput</strong>, inciso I, da Constituição, resolve:</p><p><strong>EXONERAR</strong></p><p>ADOLFO SACHSIDA do cargo de Ministro de Estado de Minas e Energia.</p><p>Brasília, 31 de dezembro de 2022; 201º da Independência e 134º da República.</p><p class=\"assinaPr\">ANTÔNIO HAMILTON MARTINS MOURÃO</p>\n",
      "<p class=\"titulo\">MINISTÉRIO DE MINAS E ENERGIA</p><p class=\"identifica\">DECRETO DE 31 DE DEZEMBRO DE 2022</p><p><strong>O VICE-PRESIDENTE DA REPÚBLICA</strong>, no exercício do cargo de<strong>PRESIDENTE DA REPÚBLICA,</strong>no uso da atribuição que lhe confere o art. 84,<strong>caput</strong>, inciso I, da Constituição, resolve:</p><p><strong>EXONERAR</strong></p><p>ADOLFO SACHSIDA do cargo de Ministro de Estado de Minas e Energia.</p><p>Brasília, 31 de dezembro de 2022; 201º da Independência e 134º da República.</p><p class=\"assinaPr\">ANTÔNIO HAMILTON MARTINS MOURÃO</p>\n",
      "<p class=\"titulo\">MINISTÉRIO DE MINAS E ENERGIA</p><p class=\"identifica\">DECRETO DE 31 DE DEZEMBRO DE 2022</p><p><strong>O VICE-PRESIDENTE DA REPÚBLICA</strong>, no exercício do cargo de<strong>PRESIDENTE DA REPÚBLICA,</strong>no uso da atribuição que lhe confere o art. 84,<strong>caput</strong>, inciso I, da Constituição, resolve:</p><p><strong>EXONERAR</strong></p><p>ADOLFO SACHSIDA do cargo de Ministro de Estado de Minas e Energia.</p><p>Brasília, 31 de dezembro de 2022; 201º da Independência e 134º da República.</p><p class=\"assinaPr\">ANTÔNIO HAMILTON MARTINS MOURÃO</p>\n",
      "<p class=\"titulo\">MINISTÉRIO DE MINAS E ENERGIA</p><p class=\"identifica\">DECRETO DE 31 DE DEZEMBRO DE 2022</p><p><strong>O VICE-PRESIDENTE DA REPÚBLICA</strong>, no exercício do cargo de<strong>PRESIDENTE DA REPÚBLICA,</strong>no uso da atribuição que lhe confere o art. 84,<strong>caput</strong>, inciso I, da Constituição, resolve:</p><p><strong>EXONERAR</strong></p><p>ADOLFO SACHSIDA do cargo de Ministro de Estado de Minas e Energia.</p><p>Brasília, 31 de dezembro de 2022; 201º da Independência e 134º da República.</p><p class=\"assinaPr\">ANTÔNIO HAMILTON MARTINS MOURÃO</p>\n",
      "<p class=\"titulo\">MINISTÉRIO DE MINAS E ENERGIA</p><p class=\"identifica\">DECRETO DE 31 DE DEZEMBRO DE 2022</p><p><strong>O VICE-PRESIDENTE DA REPÚBLICA</strong>, no exercício do cargo de<strong>PRESIDENTE DA REPÚBLICA,</strong>no uso da atribuição que lhe confere o art. 84,<strong>caput</strong>, inciso I, da Constituição, resolve:</p><p><strong>EXONERAR</strong></p><p>ADOLFO SACHSIDA do cargo de Ministro de Estado de Minas e Energia.</p><p>Brasília, 31 de dezembro de 2022; 201º da Independência e 134º da República.</p><p class=\"assinaPr\">ANTÔNIO HAMILTON MARTINS MOURÃO</p>\n",
      "<p class=\"titulo\">MINISTÉRIO DE MINAS E ENERGIA</p><p class=\"identifica\">DECRETO DE 31 DE DEZEMBRO DE 2022</p><p><strong>O VICE-PRESIDENTE DA REPÚBLICA</strong>, no exercício do cargo de<strong>PRESIDENTE DA REPÚBLICA,</strong>no uso da atribuição que lhe confere o art. 84,<strong>caput</strong>, inciso I, da Constituição, resolve:</p><p><strong>EXONERAR</strong></p><p>ADOLFO SACHSIDA do cargo de Ministro de Estado de Minas e Energia.</p><p>Brasília, 31 de dezembro de 2022; 201º da Independência e 134º da República.</p><p class=\"assinaPr\">ANTÔNIO HAMILTON MARTINS MOURÃO</p>\n",
      "<p class=\"titulo\">MINISTÉRIO DE MINAS E ENERGIA</p><p class=\"identifica\">DECRETO DE 31 DE DEZEMBRO DE 2022</p><p><strong>O VICE-PRESIDENTE DA REPÚBLICA</strong>, no exercício do cargo de<strong>PRESIDENTE DA REPÚBLICA,</strong>no uso da atribuição que lhe confere o art. 84,<strong>caput</strong>, inciso I, da Constituição, resolve:</p><p><strong>EXONERAR</strong></p><p>ADOLFO SACHSIDA do cargo de Ministro de Estado de Minas e Energia.</p><p>Brasília, 31 de dezembro de 2022; 201º da Independência e 134º da República.</p><p class=\"assinaPr\">ANTÔNIO HAMILTON MARTINS MOURÃO</p>\n",
      "<p class=\"titulo\">MINISTÉRIO DE MINAS E ENERGIA</p><p class=\"identifica\">DECRETO DE 31 DE DEZEMBRO DE 2022</p><p><strong>O VICE-PRESIDENTE DA REPÚBLICA</strong>, no exercício do cargo de<strong>PRESIDENTE DA REPÚBLICA,</strong>no uso da atribuição que lhe confere o art. 84,<strong>caput</strong>, inciso I, da Constituição, resolve:</p><p><strong>EXONERAR</strong></p><p>ADOLFO SACHSIDA do cargo de Ministro de Estado de Minas e Energia.</p><p>Brasília, 31 de dezembro de 2022; 201º da Independência e 134º da República.</p><p class=\"assinaPr\">ANTÔNIO HAMILTON MARTINS MOURÃO</p>\n",
      "<p class=\"titulo\">MINISTÉRIO DE MINAS E ENERGIA</p><p class=\"identifica\">DECRETO DE 31 DE DEZEMBRO DE 2022</p><p><strong>O VICE-PRESIDENTE DA REPÚBLICA</strong>, no exercício do cargo de<strong>PRESIDENTE DA REPÚBLICA,</strong>no uso da atribuição que lhe confere o art. 84,<strong>caput</strong>, inciso I, da Constituição, resolve:</p><p><strong>EXONERAR</strong></p><p>ADOLFO SACHSIDA do cargo de Ministro de Estado de Minas e Energia.</p><p>Brasília, 31 de dezembro de 2022; 201º da Independência e 134º da República.</p><p class=\"assinaPr\">ANTÔNIO HAMILTON MARTINS MOURÃO</p>\n",
      "<p class=\"titulo\">MINISTÉRIO DE MINAS E ENERGIA</p><p class=\"identifica\">DECRETO DE 31 DE DEZEMBRO DE 2022</p><p><strong>O VICE-PRESIDENTE DA REPÚBLICA</strong>, no exercício do cargo de<strong>PRESIDENTE DA REPÚBLICA,</strong>no uso da atribuição que lhe confere o art. 84,<strong>caput</strong>, inciso I, da Constituição, resolve:</p><p><strong>EXONERAR</strong></p><p>ADOLFO SACHSIDA do cargo de Ministro de Estado de Minas e Energia.</p><p>Brasília, 31 de dezembro de 2022; 201º da Independência e 134º da República.</p><p class=\"assinaPr\">ANTÔNIO HAMILTON MARTINS MOURÃO</p>\n",
      "<p class=\"titulo\">MINISTÉRIO DE MINAS E ENERGIA</p><p class=\"identifica\">DECRETO DE 31 DE DEZEMBRO DE 2022</p><p><strong>O VICE-PRESIDENTE DA REPÚBLICA</strong>, no exercício do cargo de<strong>PRESIDENTE DA REPÚBLICA,</strong>no uso da atribuição que lhe confere o art. 84,<strong>caput</strong>, inciso I, da Constituição, resolve:</p><p><strong>EXONERAR</strong></p><p>ADOLFO SACHSIDA do cargo de Ministro de Estado de Minas e Energia.</p><p>Brasília, 31 de dezembro de 2022; 201º da Independência e 134º da República.</p><p class=\"assinaPr\">ANTÔNIO HAMILTON MARTINS MOURÃO</p>\n",
      "<p class=\"titulo\">MINISTÉRIO DE MINAS E ENERGIA</p><p class=\"identifica\">DECRETO DE 31 DE DEZEMBRO DE 2022</p><p><strong>O VICE-PRESIDENTE DA REPÚBLICA</strong>, no exercício do cargo de<strong>PRESIDENTE DA REPÚBLICA,</strong>no uso da atribuição que lhe confere o art. 84,<strong>caput</strong>, inciso I, da Constituição, resolve:</p><p><strong>EXONERAR</strong></p><p>ADOLFO SACHSIDA do cargo de Ministro de Estado de Minas e Energia.</p><p>Brasília, 31 de dezembro de 2022; 201º da Independência e 134º da República.</p><p class=\"assinaPr\">ANTÔNIO HAMILTON MARTINS MOURÃO</p>\n",
      "<p class=\"titulo\">MINISTÉRIO DE MINAS E ENERGIA</p><p class=\"identifica\">DECRETO DE 31 DE DEZEMBRO DE 2022</p><p><strong>O VICE-PRESIDENTE DA REPÚBLICA</strong>, no exercício do cargo de<strong>PRESIDENTE DA REPÚBLICA,</strong>no uso da atribuição que lhe confere o art. 84,<strong>caput</strong>, inciso I, da Constituição, resolve:</p><p><strong>EXONERAR</strong></p><p>ADOLFO SACHSIDA do cargo de Ministro de Estado de Minas e Energia.</p><p>Brasília, 31 de dezembro de 2022; 201º da Independência e 134º da República.</p><p class=\"assinaPr\">ANTÔNIO HAMILTON MARTINS MOURÃO</p>\n",
      "<p class=\"titulo\">MINISTÉRIO DE MINAS E ENERGIA</p><p class=\"identifica\">DECRETO DE 31 DE DEZEMBRO DE 2022</p><p><strong>O VICE-PRESIDENTE DA REPÚBLICA</strong>, no exercício do cargo de<strong>PRESIDENTE DA REPÚBLICA,</strong>no uso da atribuição que lhe confere o art. 84,<strong>caput</strong>, inciso I, da Constituição, resolve:</p><p><strong>EXONERAR</strong></p><p>ADOLFO SACHSIDA do cargo de Ministro de Estado de Minas e Energia.</p><p>Brasília, 31 de dezembro de 2022; 201º da Independência e 134º da República.</p><p class=\"assinaPr\">ANTÔNIO HAMILTON MARTINS MOURÃO</p>\n",
      "<p class=\"titulo\">MINISTÉRIO DE MINAS E ENERGIA</p><p class=\"identifica\">DECRETO DE 31 DE DEZEMBRO DE 2022</p><p><strong>O VICE-PRESIDENTE DA REPÚBLICA</strong>, no exercício do cargo de<strong>PRESIDENTE DA REPÚBLICA,</strong>no uso da atribuição que lhe confere o art. 84,<strong>caput</strong>, inciso I, da Constituição, resolve:</p><p><strong>EXONERAR</strong></p><p>ADOLFO SACHSIDA do cargo de Ministro de Estado de Minas e Energia.</p><p>Brasília, 31 de dezembro de 2022; 201º da Independência e 134º da República.</p><p class=\"assinaPr\">ANTÔNIO HAMILTON MARTINS MOURÃO</p>\n",
      "<p class=\"titulo\">MINISTÉRIO DE MINAS E ENERGIA</p><p class=\"identifica\">DECRETO DE 31 DE DEZEMBRO DE 2022</p><p><strong>O VICE-PRESIDENTE DA REPÚBLICA</strong>, no exercício do cargo de<strong>PRESIDENTE DA REPÚBLICA,</strong>no uso da atribuição que lhe confere o art. 84,<strong>caput</strong>, inciso I, da Constituição, resolve:</p><p><strong>EXONERAR</strong></p><p>ADOLFO SACHSIDA do cargo de Ministro de Estado de Minas e Energia.</p><p>Brasília, 31 de dezembro de 2022; 201º da Independência e 134º da República.</p><p class=\"assinaPr\">ANTÔNIO HAMILTON MARTINS MOURÃO</p>\n",
      "<p class=\"titulo\">MINISTÉRIO DE MINAS E ENERGIA</p><p class=\"identifica\">DECRETO DE 31 DE DEZEMBRO DE 2022</p><p><strong>O VICE-PRESIDENTE DA REPÚBLICA</strong>, no exercício do cargo de<strong>PRESIDENTE DA REPÚBLICA,</strong>no uso da atribuição que lhe confere o art. 84,<strong>caput</strong>, inciso I, da Constituição, resolve:</p><p><strong>EXONERAR</strong></p><p>ADOLFO SACHSIDA do cargo de Ministro de Estado de Minas e Energia.</p><p>Brasília, 31 de dezembro de 2022; 201º da Independência e 134º da República.</p><p class=\"assinaPr\">ANTÔNIO HAMILTON MARTINS MOURÃO</p>\n",
      "<p class=\"titulo\">MINISTÉRIO DE MINAS E ENERGIA</p><p class=\"identifica\">DECRETO DE 31 DE DEZEMBRO DE 2022</p><p><strong>O VICE-PRESIDENTE DA REPÚBLICA</strong>, no exercício do cargo de<strong>PRESIDENTE DA REPÚBLICA,</strong>no uso da atribuição que lhe confere o art. 84,<strong>caput</strong>, inciso I, da Constituição, resolve:</p><p><strong>EXONERAR</strong></p><p>ADOLFO SACHSIDA do cargo de Ministro de Estado de Minas e Energia.</p><p>Brasília, 31 de dezembro de 2022; 201º da Independência e 134º da República.</p><p class=\"assinaPr\">ANTÔNIO HAMILTON MARTINS MOURÃO</p>\n",
      "<p class=\"titulo\">MINISTÉRIO DE MINAS E ENERGIA</p><p class=\"identifica\">DECRETO DE 31 DE DEZEMBRO DE 2022</p><p><strong>O VICE-PRESIDENTE DA REPÚBLICA</strong>, no exercício do cargo de<strong>PRESIDENTE DA REPÚBLICA,</strong>no uso da atribuição que lhe confere o art. 84,<strong>caput</strong>, inciso I, da Constituição, resolve:</p><p><strong>EXONERAR</strong></p><p>ADOLFO SACHSIDA do cargo de Ministro de Estado de Minas e Energia.</p><p>Brasília, 31 de dezembro de 2022; 201º da Independência e 134º da República.</p><p class=\"assinaPr\">ANTÔNIO HAMILTON MARTINS MOURÃO</p>\n",
      "<p class=\"titulo\">MINISTÉRIO DE MINAS E ENERGIA</p><p class=\"identifica\">DECRETO DE 31 DE DEZEMBRO DE 2022</p><p><strong>O VICE-PRESIDENTE DA REPÚBLICA</strong>, no exercício do cargo de<strong>PRESIDENTE DA REPÚBLICA,</strong>no uso da atribuição que lhe confere o art. 84,<strong>caput</strong>, inciso I, da Constituição, resolve:</p><p><strong>EXONERAR</strong></p><p>ADOLFO SACHSIDA do cargo de Ministro de Estado de Minas e Energia.</p><p>Brasília, 31 de dezembro de 2022; 201º da Independência e 134º da República.</p><p class=\"assinaPr\">ANTÔNIO HAMILTON MARTINS MOURÃO</p>\n",
      "<p class=\"titulo\">MINISTÉRIO DE MINAS E ENERGIA</p><p class=\"identifica\">DECRETO DE 31 DE DEZEMBRO DE 2022</p><p><strong>O VICE-PRESIDENTE DA REPÚBLICA</strong>, no exercício do cargo de<strong>PRESIDENTE DA REPÚBLICA,</strong>no uso da atribuição que lhe confere o art. 84,<strong>caput</strong>, inciso I, da Constituição, resolve:</p><p><strong>EXONERAR</strong></p><p>ADOLFO SACHSIDA do cargo de Ministro de Estado de Minas e Energia.</p><p>Brasília, 31 de dezembro de 2022; 201º da Independência e 134º da República.</p><p class=\"assinaPr\">ANTÔNIO HAMILTON MARTINS MOURÃO</p>\n",
      "<p class=\"titulo\">MINISTÉRIO DE MINAS E ENERGIA</p><p class=\"identifica\">DECRETO DE 31 DE DEZEMBRO DE 2022</p><p><strong>O VICE-PRESIDENTE DA REPÚBLICA</strong>, no exercício do cargo de<strong>PRESIDENTE DA REPÚBLICA,</strong>no uso da atribuição que lhe confere o art. 84,<strong>caput</strong>, inciso I, da Constituição, resolve:</p><p><strong>EXONERAR</strong></p><p>ADOLFO SACHSIDA do cargo de Ministro de Estado de Minas e Energia.</p><p>Brasília, 31 de dezembro de 2022; 201º da Independência e 134º da República.</p><p class=\"assinaPr\">ANTÔNIO HAMILTON MARTINS MOURÃO</p>\n",
      "<p class=\"titulo\">MINISTÉRIO DE MINAS E ENERGIA</p><p class=\"identifica\">DECRETO DE 31 DE DEZEMBRO DE 2022</p><p><strong>O VICE-PRESIDENTE DA REPÚBLICA</strong>, no exercício do cargo de<strong>PRESIDENTE DA REPÚBLICA,</strong>no uso da atribuição que lhe confere o art. 84,<strong>caput</strong>, inciso I, da Constituição, resolve:</p><p><strong>EXONERAR</strong></p><p>ADOLFO SACHSIDA do cargo de Ministro de Estado de Minas e Energia.</p><p>Brasília, 31 de dezembro de 2022; 201º da Independência e 134º da República.</p><p class=\"assinaPr\">ANTÔNIO HAMILTON MARTINS MOURÃO</p>\n",
      "<p class=\"titulo\">MINISTÉRIO DE MINAS E ENERGIA</p><p class=\"identifica\">DECRETO DE 31 DE DEZEMBRO DE 2022</p><p><strong>O VICE-PRESIDENTE DA REPÚBLICA</strong>, no exercício do cargo de<strong>PRESIDENTE DA REPÚBLICA,</strong>no uso da atribuição que lhe confere o art. 84,<strong>caput</strong>, inciso I, da Constituição, resolve:</p><p><strong>EXONERAR</strong></p><p>ADOLFO SACHSIDA do cargo de Ministro de Estado de Minas e Energia.</p><p>Brasília, 31 de dezembro de 2022; 201º da Independência e 134º da República.</p><p class=\"assinaPr\">ANTÔNIO HAMILTON MARTINS MOURÃO</p>\n",
      "<p class=\"titulo\">MINISTÉRIO DE MINAS E ENERGIA</p><p class=\"identifica\">DECRETO DE 31 DE DEZEMBRO DE 2022</p><p><strong>O VICE-PRESIDENTE DA REPÚBLICA</strong>, no exercício do cargo de<strong>PRESIDENTE DA REPÚBLICA,</strong>no uso da atribuição que lhe confere o art. 84,<strong>caput</strong>, inciso I, da Constituição, resolve:</p><p><strong>EXONERAR</strong></p><p>ADOLFO SACHSIDA do cargo de Ministro de Estado de Minas e Energia.</p><p>Brasília, 31 de dezembro de 2022; 201º da Independência e 134º da República.</p><p class=\"assinaPr\">ANTÔNIO HAMILTON MARTINS MOURÃO</p>\n",
      "<p class=\"titulo\">MINISTÉRIO DE MINAS E ENERGIA</p><p class=\"identifica\">DECRETO DE 31 DE DEZEMBRO DE 2022</p><p><strong>O VICE-PRESIDENTE DA REPÚBLICA</strong>, no exercício do cargo de<strong>PRESIDENTE DA REPÚBLICA,</strong>no uso da atribuição que lhe confere o art. 84,<strong>caput</strong>, inciso I, da Constituição, resolve:</p><p><strong>EXONERAR</strong></p><p>ADOLFO SACHSIDA do cargo de Ministro de Estado de Minas e Energia.</p><p>Brasília, 31 de dezembro de 2022; 201º da Independência e 134º da República.</p><p class=\"assinaPr\">ANTÔNIO HAMILTON MARTINS MOURÃO</p>\n",
      "<p class=\"titulo\">MINISTÉRIO DE MINAS E ENERGIA</p><p class=\"identifica\">DECRETO DE 31 DE DEZEMBRO DE 2022</p><p><strong>O VICE-PRESIDENTE DA REPÚBLICA</strong>, no exercício do cargo de<strong>PRESIDENTE DA REPÚBLICA,</strong>no uso da atribuição que lhe confere o art. 84,<strong>caput</strong>, inciso I, da Constituição, resolve:</p><p><strong>EXONERAR</strong></p><p>ADOLFO SACHSIDA do cargo de Ministro de Estado de Minas e Energia.</p><p>Brasília, 31 de dezembro de 2022; 201º da Independência e 134º da República.</p><p class=\"assinaPr\">ANTÔNIO HAMILTON MARTINS MOURÃO</p>\n",
      "<p class=\"titulo\">MINISTÉRIO DE MINAS E ENERGIA</p><p class=\"identifica\">DECRETO DE 31 DE DEZEMBRO DE 2022</p><p><strong>O VICE-PRESIDENTE DA REPÚBLICA</strong>, no exercício do cargo de<strong>PRESIDENTE DA REPÚBLICA,</strong>no uso da atribuição que lhe confere o art. 84,<strong>caput</strong>, inciso I, da Constituição, resolve:</p><p><strong>EXONERAR</strong></p><p>ADOLFO SACHSIDA do cargo de Ministro de Estado de Minas e Energia.</p><p>Brasília, 31 de dezembro de 2022; 201º da Independência e 134º da República.</p><p class=\"assinaPr\">ANTÔNIO HAMILTON MARTINS MOURÃO</p>\n",
      "<p class=\"titulo\">MINISTÉRIO DE MINAS E ENERGIA</p><p class=\"identifica\">DECRETO DE 31 DE DEZEMBRO DE 2022</p><p><strong>O VICE-PRESIDENTE DA REPÚBLICA</strong>, no exercício do cargo de<strong>PRESIDENTE DA REPÚBLICA,</strong>no uso da atribuição que lhe confere o art. 84,<strong>caput</strong>, inciso I, da Constituição, resolve:</p><p><strong>EXONERAR</strong></p><p>ADOLFO SACHSIDA do cargo de Ministro de Estado de Minas e Energia.</p><p>Brasília, 31 de dezembro de 2022; 201º da Independência e 134º da República.</p><p class=\"assinaPr\">ANTÔNIO HAMILTON MARTINS MOURÃO</p>\n",
      "<p class=\"titulo\">MINISTÉRIO DE MINAS E ENERGIA</p><p class=\"identifica\">DECRETO DE 31 DE DEZEMBRO DE 2022</p><p><strong>O VICE-PRESIDENTE DA REPÚBLICA</strong>, no exercício do cargo de<strong>PRESIDENTE DA REPÚBLICA,</strong>no uso da atribuição que lhe confere o art. 84,<strong>caput</strong>, inciso I, da Constituição, resolve:</p><p><strong>EXONERAR</strong></p><p>ADOLFO SACHSIDA do cargo de Ministro de Estado de Minas e Energia.</p><p>Brasília, 31 de dezembro de 2022; 201º da Independência e 134º da República.</p><p class=\"assinaPr\">ANTÔNIO HAMILTON MARTINS MOURÃO</p>\n",
      "<p class=\"titulo\">MINISTÉRIO DE MINAS E ENERGIA</p><p class=\"identifica\">DECRETO DE 31 DE DEZEMBRO DE 2022</p><p><strong>O VICE-PRESIDENTE DA REPÚBLICA</strong>, no exercício do cargo de<strong>PRESIDENTE DA REPÚBLICA,</strong>no uso da atribuição que lhe confere o art. 84,<strong>caput</strong>, inciso I, da Constituição, resolve:</p><p><strong>EXONERAR</strong></p><p>ADOLFO SACHSIDA do cargo de Ministro de Estado de Minas e Energia.</p><p>Brasília, 31 de dezembro de 2022; 201º da Independência e 134º da República.</p><p class=\"assinaPr\">ANTÔNIO HAMILTON MARTINS MOURÃO</p>\n",
      "<p class=\"titulo\">MINISTÉRIO DE MINAS E ENERGIA</p><p class=\"identifica\">DECRETO DE 31 DE DEZEMBRO DE 2022</p><p><strong>O VICE-PRESIDENTE DA REPÚBLICA</strong>, no exercício do cargo de<strong>PRESIDENTE DA REPÚBLICA,</strong>no uso da atribuição que lhe confere o art. 84,<strong>caput</strong>, inciso I, da Constituição, resolve:</p><p><strong>EXONERAR</strong></p><p>ADOLFO SACHSIDA do cargo de Ministro de Estado de Minas e Energia.</p><p>Brasília, 31 de dezembro de 2022; 201º da Independência e 134º da República.</p><p class=\"assinaPr\">ANTÔNIO HAMILTON MARTINS MOURÃO</p>\n",
      "<p class=\"titulo\">MINISTÉRIO DE MINAS E ENERGIA</p><p class=\"identifica\">DECRETO DE 31 DE DEZEMBRO DE 2022</p><p><strong>O VICE-PRESIDENTE DA REPÚBLICA</strong>, no exercício do cargo de<strong>PRESIDENTE DA REPÚBLICA,</strong>no uso da atribuição que lhe confere o art. 84,<strong>caput</strong>, inciso I, da Constituição, resolve:</p><p><strong>EXONERAR</strong></p><p>ADOLFO SACHSIDA do cargo de Ministro de Estado de Minas e Energia.</p><p>Brasília, 31 de dezembro de 2022; 201º da Independência e 134º da República.</p><p class=\"assinaPr\">ANTÔNIO HAMILTON MARTINS MOURÃO</p>\n",
      "<p class=\"titulo\">MINISTÉRIO DE MINAS E ENERGIA</p><p class=\"identifica\">DECRETO DE 31 DE DEZEMBRO DE 2022</p><p><strong>O VICE-PRESIDENTE DA REPÚBLICA</strong>, no exercício do cargo de<strong>PRESIDENTE DA REPÚBLICA,</strong>no uso da atribuição que lhe confere o art. 84,<strong>caput</strong>, inciso I, da Constituição, resolve:</p><p><strong>EXONERAR</strong></p><p>ADOLFO SACHSIDA do cargo de Ministro de Estado de Minas e Energia.</p><p>Brasília, 31 de dezembro de 2022; 201º da Independência e 134º da República.</p><p class=\"assinaPr\">ANTÔNIO HAMILTON MARTINS MOURÃO</p>\n",
      "<p class=\"titulo\">MINISTÉRIO DE MINAS E ENERGIA</p><p class=\"identifica\">DECRETO DE 31 DE DEZEMBRO DE 2022</p><p><strong>O VICE-PRESIDENTE DA REPÚBLICA</strong>, no exercício do cargo de<strong>PRESIDENTE DA REPÚBLICA,</strong>no uso da atribuição que lhe confere o art. 84,<strong>caput</strong>, inciso I, da Constituição, resolve:</p><p><strong>EXONERAR</strong></p><p>ADOLFO SACHSIDA do cargo de Ministro de Estado de Minas e Energia.</p><p>Brasília, 31 de dezembro de 2022; 201º da Independência e 134º da República.</p><p class=\"assinaPr\">ANTÔNIO HAMILTON MARTINS MOURÃO</p>\n",
      "<p class=\"titulo\">MINISTÉRIO DE MINAS E ENERGIA</p><p class=\"identifica\">DECRETO DE 31 DE DEZEMBRO DE 2022</p><p><strong>O VICE-PRESIDENTE DA REPÚBLICA</strong>, no exercício do cargo de<strong>PRESIDENTE DA REPÚBLICA,</strong>no uso da atribuição que lhe confere o art. 84,<strong>caput</strong>, inciso I, da Constituição, resolve:</p><p><strong>EXONERAR</strong></p><p>ADOLFO SACHSIDA do cargo de Ministro de Estado de Minas e Energia.</p><p>Brasília, 31 de dezembro de 2022; 201º da Independência e 134º da República.</p><p class=\"assinaPr\">ANTÔNIO HAMILTON MARTINS MOURÃO</p>\n",
      "<p class=\"titulo\">MINISTÉRIO DE MINAS E ENERGIA</p><p class=\"identifica\">DECRETO DE 31 DE DEZEMBRO DE 2022</p><p><strong>O VICE-PRESIDENTE DA REPÚBLICA</strong>, no exercício do cargo de<strong>PRESIDENTE DA REPÚBLICA,</strong>no uso da atribuição que lhe confere o art. 84,<strong>caput</strong>, inciso I, da Constituição, resolve:</p><p><strong>EXONERAR</strong></p><p>ADOLFO SACHSIDA do cargo de Ministro de Estado de Minas e Energia.</p><p>Brasília, 31 de dezembro de 2022; 201º da Independência e 134º da República.</p><p class=\"assinaPr\">ANTÔNIO HAMILTON MARTINS MOURÃO</p>\n",
      "<p class=\"titulo\">MINISTÉRIO DE MINAS E ENERGIA</p><p class=\"identifica\">DECRETO DE 31 DE DEZEMBRO DE 2022</p><p><strong>O VICE-PRESIDENTE DA REPÚBLICA</strong>, no exercício do cargo de<strong>PRESIDENTE DA REPÚBLICA,</strong>no uso da atribuição que lhe confere o art. 84,<strong>caput</strong>, inciso I, da Constituição, resolve:</p><p><strong>EXONERAR</strong></p><p>ADOLFO SACHSIDA do cargo de Ministro de Estado de Minas e Energia.</p><p>Brasília, 31 de dezembro de 2022; 201º da Independência e 134º da República.</p><p class=\"assinaPr\">ANTÔNIO HAMILTON MARTINS MOURÃO</p>\n",
      "<p class=\"titulo\">MINISTÉRIO DE MINAS E ENERGIA</p><p class=\"identifica\">DECRETO DE 31 DE DEZEMBRO DE 2022</p><p><strong>O VICE-PRESIDENTE DA REPÚBLICA</strong>, no exercício do cargo de<strong>PRESIDENTE DA REPÚBLICA,</strong>no uso da atribuição que lhe confere o art. 84,<strong>caput</strong>, inciso I, da Constituição, resolve:</p><p><strong>EXONERAR</strong></p><p>ADOLFO SACHSIDA do cargo de Ministro de Estado de Minas e Energia.</p><p>Brasília, 31 de dezembro de 2022; 201º da Independência e 134º da República.</p><p class=\"assinaPr\">ANTÔNIO HAMILTON MARTINS MOURÃO</p>\n",
      "<p class=\"titulo\">MINISTÉRIO DE MINAS E ENERGIA</p><p class=\"identifica\">DECRETO DE 31 DE DEZEMBRO DE 2022</p><p><strong>O VICE-PRESIDENTE DA REPÚBLICA</strong>, no exercício do cargo de<strong>PRESIDENTE DA REPÚBLICA,</strong>no uso da atribuição que lhe confere o art. 84,<strong>caput</strong>, inciso I, da Constituição, resolve:</p><p><strong>EXONERAR</strong></p><p>ADOLFO SACHSIDA do cargo de Ministro de Estado de Minas e Energia.</p><p>Brasília, 31 de dezembro de 2022; 201º da Independência e 134º da República.</p><p class=\"assinaPr\">ANTÔNIO HAMILTON MARTINS MOURÃO</p>\n",
      "<p class=\"titulo\">MINISTÉRIO DE MINAS E ENERGIA</p><p class=\"identifica\">DECRETO DE 31 DE DEZEMBRO DE 2022</p><p><strong>O VICE-PRESIDENTE DA REPÚBLICA</strong>, no exercício do cargo de<strong>PRESIDENTE DA REPÚBLICA,</strong>no uso da atribuição que lhe confere o art. 84,<strong>caput</strong>, inciso I, da Constituição, resolve:</p><p><strong>EXONERAR</strong></p><p>ADOLFO SACHSIDA do cargo de Ministro de Estado de Minas e Energia.</p><p>Brasília, 31 de dezembro de 2022; 201º da Independência e 134º da República.</p><p class=\"assinaPr\">ANTÔNIO HAMILTON MARTINS MOURÃO</p>\n",
      "<p class=\"titulo\">MINISTÉRIO DE MINAS E ENERGIA</p><p class=\"identifica\">DECRETO DE 31 DE DEZEMBRO DE 2022</p><p><strong>O VICE-PRESIDENTE DA REPÚBLICA</strong>, no exercício do cargo de<strong>PRESIDENTE DA REPÚBLICA,</strong>no uso da atribuição que lhe confere o art. 84,<strong>caput</strong>, inciso I, da Constituição, resolve:</p><p><strong>EXONERAR</strong></p><p>ADOLFO SACHSIDA do cargo de Ministro de Estado de Minas e Energia.</p><p>Brasília, 31 de dezembro de 2022; 201º da Independência e 134º da República.</p><p class=\"assinaPr\">ANTÔNIO HAMILTON MARTINS MOURÃO</p>\n",
      "<p class=\"titulo\">MINISTÉRIO DE MINAS E ENERGIA</p><p class=\"identifica\">DECRETO DE 31 DE DEZEMBRO DE 2022</p><p><strong>O VICE-PRESIDENTE DA REPÚBLICA</strong>, no exercício do cargo de<strong>PRESIDENTE DA REPÚBLICA,</strong>no uso da atribuição que lhe confere o art. 84,<strong>caput</strong>, inciso I, da Constituição, resolve:</p><p><strong>EXONERAR</strong></p><p>ADOLFO SACHSIDA do cargo de Ministro de Estado de Minas e Energia.</p><p>Brasília, 31 de dezembro de 2022; 201º da Independência e 134º da República.</p><p class=\"assinaPr\">ANTÔNIO HAMILTON MARTINS MOURÃO</p>\n",
      "<p class=\"titulo\">MINISTÉRIO DE MINAS E ENERGIA</p><p class=\"identifica\">DECRETO DE 31 DE DEZEMBRO DE 2022</p><p><strong>O VICE-PRESIDENTE DA REPÚBLICA</strong>, no exercício do cargo de<strong>PRESIDENTE DA REPÚBLICA,</strong>no uso da atribuição que lhe confere o art. 84,<strong>caput</strong>, inciso I, da Constituição, resolve:</p><p><strong>EXONERAR</strong></p><p>ADOLFO SACHSIDA do cargo de Ministro de Estado de Minas e Energia.</p><p>Brasília, 31 de dezembro de 2022; 201º da Independência e 134º da República.</p><p class=\"assinaPr\">ANTÔNIO HAMILTON MARTINS MOURÃO</p>\n",
      "<p class=\"titulo\">MINISTÉRIO DE MINAS E ENERGIA</p><p class=\"identifica\">DECRETO DE 31 DE DEZEMBRO DE 2022</p><p><strong>O VICE-PRESIDENTE DA REPÚBLICA</strong>, no exercício do cargo de<strong>PRESIDENTE DA REPÚBLICA,</strong>no uso da atribuição que lhe confere o art. 84,<strong>caput</strong>, inciso I, da Constituição, resolve:</p><p><strong>EXONERAR</strong></p><p>ADOLFO SACHSIDA do cargo de Ministro de Estado de Minas e Energia.</p><p>Brasília, 31 de dezembro de 2022; 201º da Independência e 134º da República.</p><p class=\"assinaPr\">ANTÔNIO HAMILTON MARTINS MOURÃO</p>\n",
      "<p class=\"titulo\">MINISTÉRIO DE MINAS E ENERGIA</p><p class=\"identifica\">DECRETO DE 31 DE DEZEMBRO DE 2022</p><p><strong>O VICE-PRESIDENTE DA REPÚBLICA</strong>, no exercício do cargo de<strong>PRESIDENTE DA REPÚBLICA,</strong>no uso da atribuição que lhe confere o art. 84,<strong>caput</strong>, inciso I, da Constituição, resolve:</p><p><strong>EXONERAR</strong></p><p>ADOLFO SACHSIDA do cargo de Ministro de Estado de Minas e Energia.</p><p>Brasília, 31 de dezembro de 2022; 201º da Independência e 134º da República.</p><p class=\"assinaPr\">ANTÔNIO HAMILTON MARTINS MOURÃO</p>\n",
      "<p class=\"titulo\">MINISTÉRIO DE MINAS E ENERGIA</p><p class=\"identifica\">DECRETO DE 31 DE DEZEMBRO DE 2022</p><p><strong>O VICE-PRESIDENTE DA REPÚBLICA</strong>, no exercício do cargo de<strong>PRESIDENTE DA REPÚBLICA,</strong>no uso da atribuição que lhe confere o art. 84,<strong>caput</strong>, inciso I, da Constituição, resolve:</p><p><strong>EXONERAR</strong></p><p>ADOLFO SACHSIDA do cargo de Ministro de Estado de Minas e Energia.</p><p>Brasília, 31 de dezembro de 2022; 201º da Independência e 134º da República.</p><p class=\"assinaPr\">ANTÔNIO HAMILTON MARTINS MOURÃO</p>\n",
      "<p class=\"titulo\">MINISTÉRIO DE MINAS E ENERGIA</p><p class=\"identifica\">DECRETO DE 31 DE DEZEMBRO DE 2022</p><p><strong>O VICE-PRESIDENTE DA REPÚBLICA</strong>, no exercício do cargo de<strong>PRESIDENTE DA REPÚBLICA,</strong>no uso da atribuição que lhe confere o art. 84,<strong>caput</strong>, inciso I, da Constituição, resolve:</p><p><strong>EXONERAR</strong></p><p>ADOLFO SACHSIDA do cargo de Ministro de Estado de Minas e Energia.</p><p>Brasília, 31 de dezembro de 2022; 201º da Independência e 134º da República.</p><p class=\"assinaPr\">ANTÔNIO HAMILTON MARTINS MOURÃO</p>\n",
      "<p class=\"titulo\">MINISTÉRIO DE MINAS E ENERGIA</p><p class=\"identifica\">DECRETO DE 31 DE DEZEMBRO DE 2022</p><p><strong>O VICE-PRESIDENTE DA REPÚBLICA</strong>, no exercício do cargo de<strong>PRESIDENTE DA REPÚBLICA,</strong>no uso da atribuição que lhe confere o art. 84,<strong>caput</strong>, inciso I, da Constituição, resolve:</p><p><strong>EXONERAR</strong></p><p>ADOLFO SACHSIDA do cargo de Ministro de Estado de Minas e Energia.</p><p>Brasília, 31 de dezembro de 2022; 201º da Independência e 134º da República.</p><p class=\"assinaPr\">ANTÔNIO HAMILTON MARTINS MOURÃO</p>\n",
      "<p class=\"titulo\">MINISTÉRIO DE MINAS E ENERGIA</p><p class=\"identifica\">DECRETO DE 31 DE DEZEMBRO DE 2022</p><p><strong>O VICE-PRESIDENTE DA REPÚBLICA</strong>, no exercício do cargo de<strong>PRESIDENTE DA REPÚBLICA,</strong>no uso da atribuição que lhe confere o art. 84,<strong>caput</strong>, inciso I, da Constituição, resolve:</p><p><strong>EXONERAR</strong></p><p>ADOLFO SACHSIDA do cargo de Ministro de Estado de Minas e Energia.</p><p>Brasília, 31 de dezembro de 2022; 201º da Independência e 134º da República.</p><p class=\"assinaPr\">ANTÔNIO HAMILTON MARTINS MOURÃO</p>\n",
      "<p class=\"titulo\">MINISTÉRIO DE MINAS E ENERGIA</p><p class=\"identifica\">DECRETO DE 31 DE DEZEMBRO DE 2022</p><p><strong>O VICE-PRESIDENTE DA REPÚBLICA</strong>, no exercício do cargo de<strong>PRESIDENTE DA REPÚBLICA,</strong>no uso da atribuição que lhe confere o art. 84,<strong>caput</strong>, inciso I, da Constituição, resolve:</p><p><strong>EXONERAR</strong></p><p>ADOLFO SACHSIDA do cargo de Ministro de Estado de Minas e Energia.</p><p>Brasília, 31 de dezembro de 2022; 201º da Independência e 134º da República.</p><p class=\"assinaPr\">ANTÔNIO HAMILTON MARTINS MOURÃO</p>\n",
      "<p class=\"titulo\">MINISTÉRIO DE MINAS E ENERGIA</p><p class=\"identifica\">DECRETO DE 31 DE DEZEMBRO DE 2022</p><p><strong>O VICE-PRESIDENTE DA REPÚBLICA</strong>, no exercício do cargo de<strong>PRESIDENTE DA REPÚBLICA,</strong>no uso da atribuição que lhe confere o art. 84,<strong>caput</strong>, inciso I, da Constituição, resolve:</p><p><strong>EXONERAR</strong></p><p>ADOLFO SACHSIDA do cargo de Ministro de Estado de Minas e Energia.</p><p>Brasília, 31 de dezembro de 2022; 201º da Independência e 134º da República.</p><p class=\"assinaPr\">ANTÔNIO HAMILTON MARTINS MOURÃO</p>\n",
      "<p class=\"titulo\">MINISTÉRIO DE MINAS E ENERGIA</p><p class=\"identifica\">DECRETO DE 31 DE DEZEMBRO DE 2022</p><p><strong>O VICE-PRESIDENTE DA REPÚBLICA</strong>, no exercício do cargo de<strong>PRESIDENTE DA REPÚBLICA,</strong>no uso da atribuição que lhe confere o art. 84,<strong>caput</strong>, inciso I, da Constituição, resolve:</p><p><strong>EXONERAR</strong></p><p>ADOLFO SACHSIDA do cargo de Ministro de Estado de Minas e Energia.</p><p>Brasília, 31 de dezembro de 2022; 201º da Independência e 134º da República.</p><p class=\"assinaPr\">ANTÔNIO HAMILTON MARTINS MOURÃO</p>\n",
      "<p class=\"titulo\">MINISTÉRIO DE MINAS E ENERGIA</p><p class=\"identifica\">DECRETO DE 31 DE DEZEMBRO DE 2022</p><p><strong>O VICE-PRESIDENTE DA REPÚBLICA</strong>, no exercício do cargo de<strong>PRESIDENTE DA REPÚBLICA,</strong>no uso da atribuição que lhe confere o art. 84,<strong>caput</strong>, inciso I, da Constituição, resolve:</p><p><strong>EXONERAR</strong></p><p>ADOLFO SACHSIDA do cargo de Ministro de Estado de Minas e Energia.</p><p>Brasília, 31 de dezembro de 2022; 201º da Independência e 134º da República.</p><p class=\"assinaPr\">ANTÔNIO HAMILTON MARTINS MOURÃO</p>\n",
      "<p class=\"titulo\">MINISTÉRIO DE MINAS E ENERGIA</p><p class=\"identifica\">DECRETO DE 31 DE DEZEMBRO DE 2022</p><p><strong>O VICE-PRESIDENTE DA REPÚBLICA</strong>, no exercício do cargo de<strong>PRESIDENTE DA REPÚBLICA,</strong>no uso da atribuição que lhe confere o art. 84,<strong>caput</strong>, inciso I, da Constituição, resolve:</p><p><strong>EXONERAR</strong></p><p>ADOLFO SACHSIDA do cargo de Ministro de Estado de Minas e Energia.</p><p>Brasília, 31 de dezembro de 2022; 201º da Independência e 134º da República.</p><p class=\"assinaPr\">ANTÔNIO HAMILTON MARTINS MOURÃO</p>\n",
      "<p class=\"titulo\">MINISTÉRIO DE MINAS E ENERGIA</p><p class=\"identifica\">DECRETO DE 31 DE DEZEMBRO DE 2022</p><p><strong>O VICE-PRESIDENTE DA REPÚBLICA</strong>, no exercício do cargo de<strong>PRESIDENTE DA REPÚBLICA,</strong>no uso da atribuição que lhe confere o art. 84,<strong>caput</strong>, inciso I, da Constituição, resolve:</p><p><strong>EXONERAR</strong></p><p>ADOLFO SACHSIDA do cargo de Ministro de Estado de Minas e Energia.</p><p>Brasília, 31 de dezembro de 2022; 201º da Independência e 134º da República.</p><p class=\"assinaPr\">ANTÔNIO HAMILTON MARTINS MOURÃO</p>\n",
      "<p class=\"titulo\">MINISTÉRIO DE MINAS E ENERGIA</p><p class=\"identifica\">DECRETO DE 31 DE DEZEMBRO DE 2022</p><p><strong>O VICE-PRESIDENTE DA REPÚBLICA</strong>, no exercício do cargo de<strong>PRESIDENTE DA REPÚBLICA,</strong>no uso da atribuição que lhe confere o art. 84,<strong>caput</strong>, inciso I, da Constituição, resolve:</p><p><strong>EXONERAR</strong></p><p>ADOLFO SACHSIDA do cargo de Ministro de Estado de Minas e Energia.</p><p>Brasília, 31 de dezembro de 2022; 201º da Independência e 134º da República.</p><p class=\"assinaPr\">ANTÔNIO HAMILTON MARTINS MOURÃO</p>\n"
     ]
    }
   ],
   "source": [
    "for xml_file in os.listdir(folder_dir/'extracted'):\n",
    "\n",
    "    tree = ET.parse(folder_dir/'extracted'/xml_file)  # Parsing the XML file\n",
    "    root = tree.getroot()  # Creating the root object\n",
    "\n",
    "    for i, value in enumerate(root):\n",
    "        article_data = value.attrib #this xml has only one child with the article tag and a dictionary as an attribute\n",
    "\n",
    "    text = root[0][0][5].text\n",
    "    print(texto)"
   ],
   "metadata": {
    "collapsed": false,
    "pycharm": {
     "name": "#%%\n"
    }
   }
  },
  {
   "cell_type": "code",
   "execution_count": 196,
   "outputs": [
    {
     "name": "stdout",
     "output_type": "stream",
     "text": [
      "marcio dos santos guimaraes\n"
     ]
    }
   ],
   "source": [
    "# UNICODEDATA - Normalização de Nomes - Muito útil na comparação.\n",
    "\n",
    "import unicodedata\n",
    "\n",
    "orig = 'márcio dos santos guimarães'\n",
    "\n",
    "processado = unicodedata.normalize('NFD', orig)\n",
    "processado = processado.encode(\"ascii\", \"ignore\")\n",
    "processado = processado.decode (\"utf-8\")\n",
    "\n",
    "print(processado)"
   ],
   "metadata": {
    "collapsed": false,
    "pycharm": {
     "name": "#%%\n"
    }
   }
  },
  {
   "cell_type": "code",
   "execution_count": 1,
   "outputs": [],
   "source": [
    "import pandas as pd\n"
   ],
   "metadata": {
    "collapsed": false,
    "pycharm": {
     "name": "#%%\n"
    }
   }
  },
  {
   "cell_type": "code",
   "execution_count": 21,
   "outputs": [
    {
     "data": {
      "text/plain": "                                          Nomes\n0      Flávia Carolina Postalli Rodrigues Alloy\n1  ISADORA AUGUSTA DA SILVEIRUGUSTA DA SILVEIRA\n2                                Pedro Monteiro\n3                                  Murilo Souza\n4                  GUTEMBERG BEZERRA DE FREITAS\n5                       MARCIO RIBEIRO DA SILVA",
      "text/html": "<div>\n<style scoped>\n    .dataframe tbody tr th:only-of-type {\n        vertical-align: middle;\n    }\n\n    .dataframe tbody tr th {\n        vertical-align: top;\n    }\n\n    .dataframe thead th {\n        text-align: right;\n    }\n</style>\n<table border=\"1\" class=\"dataframe\">\n  <thead>\n    <tr style=\"text-align: right;\">\n      <th></th>\n      <th>Nomes</th>\n    </tr>\n  </thead>\n  <tbody>\n    <tr>\n      <th>0</th>\n      <td>Flávia Carolina Postalli Rodrigues Alloy</td>\n    </tr>\n    <tr>\n      <th>1</th>\n      <td>ISADORA AUGUSTA DA SILVEIRUGUSTA DA SILVEIRA</td>\n    </tr>\n    <tr>\n      <th>2</th>\n      <td>Pedro Monteiro</td>\n    </tr>\n    <tr>\n      <th>3</th>\n      <td>Murilo Souza</td>\n    </tr>\n    <tr>\n      <th>4</th>\n      <td>GUTEMBERG BEZERRA DE FREITAS</td>\n    </tr>\n    <tr>\n      <th>5</th>\n      <td>MARCIO RIBEIRO DA SILVA</td>\n    </tr>\n  </tbody>\n</table>\n</div>"
     },
     "execution_count": 21,
     "metadata": {},
     "output_type": "execute_result"
    }
   ],
   "source": [
    "df = pd.read_excel('servidores.xlsx')\n",
    "df"
   ],
   "metadata": {
    "collapsed": false,
    "pycharm": {
     "name": "#%%\n"
    }
   }
  },
  {
   "cell_type": "code",
   "execution_count": 3,
   "outputs": [
    {
     "data": {
      "text/plain": "0        Flávia Carolina Postalli Rodrigues Alloy\n1    ISADORA AUGUSTA DA SILVEIRUGUSTA DA SILVEIRA\n2                                  Pedro Monteiro\n3                                    Murilo Souza\n4                    GUTEMBERG BEZERRA DE FREITAS\n5                         MARCIO RIBEIRO DA SILVA\nName: Nomes, dtype: object"
     },
     "execution_count": 3,
     "metadata": {},
     "output_type": "execute_result"
    }
   ],
   "source": [
    "df['Nomes']\n",
    "# for name in names['Nomes']:"
   ],
   "metadata": {
    "collapsed": false,
    "pycharm": {
     "name": "#%%\n"
    }
   }
  },
  {
   "cell_type": "code",
   "execution_count": 6,
   "outputs": [
    {
     "ename": "AttributeError",
     "evalue": "'str' object has no attribute 'contains'",
     "output_type": "error",
     "traceback": [
      "\u001B[0;31m---------------------------------------------------------------------------\u001B[0m",
      "\u001B[0;31mAttributeError\u001B[0m                            Traceback (most recent call last)",
      "\u001B[0;32m/var/folders/s3/551538vd1w73xsy14_50l2w80000gn/T/ipykernel_85969/3577482933.py\u001B[0m in \u001B[0;36m<module>\u001B[0;34m\u001B[0m\n\u001B[1;32m     17\u001B[0m         \u001B[0mtext\u001B[0m \u001B[0;34m=\u001B[0m \u001B[0mroot\u001B[0m\u001B[0;34m[\u001B[0m\u001B[0;36m0\u001B[0m\u001B[0;34m]\u001B[0m\u001B[0;34m[\u001B[0m\u001B[0;36m0\u001B[0m\u001B[0;34m]\u001B[0m\u001B[0;34m[\u001B[0m\u001B[0;36m5\u001B[0m\u001B[0;34m]\u001B[0m\u001B[0;34m.\u001B[0m\u001B[0mtext\u001B[0m\u001B[0;34m\u001B[0m\u001B[0;34m\u001B[0m\u001B[0m\n\u001B[1;32m     18\u001B[0m \u001B[0;34m\u001B[0m\u001B[0m\n\u001B[0;32m---> 19\u001B[0;31m         \u001B[0mdf\u001B[0m\u001B[0;34m[\u001B[0m\u001B[0;34m'Texto'\u001B[0m\u001B[0;34m]\u001B[0m \u001B[0;34m=\u001B[0m \u001B[0mdf\u001B[0m\u001B[0;34m[\u001B[0m\u001B[0;34m'Nomes'\u001B[0m\u001B[0;34m]\u001B[0m\u001B[0;34m.\u001B[0m\u001B[0mapply\u001B[0m\u001B[0;34m(\u001B[0m\u001B[0mgrabbing_text\u001B[0m\u001B[0;34m(\u001B[0m\u001B[0mdf\u001B[0m\u001B[0;34m[\u001B[0m\u001B[0;34m'Nomes'\u001B[0m\u001B[0;34m]\u001B[0m\u001B[0;34m,\u001B[0m\u001B[0mtext\u001B[0m\u001B[0;34m)\u001B[0m\u001B[0;34m)\u001B[0m\u001B[0;34m\u001B[0m\u001B[0;34m\u001B[0m\u001B[0m\n\u001B[0m\u001B[1;32m     20\u001B[0m \u001B[0;34m\u001B[0m\u001B[0m\n\u001B[1;32m     21\u001B[0m     \u001B[0;31m#\u001B[0m\u001B[0;34m\u001B[0m\u001B[0;34m\u001B[0m\u001B[0m\n",
      "\u001B[0;32m/var/folders/s3/551538vd1w73xsy14_50l2w80000gn/T/ipykernel_85969/3577482933.py\u001B[0m in \u001B[0;36mgrabbing_text\u001B[0;34m(name, text)\u001B[0m\n\u001B[1;32m      1\u001B[0m \u001B[0;32mdef\u001B[0m \u001B[0mgrabbing_text\u001B[0m\u001B[0;34m(\u001B[0m\u001B[0mname\u001B[0m\u001B[0;34m,\u001B[0m\u001B[0mtext\u001B[0m\u001B[0;34m)\u001B[0m\u001B[0;34m:\u001B[0m\u001B[0;34m\u001B[0m\u001B[0;34m\u001B[0m\u001B[0m\n\u001B[0;32m----> 2\u001B[0;31m     \u001B[0;32mif\u001B[0m \u001B[0mtext\u001B[0m\u001B[0;34m.\u001B[0m\u001B[0mlower\u001B[0m\u001B[0;34m(\u001B[0m\u001B[0;34m)\u001B[0m\u001B[0;34m.\u001B[0m\u001B[0mcontains\u001B[0m\u001B[0;34m(\u001B[0m\u001B[0mname\u001B[0m\u001B[0;34m)\u001B[0m\u001B[0;34m:\u001B[0m\u001B[0;34m\u001B[0m\u001B[0;34m\u001B[0m\u001B[0m\n\u001B[0m\u001B[1;32m      3\u001B[0m \u001B[0;34m\u001B[0m\u001B[0m\n\u001B[1;32m      4\u001B[0m             \u001B[0;31m#name.str.lower().isin(text.lower()):\u001B[0m\u001B[0;34m\u001B[0m\u001B[0;34m\u001B[0m\u001B[0m\n\u001B[1;32m      5\u001B[0m         \u001B[0;32mreturn\u001B[0m \u001B[0mtext\u001B[0m\u001B[0;34m\u001B[0m\u001B[0;34m\u001B[0m\u001B[0m\n",
      "\u001B[0;31mAttributeError\u001B[0m: 'str' object has no attribute 'contains'"
     ]
    }
   ],
   "source": [
    "def grabbing_text(name,text):\n",
    "    if text.lower().contains(name):\n",
    "\n",
    "            #name.str.lower().isin(text.lower()):\n",
    "        return text\n",
    "\n",
    "\n",
    "\n",
    "for xml_file in os.listdir(folder_dir/'extracted'):\n",
    "\n",
    "    tree = ET.parse(folder_dir/'extracted'/xml_file)  # Parsing the XML file\n",
    "    root = tree.getroot()  # Creating the root object\n",
    "\n",
    "    for i, value in enumerate(root):\n",
    "        article_data = value.attrib #this xml has only one child with the article tag and a dictionary as an attribute\n",
    "\n",
    "        text = root[0][0][5].text\n",
    "\n",
    "        df['Texto'] = df['Nomes'].apply(grabbing_text(df['Nomes'],text))\n",
    "\n",
    "    #\n",
    "    # for name in names['Nomes']:\n",
    "    #     if name.lower() in text.lower():\n",
    "    #         print(xml_file)\n",
    "    #         names['Texto'] = xml_file\n",
    "\n",
    "\n",
    "names\n",
    "\n",
    "# Next Step:\n",
    "\n",
    "#Create a new column in the DF and store it on to the servidores file.\n",
    "\n",
    "\n"
   ],
   "metadata": {
    "collapsed": false,
    "pycharm": {
     "name": "#%%\n"
    }
   }
  },
  {
   "cell_type": "code",
   "execution_count": 13,
   "outputs": [
    {
     "ename": "NameError",
     "evalue": "name 'Path' is not defined",
     "output_type": "error",
     "traceback": [
      "\u001B[0;31m---------------------------------------------------------------------------\u001B[0m",
      "\u001B[0;31mNameError\u001B[0m                                 Traceback (most recent call last)",
      "\u001B[0;32m/var/folders/s3/551538vd1w73xsy14_50l2w80000gn/T/ipykernel_1308/784033502.py\u001B[0m in \u001B[0;36m<module>\u001B[0;34m\u001B[0m\n\u001B[1;32m      3\u001B[0m \u001B[0mdf\u001B[0m \u001B[0;34m=\u001B[0m \u001B[0mpd\u001B[0m\u001B[0;34m.\u001B[0m\u001B[0mread_excel\u001B[0m\u001B[0;34m(\u001B[0m\u001B[0;34m'servidores.xlsx'\u001B[0m\u001B[0;34m)\u001B[0m\u001B[0;34m\u001B[0m\u001B[0;34m\u001B[0m\u001B[0m\n\u001B[1;32m      4\u001B[0m \u001B[0;34m\u001B[0m\u001B[0m\n\u001B[0;32m----> 5\u001B[0;31m \u001B[0mfolder_dir\u001B[0m \u001B[0;34m=\u001B[0m \u001B[0mPath\u001B[0m\u001B[0;34m(\u001B[0m\u001B[0;34m'__file_'\u001B[0m\u001B[0;34m)\u001B[0m\u001B[0;34m.\u001B[0m\u001B[0mresolve\u001B[0m\u001B[0;34m(\u001B[0m\u001B[0;34m)\u001B[0m\u001B[0;34m.\u001B[0m\u001B[0mparent\u001B[0m \u001B[0;32mif\u001B[0m \u001B[0;34m\"_file_\"\u001B[0m \u001B[0;32min\u001B[0m \u001B[0mlocals\u001B[0m\u001B[0;34m(\u001B[0m\u001B[0;34m)\u001B[0m \u001B[0;32melse\u001B[0m \u001B[0mPath\u001B[0m\u001B[0;34m.\u001B[0m\u001B[0mcwd\u001B[0m\u001B[0;34m(\u001B[0m\u001B[0;34m)\u001B[0m\u001B[0;34m\u001B[0m\u001B[0;34m\u001B[0m\u001B[0m\n\u001B[0m\u001B[1;32m      6\u001B[0m \u001B[0mfolder_dir\u001B[0m\u001B[0;34m\u001B[0m\u001B[0;34m\u001B[0m\u001B[0m\n\u001B[1;32m      7\u001B[0m \u001B[0;32mimport\u001B[0m \u001B[0mxml\u001B[0m\u001B[0;34m.\u001B[0m\u001B[0metree\u001B[0m\u001B[0;34m.\u001B[0m\u001B[0mElementTree\u001B[0m \u001B[0;32mas\u001B[0m \u001B[0mET\u001B[0m\u001B[0;34m\u001B[0m\u001B[0;34m\u001B[0m\u001B[0m\n",
      "\u001B[0;31mNameError\u001B[0m: name 'Path' is not defined"
     ]
    }
   ],
   "source": [
    "import pandas as pd\n",
    "\n",
    "df = pd.read_excel('servidores.xlsx')\n",
    "\n",
    "folder_dir = Path('__file_').resolve().parent if \"_file_\" in locals() else Path.cwd()\n",
    "folder_dir\n",
    "import xml.etree.ElementTree as ET"
   ],
   "metadata": {
    "collapsed": false,
    "pycharm": {
     "name": "#%%\n"
    }
   }
  },
  {
   "cell_type": "code",
   "execution_count": 7,
   "outputs": [
    {
     "ename": "ParseError",
     "evalue": "not well-formed (invalid token): line 1, column 0 (<string>)",
     "output_type": "error",
     "traceback": [
      "Traceback \u001B[0;36m(most recent call last)\u001B[0m:\n",
      "  File \u001B[1;32m\"/opt/anaconda3/lib/python3.9/site-packages/IPython/core/interactiveshell.py\"\u001B[0m, line \u001B[1;32m3457\u001B[0m, in \u001B[1;35mrun_code\u001B[0m\n    exec(code_obj, self.user_global_ns, self.user_ns)\n",
      "  File \u001B[1;32m\"/var/folders/s3/551538vd1w73xsy14_50l2w80000gn/T/ipykernel_85969/2278020023.py\"\u001B[0m, line \u001B[1;32m3\u001B[0m, in \u001B[1;35m<module>\u001B[0m\n    tree = ET.parse(folder_dir/'extracted'/xml_file)  # Parsing the XML file\n",
      "  File \u001B[1;32m\"/opt/anaconda3/lib/python3.9/xml/etree/ElementTree.py\"\u001B[0m, line \u001B[1;32m1222\u001B[0m, in \u001B[1;35mparse\u001B[0m\n    tree.parse(source, parser)\n",
      "\u001B[0;36m  File \u001B[0;32m\"/opt/anaconda3/lib/python3.9/xml/etree/ElementTree.py\"\u001B[0;36m, line \u001B[0;32m580\u001B[0;36m, in \u001B[0;35mparse\u001B[0;36m\u001B[0m\n\u001B[0;31m    self._root = parser._parse_whole(source)\u001B[0m\n",
      "\u001B[0;36m  File \u001B[0;32m\"<string>\"\u001B[0;36m, line \u001B[0;32munknown\u001B[0m\n\u001B[0;31mParseError\u001B[0m\u001B[0;31m:\u001B[0m not well-formed (invalid token): line 1, column 0\n"
     ]
    }
   ],
   "source": [
    "for xml_file in os.listdir(folder_dir/'extracted'):\n",
    "\n",
    "    tree = ET.parse(folder_dir/'extracted'/xml_file)  # Parsing the XML file\n",
    "    root = tree.getroot()  # Creating the root object\n",
    "\n",
    "    for i, value in enumerate(root):\n",
    "        article_data = value.attrib #this xml has only one child with the article tag and a dictionary as an attribute\n",
    "\n",
    "        text = root[0][0][5].text\n",
    "\n",
    "        df['Raw_Text'] = xml_file\n"
   ],
   "metadata": {
    "collapsed": false,
    "pycharm": {
     "name": "#%%\n"
    }
   }
  },
  {
   "cell_type": "code",
   "execution_count": 18,
   "outputs": [
    {
     "data": {
      "text/plain": "['529_20230113_20236035.xml',\n '529_20230113_20242171.xml',\n '529_20230113_20242990.xml',\n '529_20230113_20168910.xml',\n '.DS_Store',\n '529_20230113_20246700.xml',\n '529_20230113_20243255.xml',\n '529_20230113_20245045.xml',\n '529_20230113_20217457.xml',\n '529_20230113_20165078.xml',\n '529_20230113_20209784.xml']"
     },
     "execution_count": 18,
     "metadata": {},
     "output_type": "execute_result"
    }
   ],
   "source": [
    "os.listdir('/Users/pedromonteiro/Library/Mobile Documents/com~apple~CloudDocs/dsProjects/Diario_Oficial/extracted')"
   ],
   "metadata": {
    "collapsed": false,
    "pycharm": {
     "name": "#%%\n"
    }
   }
  },
  {
   "cell_type": "code",
   "execution_count": 12,
   "outputs": [
    {
     "name": "stdout",
     "output_type": "stream",
     "text": [
      "529_20230113_20236035.xml\n",
      "529_20230113_20242171.xml\n",
      "529_20230113_20242990.xml\n",
      "529_20230113_20168910.xml\n"
     ]
    },
    {
     "ename": "ParseError",
     "evalue": "not well-formed (invalid token): line 1, column 0 (<string>)",
     "output_type": "error",
     "traceback": [
      "Traceback \u001B[0;36m(most recent call last)\u001B[0m:\n",
      "  File \u001B[1;32m\"/opt/anaconda3/lib/python3.9/site-packages/IPython/core/interactiveshell.py\"\u001B[0m, line \u001B[1;32m3457\u001B[0m, in \u001B[1;35mrun_code\u001B[0m\n    exec(code_obj, self.user_global_ns, self.user_ns)\n",
      "  File \u001B[1;32m\"/var/folders/s3/551538vd1w73xsy14_50l2w80000gn/T/ipykernel_85969/539884357.py\"\u001B[0m, line \u001B[1;32m3\u001B[0m, in \u001B[1;35m<module>\u001B[0m\n    tree = ET.parse(folder_dir/'extracted'/xml_file)  # Parsing the XML file\n",
      "  File \u001B[1;32m\"/opt/anaconda3/lib/python3.9/xml/etree/ElementTree.py\"\u001B[0m, line \u001B[1;32m1222\u001B[0m, in \u001B[1;35mparse\u001B[0m\n    tree.parse(source, parser)\n",
      "\u001B[0;36m  File \u001B[0;32m\"/opt/anaconda3/lib/python3.9/xml/etree/ElementTree.py\"\u001B[0;36m, line \u001B[0;32m580\u001B[0;36m, in \u001B[0;35mparse\u001B[0;36m\u001B[0m\n\u001B[0;31m    self._root = parser._parse_whole(source)\u001B[0m\n",
      "\u001B[0;36m  File \u001B[0;32m\"<string>\"\u001B[0;36m, line \u001B[0;32munknown\u001B[0m\n\u001B[0;31mParseError\u001B[0m\u001B[0;31m:\u001B[0m not well-formed (invalid token): line 1, column 0\n"
     ]
    }
   ],
   "source": [
    "for xml_file in os.listdir(folder_dir/'extracted'):\n",
    "\n",
    "    tree = ET.parse(folder_dir/'extracted'/xml_file)  # Parsing the XML file\n",
    "    root = tree.getroot()  # Creating the root object\n",
    "\n",
    "    #for i, value in enumerate(root):\n",
    "    article_data = value.attrib #this xml has only one child with the article tag and a dictionary as an attribute\n",
    "\n",
    "    text = root[0][0][5].text\n",
    "\n",
    "    print(xml_file)\n",
    "\n"
   ],
   "metadata": {
    "collapsed": false,
    "pycharm": {
     "name": "#%%\n"
    }
   }
  },
  {
   "cell_type": "code",
   "execution_count": 21,
   "outputs": [
    {
     "name": "stdout",
     "output_type": "stream",
     "text": [
      "<p></p><p class=\"identifica\">PORTARIA ELETRÔNICA Nº 2, DE 3 DE JANEIRO DE 2023</p><p></p><p>A Diretora Geral do Instituto Federal Farroupilha - Campus Santo Augusto, no uso de suas atribuições legais, conferidas pela Portaria nº 318, de 18/02/2021, publicada no DOU de 19/02/2021 e considerando a Portaria Eletrônica nº 390, de 06 de abril de 2022 do Gabinete da Reitora do IFFar, resolve:</p><p>NOMEAR o Servidor Odair José Kunzler, matrícula SIAPE nº 2313789, ocupante do cargo de Técnico-Administrativo em Educação - Assistente em Administração, para exercer o cargo de Diretor de Ensino em Exercício, do Instituto Federal Farroupilha - Campus Santo Augusto, Código da Função CD003, no período de 16 a 22 de janeiro de 2023.</p><p class=\"assina\">Marcia Fink</p><p></p>\n",
      "<p class=\"identifica\">PORTARIA Nº 11, de 6 de janeiro de 2023</p><p>O REITOR DA UNIVERSIDADE FEDERAL DO MARANHÃO, no uso de suas atribuições legais, estatutárias e regimentais, considerando o disposto no artigo 34, da Lei 8.112/90, com redação dada pela Lei 9.527/97, e em face ao contido no processo nº 23115.000250/2023-52, resolve:</p><p>Exonerar, a pedido, MILKA TARSIS BRAGA RIBEIRO, Matrícula SIAPE nº 1021261, ocupante do cargo de PROFESSOR DO MAGISTÉRIO SUPERIOR, pertencente ao Quadro de Pessoal desta Universidade, sob o código de vaga 317025, lotado(a) no(a) COORDENAÇÃO DO CURSO DE MEDICINA PINHEIRO/CCPI.</p><p>2. Declarar vago o cargo acima mencionado.</p><p>3. Os efeitos do presente ato deverão ser considerados a partir de 15/01/2023.</p><p class=\"assina\">NATALINO SALGADO FILHO</p>\n",
      "<p class=\"identifica\">PORTARIA Nº 55, DE 3 DE JANEIRO DE 2023</p><p>A Pró-Reitora de Recursos Humanos da Universidade Federal de Minas Gerais, no uso da atribuição que lhe confere a Portaria de Delegação de Competências nº 3258, de 03/05/2022, da Magnífica Reitora, e considerando o teor do processo nº 23072.274139/2022-63, resolve:</p><p>Designar a servidora Raquel Oliveira Santos Teixeira, matrícula SIAPE nº 2659180, ocupante do cargo efetivo de Professor do Magistério Superior, para exercer a Função Comissionada de Coordenação de Curso - FCC, do Colegiado de Graduação em Ciências Socioambientais, da Faculdade de Filosofia e Ciências Humanas, com mandato de 2 (dois) anos, a partir da data de publicação desta Portaria no Diário Oficial da União.</p><p class=\"assina\">MARIA MÁRCIA MAGELA MACHADO</p>\n",
      "<p class=\"identifica\">PORTARIA Nº 1.893, DE 15 DE DEZEMBRO DE 2022</p><p>O DIRETOR-GERAL ADJUNTO DO MINISTÉRIO PÚBLICO DO TRABALHO, no uso da competência que lhe foi delegada pela Portaria DG-MPT nº 49, de 22 de janeiro de 2019, publicada no DOU em 28 de janeiro de 2019, considerando o que consta no PGEA/MPT nº 20.02.1200.0001046/2022-45, resolve:</p><p>Art. 1º Exonerar, a contar de 13/01/2023, a servidora ROSMARI RUDOLF MEZZOMO, matrícula 6002253, ocupante do cargo efetivo de Analista do MPU/Direito, do cargo em comissão de Chefe da Assessoria Jurídica do 14º Ofício Geral da Procuradoria Regional do Trabalho da 12ª Região/SC, código CC-2.</p><p>Art. 2º Nomear a servidora FLÁVIA CAROLINA POSTALLI RODRIGUES ALLOY, matrícula 6007731, bacharela em Direito, ocupante do cargo efetivo de Técnico do MPU/Administração, para o cargo em comissão de Chefe da Assessoria Jurídica do 14º Ofício Geral da Procuradoria Regional do Trabalho da 12ª Região/SC, código CC-2.</p><p class=\"assina\">ANDERSON RÉGIS CAVALCANTE FEITOSA</p>\n",
      "<p class=\"identifica\">PORTARIA HFB Nº 11, DE 9 DE JANEIRO DE 2023</p><p>O Diretor Geral Substituto do Hospital Federal de Bonsucesso, no uso de suas atribuições conferidas pela Portaria nº 864 de 04 de agosto de 2022, publicada no DOU n° 148-A, de 05 de agosto de 2022 e Portaria nº 1.041, de 30 de outubro de 2009, publicada no DOU nº 209, de 03 de novembro de 2009, seção 2, página 31, resolve:</p><p>Conceder aposentadoria voluntária a DINIZAR JOSÉ DE ARAÚJO FILHO, matrícula SIAPE nº 0657253, ocupante do cargo de Médico, Nível Superior, Classe \"S\", Padrão \"III\", do quadro de servidores deste Ministério, lotado no Hospital Federal de Bonsucesso, com fundamento no artigo 3º da Emenda Constitucional nº 47/2005, combinado com o artigo 3º da Emenda Constitucional nº 103/2019, com proventos integrais, incorporando-se 16% (dezesseis por cento) de anuênio e as demais vantagens do cargo a que faz jus. (Processo nº 33374.109015/2022-67)</p><p class=\"assina\">ROGERIO DE CARVALHO RIBEIRO</p>\n",
      "<p></p><p class=\"identifica\">PORTARIA ELETRÔNICA Nº 15, DE 6 DE JANEIRO DE 2023</p><p></p><p>A Diretora Geral do Instituto Federal Farroupilha - Campus Santo Augusto, no uso de suas atribuições legais, conferidas pela Portaria nº 318, de 18/02/2021, publicada no DOU de 19/02/2021 e considerando a Portaria Eletrônica nº 390, de 06 de abril de 2022 do Gabinete da Reitora do IFFar resolve:</p><p>DESIGNAR o Servidor Fernando Henrique da Rosa Schreiber, matrícula SIAPE nº 1728240, ocupante do cargo de Técnico-Administrativo em Educação - Técnico em Agropecuária, para exercer o cargo de Coordenador de Produção em Exercício, do Instituto Federal Farroupilha - Campus Santo Augusto, Código da Função FG-002, no período de 16 a 26 de janeiro de 2023.</p><p class=\"assina\">Marcia Fink</p><p></p>\n",
      "<p class=\"identifica\">PORTARIA DE PESSOAL UFSM Nº 43, DE 9 DE JANEIRO DE 2023</p><p>A VICE-REITORA DA UNIVERSIDADE FEDERAL DE SANTA MARIA, no uso de suas atribuições legais e estatutárias, em virtude da delegação de competência atribuída pela Portaria de Pessoal UFSM N. 2.190, de 29 de dezembro de 2021, e tendo em vista o que consta do Processo n. 23081.119697/2022-58, resolve:</p><p>CONCEDER Aposentadoria Voluntária, com proventos integrais, a Maria Nita Falcão da Silva, Matrícula SIAPE 379481, ocupante do cargo de Auxiliar em Administração, Nível de Classificação C, Nível de Capacitação IV, Padrão de Vencimento 16, do Quadro de Pessoal da Universidade Federal de Santa Maria, com fundamento no Artigo 3º, incisos I, II e III, da Emenda Constitucional n. 47, de 05.07.2005, combinado com o Artigo 3º da Emenda Constitucional n. 103 de 12.11.2019.</p><p class=\"assina\">MARTHA BOHRER ADAIME</p>\n",
      "<p></p><p class=\"identifica\">PORTARIA ELETRÔNICA Nº 364, DE 16 DE DEZEMBRO DE 2022</p><p>A Diretora Geral do Instituto Federal Farroupilha - Campus Santo Augusto, no uso de suas atribuições legais, conferidas pela Portaria nº 318, de 18/02/2021, publicada no DOU de 19/02/2021, resolve:</p><p>NOMEAR o Servidor Osmar Luis Freitag Bencke, matrícula SIAPE nº 2179834, ocupante do cargo de Técnico-Administrativo em Educação - Assistente em Administração, para exercer o cargo de Diretor de Pesquisa, Extensão e Produção em Exercício, do Instituto Federal Farroupilha - Campus Santo Augusto, Código da Função CD004, no período de 16 de janeiro a 03 de fevereiro de 2023.</p><p class=\"assina\">Marcia Fink</p><p></p>\n",
      "<p class=\"identifica\">Portaria Nº 256, de 13 de dezembro de 2022</p><p>PGEA 20.02.1200.0001047/2022-18</p><p>O Procurador-Chefe da Procuradoria Regional do Trabalho da 12ª Região, no uso de suas atribuições institucionais e considerando a Portaria PGT nº 1728, de 02 de outubro de 2017, resolve:</p><p>Art. 1º Dispensar, a servidora Flávia Carolina Postalli Rodrigues Alloy, matrícula 6007731-X, do encargo de substituta eventual da Chefe da Assessoria Jurídica do 14º Ofício Geral da PRT 12ª Região, código CC-02.</p><p>Art. 2º Designar a servidora Rosmari Rudolf Mezzomo, matrícula 6002253-1 para o encargo de substituta eventual do Chefe da Assessoria Jurídica do 14º Ofício Geral da PRT 12ª Região, código CC-02.</p><p class=\"assina\">MARCELO GOSS NEVES</p><p></p>\n",
      "<p class=\"identifica\">PORTARIA SEGAD/PR Nº 243, de 26 DE DEZEMBRO DE 2022</p><p>A Chefe do Serviço de Gestão Administrativa e de Pessoas da Superintendência Estadual do Ministério da Saúde no Paraná, no uso de suas competências conferidas pelo Decreto n° 11.0985, de 20/06/2022, publicado no Diário Oficial da União de 21/06/2022, resolve:</p><p>Art. 1º - Conceder Aposentadoria Voluntária ao Tempo de Contribuição ao servidor CLÓVIS ALBERTO MACIOSZEK, matrícula SIAPE 0569060, ocupante do cargo Agente Administrativo, nível intermediário, classe S, padrão III, do quadro do Ministério da Saúde no Paraná, com base no Art. 4º, incisos I, II, III, IV e V, § 1º, § 2º, § 3º, § 6º inciso II, § 7º inciso II, com proventos calculados com base no Art. 26, § 2º, inciso I, § 7º, da Emenda Constitucional nº 103, de 12/11/2019. (Processo nº 25023.000915/2022-00)</p><p class=\"assina\">ANA CLAUDIA CORREA DE SOUZA</p>\n"
     ]
    }
   ],
   "source": [
    "def listdir_nohidden(path):\n",
    "    for f in os.listdir(path):\n",
    "        if not f.startswith('.'):\n",
    "            yield f\n",
    "\n",
    "dir = listdir_nohidden('/Users/pedromonteiro/Library/Mobile Documents/com~apple~CloudDocs/dsProjects/Diario_Oficial/extracted')\n",
    "\n",
    "for xml_file in dir:\n",
    "    tree = ET.parse(f'/Users/pedromonteiro/Library/Mobile Documents/com~apple~CloudDocs/dsProjects/Diario_Oficial/extracted/{xml_file}')  # Parsing the XML file\n",
    "    root = tree.getroot()  # Creating the root object\n",
    "\n",
    "    #for i, value in enumerate(root):\n",
    "    article_data = value.attrib #this xml has only one child with the article tag and a dictionary as an attribute\n",
    "\n",
    "    text = root[0][0][5].text\n",
    "\n",
    "    print(text)"
   ],
   "metadata": {
    "collapsed": false,
    "pycharm": {
     "name": "#%%\n"
    }
   }
  },
  {
   "cell_type": "code",
   "execution_count": 5,
   "outputs": [
    {
     "data": {
      "text/plain": "['529_20230113_20236035.xml',\n '529_20230113_20242171.xml',\n '529_20230113_20242990.xml',\n '529_20230113_20168910.xml',\n '.DS_Store',\n '529_20230113_20246700.xml',\n '529_20230113_20243255.xml',\n '529_20230113_20245045.xml',\n '529_20230113_20217457.xml',\n '529_20230113_20165078.xml',\n '529_20230113_20209784.xml']"
     },
     "execution_count": 5,
     "metadata": {},
     "output_type": "execute_result"
    }
   ],
   "source": [],
   "metadata": {
    "collapsed": false,
    "pycharm": {
     "name": "#%%\n"
    }
   }
  },
  {
   "cell_type": "code",
   "execution_count": null,
   "outputs": [],
   "source": [],
   "metadata": {
    "collapsed": false,
    "pycharm": {
     "name": "#%%\n"
    }
   }
  }
 ],
 "metadata": {
  "kernelspec": {
   "display_name": "Python 3",
   "language": "python",
   "name": "python3"
  },
  "language_info": {
   "codemirror_mode": {
    "name": "ipython",
    "version": 2
   },
   "file_extension": ".py",
   "mimetype": "text/x-python",
   "name": "python",
   "nbconvert_exporter": "python",
   "pygments_lexer": "ipython2",
   "version": "2.7.6"
  }
 },
 "nbformat": 4,
 "nbformat_minor": 0
}