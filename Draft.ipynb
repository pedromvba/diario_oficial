{
 "cells": [
  {
   "cell_type": "code",
   "execution_count": 11,
   "metadata": {
    "collapsed": true,
    "pycharm": {
     "name": "#%%\n"
    }
   },
   "outputs": [
    {
     "ename": "SyntaxError",
     "evalue": "invalid syntax (1027680833.py, line 3)",
     "output_type": "error",
     "traceback": [
      "\u001B[0;36m  File \u001B[0;32m\"/var/folders/s3/551538vd1w73xsy14_50l2w80000gn/T/ipykernel_34187/1027680833.py\"\u001B[0;36m, line \u001B[0;32m3\u001B[0m\n\u001B[0;31m    import datetime import date\u001B[0m\n\u001B[0m                    ^\u001B[0m\n\u001B[0;31mSyntaxError\u001B[0m\u001B[0;31m:\u001B[0m invalid syntax\n"
     ]
    }
   ],
   "source": [
    "import zipfile\n",
    "from pathlib import Path\n",
    "import datetime import date\n",
    "\n"
   ]
  },
  {
   "cell_type": "code",
   "execution_count": 4,
   "outputs": [],
   "source": [
    "#with zipfile.ZipFile('2023-01-13-DO2.zip','r') as zipped:\n",
    "#    zipped.extractall('/Users/pedromonteiro/Library/Mobile Documents/com~apple~CloudDocs/dsProjects/Diario_Oficial/extracted')"
   ],
   "metadata": {
    "collapsed": false,
    "pycharm": {
     "name": "#%%\n"
    }
   }
  },
  {
   "cell_type": "code",
   "execution_count": 8,
   "outputs": [
    {
     "data": {
      "text/plain": "PosixPath('/Users/pedromonteiro/Library/Mobile Documents/com~apple~CloudDocs/dsProjects/Diario_Oficial')"
     },
     "execution_count": 8,
     "metadata": {},
     "output_type": "execute_result"
    }
   ],
   "source": [
    "folder_dir = Path('__file_').resolve().parent if \"_file_\" in locals() else Path.cwd()\n",
    "folder_dir\n",
    "\n",
    "for file in"
   ],
   "metadata": {
    "collapsed": false,
    "pycharm": {
     "name": "#%%\n"
    }
   }
  },
  {
   "cell_type": "code",
   "execution_count": null,
   "outputs": [],
   "source": [
    "file_path = folder_dir/\n",
    "\n",
    "with zipfile.ZipFile(f'{folder_dir}')"
   ],
   "metadata": {
    "collapsed": false,
    "pycharm": {
     "name": "#%%\n"
    }
   }
  },
  {
   "cell_type": "code",
   "execution_count": 13,
   "outputs": [
    {
     "data": {
      "text/plain": "['.DS_Store',\n '__pycache__',\n 'README.md',\n 'inlabs_auto_download_xml.py',\n 'Draft.ipynb',\n '2023-01-13-DO2.zip',\n '.git',\n 'main.py',\n '.idea']"
     },
     "execution_count": 13,
     "metadata": {},
     "output_type": "execute_result"
    }
   ],
   "source": [
    "import os\n",
    "os.listdir()"
   ],
   "metadata": {
    "collapsed": false,
    "pycharm": {
     "name": "#%%\n"
    }
   }
  },
  {
   "cell_type": "code",
   "execution_count": 23,
   "outputs": [
    {
     "name": "stdout",
     "output_type": "stream",
     "text": [
      "2023-01-13-DO2.zip\n"
     ]
    }
   ],
   "source": [
    "for file in os.listdir():\n",
    "   if file[-3:] == 'zip':\n",
    "    print(file)"
   ],
   "metadata": {
    "collapsed": false,
    "pycharm": {
     "name": "#%%\n"
    }
   }
  },
  {
   "cell_type": "code",
   "execution_count": 30,
   "outputs": [
    {
     "name": "stdout",
     "output_type": "stream",
     "text": [
      "/Users/pedromonteiro/Library/Mobile Documents/com~apple~CloudDocs/dsProjects/Diario_Oficial\n"
     ]
    }
   ],
   "source": [
    "folder_dir = Path('__file_').resolve().parent if \"_file_\" in locals() else Path.cwd()\n",
    "print(folder_dir)\n",
    "\n",
    "for file in os.listdir():\n",
    "   if file[-3:] == 'zip':\n",
    "      file_name = file\n",
    "\n",
    "file_path = folder_dir/file_name\n",
    "\n",
    "file_path\n",
    "\n",
    "with zipfile.ZipFile(file_path,'r') as zipped:\n",
    "    zipped.extractall(folder_dir/'extracted')"
   ],
   "metadata": {
    "collapsed": false,
    "pycharm": {
     "name": "#%%\n"
    }
   }
  },
  {
   "cell_type": "code",
   "execution_count": null,
   "outputs": [],
   "source": [],
   "metadata": {
    "collapsed": false,
    "pycharm": {
     "name": "#%%\n"
    }
   }
  }
 ],
 "metadata": {
  "kernelspec": {
   "display_name": "Python 3",
   "language": "python",
   "name": "python3"
  },
  "language_info": {
   "codemirror_mode": {
    "name": "ipython",
    "version": 2
   },
   "file_extension": ".py",
   "mimetype": "text/x-python",
   "name": "python",
   "nbconvert_exporter": "python",
   "pygments_lexer": "ipython2",
   "version": "2.7.6"
  }
 },
 "nbformat": 4,
 "nbformat_minor": 0
}