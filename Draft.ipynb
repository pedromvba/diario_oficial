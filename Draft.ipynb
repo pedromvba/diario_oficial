{
 "cells": [
  {
   "cell_type": "code",
   "execution_count": 11,
   "metadata": {
    "collapsed": true,
    "pycharm": {
     "name": "#%%\n"
    }
   },
   "outputs": [
    {
     "ename": "SyntaxError",
     "evalue": "invalid syntax (1027680833.py, line 3)",
     "output_type": "error",
     "traceback": [
      "\u001B[0;36m  File \u001B[0;32m\"/var/folders/s3/551538vd1w73xsy14_50l2w80000gn/T/ipykernel_34187/1027680833.py\"\u001B[0;36m, line \u001B[0;32m3\u001B[0m\n\u001B[0;31m    import datetime import date\u001B[0m\n\u001B[0m                    ^\u001B[0m\n\u001B[0;31mSyntaxError\u001B[0m\u001B[0;31m:\u001B[0m invalid syntax\n"
     ]
    }
   ],
   "source": [
    "import zipfile\n",
    "from pathlib import Path\n",
    "import datetime import date\n",
    "\n"
   ]
  },
  {
   "cell_type": "code",
   "execution_count": 4,
   "outputs": [],
   "source": [
    "#with zipfile.ZipFile('2023-01-13-DO2.zip','r') as zipped:\n",
    "#    zipped.extractall('/Users/pedromonteiro/Library/Mobile Documents/com~apple~CloudDocs/dsProjects/Diario_Oficial/extracted')"
   ],
   "metadata": {
    "collapsed": false,
    "pycharm": {
     "name": "#%%\n"
    }
   }
  },
  {
   "cell_type": "code",
   "execution_count": 8,
   "outputs": [
    {
     "data": {
      "text/plain": "PosixPath('/Users/pedromonteiro/Library/Mobile Documents/com~apple~CloudDocs/dsProjects/Diario_Oficial')"
     },
     "execution_count": 8,
     "metadata": {},
     "output_type": "execute_result"
    }
   ],
   "source": [
    "folder_dir = Path('__file_').resolve().parent if \"_file_\" in locals() else Path.cwd()\n",
    "folder_dir\n",
    "\n",
    "for file in"
   ],
   "metadata": {
    "collapsed": false,
    "pycharm": {
     "name": "#%%\n"
    }
   }
  },
  {
   "cell_type": "code",
   "execution_count": null,
   "outputs": [],
   "source": [
    "file_path = folder_dir/\n",
    "\n",
    "with zipfile.ZipFile(f'{folder_dir}')"
   ],
   "metadata": {
    "collapsed": false,
    "pycharm": {
     "name": "#%%\n"
    }
   }
  },
  {
   "cell_type": "code",
   "execution_count": 13,
   "outputs": [
    {
     "data": {
      "text/plain": "['.DS_Store',\n '__pycache__',\n 'README.md',\n 'inlabs_auto_download_xml.py',\n 'Draft.ipynb',\n '2023-01-13-DO2.zip',\n '.git',\n 'main.py',\n '.idea']"
     },
     "execution_count": 13,
     "metadata": {},
     "output_type": "execute_result"
    }
   ],
   "source": [
    "import os\n",
    "os.listdir()"
   ],
   "metadata": {
    "collapsed": false,
    "pycharm": {
     "name": "#%%\n"
    }
   }
  },
  {
   "cell_type": "code",
   "execution_count": 23,
   "outputs": [
    {
     "name": "stdout",
     "output_type": "stream",
     "text": [
      "2023-01-13-DO2.zip\n"
     ]
    }
   ],
   "source": [
    "for file in os.listdir():\n",
    "   if file[-3:] == 'zip':\n",
    "    print(file)"
   ],
   "metadata": {
    "collapsed": false,
    "pycharm": {
     "name": "#%%\n"
    }
   }
  },
  {
   "cell_type": "code",
   "execution_count": 30,
   "outputs": [
    {
     "name": "stdout",
     "output_type": "stream",
     "text": [
      "/Users/pedromonteiro/Library/Mobile Documents/com~apple~CloudDocs/dsProjects/Diario_Oficial\n"
     ]
    }
   ],
   "source": [
    "folder_dir = Path('__file_').resolve().parent if \"_file_\" in locals() else Path.cwd()\n",
    "print(folder_dir)\n",
    "\n",
    "for file in os.listdir():\n",
    "   if file[-3:] == 'zip':\n",
    "      file_name = file\n",
    "\n",
    "file_path = folder_dir/file_name\n",
    "\n",
    "file_path\n",
    "\n",
    "with zipfile.ZipFile(file_path,'r') as zipped:\n",
    "    zipped.extractall(folder_dir/'extracted')"
   ],
   "metadata": {
    "collapsed": false,
    "pycharm": {
     "name": "#%%\n"
    }
   }
  },
  {
   "cell_type": "code",
   "execution_count": 32,
   "outputs": [],
   "source": [
    "import xml.dom.minidom as dom\n",
    "\n",
    "domtree = dom.parse('/Users/pedromonteiro/Library/Mobile Documents/com~apple~CloudDocs/dsProjects/Diario_Oficial/extracted/529_20230113_20165078.xml')\n",
    "\n",
    "group = domtree.documentElement # top element of the .xml file\n",
    "\n",
    "teste = group.getElementsByTagName('Texto') # gets all the elements with the tag name Texto"
   ],
   "metadata": {
    "collapsed": false,
    "pycharm": {
     "name": "#%%\n"
    }
   }
  },
  {
   "cell_type": "code",
   "execution_count": 38,
   "outputs": [
    {
     "name": "stdout",
     "output_type": "stream",
     "text": [
      "<p class=\"identifica\">Portaria Nº 256, de 13 de dezembro de 2022</p><p>PGEA 20.02.1200.0001047/2022-18</p><p>O Procurador-Chefe da Procuradoria Regional do Trabalho da 12ª Região, no uso de suas atribuições institucionais e considerando a Portaria PGT nº 1728, de 02 de outubro de 2017, resolve:</p><p>Art. 1º Dispensar, a servidora Flávia Carolina Postalli Rodrigues Alloy, matrícula 6007731-X, do encargo de substituta eventual da Chefe da Assessoria Jurídica do 14º Ofício Geral da PRT 12ª Região, código CC-02.</p><p>Art. 2º Designar a servidora Rosmari Rudolf Mezzomo, matrícula 6002253-1 para o encargo de substituta eventual do Chefe da Assessoria Jurídica do 14º Ofício Geral da PRT 12ª Região, código CC-02.</p><p class=\"assina\">MARCELO GOSS NEVES</p><p></p>\n"
     ]
    }
   ],
   "source": [
    "for text in teste:\n",
    "    print(text.firstChild.data)"
   ],
   "metadata": {
    "collapsed": false,
    "pycharm": {
     "name": "#%%\n"
    }
   }
  },
  {
   "cell_type": "code",
   "execution_count": 112,
   "outputs": [
    {
     "name": "stdout",
     "output_type": "stream",
     "text": [
      "{'id': '30079829', 'name': 'Portaria 256.2022 dispensa FlAvi', 'idOficio': '9288474', 'pubName': 'DO2', 'artType': 'Portaria', 'pubDate': '13/01/2023', 'artClass': '00043:00012:00013:00000:00000:00000:00000:00000:00000:00000:00017:00000', 'artCategory': 'Ministério Público da União/Ministério Público do Trabalho/Procuradoria Regional do Trabalho da 12ª Região', 'artSize': '12', 'artNotes': '', 'numberPage': '46', 'pdfPage': 'http://pesquisa.in.gov.br/imprensa/jsp/visualiza/index.jsp?data=13/01/2023&jornal=529&pagina=46', 'editionNumber': '10', 'highlightType': '', 'highlightPriority': '', 'highlight': '', 'highlightimage': '', 'highlightimagename': '', 'idMateria': '20165078'}\n"
     ]
    },
    {
     "data": {
      "text/plain": "'46'"
     },
     "execution_count": 112,
     "metadata": {},
     "output_type": "execute_result"
    }
   ],
   "source": [
    "###### IMPORTANTE #########\n",
    "\n",
    "\n",
    "\n",
    "\n",
    "import xml.etree.ElementTree as ET\n",
    "\n",
    "tree = ET.parse('/Users/pedromonteiro/Library/Mobile Documents/com~apple~CloudDocs/dsProjects/Diario_Oficial/extracted/529_20230113_20165078.xml')\n",
    "\n",
    "root = tree.getroot()\n",
    "\n",
    "#print(ET.tostring(root)) # shows all the xml file as a string: b'= bytes\n",
    "\n",
    "#print(root.tag)\n",
    "#print(root.attrib)\n",
    "\n",
    "for child in root:\n",
    "    data = (child.attrib)\n",
    "\n",
    "print(data)\n",
    "data['numberPage']\n",
    "\n",
    "#type(child.attrib)\n",
    "\n",
    "\n",
    "\n",
    "#print(root[1][0].text)\n"
   ],
   "metadata": {
    "collapsed": false,
    "pycharm": {
     "name": "#%%\n"
    }
   }
  },
  {
   "cell_type": "code",
   "execution_count": 79,
   "outputs": [
    {
     "name": "stdout",
     "output_type": "stream",
     "text": [
      "1\n",
      "<p class=\"identifica\">Portaria Nº 256, de 13 de dezembro de 2022</p><p>PGEA 20.02.1200.0001047/2022-18</p><p>O Procurador-Chefe da Procuradoria Regional do Trabalho da 12ª Região, no uso de suas atribuições institucionais e considerando a Portaria PGT nº 1728, de 02 de outubro de 2017, resolve:</p><p>Art. 1º Dispensar, a servidora Flávia Carolina Postalli Rodrigues Alloy, matrícula 6007731-X, do encargo de substituta eventual da Chefe da Assessoria Jurídica do 14º Ofício Geral da PRT 12ª Região, código CC-02.</p><p>Art. 2º Designar a servidora Rosmari Rudolf Mezzomo, matrícula 6002253-1 para o encargo de substituta eventual do Chefe da Assessoria Jurídica do 14º Ofício Geral da PRT 12ª Região, código CC-02.</p><p class=\"assina\">MARCELO GOSS NEVES</p><p></p>\n",
      "Uhuul\n"
     ]
    }
   ],
   "source": [
    "##### IMPORTANTE #######\n",
    "\n",
    "from xml.dom import minidom\n",
    "\n",
    "with open('/Users/pedromonteiro/Library/Mobile Documents/com~apple~CloudDocs/dsProjects/Diario_Oficial/extracted/529_20230113_20165078.xml', 'r') as f:\n",
    "\n",
    "    content = minidom.parse(f)\n",
    "\n",
    "tag_contents = content.getElementsByTagName(\"Texto\")\n",
    "print(len(tag_contents))\n",
    "text = (tag_contents[0].firstChild.data) # since we only have one Texto tag. If we had more, we could loop thru it\n",
    "\n",
    "print(text)\n",
    "\n",
    "if 'Alloy' in text:\n",
    "    print('Uhuul')"
   ],
   "metadata": {
    "collapsed": false,
    "pycharm": {
     "name": "#%%\n"
    }
   }
  },
  {
   "cell_type": "code",
   "execution_count": 82,
   "outputs": [
    {
     "name": "stdout",
     "output_type": "stream",
     "text": [
      "1\n"
     ]
    },
    {
     "ename": "TypeError",
     "evalue": "'Element' object is not subscriptable",
     "output_type": "error",
     "traceback": [
      "\u001B[0;31m---------------------------------------------------------------------------\u001B[0m",
      "\u001B[0;31mTypeError\u001B[0m                                 Traceback (most recent call last)",
      "\u001B[0;32m/var/folders/s3/551538vd1w73xsy14_50l2w80000gn/T/ipykernel_34187/3079996032.py\u001B[0m in \u001B[0;36m<module>\u001B[0;34m\u001B[0m\n\u001B[1;32m      1\u001B[0m \u001B[0mtag_contents2\u001B[0m \u001B[0;34m=\u001B[0m \u001B[0mcontent\u001B[0m\u001B[0;34m.\u001B[0m\u001B[0mgetElementsByTagName\u001B[0m\u001B[0;34m(\u001B[0m\u001B[0;34m\"article\"\u001B[0m\u001B[0;34m)\u001B[0m\u001B[0;34m\u001B[0m\u001B[0;34m\u001B[0m\u001B[0m\n\u001B[1;32m      2\u001B[0m \u001B[0mprint\u001B[0m\u001B[0;34m(\u001B[0m\u001B[0mlen\u001B[0m\u001B[0;34m(\u001B[0m\u001B[0mtag_contents2\u001B[0m\u001B[0;34m)\u001B[0m\u001B[0;34m)\u001B[0m\u001B[0;34m\u001B[0m\u001B[0;34m\u001B[0m\u001B[0m\n\u001B[0;32m----> 3\u001B[0;31m \u001B[0mtext2\u001B[0m \u001B[0;34m=\u001B[0m \u001B[0;34m(\u001B[0m\u001B[0mtag_contents2\u001B[0m\u001B[0;34m[\u001B[0m\u001B[0;36m0\u001B[0m\u001B[0;34m]\u001B[0m\u001B[0;34m[\u001B[0m\u001B[0mid\u001B[0m\u001B[0;34m]\u001B[0m\u001B[0;34m)\u001B[0m\u001B[0;34m\u001B[0m\u001B[0;34m\u001B[0m\u001B[0m\n\u001B[0m\u001B[1;32m      4\u001B[0m \u001B[0mprint\u001B[0m\u001B[0;34m(\u001B[0m\u001B[0mtext2\u001B[0m\u001B[0;34m)\u001B[0m\u001B[0;34m\u001B[0m\u001B[0;34m\u001B[0m\u001B[0m\n",
      "\u001B[0;31mTypeError\u001B[0m: 'Element' object is not subscriptable"
     ]
    }
   ],
   "source": [
    "tag_contents2 = content.getElementsByTagName(\"article\")\n",
    "print(len(tag_contents2))\n",
    "text2 = (tag_contents2[0])\n",
    "print(text2)"
   ],
   "metadata": {
    "collapsed": false,
    "pycharm": {
     "name": "#%%\n"
    }
   }
  },
  {
   "cell_type": "code",
   "execution_count": null,
   "outputs": [],
   "source": [],
   "metadata": {
    "collapsed": false,
    "pycharm": {
     "name": "#%%\n"
    }
   }
  }
 ],
 "metadata": {
  "kernelspec": {
   "display_name": "Python 3",
   "language": "python",
   "name": "python3"
  },
  "language_info": {
   "codemirror_mode": {
    "name": "ipython",
    "version": 2
   },
   "file_extension": ".py",
   "mimetype": "text/x-python",
   "name": "python",
   "nbconvert_exporter": "python",
   "pygments_lexer": "ipython2",
   "version": "2.7.6"
  }
 },
 "nbformat": 4,
 "nbformat_minor": 0
}